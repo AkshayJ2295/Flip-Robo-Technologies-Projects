{
 "cells": [
  {
   "cell_type": "markdown",
   "metadata": {},
   "source": [
    "Q1: Write a python program to scrape data for “Data Analyst” Job position in \n",
    "“Bangalore” location. You have to scrape the job-title, job-location, company_name,\n",
    "experience_required. You have to scrape first 10 jobs data.\n",
    "\n",
    "This task will be done in following steps:\n",
    "\n",
    "1. first get the webpage https://www.naukri.com/\n",
    "2. Enter “Data Analyst” in “Skill,Designations,Companies” field and enter “Bangalore” \n",
    "in “enter the location” field.\n",
    "3. Then click the search button.\n",
    "4. Then scrape the data for the first 10 jobs results you get.\n",
    "5. Finally create a dataframe of the scraped data.\n",
    "Note- All of the above steps have to be done in code. No step is to be done manually."
   ]
  },
  {
   "cell_type": "code",
   "execution_count": 11,
   "metadata": {},
   "outputs": [],
   "source": [
    "# importing libraries\n",
    "\n",
    "import selenium\n",
    "import pandas as pd\n",
    "from selenium import webdriver"
   ]
  },
  {
   "cell_type": "code",
   "execution_count": 2,
   "metadata": {},
   "outputs": [
    {
     "data": {
      "text/plain": [
       "<selenium.webdriver.chrome.webdriver.WebDriver (session=\"07b4b73de8f341394dd131b52c0d7949\")>"
      ]
     },
     "execution_count": 2,
     "metadata": {},
     "output_type": "execute_result"
    }
   ],
   "source": [
    "Driver=webdriver.Chrome('chromedriver.exe')\n",
    "Driver"
   ]
  },
  {
   "cell_type": "code",
   "execution_count": 4,
   "metadata": {},
   "outputs": [],
   "source": [
    "url='https://www.naukri.com/'\n",
    "Driver.get(url)"
   ]
  },
  {
   "cell_type": "code",
   "execution_count": 5,
   "metadata": {},
   "outputs": [
    {
     "data": {
      "text/plain": [
       "<selenium.webdriver.remote.webelement.WebElement (session=\"07b4b73de8f341394dd131b52c0d7949\", element=\"5c6cb838-58c8-4729-aa50-fe25ebb53228\")>"
      ]
     },
     "execution_count": 5,
     "metadata": {},
     "output_type": "execute_result"
    }
   ],
   "source": [
    "#Finding an element for job search bar\n",
    "\n",
    "search_job=Driver.find_element_by_id('qsb-keyword-sugg')\n",
    "search_job"
   ]
  },
  {
   "cell_type": "code",
   "execution_count": 6,
   "metadata": {},
   "outputs": [
    {
     "data": {
      "text/plain": [
       "<selenium.webdriver.remote.webelement.WebElement (session=\"07b4b73de8f341394dd131b52c0d7949\", element=\"5c6cb838-58c8-4729-aa50-fe25ebb53228\")>"
      ]
     },
     "execution_count": 6,
     "metadata": {},
     "output_type": "execute_result"
    }
   ],
   "source": [
    "#write in search bar\n",
    "\n",
    "search_job.send_keys(\"Data Analyst\")\n",
    "search_job"
   ]
  },
  {
   "cell_type": "code",
   "execution_count": 8,
   "metadata": {},
   "outputs": [
    {
     "data": {
      "text/plain": [
       "<selenium.webdriver.remote.webelement.WebElement (session=\"07b4b73de8f341394dd131b52c0d7949\", element=\"df2bcce0-1b93-4b9c-9e61-3ea9fb5c06c9\")>"
      ]
     },
     "execution_count": 8,
     "metadata": {},
     "output_type": "execute_result"
    }
   ],
   "source": [
    "#finding element for job location bar\n",
    "\n",
    "search_loc=Driver.find_element_by_id('qsb-location-sugg')\n",
    "search_loc"
   ]
  },
  {
   "cell_type": "code",
   "execution_count": 9,
   "metadata": {},
   "outputs": [],
   "source": [
    "search_loc.send_keys(\"Banglore\")"
   ]
  },
  {
   "cell_type": "code",
   "execution_count": 11,
   "metadata": {},
   "outputs": [],
   "source": [
    "#do click using xpath\n",
    "\n",
    "search_btn=Driver.find_element_by_xpath(\"//button[@class='btn']\")\n",
    "search_btn.click()"
   ]
  },
  {
   "cell_type": "markdown",
   "metadata": {},
   "source": [
    "so, now, lets first create 4 empty lists in which data will be stored while scrapping.We have created 4 empty lists for 4 features which we have to extract 1.job 2.company_names 3.location_list 4.experience_list\n",
    "\n",
    "\n",
    "first, we will extract all the tags where we have the job titles."
   ]
  },
  {
   "cell_type": "code",
   "execution_count": 13,
   "metadata": {},
   "outputs": [
    {
     "data": {
      "text/plain": [
       "[<selenium.webdriver.remote.webelement.WebElement (session=\"07b4b73de8f341394dd131b52c0d7949\", element=\"7f5246b8-cbdf-4770-9260-6e9901234064\")>,\n",
       " <selenium.webdriver.remote.webelement.WebElement (session=\"07b4b73de8f341394dd131b52c0d7949\", element=\"08d6d736-3bdb-4932-bdd5-4a8a7b68ac24\")>,\n",
       " <selenium.webdriver.remote.webelement.WebElement (session=\"07b4b73de8f341394dd131b52c0d7949\", element=\"6dcda39a-2ca8-40b0-a3e3-10bab047798f\")>,\n",
       " <selenium.webdriver.remote.webelement.WebElement (session=\"07b4b73de8f341394dd131b52c0d7949\", element=\"08451f7f-9364-4c0d-982e-980c574c9acf\")>,\n",
       " <selenium.webdriver.remote.webelement.WebElement (session=\"07b4b73de8f341394dd131b52c0d7949\", element=\"fbe0fedd-c386-4572-9cd7-28794a3ef7ef\")>,\n",
       " <selenium.webdriver.remote.webelement.WebElement (session=\"07b4b73de8f341394dd131b52c0d7949\", element=\"09dbc12b-3d98-4a04-8301-5cb9a523706a\")>,\n",
       " <selenium.webdriver.remote.webelement.WebElement (session=\"07b4b73de8f341394dd131b52c0d7949\", element=\"34109df0-77f5-4d01-9efd-b53566b7aa7f\")>,\n",
       " <selenium.webdriver.remote.webelement.WebElement (session=\"07b4b73de8f341394dd131b52c0d7949\", element=\"8823966b-9396-4604-852e-d6e65b0e5965\")>,\n",
       " <selenium.webdriver.remote.webelement.WebElement (session=\"07b4b73de8f341394dd131b52c0d7949\", element=\"7ac400fd-4ad2-4fe2-bc86-9863b43dd10e\")>,\n",
       " <selenium.webdriver.remote.webelement.WebElement (session=\"07b4b73de8f341394dd131b52c0d7949\", element=\"f45e2491-09a7-4337-a9d1-17059d4b391b\")>,\n",
       " <selenium.webdriver.remote.webelement.WebElement (session=\"07b4b73de8f341394dd131b52c0d7949\", element=\"9897cb02-f453-4831-b5cf-19b0ed95e371\")>,\n",
       " <selenium.webdriver.remote.webelement.WebElement (session=\"07b4b73de8f341394dd131b52c0d7949\", element=\"cc5c0dbe-006b-475c-adeb-bdefa71aa2fe\")>,\n",
       " <selenium.webdriver.remote.webelement.WebElement (session=\"07b4b73de8f341394dd131b52c0d7949\", element=\"1a40aef6-eab1-4ad2-b303-bd23408b8b6f\")>,\n",
       " <selenium.webdriver.remote.webelement.WebElement (session=\"07b4b73de8f341394dd131b52c0d7949\", element=\"a940e362-dc71-41f0-8878-cc7cce53b46e\")>,\n",
       " <selenium.webdriver.remote.webelement.WebElement (session=\"07b4b73de8f341394dd131b52c0d7949\", element=\"9e8d753f-e03e-41e5-8e18-fa15316b41df\")>,\n",
       " <selenium.webdriver.remote.webelement.WebElement (session=\"07b4b73de8f341394dd131b52c0d7949\", element=\"6af90612-3bd2-48c4-b28b-f82c47676600\")>,\n",
       " <selenium.webdriver.remote.webelement.WebElement (session=\"07b4b73de8f341394dd131b52c0d7949\", element=\"de17b09e-a5e5-4f7b-bc12-dcf12c05d9f5\")>,\n",
       " <selenium.webdriver.remote.webelement.WebElement (session=\"07b4b73de8f341394dd131b52c0d7949\", element=\"f94f98de-1def-4e03-8136-907a21b2e40a\")>,\n",
       " <selenium.webdriver.remote.webelement.WebElement (session=\"07b4b73de8f341394dd131b52c0d7949\", element=\"10ea091e-fc79-4986-9478-c10582844f2a\")>,\n",
       " <selenium.webdriver.remote.webelement.WebElement (session=\"07b4b73de8f341394dd131b52c0d7949\", element=\"42e86c25-833d-4631-bff5-b0ae6980199e\")>]"
      ]
     },
     "execution_count": 13,
     "metadata": {},
     "output_type": "execute_result"
    }
   ],
   "source": [
    "titles_tags=Driver.find_elements_by_xpath(\"//a[@class='title fw500 ellipsis']\")\n",
    "titles_tags"
   ]
  },
  {
   "cell_type": "code",
   "execution_count": 14,
   "metadata": {},
   "outputs": [
    {
     "data": {
      "text/plain": [
       "['Data Scientist / Data Analyst -Business Analyst',\n",
       " 'Data Analyst',\n",
       " 'Hiring Data Analysts For E commerce Platform || WFH',\n",
       " 'Data Analyst',\n",
       " 'Data Analyst',\n",
       " 'DA - Urgent Opening For Data Analyst BFSI Domain - Pan India',\n",
       " 'Data Analyst',\n",
       " 'Assistant Vice President - MIS & Reporting ( Business Data Analyst)',\n",
       " 'Data Analyst',\n",
       " 'Data Analyst',\n",
       " 'Data Analyst',\n",
       " 'Data Analyst',\n",
       " 'Data Analyst',\n",
       " 'Data Analyst - Work from Home',\n",
       " 'Data Analyst Scada Systems & Database Management',\n",
       " 'Sybase SQL with Post trade/ settlement Data Analyst',\n",
       " 'Senior/Regular Business Analyst / Data Analyst',\n",
       " 'Data Analyst',\n",
       " 'Business Data Analyst - MIS & Reporting',\n",
       " 'Data Analyst / Business Analyst -']"
      ]
     },
     "execution_count": 14,
     "metadata": {},
     "output_type": "execute_result"
    }
   ],
   "source": [
    "#lets extract text from the titl_tags\n",
    "\n",
    "job_titles=[]\n",
    "for i in titles_tags:\n",
    "    job_titles.append(i.text)\n",
    "job_titles"
   ]
  },
  {
   "cell_type": "code",
   "execution_count": 16,
   "metadata": {},
   "outputs": [
    {
     "data": {
      "text/plain": [
       "[<selenium.webdriver.remote.webelement.WebElement (session=\"07b4b73de8f341394dd131b52c0d7949\", element=\"c1d0f4fc-742c-4014-b6b9-deed82c6cc80\")>,\n",
       " <selenium.webdriver.remote.webelement.WebElement (session=\"07b4b73de8f341394dd131b52c0d7949\", element=\"d3ca9102-c4cb-436a-ab68-9c932ab5bb69\")>,\n",
       " <selenium.webdriver.remote.webelement.WebElement (session=\"07b4b73de8f341394dd131b52c0d7949\", element=\"9e68085d-9561-414a-8808-089100bb776f\")>,\n",
       " <selenium.webdriver.remote.webelement.WebElement (session=\"07b4b73de8f341394dd131b52c0d7949\", element=\"a258e3c4-7f2a-4625-9c82-d6fcc2ecf0b5\")>,\n",
       " <selenium.webdriver.remote.webelement.WebElement (session=\"07b4b73de8f341394dd131b52c0d7949\", element=\"29bad9a3-dd45-46f9-ac23-f97631c7c09d\")>,\n",
       " <selenium.webdriver.remote.webelement.WebElement (session=\"07b4b73de8f341394dd131b52c0d7949\", element=\"1b2fa743-4d8e-409d-9485-0f7d3e51c996\")>,\n",
       " <selenium.webdriver.remote.webelement.WebElement (session=\"07b4b73de8f341394dd131b52c0d7949\", element=\"3bbf156d-4675-4086-b1e5-6b2b7a1a6fec\")>,\n",
       " <selenium.webdriver.remote.webelement.WebElement (session=\"07b4b73de8f341394dd131b52c0d7949\", element=\"77dd1103-08b6-4ba7-89e4-9d1e4b9fda20\")>,\n",
       " <selenium.webdriver.remote.webelement.WebElement (session=\"07b4b73de8f341394dd131b52c0d7949\", element=\"ed7e1915-39ca-4b42-b874-a6643fa45df8\")>,\n",
       " <selenium.webdriver.remote.webelement.WebElement (session=\"07b4b73de8f341394dd131b52c0d7949\", element=\"58cb2fc5-6a27-4a6a-9c01-6713f8a791d9\")>,\n",
       " <selenium.webdriver.remote.webelement.WebElement (session=\"07b4b73de8f341394dd131b52c0d7949\", element=\"106496aa-970f-4562-b4aa-2c768d8c5702\")>,\n",
       " <selenium.webdriver.remote.webelement.WebElement (session=\"07b4b73de8f341394dd131b52c0d7949\", element=\"2f758aca-82af-4f0a-b83e-654faddc09fd\")>,\n",
       " <selenium.webdriver.remote.webelement.WebElement (session=\"07b4b73de8f341394dd131b52c0d7949\", element=\"b27e8d6a-bca4-4c06-9a43-fb5f91462d1b\")>,\n",
       " <selenium.webdriver.remote.webelement.WebElement (session=\"07b4b73de8f341394dd131b52c0d7949\", element=\"c8096876-cff4-49ec-a21e-bb1d7140e91d\")>,\n",
       " <selenium.webdriver.remote.webelement.WebElement (session=\"07b4b73de8f341394dd131b52c0d7949\", element=\"5ae9ca3b-058b-4890-b811-31e8a55597c8\")>,\n",
       " <selenium.webdriver.remote.webelement.WebElement (session=\"07b4b73de8f341394dd131b52c0d7949\", element=\"ed5202ef-ed54-45c0-bc1a-a44ab006854e\")>,\n",
       " <selenium.webdriver.remote.webelement.WebElement (session=\"07b4b73de8f341394dd131b52c0d7949\", element=\"b7f98874-13f7-4fa0-97be-3fdd9e1a7a83\")>,\n",
       " <selenium.webdriver.remote.webelement.WebElement (session=\"07b4b73de8f341394dd131b52c0d7949\", element=\"028da6b4-428b-435f-9f84-e5a85ae1e958\")>,\n",
       " <selenium.webdriver.remote.webelement.WebElement (session=\"07b4b73de8f341394dd131b52c0d7949\", element=\"483fa1ca-fb75-4f72-aa01-c3981964204d\")>,\n",
       " <selenium.webdriver.remote.webelement.WebElement (session=\"07b4b73de8f341394dd131b52c0d7949\", element=\"5ba0178d-416e-4130-b9fc-309534c43da1\")>]"
      ]
     },
     "execution_count": 16,
     "metadata": {},
     "output_type": "execute_result"
    }
   ],
   "source": [
    "#lets extract tags for company names\n",
    "\n",
    "company_tags=Driver.find_elements_by_xpath(\"//a[@class='subTitle ellipsis fleft']\")\n",
    "company_tags"
   ]
  },
  {
   "cell_type": "code",
   "execution_count": 17,
   "metadata": {},
   "outputs": [
    {
     "data": {
      "text/plain": [
       "['Inflexion Analytix Private Limited',\n",
       " 'GlaxoSmithKline Pharmaceuticals Limited',\n",
       " 'Allegis Services India Pvt. Ltd.',\n",
       " 'Shell India Markets Private Limited',\n",
       " 'Applied Materials',\n",
       " 'Tata Consultancy Services Ltd.',\n",
       " 'Shell India Markets Private Limited',\n",
       " 'INTERTRUSTVITEOS CORPORATE AND FUND SERVICES PVT. LTD.',\n",
       " 'Myntra Designs Pvt. Ltd.',\n",
       " 'Myntra Designs Pvt. Ltd.',\n",
       " 'Myntra Designs Pvt. Ltd.',\n",
       " 'Myntra Designs Pvt. Ltd.',\n",
       " 'Myntra Designs Pvt. Ltd.',\n",
       " 'POWER STORES E COMMERCE PRIVATE LIMITED',\n",
       " 'SmartHelio Sarl',\n",
       " 'Larsen & Toubro Infotech Limited',\n",
       " 'Luxoft',\n",
       " 'IBM India Pvt. Limited',\n",
       " 'INTERTRUST GROUP',\n",
       " 'LatentView Analytics Private Limited']"
      ]
     },
     "execution_count": 17,
     "metadata": {},
     "output_type": "execute_result"
    }
   ],
   "source": [
    "#extracting text from the company tags\n",
    "company_names=[]\n",
    "for i in company_tags:\n",
    "    company_names.append(i.text)\n",
    "\n",
    "company_names"
   ]
  },
  {
   "cell_type": "code",
   "execution_count": 20,
   "metadata": {},
   "outputs": [
    {
     "data": {
      "text/plain": [
       "[<selenium.webdriver.remote.webelement.WebElement (session=\"07b4b73de8f341394dd131b52c0d7949\", element=\"55654619-1ea2-47f9-bf2a-9910f0089b78\")>,\n",
       " <selenium.webdriver.remote.webelement.WebElement (session=\"07b4b73de8f341394dd131b52c0d7949\", element=\"3a181fdc-2b37-4ebc-a22a-253baa0877c9\")>,\n",
       " <selenium.webdriver.remote.webelement.WebElement (session=\"07b4b73de8f341394dd131b52c0d7949\", element=\"e2d7ab6a-291a-4149-8370-05119646b743\")>,\n",
       " <selenium.webdriver.remote.webelement.WebElement (session=\"07b4b73de8f341394dd131b52c0d7949\", element=\"c4912bd7-2af2-489d-a584-bc24cc99968f\")>,\n",
       " <selenium.webdriver.remote.webelement.WebElement (session=\"07b4b73de8f341394dd131b52c0d7949\", element=\"79f06911-98e7-49a7-acb0-f1ee4a9bdd77\")>,\n",
       " <selenium.webdriver.remote.webelement.WebElement (session=\"07b4b73de8f341394dd131b52c0d7949\", element=\"ab1c6f7d-8f31-473d-9159-424d1ddeb3ce\")>,\n",
       " <selenium.webdriver.remote.webelement.WebElement (session=\"07b4b73de8f341394dd131b52c0d7949\", element=\"317610be-b4ef-4dfa-bdd3-c91bac7c16e8\")>,\n",
       " <selenium.webdriver.remote.webelement.WebElement (session=\"07b4b73de8f341394dd131b52c0d7949\", element=\"c9b46b44-b9be-42f6-9a23-ef68e192ed0e\")>,\n",
       " <selenium.webdriver.remote.webelement.WebElement (session=\"07b4b73de8f341394dd131b52c0d7949\", element=\"1d94633d-bed5-473c-b9f6-304e23b37e35\")>,\n",
       " <selenium.webdriver.remote.webelement.WebElement (session=\"07b4b73de8f341394dd131b52c0d7949\", element=\"03382ec6-3749-424c-83aa-2b39241fe203\")>,\n",
       " <selenium.webdriver.remote.webelement.WebElement (session=\"07b4b73de8f341394dd131b52c0d7949\", element=\"a1ed6a25-47ba-4eae-9e25-e9fe0ca3f211\")>,\n",
       " <selenium.webdriver.remote.webelement.WebElement (session=\"07b4b73de8f341394dd131b52c0d7949\", element=\"99fbf66b-559a-4bbf-b5c2-d2409edd1570\")>,\n",
       " <selenium.webdriver.remote.webelement.WebElement (session=\"07b4b73de8f341394dd131b52c0d7949\", element=\"6555b715-fb4a-42c8-baad-a23ab7827237\")>,\n",
       " <selenium.webdriver.remote.webelement.WebElement (session=\"07b4b73de8f341394dd131b52c0d7949\", element=\"1c61862e-dc7e-4b34-94d4-881ca5921bfc\")>,\n",
       " <selenium.webdriver.remote.webelement.WebElement (session=\"07b4b73de8f341394dd131b52c0d7949\", element=\"d5a1039f-db82-4526-b02d-43854ed22343\")>,\n",
       " <selenium.webdriver.remote.webelement.WebElement (session=\"07b4b73de8f341394dd131b52c0d7949\", element=\"7ec8d94a-5dcd-4095-9166-9d12f3c165da\")>,\n",
       " <selenium.webdriver.remote.webelement.WebElement (session=\"07b4b73de8f341394dd131b52c0d7949\", element=\"cea63240-17ff-4463-a4aa-86729b0ff6d6\")>,\n",
       " <selenium.webdriver.remote.webelement.WebElement (session=\"07b4b73de8f341394dd131b52c0d7949\", element=\"04260e7d-ac85-479c-aec1-06c32e6e8db5\")>,\n",
       " <selenium.webdriver.remote.webelement.WebElement (session=\"07b4b73de8f341394dd131b52c0d7949\", element=\"5ef06f47-4406-4112-8fd7-256ce30b58e5\")>,\n",
       " <selenium.webdriver.remote.webelement.WebElement (session=\"07b4b73de8f341394dd131b52c0d7949\", element=\"50907a7c-4af0-42cf-8343-2e058fd7775b\")>]"
      ]
     },
     "execution_count": 20,
     "metadata": {},
     "output_type": "execute_result"
    }
   ],
   "source": [
    "#lets extract data for experience_tags\n",
    "\n",
    "experience_tags=Driver.find_elements_by_xpath(\"//li[@class='fleft grey-text br2 placeHolderLi experience']/span\")\n",
    "experience_tags"
   ]
  },
  {
   "cell_type": "code",
   "execution_count": 21,
   "metadata": {},
   "outputs": [
    {
     "data": {
      "text/plain": [
       "['0-3 Yrs',\n",
       " '0-2 Yrs',\n",
       " '0-5 Yrs',\n",
       " '5-8 Yrs',\n",
       " '7-10 Yrs',\n",
       " '4-9 Yrs',\n",
       " '5-8 Yrs',\n",
       " '12-18 Yrs',\n",
       " '3-6 Yrs',\n",
       " '3-6 Yrs',\n",
       " '4-9 Yrs',\n",
       " '4-8 Yrs',\n",
       " '3-6 Yrs',\n",
       " '2-5 Yrs',\n",
       " '2-5 Yrs',\n",
       " '5-9 Yrs',\n",
       " '3-6 Yrs',\n",
       " '5-10 Yrs',\n",
       " '3-8 Yrs',\n",
       " '1-5 Yrs']"
      ]
     },
     "execution_count": 21,
     "metadata": {},
     "output_type": "execute_result"
    }
   ],
   "source": [
    "#extracting tags from location tags\n",
    "\n",
    "experience_list=[]\n",
    "for i in experience_tags:\n",
    "    experience_list.append(i.text)\n",
    "\n",
    "experience_list"
   ]
  },
  {
   "cell_type": "code",
   "execution_count": 22,
   "metadata": {},
   "outputs": [
    {
     "data": {
      "text/plain": [
       "[<selenium.webdriver.remote.webelement.WebElement (session=\"07b4b73de8f341394dd131b52c0d7949\", element=\"9340dfb7-849e-498f-9f01-43d3ef3c13e1\")>,\n",
       " <selenium.webdriver.remote.webelement.WebElement (session=\"07b4b73de8f341394dd131b52c0d7949\", element=\"9fe5a098-2693-4b35-b960-89e378719c3d\")>,\n",
       " <selenium.webdriver.remote.webelement.WebElement (session=\"07b4b73de8f341394dd131b52c0d7949\", element=\"39715333-4fa8-4d31-a9bd-82ed7d97d233\")>,\n",
       " <selenium.webdriver.remote.webelement.WebElement (session=\"07b4b73de8f341394dd131b52c0d7949\", element=\"279c86d0-c049-436c-93a1-bb75f8db4293\")>,\n",
       " <selenium.webdriver.remote.webelement.WebElement (session=\"07b4b73de8f341394dd131b52c0d7949\", element=\"e01955d1-b5ac-4130-b4fd-e890619fa95a\")>,\n",
       " <selenium.webdriver.remote.webelement.WebElement (session=\"07b4b73de8f341394dd131b52c0d7949\", element=\"497ce3ae-ce1d-4b0e-a27b-7d28bfb06263\")>,\n",
       " <selenium.webdriver.remote.webelement.WebElement (session=\"07b4b73de8f341394dd131b52c0d7949\", element=\"c4e2e03b-1a6f-472e-a7c6-24b54d56e55d\")>,\n",
       " <selenium.webdriver.remote.webelement.WebElement (session=\"07b4b73de8f341394dd131b52c0d7949\", element=\"baeed07c-d12d-48f8-9d90-cb8ddf3faa77\")>,\n",
       " <selenium.webdriver.remote.webelement.WebElement (session=\"07b4b73de8f341394dd131b52c0d7949\", element=\"7892f081-d1fe-4e0a-a66e-cbeaa383751e\")>,\n",
       " <selenium.webdriver.remote.webelement.WebElement (session=\"07b4b73de8f341394dd131b52c0d7949\", element=\"20f4ccca-f529-4cab-83a0-88f1d0689f51\")>,\n",
       " <selenium.webdriver.remote.webelement.WebElement (session=\"07b4b73de8f341394dd131b52c0d7949\", element=\"e9dc9649-75c3-4dc5-bfcc-169b32b38cf7\")>,\n",
       " <selenium.webdriver.remote.webelement.WebElement (session=\"07b4b73de8f341394dd131b52c0d7949\", element=\"e236afe3-ccf8-455a-837b-67f26359aa76\")>,\n",
       " <selenium.webdriver.remote.webelement.WebElement (session=\"07b4b73de8f341394dd131b52c0d7949\", element=\"c36ef8a5-d5af-42ff-abdc-66041d611c10\")>,\n",
       " <selenium.webdriver.remote.webelement.WebElement (session=\"07b4b73de8f341394dd131b52c0d7949\", element=\"67209641-73c6-4876-9720-e4da4b28f742\")>,\n",
       " <selenium.webdriver.remote.webelement.WebElement (session=\"07b4b73de8f341394dd131b52c0d7949\", element=\"c6dea116-9861-43f2-9d60-f8a5bcdaa3bf\")>,\n",
       " <selenium.webdriver.remote.webelement.WebElement (session=\"07b4b73de8f341394dd131b52c0d7949\", element=\"c428f1ab-74f3-4347-8279-bb446ced9eb6\")>,\n",
       " <selenium.webdriver.remote.webelement.WebElement (session=\"07b4b73de8f341394dd131b52c0d7949\", element=\"5e10d922-a1e3-4ed9-9c5b-3aa894293beb\")>,\n",
       " <selenium.webdriver.remote.webelement.WebElement (session=\"07b4b73de8f341394dd131b52c0d7949\", element=\"6b2c272c-3cab-4403-bb50-015abad3da90\")>,\n",
       " <selenium.webdriver.remote.webelement.WebElement (session=\"07b4b73de8f341394dd131b52c0d7949\", element=\"e983eb80-9429-410c-aab0-ba2fb743a38f\")>,\n",
       " <selenium.webdriver.remote.webelement.WebElement (session=\"07b4b73de8f341394dd131b52c0d7949\", element=\"7291a9df-27f2-4912-834e-b7d7318d06f6\")>]"
      ]
     },
     "execution_count": 22,
     "metadata": {},
     "output_type": "execute_result"
    }
   ],
   "source": [
    "#extracting tags for location\n",
    "\n",
    "locations_tags=Driver.find_elements_by_xpath(\"//li[@class='fleft grey-text br2 placeHolderLi location']/span\")\n",
    "locations_tags"
   ]
  },
  {
   "cell_type": "code",
   "execution_count": 23,
   "metadata": {},
   "outputs": [
    {
     "data": {
      "text/plain": [
       "['Mumbai, Hyderabad/Secunderabad, Pune, Gurgaon/Gurugram, Chennai, Bangalore/Bengaluru',\n",
       " 'Bangalore/Bengaluru',\n",
       " 'Bangalore/Bengaluru',\n",
       " 'Bangalore/Bengaluru',\n",
       " 'Bangalore/Bengaluru',\n",
       " 'Kolkata, Hyderabad/Secunderabad, Pune, Ahmedabad, Chennai, Bangalore/Bengaluru, Delhi / NCR, Mumbai (All Areas)',\n",
       " 'Bangalore/Bengaluru',\n",
       " 'Mumbai, Bangalore/Bengaluru',\n",
       " 'Bangalore/Bengaluru',\n",
       " 'Bangalore/Bengaluru',\n",
       " 'Bangalore/Bengaluru',\n",
       " 'Bangalore/Bengaluru',\n",
       " 'Bangalore/Bengaluru',\n",
       " 'Pune, Bangalore/Bengaluru, Mumbai (All Areas)',\n",
       " 'New Delhi, Bangalore/Bengaluru',\n",
       " 'Mumbai, Hyderabad/Secunderabad, Pune, Chennai, Bangalore/Bengaluru',\n",
       " 'Bangalore/Bengaluru',\n",
       " 'Bangalore/Bengaluru',\n",
       " 'Mumbai, Bangalore/Bengaluru',\n",
       " 'Chennai, Bangalore/Bengaluru']"
      ]
     },
     "execution_count": 23,
     "metadata": {},
     "output_type": "execute_result"
    }
   ],
   "source": [
    "#Extracting text from the tags\n",
    "\n",
    "locations_list=[]\n",
    "for i in locations_tags:\n",
    "    locations_list.append(i.text)\n",
    "    \n",
    "locations_list"
   ]
  },
  {
   "cell_type": "markdown",
   "metadata": {},
   "source": [
    "We have scraped all the required data and stored them in list, lets check the len of each list so that we can create dataframe."
   ]
  },
  {
   "cell_type": "code",
   "execution_count": 24,
   "metadata": {},
   "outputs": [
    {
     "name": "stdout",
     "output_type": "stream",
     "text": [
      "20 20 20 20\n"
     ]
    }
   ],
   "source": [
    "print(len(job_titles),len(company_names),len(experience_list),len(locations_list))"
   ]
  },
  {
   "cell_type": "code",
   "execution_count": 26,
   "metadata": {},
   "outputs": [
    {
     "data": {
      "text/html": [
       "<div>\n",
       "<style scoped>\n",
       "    .dataframe tbody tr th:only-of-type {\n",
       "        vertical-align: middle;\n",
       "    }\n",
       "\n",
       "    .dataframe tbody tr th {\n",
       "        vertical-align: top;\n",
       "    }\n",
       "\n",
       "    .dataframe thead th {\n",
       "        text-align: right;\n",
       "    }\n",
       "</style>\n",
       "<table border=\"1\" class=\"dataframe\">\n",
       "  <thead>\n",
       "    <tr style=\"text-align: right;\">\n",
       "      <th></th>\n",
       "      <th>Title</th>\n",
       "      <th>Company</th>\n",
       "      <th>Experience</th>\n",
       "      <th>Location</th>\n",
       "    </tr>\n",
       "  </thead>\n",
       "  <tbody>\n",
       "    <tr>\n",
       "      <th>0</th>\n",
       "      <td>Data Scientist / Data Analyst -Business Analyst</td>\n",
       "      <td>Inflexion Analytix Private Limited</td>\n",
       "      <td>0-3 Yrs</td>\n",
       "      <td>Mumbai, Hyderabad/Secunderabad, Pune, Gurgaon/...</td>\n",
       "    </tr>\n",
       "    <tr>\n",
       "      <th>1</th>\n",
       "      <td>Data Analyst</td>\n",
       "      <td>GlaxoSmithKline Pharmaceuticals Limited</td>\n",
       "      <td>0-2 Yrs</td>\n",
       "      <td>Bangalore/Bengaluru</td>\n",
       "    </tr>\n",
       "    <tr>\n",
       "      <th>2</th>\n",
       "      <td>Hiring Data Analysts For E commerce Platform |...</td>\n",
       "      <td>Allegis Services India Pvt. Ltd.</td>\n",
       "      <td>0-5 Yrs</td>\n",
       "      <td>Bangalore/Bengaluru</td>\n",
       "    </tr>\n",
       "    <tr>\n",
       "      <th>3</th>\n",
       "      <td>Data Analyst</td>\n",
       "      <td>Shell India Markets Private Limited</td>\n",
       "      <td>5-8 Yrs</td>\n",
       "      <td>Bangalore/Bengaluru</td>\n",
       "    </tr>\n",
       "    <tr>\n",
       "      <th>4</th>\n",
       "      <td>Data Analyst</td>\n",
       "      <td>Applied Materials</td>\n",
       "      <td>7-10 Yrs</td>\n",
       "      <td>Bangalore/Bengaluru</td>\n",
       "    </tr>\n",
       "    <tr>\n",
       "      <th>5</th>\n",
       "      <td>DA - Urgent Opening For Data Analyst BFSI Doma...</td>\n",
       "      <td>Tata Consultancy Services Ltd.</td>\n",
       "      <td>4-9 Yrs</td>\n",
       "      <td>Kolkata, Hyderabad/Secunderabad, Pune, Ahmedab...</td>\n",
       "    </tr>\n",
       "    <tr>\n",
       "      <th>6</th>\n",
       "      <td>Data Analyst</td>\n",
       "      <td>Shell India Markets Private Limited</td>\n",
       "      <td>5-8 Yrs</td>\n",
       "      <td>Bangalore/Bengaluru</td>\n",
       "    </tr>\n",
       "    <tr>\n",
       "      <th>7</th>\n",
       "      <td>Assistant Vice President - MIS &amp; Reporting ( B...</td>\n",
       "      <td>INTERTRUSTVITEOS CORPORATE AND FUND SERVICES P...</td>\n",
       "      <td>12-18 Yrs</td>\n",
       "      <td>Mumbai, Bangalore/Bengaluru</td>\n",
       "    </tr>\n",
       "    <tr>\n",
       "      <th>8</th>\n",
       "      <td>Data Analyst</td>\n",
       "      <td>Myntra Designs Pvt. Ltd.</td>\n",
       "      <td>3-6 Yrs</td>\n",
       "      <td>Bangalore/Bengaluru</td>\n",
       "    </tr>\n",
       "    <tr>\n",
       "      <th>9</th>\n",
       "      <td>Data Analyst</td>\n",
       "      <td>Myntra Designs Pvt. Ltd.</td>\n",
       "      <td>3-6 Yrs</td>\n",
       "      <td>Bangalore/Bengaluru</td>\n",
       "    </tr>\n",
       "    <tr>\n",
       "      <th>10</th>\n",
       "      <td>Data Analyst</td>\n",
       "      <td>Myntra Designs Pvt. Ltd.</td>\n",
       "      <td>4-9 Yrs</td>\n",
       "      <td>Bangalore/Bengaluru</td>\n",
       "    </tr>\n",
       "    <tr>\n",
       "      <th>11</th>\n",
       "      <td>Data Analyst</td>\n",
       "      <td>Myntra Designs Pvt. Ltd.</td>\n",
       "      <td>4-8 Yrs</td>\n",
       "      <td>Bangalore/Bengaluru</td>\n",
       "    </tr>\n",
       "    <tr>\n",
       "      <th>12</th>\n",
       "      <td>Data Analyst</td>\n",
       "      <td>Myntra Designs Pvt. Ltd.</td>\n",
       "      <td>3-6 Yrs</td>\n",
       "      <td>Bangalore/Bengaluru</td>\n",
       "    </tr>\n",
       "    <tr>\n",
       "      <th>13</th>\n",
       "      <td>Data Analyst - Work from Home</td>\n",
       "      <td>POWER STORES E COMMERCE PRIVATE LIMITED</td>\n",
       "      <td>2-5 Yrs</td>\n",
       "      <td>Pune, Bangalore/Bengaluru, Mumbai (All Areas)</td>\n",
       "    </tr>\n",
       "    <tr>\n",
       "      <th>14</th>\n",
       "      <td>Data Analyst Scada Systems &amp; Database Management</td>\n",
       "      <td>SmartHelio Sarl</td>\n",
       "      <td>2-5 Yrs</td>\n",
       "      <td>New Delhi, Bangalore/Bengaluru</td>\n",
       "    </tr>\n",
       "    <tr>\n",
       "      <th>15</th>\n",
       "      <td>Sybase SQL with Post trade/ settlement Data An...</td>\n",
       "      <td>Larsen &amp; Toubro Infotech Limited</td>\n",
       "      <td>5-9 Yrs</td>\n",
       "      <td>Mumbai, Hyderabad/Secunderabad, Pune, Chennai,...</td>\n",
       "    </tr>\n",
       "    <tr>\n",
       "      <th>16</th>\n",
       "      <td>Senior/Regular Business Analyst / Data Analyst</td>\n",
       "      <td>Luxoft</td>\n",
       "      <td>3-6 Yrs</td>\n",
       "      <td>Bangalore/Bengaluru</td>\n",
       "    </tr>\n",
       "    <tr>\n",
       "      <th>17</th>\n",
       "      <td>Data Analyst</td>\n",
       "      <td>IBM India Pvt. Limited</td>\n",
       "      <td>5-10 Yrs</td>\n",
       "      <td>Bangalore/Bengaluru</td>\n",
       "    </tr>\n",
       "    <tr>\n",
       "      <th>18</th>\n",
       "      <td>Business Data Analyst - MIS &amp; Reporting</td>\n",
       "      <td>INTERTRUST GROUP</td>\n",
       "      <td>3-8 Yrs</td>\n",
       "      <td>Mumbai, Bangalore/Bengaluru</td>\n",
       "    </tr>\n",
       "    <tr>\n",
       "      <th>19</th>\n",
       "      <td>Data Analyst / Business Analyst -</td>\n",
       "      <td>LatentView Analytics Private Limited</td>\n",
       "      <td>1-5 Yrs</td>\n",
       "      <td>Chennai, Bangalore/Bengaluru</td>\n",
       "    </tr>\n",
       "  </tbody>\n",
       "</table>\n",
       "</div>"
      ],
      "text/plain": [
       "                                                Title  \\\n",
       "0     Data Scientist / Data Analyst -Business Analyst   \n",
       "1                                        Data Analyst   \n",
       "2   Hiring Data Analysts For E commerce Platform |...   \n",
       "3                                        Data Analyst   \n",
       "4                                        Data Analyst   \n",
       "5   DA - Urgent Opening For Data Analyst BFSI Doma...   \n",
       "6                                        Data Analyst   \n",
       "7   Assistant Vice President - MIS & Reporting ( B...   \n",
       "8                                        Data Analyst   \n",
       "9                                        Data Analyst   \n",
       "10                                       Data Analyst   \n",
       "11                                       Data Analyst   \n",
       "12                                       Data Analyst   \n",
       "13                      Data Analyst - Work from Home   \n",
       "14   Data Analyst Scada Systems & Database Management   \n",
       "15  Sybase SQL with Post trade/ settlement Data An...   \n",
       "16     Senior/Regular Business Analyst / Data Analyst   \n",
       "17                                       Data Analyst   \n",
       "18            Business Data Analyst - MIS & Reporting   \n",
       "19                  Data Analyst / Business Analyst -   \n",
       "\n",
       "                                              Company Experience  \\\n",
       "0                  Inflexion Analytix Private Limited    0-3 Yrs   \n",
       "1             GlaxoSmithKline Pharmaceuticals Limited    0-2 Yrs   \n",
       "2                    Allegis Services India Pvt. Ltd.    0-5 Yrs   \n",
       "3                 Shell India Markets Private Limited    5-8 Yrs   \n",
       "4                                   Applied Materials   7-10 Yrs   \n",
       "5                      Tata Consultancy Services Ltd.    4-9 Yrs   \n",
       "6                 Shell India Markets Private Limited    5-8 Yrs   \n",
       "7   INTERTRUSTVITEOS CORPORATE AND FUND SERVICES P...  12-18 Yrs   \n",
       "8                            Myntra Designs Pvt. Ltd.    3-6 Yrs   \n",
       "9                            Myntra Designs Pvt. Ltd.    3-6 Yrs   \n",
       "10                           Myntra Designs Pvt. Ltd.    4-9 Yrs   \n",
       "11                           Myntra Designs Pvt. Ltd.    4-8 Yrs   \n",
       "12                           Myntra Designs Pvt. Ltd.    3-6 Yrs   \n",
       "13            POWER STORES E COMMERCE PRIVATE LIMITED    2-5 Yrs   \n",
       "14                                    SmartHelio Sarl    2-5 Yrs   \n",
       "15                   Larsen & Toubro Infotech Limited    5-9 Yrs   \n",
       "16                                             Luxoft    3-6 Yrs   \n",
       "17                             IBM India Pvt. Limited   5-10 Yrs   \n",
       "18                                   INTERTRUST GROUP    3-8 Yrs   \n",
       "19               LatentView Analytics Private Limited    1-5 Yrs   \n",
       "\n",
       "                                             Location  \n",
       "0   Mumbai, Hyderabad/Secunderabad, Pune, Gurgaon/...  \n",
       "1                                 Bangalore/Bengaluru  \n",
       "2                                 Bangalore/Bengaluru  \n",
       "3                                 Bangalore/Bengaluru  \n",
       "4                                 Bangalore/Bengaluru  \n",
       "5   Kolkata, Hyderabad/Secunderabad, Pune, Ahmedab...  \n",
       "6                                 Bangalore/Bengaluru  \n",
       "7                         Mumbai, Bangalore/Bengaluru  \n",
       "8                                 Bangalore/Bengaluru  \n",
       "9                                 Bangalore/Bengaluru  \n",
       "10                                Bangalore/Bengaluru  \n",
       "11                                Bangalore/Bengaluru  \n",
       "12                                Bangalore/Bengaluru  \n",
       "13      Pune, Bangalore/Bengaluru, Mumbai (All Areas)  \n",
       "14                     New Delhi, Bangalore/Bengaluru  \n",
       "15  Mumbai, Hyderabad/Secunderabad, Pune, Chennai,...  \n",
       "16                                Bangalore/Bengaluru  \n",
       "17                                Bangalore/Bengaluru  \n",
       "18                        Mumbai, Bangalore/Bengaluru  \n",
       "19                       Chennai, Bangalore/Bengaluru  "
      ]
     },
     "execution_count": 26,
     "metadata": {},
     "output_type": "execute_result"
    }
   ],
   "source": [
    "Jobs_DA=pd.DataFrame({})\n",
    "Jobs_DA['Title']=job_titles\n",
    "Jobs_DA['Company']=company_names\n",
    "Jobs_DA['Experience']=experience_list\n",
    "Jobs_DA['Location']=locations_list\n",
    "\n",
    "Jobs_DA"
   ]
  },
  {
   "cell_type": "code",
   "execution_count": 27,
   "metadata": {},
   "outputs": [
    {
     "data": {
      "text/html": [
       "<div>\n",
       "<style scoped>\n",
       "    .dataframe tbody tr th:only-of-type {\n",
       "        vertical-align: middle;\n",
       "    }\n",
       "\n",
       "    .dataframe tbody tr th {\n",
       "        vertical-align: top;\n",
       "    }\n",
       "\n",
       "    .dataframe thead th {\n",
       "        text-align: right;\n",
       "    }\n",
       "</style>\n",
       "<table border=\"1\" class=\"dataframe\">\n",
       "  <thead>\n",
       "    <tr style=\"text-align: right;\">\n",
       "      <th></th>\n",
       "      <th>Title</th>\n",
       "      <th>Company</th>\n",
       "      <th>Experience</th>\n",
       "      <th>Location</th>\n",
       "    </tr>\n",
       "  </thead>\n",
       "  <tbody>\n",
       "    <tr>\n",
       "      <th>0</th>\n",
       "      <td>Data Scientist / Data Analyst -Business Analyst</td>\n",
       "      <td>Inflexion Analytix Private Limited</td>\n",
       "      <td>0-3 Yrs</td>\n",
       "      <td>Mumbai, Hyderabad/Secunderabad, Pune, Gurgaon/...</td>\n",
       "    </tr>\n",
       "    <tr>\n",
       "      <th>1</th>\n",
       "      <td>Data Analyst</td>\n",
       "      <td>GlaxoSmithKline Pharmaceuticals Limited</td>\n",
       "      <td>0-2 Yrs</td>\n",
       "      <td>Bangalore/Bengaluru</td>\n",
       "    </tr>\n",
       "    <tr>\n",
       "      <th>2</th>\n",
       "      <td>Hiring Data Analysts For E commerce Platform |...</td>\n",
       "      <td>Allegis Services India Pvt. Ltd.</td>\n",
       "      <td>0-5 Yrs</td>\n",
       "      <td>Bangalore/Bengaluru</td>\n",
       "    </tr>\n",
       "    <tr>\n",
       "      <th>3</th>\n",
       "      <td>Data Analyst</td>\n",
       "      <td>Shell India Markets Private Limited</td>\n",
       "      <td>5-8 Yrs</td>\n",
       "      <td>Bangalore/Bengaluru</td>\n",
       "    </tr>\n",
       "    <tr>\n",
       "      <th>4</th>\n",
       "      <td>Data Analyst</td>\n",
       "      <td>Applied Materials</td>\n",
       "      <td>7-10 Yrs</td>\n",
       "      <td>Bangalore/Bengaluru</td>\n",
       "    </tr>\n",
       "    <tr>\n",
       "      <th>5</th>\n",
       "      <td>DA - Urgent Opening For Data Analyst BFSI Doma...</td>\n",
       "      <td>Tata Consultancy Services Ltd.</td>\n",
       "      <td>4-9 Yrs</td>\n",
       "      <td>Kolkata, Hyderabad/Secunderabad, Pune, Ahmedab...</td>\n",
       "    </tr>\n",
       "    <tr>\n",
       "      <th>6</th>\n",
       "      <td>Data Analyst</td>\n",
       "      <td>Shell India Markets Private Limited</td>\n",
       "      <td>5-8 Yrs</td>\n",
       "      <td>Bangalore/Bengaluru</td>\n",
       "    </tr>\n",
       "    <tr>\n",
       "      <th>7</th>\n",
       "      <td>Assistant Vice President - MIS &amp; Reporting ( B...</td>\n",
       "      <td>INTERTRUSTVITEOS CORPORATE AND FUND SERVICES P...</td>\n",
       "      <td>12-18 Yrs</td>\n",
       "      <td>Mumbai, Bangalore/Bengaluru</td>\n",
       "    </tr>\n",
       "    <tr>\n",
       "      <th>8</th>\n",
       "      <td>Data Analyst</td>\n",
       "      <td>Myntra Designs Pvt. Ltd.</td>\n",
       "      <td>3-6 Yrs</td>\n",
       "      <td>Bangalore/Bengaluru</td>\n",
       "    </tr>\n",
       "    <tr>\n",
       "      <th>9</th>\n",
       "      <td>Data Analyst</td>\n",
       "      <td>Myntra Designs Pvt. Ltd.</td>\n",
       "      <td>3-6 Yrs</td>\n",
       "      <td>Bangalore/Bengaluru</td>\n",
       "    </tr>\n",
       "  </tbody>\n",
       "</table>\n",
       "</div>"
      ],
      "text/plain": [
       "                                               Title  \\\n",
       "0    Data Scientist / Data Analyst -Business Analyst   \n",
       "1                                       Data Analyst   \n",
       "2  Hiring Data Analysts For E commerce Platform |...   \n",
       "3                                       Data Analyst   \n",
       "4                                       Data Analyst   \n",
       "5  DA - Urgent Opening For Data Analyst BFSI Doma...   \n",
       "6                                       Data Analyst   \n",
       "7  Assistant Vice President - MIS & Reporting ( B...   \n",
       "8                                       Data Analyst   \n",
       "9                                       Data Analyst   \n",
       "\n",
       "                                             Company Experience  \\\n",
       "0                 Inflexion Analytix Private Limited    0-3 Yrs   \n",
       "1            GlaxoSmithKline Pharmaceuticals Limited    0-2 Yrs   \n",
       "2                   Allegis Services India Pvt. Ltd.    0-5 Yrs   \n",
       "3                Shell India Markets Private Limited    5-8 Yrs   \n",
       "4                                  Applied Materials   7-10 Yrs   \n",
       "5                     Tata Consultancy Services Ltd.    4-9 Yrs   \n",
       "6                Shell India Markets Private Limited    5-8 Yrs   \n",
       "7  INTERTRUSTVITEOS CORPORATE AND FUND SERVICES P...  12-18 Yrs   \n",
       "8                           Myntra Designs Pvt. Ltd.    3-6 Yrs   \n",
       "9                           Myntra Designs Pvt. Ltd.    3-6 Yrs   \n",
       "\n",
       "                                            Location  \n",
       "0  Mumbai, Hyderabad/Secunderabad, Pune, Gurgaon/...  \n",
       "1                                Bangalore/Bengaluru  \n",
       "2                                Bangalore/Bengaluru  \n",
       "3                                Bangalore/Bengaluru  \n",
       "4                                Bangalore/Bengaluru  \n",
       "5  Kolkata, Hyderabad/Secunderabad, Pune, Ahmedab...  \n",
       "6                                Bangalore/Bengaluru  \n",
       "7                        Mumbai, Bangalore/Bengaluru  \n",
       "8                                Bangalore/Bengaluru  \n",
       "9                                Bangalore/Bengaluru  "
      ]
     },
     "execution_count": 27,
     "metadata": {},
     "output_type": "execute_result"
    }
   ],
   "source": [
    "Jobs_DA[:10]"
   ]
  },
  {
   "cell_type": "markdown",
   "metadata": {},
   "source": [
    "Required Data extracted for first 10 jobs."
   ]
  },
  {
   "cell_type": "markdown",
   "metadata": {},
   "source": [
    "Q2: Write a python program to scrape data for “Data Scientist” Job position in \n",
    "“Bangalore” location. You have to scrape the job-title, job-location,\n",
    "company_name, full job-description. You have to scrape first 10 jobs data.\n",
    "This task will be done in following steps:\n",
    "\n",
    "\n",
    "1. first get the webpage https://www.naukri.com/\n",
    "2. Enter “Data Scientist” in “Skill,Designations,Companies” field and enter \n",
    "“Bangalore” in “enter the location” field.\n",
    "3. Then click the search button.\n",
    "4. Then scrape the data for the first 10 jobs results you get.\n",
    "5. Finally create a dataframe of the scraped data."
   ]
  },
  {
   "cell_type": "code",
   "execution_count": 29,
   "metadata": {},
   "outputs": [
    {
     "data": {
      "text/plain": [
       "<selenium.webdriver.chrome.webdriver.WebDriver (session=\"3244746e3f8d691c09ad34d5d40223bd\")>"
      ]
     },
     "execution_count": 29,
     "metadata": {},
     "output_type": "execute_result"
    }
   ],
   "source": [
    "Driver_2=webdriver.Chrome('chromedriver.exe')\n",
    "Driver_2"
   ]
  },
  {
   "cell_type": "code",
   "execution_count": 30,
   "metadata": {},
   "outputs": [],
   "source": [
    "url='https://www.naukri.com/'\n",
    "Driver_2.get(url)"
   ]
  },
  {
   "cell_type": "code",
   "execution_count": 31,
   "metadata": {},
   "outputs": [
    {
     "data": {
      "text/plain": [
       "<selenium.webdriver.remote.webelement.WebElement (session=\"3244746e3f8d691c09ad34d5d40223bd\", element=\"614bdcc9-feae-4137-8c6d-0ac090b2140a\")>"
      ]
     },
     "execution_count": 31,
     "metadata": {},
     "output_type": "execute_result"
    }
   ],
   "source": [
    "#Extracting element for search bar\n",
    "\n",
    "search=Driver_2.find_element_by_id('qsb-keyword-sugg')\n",
    "search"
   ]
  },
  {
   "cell_type": "code",
   "execution_count": 32,
   "metadata": {},
   "outputs": [],
   "source": [
    "search.send_keys('Data Scientist')\n"
   ]
  },
  {
   "cell_type": "code",
   "execution_count": 33,
   "metadata": {},
   "outputs": [
    {
     "data": {
      "text/plain": [
       "<selenium.webdriver.remote.webelement.WebElement (session=\"3244746e3f8d691c09ad34d5d40223bd\", element=\"bc6c4385-faef-4ce0-be16-753adaa12de5\")>"
      ]
     },
     "execution_count": 33,
     "metadata": {},
     "output_type": "execute_result"
    }
   ],
   "source": [
    "#extracting element for location bar\n",
    "loc=Driver_2.find_element_by_id('qsb-location-sugg')\n",
    "loc"
   ]
  },
  {
   "cell_type": "code",
   "execution_count": 34,
   "metadata": {},
   "outputs": [],
   "source": [
    "loc.send_keys('Banglore')\n"
   ]
  },
  {
   "cell_type": "code",
   "execution_count": 36,
   "metadata": {},
   "outputs": [],
   "source": [
    "#do click using xpath\n",
    "\n",
    "search_btn=Driver_2.find_element_by_xpath(\"//button[@class='btn']\")\n",
    "search_btn.click()"
   ]
  },
  {
   "cell_type": "code",
   "execution_count": 37,
   "metadata": {},
   "outputs": [
    {
     "data": {
      "text/plain": [
       "[<selenium.webdriver.remote.webelement.WebElement (session=\"3244746e3f8d691c09ad34d5d40223bd\", element=\"30c2523a-869d-41ef-87b7-4171642300e7\")>,\n",
       " <selenium.webdriver.remote.webelement.WebElement (session=\"3244746e3f8d691c09ad34d5d40223bd\", element=\"ad5e6122-e03c-4a61-ab85-e037ffc2b012\")>,\n",
       " <selenium.webdriver.remote.webelement.WebElement (session=\"3244746e3f8d691c09ad34d5d40223bd\", element=\"0ab3b259-bdf1-4114-befc-8dbc8cf5d073\")>,\n",
       " <selenium.webdriver.remote.webelement.WebElement (session=\"3244746e3f8d691c09ad34d5d40223bd\", element=\"98f8b9fa-13e6-4a61-ba6f-0bfc89cb24f8\")>,\n",
       " <selenium.webdriver.remote.webelement.WebElement (session=\"3244746e3f8d691c09ad34d5d40223bd\", element=\"4ebdd733-70a2-47e1-9b3e-ee97094a7fdb\")>,\n",
       " <selenium.webdriver.remote.webelement.WebElement (session=\"3244746e3f8d691c09ad34d5d40223bd\", element=\"ab414375-2242-406e-b719-85244fce8ba8\")>,\n",
       " <selenium.webdriver.remote.webelement.WebElement (session=\"3244746e3f8d691c09ad34d5d40223bd\", element=\"c972f382-0c40-4810-8d1e-91f44bf32a9a\")>,\n",
       " <selenium.webdriver.remote.webelement.WebElement (session=\"3244746e3f8d691c09ad34d5d40223bd\", element=\"c0eae583-d1dd-4366-add4-87a2e0799273\")>,\n",
       " <selenium.webdriver.remote.webelement.WebElement (session=\"3244746e3f8d691c09ad34d5d40223bd\", element=\"ef692ade-aced-418b-90e7-a438dea76e45\")>,\n",
       " <selenium.webdriver.remote.webelement.WebElement (session=\"3244746e3f8d691c09ad34d5d40223bd\", element=\"8ec30ed7-2ec6-4e64-bd0a-08ae4469f768\")>,\n",
       " <selenium.webdriver.remote.webelement.WebElement (session=\"3244746e3f8d691c09ad34d5d40223bd\", element=\"fb3f6980-b715-4ec4-b88b-fb8f6459ff72\")>,\n",
       " <selenium.webdriver.remote.webelement.WebElement (session=\"3244746e3f8d691c09ad34d5d40223bd\", element=\"3e529f12-14af-4113-a52a-088d9f665c1f\")>,\n",
       " <selenium.webdriver.remote.webelement.WebElement (session=\"3244746e3f8d691c09ad34d5d40223bd\", element=\"17753da5-e95f-431d-8d45-2723e1a3f00a\")>,\n",
       " <selenium.webdriver.remote.webelement.WebElement (session=\"3244746e3f8d691c09ad34d5d40223bd\", element=\"321e31ff-3ad1-48d9-8d84-02af6e01fc84\")>,\n",
       " <selenium.webdriver.remote.webelement.WebElement (session=\"3244746e3f8d691c09ad34d5d40223bd\", element=\"67837465-092e-47c1-a668-8b08166aa9ab\")>,\n",
       " <selenium.webdriver.remote.webelement.WebElement (session=\"3244746e3f8d691c09ad34d5d40223bd\", element=\"2eb902e6-1a43-4369-be79-797906e318db\")>,\n",
       " <selenium.webdriver.remote.webelement.WebElement (session=\"3244746e3f8d691c09ad34d5d40223bd\", element=\"b0489dc1-cac7-4243-aac8-ad9e0edafbfe\")>,\n",
       " <selenium.webdriver.remote.webelement.WebElement (session=\"3244746e3f8d691c09ad34d5d40223bd\", element=\"0f55bbe1-df12-4c8c-88fb-b5ec690fafd4\")>,\n",
       " <selenium.webdriver.remote.webelement.WebElement (session=\"3244746e3f8d691c09ad34d5d40223bd\", element=\"7a7824fd-64e1-4545-ab97-eaf0eadfe485\")>,\n",
       " <selenium.webdriver.remote.webelement.WebElement (session=\"3244746e3f8d691c09ad34d5d40223bd\", element=\"a89bb3b3-635e-48df-8ff2-f4fc7d9d6a87\")>]"
      ]
     },
     "execution_count": 37,
     "metadata": {},
     "output_type": "execute_result"
    }
   ],
   "source": [
    "#extracting tags for job title\n",
    "\n",
    "title_tags=Driver_2.find_elements_by_xpath(\"//a[@class='title fw500 ellipsis']\")\n",
    "title_tags"
   ]
  },
  {
   "cell_type": "code",
   "execution_count": 38,
   "metadata": {},
   "outputs": [
    {
     "data": {
      "text/plain": [
       "['Data Scientist / Data Analyst -Business Analyst',\n",
       " 'Senior / Lead Data Scientist',\n",
       " 'Senior Data Scientist | CES IT LTD | CMMI Level 5',\n",
       " 'Senior Data Scientist | CES IT LTD | CMMI Level 5',\n",
       " 'Analytics & AI Product Mgmt - Sr. Data Scientist',\n",
       " 'Senior Data Scientist',\n",
       " 'Senior Data Scientist, Modeling',\n",
       " 'Data Scientist - IBM Garage',\n",
       " 'Data Scientist',\n",
       " 'Data Scientist',\n",
       " 'Senior Data Scientist - Credit risk',\n",
       " 'Data Scientist',\n",
       " 'Lead Data Scientist',\n",
       " 'Data Scientist: Advanced Analytics',\n",
       " 'IDM - Lead Data Scientist',\n",
       " 'Senior Data Scientist - Chatbot & NLP',\n",
       " 'Senior Data Scientist - Chatbot & NLP',\n",
       " 'Senior Data Scientist',\n",
       " 'Senior Data Scientist - Kinara Capital',\n",
       " 'Senior Data Scientist']"
      ]
     },
     "execution_count": 38,
     "metadata": {},
     "output_type": "execute_result"
    }
   ],
   "source": [
    "#extracting text from the tags\n",
    "\n",
    "Title=[]\n",
    "for i in title_tags:\n",
    "    Title.append(i.text)\n",
    "    \n",
    "Title"
   ]
  },
  {
   "cell_type": "code",
   "execution_count": 40,
   "metadata": {},
   "outputs": [
    {
     "data": {
      "text/plain": [
       "[<selenium.webdriver.remote.webelement.WebElement (session=\"3244746e3f8d691c09ad34d5d40223bd\", element=\"27a62f22-9372-40e1-bbdd-b34c31c9d4c9\")>,\n",
       " <selenium.webdriver.remote.webelement.WebElement (session=\"3244746e3f8d691c09ad34d5d40223bd\", element=\"fcf0174f-f664-42d0-82a4-18a1fb7f22ba\")>,\n",
       " <selenium.webdriver.remote.webelement.WebElement (session=\"3244746e3f8d691c09ad34d5d40223bd\", element=\"3669059c-f961-4818-8e4a-6b8805002d5b\")>,\n",
       " <selenium.webdriver.remote.webelement.WebElement (session=\"3244746e3f8d691c09ad34d5d40223bd\", element=\"1cbadee5-4b7c-4639-8466-3d79bb437fcf\")>,\n",
       " <selenium.webdriver.remote.webelement.WebElement (session=\"3244746e3f8d691c09ad34d5d40223bd\", element=\"c5dc8b24-7d9a-4245-9309-58498d91fb30\")>,\n",
       " <selenium.webdriver.remote.webelement.WebElement (session=\"3244746e3f8d691c09ad34d5d40223bd\", element=\"ebe3eb81-065e-4554-926a-c83e83da4a1f\")>,\n",
       " <selenium.webdriver.remote.webelement.WebElement (session=\"3244746e3f8d691c09ad34d5d40223bd\", element=\"9e4508c9-159a-4d7d-956e-046dd16befde\")>,\n",
       " <selenium.webdriver.remote.webelement.WebElement (session=\"3244746e3f8d691c09ad34d5d40223bd\", element=\"4f6c4665-9c90-4b82-9b5c-6b4c43c3e4cb\")>,\n",
       " <selenium.webdriver.remote.webelement.WebElement (session=\"3244746e3f8d691c09ad34d5d40223bd\", element=\"e276d336-2d0f-4747-b3de-dbf8a04e2f8f\")>,\n",
       " <selenium.webdriver.remote.webelement.WebElement (session=\"3244746e3f8d691c09ad34d5d40223bd\", element=\"708147c9-b419-4dbc-b5a0-55511e2a0553\")>,\n",
       " <selenium.webdriver.remote.webelement.WebElement (session=\"3244746e3f8d691c09ad34d5d40223bd\", element=\"732b073b-7103-41c4-9c05-0b0bc4d421dc\")>,\n",
       " <selenium.webdriver.remote.webelement.WebElement (session=\"3244746e3f8d691c09ad34d5d40223bd\", element=\"78fe5239-c5c4-4107-b784-e1f304d2b40f\")>,\n",
       " <selenium.webdriver.remote.webelement.WebElement (session=\"3244746e3f8d691c09ad34d5d40223bd\", element=\"186db73e-7569-4af1-901e-e63d39ddd05e\")>,\n",
       " <selenium.webdriver.remote.webelement.WebElement (session=\"3244746e3f8d691c09ad34d5d40223bd\", element=\"92573f11-930e-46f9-a000-075a8f4f1117\")>,\n",
       " <selenium.webdriver.remote.webelement.WebElement (session=\"3244746e3f8d691c09ad34d5d40223bd\", element=\"2aacf48b-99a3-49c5-9d10-cb7f89f1d4c9\")>,\n",
       " <selenium.webdriver.remote.webelement.WebElement (session=\"3244746e3f8d691c09ad34d5d40223bd\", element=\"0412af94-0f82-4f10-8bad-adf5309b96d8\")>,\n",
       " <selenium.webdriver.remote.webelement.WebElement (session=\"3244746e3f8d691c09ad34d5d40223bd\", element=\"7f970f91-13dc-41df-8444-f3019bdff1c7\")>,\n",
       " <selenium.webdriver.remote.webelement.WebElement (session=\"3244746e3f8d691c09ad34d5d40223bd\", element=\"9efc37ba-9645-413e-8bd1-d06213295b0e\")>,\n",
       " <selenium.webdriver.remote.webelement.WebElement (session=\"3244746e3f8d691c09ad34d5d40223bd\", element=\"ab2d2296-2fca-4b22-b0b4-13e6686d2d15\")>,\n",
       " <selenium.webdriver.remote.webelement.WebElement (session=\"3244746e3f8d691c09ad34d5d40223bd\", element=\"bdf910df-1503-4876-b7db-32f3ef934a1e\")>]"
      ]
     },
     "execution_count": 40,
     "metadata": {},
     "output_type": "execute_result"
    }
   ],
   "source": [
    "#Extracting tags for locations of job\n",
    "\n",
    "location_tags=Driver_2.find_elements_by_xpath(\"//li[@class='fleft grey-text br2 placeHolderLi location']/span\")\n",
    "location_tags"
   ]
  },
  {
   "cell_type": "code",
   "execution_count": 41,
   "metadata": {},
   "outputs": [
    {
     "data": {
      "text/plain": [
       "['Mumbai, Hyderabad/Secunderabad, Pune, Gurgaon/Gurugram, Chennai, Bangalore/Bengaluru',\n",
       " 'Pune, Chennai, Bangalore/Bengaluru',\n",
       " 'Kolkata, Mumbai, Hyderabad/Secunderabad, Pune, Chennai, Bangalore/Bengaluru, Delhi / NCR',\n",
       " 'Kolkata, Mumbai, Hyderabad/Secunderabad, Pune, Chennai, Bangalore/Bengaluru, Delhi / NCR',\n",
       " 'Bangalore/Bengaluru',\n",
       " 'Pune, Chennai, Bangalore/Bengaluru',\n",
       " 'Kolkata, Gurgaon/Gurugram, Bangalore/Bengaluru, Vadodara, Mumbai (All Areas)',\n",
       " 'Noida, Hyderabad/Secunderabad, Bangalore/Bengaluru',\n",
       " 'Noida, Hyderabad/Secunderabad, Bangalore/Bengaluru',\n",
       " 'Noida, Hyderabad/Secunderabad, Bangalore/Bengaluru',\n",
       " 'Bangalore/Bengaluru',\n",
       " 'Bangalore/Bengaluru',\n",
       " 'Bangalore/Bengaluru',\n",
       " 'Bangalore/Bengaluru',\n",
       " 'Bangalore/Bengaluru',\n",
       " 'Bangalore/Bengaluru',\n",
       " 'Bangalore/Bengaluru',\n",
       " 'Bangalore/Bengaluru',\n",
       " 'Bangalore/Bengaluru',\n",
       " 'Bangalore/Bengaluru']"
      ]
     },
     "execution_count": 41,
     "metadata": {},
     "output_type": "execute_result"
    }
   ],
   "source": [
    "#extracting text from the tags\n",
    "\n",
    "Location=[]\n",
    "for i in location_tags:\n",
    "    Location.append(i.text)\n",
    "\n",
    "Location"
   ]
  },
  {
   "cell_type": "code",
   "execution_count": 42,
   "metadata": {},
   "outputs": [
    {
     "data": {
      "text/plain": [
       "[<selenium.webdriver.remote.webelement.WebElement (session=\"3244746e3f8d691c09ad34d5d40223bd\", element=\"61b6496d-c4cb-4fd7-af21-71b9c4decc69\")>,\n",
       " <selenium.webdriver.remote.webelement.WebElement (session=\"3244746e3f8d691c09ad34d5d40223bd\", element=\"b398c486-02ac-4f50-abe8-4b46a1042c33\")>,\n",
       " <selenium.webdriver.remote.webelement.WebElement (session=\"3244746e3f8d691c09ad34d5d40223bd\", element=\"08b774b9-392c-45d1-b76e-66d8524097e9\")>,\n",
       " <selenium.webdriver.remote.webelement.WebElement (session=\"3244746e3f8d691c09ad34d5d40223bd\", element=\"4a17f5d7-017e-48ad-adb4-b8d6e5c9a954\")>,\n",
       " <selenium.webdriver.remote.webelement.WebElement (session=\"3244746e3f8d691c09ad34d5d40223bd\", element=\"41d4413a-7d1e-456c-a925-7d1eff419588\")>,\n",
       " <selenium.webdriver.remote.webelement.WebElement (session=\"3244746e3f8d691c09ad34d5d40223bd\", element=\"2ad83763-6976-44d7-b34f-6bcfb2259d3b\")>,\n",
       " <selenium.webdriver.remote.webelement.WebElement (session=\"3244746e3f8d691c09ad34d5d40223bd\", element=\"c9b949d6-fad2-459f-a0f6-284405344997\")>,\n",
       " <selenium.webdriver.remote.webelement.WebElement (session=\"3244746e3f8d691c09ad34d5d40223bd\", element=\"ac061ca2-6c71-4c09-b4b2-2d3d2012376f\")>,\n",
       " <selenium.webdriver.remote.webelement.WebElement (session=\"3244746e3f8d691c09ad34d5d40223bd\", element=\"90ff68c9-d484-436b-9efd-0e9aa924f94b\")>,\n",
       " <selenium.webdriver.remote.webelement.WebElement (session=\"3244746e3f8d691c09ad34d5d40223bd\", element=\"dc4743d9-5eb6-42b7-9b2a-78555f0c968f\")>,\n",
       " <selenium.webdriver.remote.webelement.WebElement (session=\"3244746e3f8d691c09ad34d5d40223bd\", element=\"5327d5e0-3503-4e05-8731-e30bb7f73296\")>,\n",
       " <selenium.webdriver.remote.webelement.WebElement (session=\"3244746e3f8d691c09ad34d5d40223bd\", element=\"f3d83138-db30-45bb-9597-1e8b62aeb13e\")>,\n",
       " <selenium.webdriver.remote.webelement.WebElement (session=\"3244746e3f8d691c09ad34d5d40223bd\", element=\"3e225c4b-3e5b-431f-b611-d1ccf1c18b9f\")>,\n",
       " <selenium.webdriver.remote.webelement.WebElement (session=\"3244746e3f8d691c09ad34d5d40223bd\", element=\"3a0cf8d3-273b-42e2-8387-48f455ce7ac4\")>,\n",
       " <selenium.webdriver.remote.webelement.WebElement (session=\"3244746e3f8d691c09ad34d5d40223bd\", element=\"9e3880fd-1683-49da-83f4-f700b322fd31\")>,\n",
       " <selenium.webdriver.remote.webelement.WebElement (session=\"3244746e3f8d691c09ad34d5d40223bd\", element=\"f06d85e0-233f-4d5a-a6cb-c9dc1e345904\")>,\n",
       " <selenium.webdriver.remote.webelement.WebElement (session=\"3244746e3f8d691c09ad34d5d40223bd\", element=\"1f5707d5-c1fa-4f9d-a711-25694cc5b20c\")>,\n",
       " <selenium.webdriver.remote.webelement.WebElement (session=\"3244746e3f8d691c09ad34d5d40223bd\", element=\"81735405-6dea-4fdd-b77b-341da60ec2eb\")>,\n",
       " <selenium.webdriver.remote.webelement.WebElement (session=\"3244746e3f8d691c09ad34d5d40223bd\", element=\"d6c8cbd9-e9e1-40f7-bf20-5f2bcdc74121\")>,\n",
       " <selenium.webdriver.remote.webelement.WebElement (session=\"3244746e3f8d691c09ad34d5d40223bd\", element=\"238df693-f3f0-4bbd-a2ae-4bbf6ca33cbd\")>]"
      ]
     },
     "execution_count": 42,
     "metadata": {},
     "output_type": "execute_result"
    }
   ],
   "source": [
    "#Extracting tags for exp required\n",
    "\n",
    "experience_tags=Driver_2.find_elements_by_xpath(\"//li[@class='fleft grey-text br2 placeHolderLi experience']/span\")\n",
    "experience_tags"
   ]
  },
  {
   "cell_type": "code",
   "execution_count": 43,
   "metadata": {},
   "outputs": [
    {
     "data": {
      "text/plain": [
       "['0-3 Yrs',\n",
       " '3-8 Yrs',\n",
       " '2-7 Yrs',\n",
       " '2-7 Yrs',\n",
       " '10-12 Yrs',\n",
       " '5-10 Yrs',\n",
       " '3-7 Yrs',\n",
       " '5-8 Yrs',\n",
       " '4-9 Yrs',\n",
       " '5-8 Yrs',\n",
       " '5-10 Yrs',\n",
       " '4-6 Yrs',\n",
       " '6-10 Yrs',\n",
       " '6-8 Yrs',\n",
       " '10-12 Yrs',\n",
       " '3-7 Yrs',\n",
       " '5-10 Yrs',\n",
       " '5-10 Yrs',\n",
       " '5-10 Yrs',\n",
       " '4-9 Yrs']"
      ]
     },
     "execution_count": 43,
     "metadata": {},
     "output_type": "execute_result"
    }
   ],
   "source": [
    "#extracting text from tags\n",
    "Experience=[]\n",
    "for i in experience_tags:\n",
    "    Experience.append(i.text)\n",
    "Experience"
   ]
  },
  {
   "cell_type": "markdown",
   "metadata": {},
   "source": [
    "We extrected the required data, lets check the len of each list so that we can put them into DataFrame."
   ]
  },
  {
   "cell_type": "code",
   "execution_count": 44,
   "metadata": {},
   "outputs": [
    {
     "name": "stdout",
     "output_type": "stream",
     "text": [
      "20 20 20\n"
     ]
    }
   ],
   "source": [
    "print(len(Title),len(Location),len(Experience))"
   ]
  },
  {
   "cell_type": "code",
   "execution_count": 45,
   "metadata": {},
   "outputs": [],
   "source": [
    "Jobs_DS=pd.DataFrame({})\n",
    "Jobs_DS['Title']=Title\n",
    "Jobs_DS['Location']=Location\n",
    "Jobs_DS['Experience']=Experience"
   ]
  },
  {
   "cell_type": "code",
   "execution_count": 48,
   "metadata": {},
   "outputs": [
    {
     "data": {
      "text/html": [
       "<div>\n",
       "<style scoped>\n",
       "    .dataframe tbody tr th:only-of-type {\n",
       "        vertical-align: middle;\n",
       "    }\n",
       "\n",
       "    .dataframe tbody tr th {\n",
       "        vertical-align: top;\n",
       "    }\n",
       "\n",
       "    .dataframe thead th {\n",
       "        text-align: right;\n",
       "    }\n",
       "</style>\n",
       "<table border=\"1\" class=\"dataframe\">\n",
       "  <thead>\n",
       "    <tr style=\"text-align: right;\">\n",
       "      <th></th>\n",
       "      <th>Title</th>\n",
       "      <th>Location</th>\n",
       "      <th>Experience</th>\n",
       "    </tr>\n",
       "  </thead>\n",
       "  <tbody>\n",
       "    <tr>\n",
       "      <th>0</th>\n",
       "      <td>Data Scientist / Data Analyst -Business Analyst</td>\n",
       "      <td>Mumbai, Hyderabad/Secunderabad, Pune, Gurgaon/...</td>\n",
       "      <td>0-3 Yrs</td>\n",
       "    </tr>\n",
       "    <tr>\n",
       "      <th>1</th>\n",
       "      <td>Senior / Lead Data Scientist</td>\n",
       "      <td>Pune, Chennai, Bangalore/Bengaluru</td>\n",
       "      <td>3-8 Yrs</td>\n",
       "    </tr>\n",
       "    <tr>\n",
       "      <th>2</th>\n",
       "      <td>Senior Data Scientist | CES IT LTD | CMMI Level 5</td>\n",
       "      <td>Kolkata, Mumbai, Hyderabad/Secunderabad, Pune,...</td>\n",
       "      <td>2-7 Yrs</td>\n",
       "    </tr>\n",
       "    <tr>\n",
       "      <th>3</th>\n",
       "      <td>Senior Data Scientist | CES IT LTD | CMMI Level 5</td>\n",
       "      <td>Kolkata, Mumbai, Hyderabad/Secunderabad, Pune,...</td>\n",
       "      <td>2-7 Yrs</td>\n",
       "    </tr>\n",
       "    <tr>\n",
       "      <th>4</th>\n",
       "      <td>Analytics &amp; AI Product Mgmt - Sr. Data Scientist</td>\n",
       "      <td>Bangalore/Bengaluru</td>\n",
       "      <td>10-12 Yrs</td>\n",
       "    </tr>\n",
       "    <tr>\n",
       "      <th>5</th>\n",
       "      <td>Senior Data Scientist</td>\n",
       "      <td>Pune, Chennai, Bangalore/Bengaluru</td>\n",
       "      <td>5-10 Yrs</td>\n",
       "    </tr>\n",
       "    <tr>\n",
       "      <th>6</th>\n",
       "      <td>Senior Data Scientist, Modeling</td>\n",
       "      <td>Kolkata, Gurgaon/Gurugram, Bangalore/Bengaluru...</td>\n",
       "      <td>3-7 Yrs</td>\n",
       "    </tr>\n",
       "    <tr>\n",
       "      <th>7</th>\n",
       "      <td>Data Scientist - IBM Garage</td>\n",
       "      <td>Noida, Hyderabad/Secunderabad, Bangalore/Benga...</td>\n",
       "      <td>5-8 Yrs</td>\n",
       "    </tr>\n",
       "    <tr>\n",
       "      <th>8</th>\n",
       "      <td>Data Scientist</td>\n",
       "      <td>Noida, Hyderabad/Secunderabad, Bangalore/Benga...</td>\n",
       "      <td>4-9 Yrs</td>\n",
       "    </tr>\n",
       "    <tr>\n",
       "      <th>9</th>\n",
       "      <td>Data Scientist</td>\n",
       "      <td>Noida, Hyderabad/Secunderabad, Bangalore/Benga...</td>\n",
       "      <td>5-8 Yrs</td>\n",
       "    </tr>\n",
       "  </tbody>\n",
       "</table>\n",
       "</div>"
      ],
      "text/plain": [
       "                                               Title  \\\n",
       "0    Data Scientist / Data Analyst -Business Analyst   \n",
       "1                       Senior / Lead Data Scientist   \n",
       "2  Senior Data Scientist | CES IT LTD | CMMI Level 5   \n",
       "3  Senior Data Scientist | CES IT LTD | CMMI Level 5   \n",
       "4   Analytics & AI Product Mgmt - Sr. Data Scientist   \n",
       "5                              Senior Data Scientist   \n",
       "6                    Senior Data Scientist, Modeling   \n",
       "7                        Data Scientist - IBM Garage   \n",
       "8                                     Data Scientist   \n",
       "9                                     Data Scientist   \n",
       "\n",
       "                                            Location Experience  \n",
       "0  Mumbai, Hyderabad/Secunderabad, Pune, Gurgaon/...    0-3 Yrs  \n",
       "1                 Pune, Chennai, Bangalore/Bengaluru    3-8 Yrs  \n",
       "2  Kolkata, Mumbai, Hyderabad/Secunderabad, Pune,...    2-7 Yrs  \n",
       "3  Kolkata, Mumbai, Hyderabad/Secunderabad, Pune,...    2-7 Yrs  \n",
       "4                                Bangalore/Bengaluru  10-12 Yrs  \n",
       "5                 Pune, Chennai, Bangalore/Bengaluru   5-10 Yrs  \n",
       "6  Kolkata, Gurgaon/Gurugram, Bangalore/Bengaluru...    3-7 Yrs  \n",
       "7  Noida, Hyderabad/Secunderabad, Bangalore/Benga...    5-8 Yrs  \n",
       "8  Noida, Hyderabad/Secunderabad, Bangalore/Benga...    4-9 Yrs  \n",
       "9  Noida, Hyderabad/Secunderabad, Bangalore/Benga...    5-8 Yrs  "
      ]
     },
     "execution_count": 48,
     "metadata": {},
     "output_type": "execute_result"
    }
   ],
   "source": [
    "Jobs_DS[:10]"
   ]
  },
  {
   "cell_type": "markdown",
   "metadata": {},
   "source": [
    "Lets extract JD for each job individually."
   ]
  },
  {
   "cell_type": "code",
   "execution_count": 49,
   "metadata": {},
   "outputs": [],
   "source": [
    "url='https://www.naukri.com/job-listings-data-scientist-data-analyst-business-analyst-inflexion-analytix-private-limited-mumbai-hyderabad-secunderabad-pune-gurgaon-gurugram-chennai-bangalore-bengaluru-0-to-3-years-100521000368?src=jobsearchDesk&sid=16207066905721706&xp=1&px=1'"
   ]
  },
  {
   "cell_type": "code",
   "execution_count": 62,
   "metadata": {},
   "outputs": [],
   "source": [
    "Driver_2.get(url)"
   ]
  },
  {
   "cell_type": "code",
   "execution_count": 63,
   "metadata": {},
   "outputs": [
    {
     "data": {
      "text/plain": [
       "<selenium.webdriver.remote.webelement.WebElement (session=\"3244746e3f8d691c09ad34d5d40223bd\", element=\"7aec45f4-a35c-4a21-90e0-7b56c6b1933b\")>"
      ]
     },
     "execution_count": 63,
     "metadata": {},
     "output_type": "execute_result"
    }
   ],
   "source": [
    "JD_title_1=Driver_2.find_element_by_xpath(\"//section[@class='job-desc']\")\n",
    "JD_title_1"
   ]
  },
  {
   "cell_type": "code",
   "execution_count": 65,
   "metadata": {},
   "outputs": [
    {
     "data": {
      "text/plain": [
       "'Job descriptionKey ResponsibilitiesBe responsible for scaling our analytics capability across all internal disciplines and guide our strategic direction in regards to analyticsOrganize and analyze large, diverse data sets across multiple platformsIdentify key insights and leverage them to inform and influence product strategyTechnical Interactions with vendor or partners in technical capacity for scope/ approach & deliverable.Develops proof of concept to prove or disprove validity of conceptWorking with all parts of the business to identify analytical requirements and formalize an approach for reliable, relevant, accurate, efficient reporting on those requirementsDesigning and implementing advanced statistical testing for customized problem solvingDeliver concise verbal and written explanations of analyses to senior management that elevate findings into strategic recommendations.Desired Candidate ProfileQualifications:MTech / BE / BTech / MSc in CS or Stats or Maths, Operation Research, Statistics, Econometrics or in any quantitative fieldExperience:3+ Years experience in analytical domainFunctional Competencies:Excellent analytics, logical, problem solving and numerical skillsExperience in using PythonExperience in working with large data sets and big data systems (SQL, Hadoop, Hive, etc.)Keen aptitude for large-scale data analysis with a passion for identifying key insights from dataExpert working knowledge in various machine learning algorithms such XGBoost, SVM Etc.,Expertise in Data Mining, Statistical Analysis, Regression, Logistics Regression, Segmentation, Time Series Forecasting, Market Basket Analysis, Decision Tree, CHAID, Test Mining, Hypothesis Testing, A/B Testing and ModelingPreferable to haveExperience in Credit risk analytics, Fraud analyticsExperience in Collections analytics, NPAAnalytical experience in Vehicle lending business (Two wheeler, Tractor, Car, Commercial) and unsecured loans.Customer AcquisitionRoleAnalytics ManagerIndustry TypeBanking, Financial Services, BrokingFunctional AreaAnalytics & Business IntelligenceEmployment TypeFull Time, PermanentRole CategoryAnalytics & BIEducationUG :B.Tech/B.E. in Any SpecializationPG :PG Diploma in Any Specialization, MS/M.Sc(Science) in Any Specialization, MCA in Any Specialization, M.Tech in Any Specialization, MBA/PGDM in Any SpecializationKey SkillsDecision TreeHadoopRegressionData MiningRandom forestMachine LearningSQLAlgorithmsXgboostRisk Analyticspredictive modelingAdvanced AnalyticsData AnalysisTime SeriesAWSPython'"
      ]
     },
     "execution_count": 65,
     "metadata": {},
     "output_type": "execute_result"
    }
   ],
   "source": [
    "JD_title_1.text.replace('\\n','')"
   ]
  },
  {
   "cell_type": "code",
   "execution_count": 54,
   "metadata": {},
   "outputs": [],
   "source": [
    "url='https://www.naukri.com/job-listings-senior-lead-data-scientist-tvs-credit-services-limited-pune-chennai-bangalore-bengaluru-3-to-8-years-261220002239?src=jobsearchDesk&sid=16207085162353763&xp=2&px=1'"
   ]
  },
  {
   "cell_type": "code",
   "execution_count": 55,
   "metadata": {},
   "outputs": [],
   "source": [
    "Driver_2.get(url)"
   ]
  },
  {
   "cell_type": "code",
   "execution_count": 56,
   "metadata": {},
   "outputs": [
    {
     "data": {
      "text/plain": [
       "<selenium.webdriver.remote.webelement.WebElement (session=\"3244746e3f8d691c09ad34d5d40223bd\", element=\"315e8bc6-ad87-4486-be57-66bd4b766910\")>"
      ]
     },
     "execution_count": 56,
     "metadata": {},
     "output_type": "execute_result"
    }
   ],
   "source": [
    "JD_title_2=Driver_2.find_element_by_xpath(\"//section[@class='job-desc']\")\n",
    "JD_title_2"
   ]
  },
  {
   "cell_type": "code",
   "execution_count": 61,
   "metadata": {},
   "outputs": [
    {
     "data": {
      "text/plain": [
       "'Job descriptionKey ResponsibilitiesBe responsible for scaling our analytics capability across all internal disciplines and guide our strategic direction in regards to analyticsOrganize and analyze large, diverse data sets across multiple platformsIdentify key insights and leverage them to inform and influence product strategyTechnical Interactions with vendor or partners in technical capacity for scope/ approach & deliverable.Develops proof of concept to prove or disprove validity of conceptWorking with all parts of the business to identify analytical requirements and formalize an approach for reliable, relevant, accurate, efficient reporting on those requirementsDesigning and implementing advanced statistical testing for customized problem solvingDeliver concise verbal and written explanations of analyses to senior management that elevate findings into strategic recommendations.Desired Candidate ProfileQualifications:MTech / BE / BTech / MSc in CS or Stats or Maths, Operation Research, Statistics, Econometrics or in any quantitative fieldExperience:3+ Years experience in analytical domainFunctional Competencies:Excellent analytics, logical, problem solving and numerical skillsExperience in using PythonExperience in working with large data sets and big data systems (SQL, Hadoop, Hive, etc.)Keen aptitude for large-scale data analysis with a passion for identifying key insights from dataExpert working knowledge in various machine learning algorithms such XGBoost, SVM Etc.,Expertise in Data Mining, Statistical Analysis, Regression, Logistics Regression, Segmentation, Time Series Forecasting, Market Basket Analysis, Decision Tree, CHAID, Test Mining, Hypothesis Testing, A/B Testing and ModelingPreferable to haveExperience in Credit risk analytics, Fraud analyticsExperience in Collections analytics, NPAAnalytical experience in Vehicle lending business (Two wheeler, Tractor, Car, Commercial) and unsecured loans.Customer AcquisitionRoleAnalytics ManagerIndustry TypeBanking, Financial Services, BrokingFunctional AreaAnalytics & Business IntelligenceEmployment TypeFull Time, PermanentRole CategoryAnalytics & BIEducationUG :B.Tech/B.E. in Any SpecializationPG :PG Diploma in Any Specialization, MS/M.Sc(Science) in Any Specialization, MCA in Any Specialization, M.Tech in Any Specialization, MBA/PGDM in Any SpecializationKey SkillsDecision TreeHadoopRegressionData MiningRandom forestMachine LearningSQLAlgorithmsXgboostRisk Analyticspredictive modelingAdvanced AnalyticsData AnalysisTime SeriesAWSPython'"
      ]
     },
     "execution_count": 61,
     "metadata": {},
     "output_type": "execute_result"
    }
   ],
   "source": [
    "JD_title_2.text.replace('\\n','')"
   ]
  },
  {
   "cell_type": "code",
   "execution_count": 66,
   "metadata": {},
   "outputs": [],
   "source": [
    "url='https://www.naukri.com/job-listings-senior-data-scientist-ces-it-ltd-cmmi-level-5-ces-ltd-kolkata-mumbai-hyderabad-secunderabad-pune-chennai-bangalore-bengaluru-delhi-ncr-2-to-7-years-280421602475?src=jobsearchDesk&sid=16207089198502140&xp=3&px=1'"
   ]
  },
  {
   "cell_type": "code",
   "execution_count": 67,
   "metadata": {},
   "outputs": [],
   "source": [
    "Driver_2.get(url)"
   ]
  },
  {
   "cell_type": "code",
   "execution_count": 69,
   "metadata": {},
   "outputs": [
    {
     "data": {
      "text/plain": [
       "<selenium.webdriver.remote.webelement.WebElement (session=\"3244746e3f8d691c09ad34d5d40223bd\", element=\"40d8b79d-8439-4c2f-8cf8-0add88732ee6\")>"
      ]
     },
     "execution_count": 69,
     "metadata": {},
     "output_type": "execute_result"
    }
   ],
   "source": [
    "JD_title_3=Driver_2.find_element_by_xpath(\"//section[@class='job-desc']\")\n",
    "JD_title_3"
   ]
  },
  {
   "cell_type": "code",
   "execution_count": 70,
   "metadata": {},
   "outputs": [
    {
     "data": {
      "text/plain": [
       "'Job descriptionRoles and ResponsibilitiesMandatory Skills- Python Programming- Strong OOPS Concepts- Strong knowledge in CS fundamentals - Datastructures, algorithm design & Problem-solving- Experience in workflow management platforms like - Apache Airflow, pachyderm, MLFlow- AWS Lambda, Step Functions, State Machines, setting up data pipelines.- Must have experience in working in a Rapid Prototyping environment. Be able to take the initiative and work with minimum guidance and requirements.Nice to HaveExperience in Machine Learning - Pandas, Scikit-Learn, EDA, PCA, other Data preprocessing techniquesExperience in any Infrastructure as code platform like Terraform, AWS CloudFormation.Other Pre-RequisitesMust be extremely detail and technology-oriented and possess excellent communications skills.Must have experience and be willing to work in a Rapid Prototyping environment as well.Proactive, driven individual with a strong work ethicsMust be able to take complete ownership of tasks in the project.Passion for achieving excellence in technical, process, product quality and reliability.Strong in troubleshooting and root cause analysis abilitiesPerks and BenefitsKindly share your resume to kandavelkumar.lakshmanan @cesltd.comRoleTechnical ArchitectIndustry TypeIT-Software, Software ServicesFunctional AreaIT Software - Application Programming, MaintenanceEmployment TypeFull Time, PermanentRole CategoryProgramming & DesignEducationUG :Any Graduate in Any SpecializationKey SkillsTensorflowObject DetectionAlgorithm DevelopmentAnalytical SkillsProgrammingMachine LearningDeep LearningPytorchData ScienceROpencvKerasComputer VisionPython'"
      ]
     },
     "execution_count": 70,
     "metadata": {},
     "output_type": "execute_result"
    }
   ],
   "source": [
    "JD_title_3.text.replace('\\n','')"
   ]
  },
  {
   "cell_type": "code",
   "execution_count": 71,
   "metadata": {},
   "outputs": [],
   "source": [
    "url='https://www.naukri.com/job-listings-analytics-ai-product-mgmt-sr-data-scientist-glaxosmithkline-pharmaceuticals-limited-bangalore-bengaluru-10-to-12-years-290421901995?src=jobsearchDesk&sid=16207090863169067&xp=5&px=1'"
   ]
  },
  {
   "cell_type": "code",
   "execution_count": 72,
   "metadata": {},
   "outputs": [],
   "source": [
    "Driver_2.get(url)"
   ]
  },
  {
   "cell_type": "code",
   "execution_count": 75,
   "metadata": {},
   "outputs": [
    {
     "data": {
      "text/plain": [
       "<selenium.webdriver.remote.webelement.WebElement (session=\"3244746e3f8d691c09ad34d5d40223bd\", element=\"bebe4222-500a-4ffb-b8e9-393124796731\")>"
      ]
     },
     "execution_count": 75,
     "metadata": {},
     "output_type": "execute_result"
    }
   ],
   "source": [
    "JD_title_3=Driver_2.find_element_by_xpath(\"//div[@class='clearboth description']\")\n",
    "JD_title_3"
   ]
  },
  {
   "cell_type": "code",
   "execution_count": 76,
   "metadata": {},
   "outputs": [
    {
     "data": {
      "text/plain": [
       "'Given the increased focus on data and analytics, we need additional brains to ensure the right AI/ML design criteria are made. For this reason, the role of Senior Data Scientist has been added.\\nIn the emerging data and analytics world, AI/ML plays a key role, and the Senior Data Scientist must be a creative thinker and propose innovative ways to look at problems by using data mining approaches on the set of information available. They will need to validate their findings using an experimental and iterative process. These approaches involve trial and error and may require multiple cycles, so are best addressed using iterative development methods such as agile or lean. Innovation happens at cross-roads; the Senior Data Scientist can bring substantial in-depth knowledge from his/her field to other areas.\\nThis role will provide YOU the opportunity to lead key activities to progress YOUR career. These responsibilities include some of the following.\\nSenior Data Scientist is accountable for delivering various AI/ML capabilities and projects, including business as usual operations for Vx tech organization. They need to ensure that they are focused on delivering value at optimal cost while ensuring that GSK Tech is looking far enough into the future to guide the business.\\nAccountable for all the business process identified in the scope below and contributing to the development of our AI/ML capabilities Strategy. In your role, you will collaborate with other functional teams and digital innovation team to ensure the optimal portfolio of applications exists to support the business.\\nResponsibilities:\\nIdentify critical business problems and create analytical/modelling solutions while maintaining the right balance between speed to market and analytical soundness when designing solutions.\\nInfluence machine learning strategy for a program/project; explores design options to assess efficiency and impact, develop approaches to improve robustness and rigour.\\nBe a key contributor to the planning and direction of a project and effectively prioritize goals.\\nLead discussions at peer review and uses quantitative skills to positively influence decision making.\\nRepresent GSK externally to advance technical capability across the Industry.\\nIdentify opportunities to apply the latest advancements in Machine Learning and Artificial Intelligence to the fields of biology, chemistry, and medicine.\\nCreate algorithms to extract information from large, multiparametric data sets.\\nDeploy your algorithms to production to identify actionable insights from large databases.\\nCompare results from various methodologies and recommend best techniques to stake holders.\\nDesign, develop and implement analytical solutions using a variety of commercial and open source tools (common tools include Python, R, TensorFlow).\\nDevelop and embed automated processes for predictive model validation, deployment, and implementation.\\nConnect and collaborate with subject matter experts in R&D, GIO-Q, Commercial and Medical.\\nMake impactful contributions to internal discussions on emerging machine learning methodologies.\\nEducate the organization both from IT and the business perspectives on these new approaches, such as testing hypotheses and statistical validation of results.\\nProvide thought leadership: facilitate cross-geography fertilization of ideas and implements key principles/best-practices and guidelines across the categories.\\nEnable the future BI / Analytics infrastructure and self-service model.\\nDemonstrate a combination of business focus, strong analytical and problem-solving skills and programming knowledge to be able to quickly cycle hypothesis through the discovery phase of the project and excellent written and communications skills to report back the findings in a clear, structured manner.\\nWe are looking for a Sr Data Scientist and if you have these skills, we would like to speak to you.\\nA higher degree (PhD preferred) in Engineering, Statistics, Data Science, Applied Mathematics, Computer Science, Physics, Bioinformatics, Computational Biology, Computational Chemistry or related quantitative field\\n10+ years of experience in any at least 2 of the AI domains: NLP, NLG, Computer Vision, etc.\\nExperience with Quantum AI/ML, federated AI/ML, or Encrypted AI/ML big plus\\nKnowledge of Cloud (Azure or AWS or Google Cloud) platform infrastructure and on-prem to run and optimize distributed data applications\\nExperience understanding of a programming language such as Python.\\nExperience with at least one deep learning framework such as TensorFlow, Keras, or PyTorch\\nExperience/Familiarity with standard deep learning algorithms (CNN, LSTM, etc.)\\nExperience with AI/ML Devops and CI/CD\\nExperience producing high-quality code, tests, documentation'"
      ]
     },
     "execution_count": 76,
     "metadata": {},
     "output_type": "execute_result"
    }
   ],
   "source": [
    "JD_title_3.text"
   ]
  },
  {
   "cell_type": "code",
   "execution_count": 77,
   "metadata": {},
   "outputs": [],
   "source": [
    "url='https://www.naukri.com/job-listings-senior-data-scientist-vijaya-management-services-pune-chennai-bangalore-bengaluru-5-to-10-years-290421005579?src=jobsearchDesk&sid=16207094313304498&xp=6&px=1'"
   ]
  },
  {
   "cell_type": "code",
   "execution_count": 78,
   "metadata": {},
   "outputs": [],
   "source": [
    "Driver_2.get(url)"
   ]
  },
  {
   "cell_type": "code",
   "execution_count": 79,
   "metadata": {},
   "outputs": [
    {
     "data": {
      "text/plain": [
       "<selenium.webdriver.remote.webelement.WebElement (session=\"3244746e3f8d691c09ad34d5d40223bd\", element=\"8f28bb68-d516-4e87-93c5-0a5c7c0e2ce6\")>"
      ]
     },
     "execution_count": 79,
     "metadata": {},
     "output_type": "execute_result"
    }
   ],
   "source": [
    "JD_title_4=Driver_2.find_element_by_xpath(\"//div[@class='dang-inner-html']\")\n",
    "JD_title_4"
   ]
  },
  {
   "cell_type": "code",
   "execution_count": 81,
   "metadata": {},
   "outputs": [
    {
     "data": {
      "text/plain": [
       "'.Roles and ResponsibilitiesAnalyze structured and unstructured data at scale to derive new insights and opportunities.Build and validate predictive models.Advise clients and project teams on leading data science practices.Create data-driven business recommendations.Contribute to internal research and development efforts in cutting edge areas including NLP, graph analytics, and deep learning / AI.Skills and attributes for successFostering an innovative and inclusive team-oriented work environmentLeading and coaching diverse teams of professionals with different backgroundsDemonstrating in-depth technical capabilities and professional knowledgeEstablishing strong relationships with the clientsWorking in an entrepreneurial environment to pave your own career pathDesired Candidate ProfileA MSc in a technical field like Computer Science, Econometrics, Mathematics, Engineering, or a related field .3+ years practical experience with advanced machine learning techniques and big data technologies.3+ years working with data and relevant computational frameworks and systems.An understanding of the latest industry developments in Big Data and AI such as graph databases, Natural Language Processing, and neural networks.A thorough understanding of common languages and libraries used in machine learning (such as Spark or Python. Experience with big data tools, Hive, Databricks, Neo4j, etc. a plus)Excellent business, communication, and presentation skills (experience in health insurance services domains a plus, but not required)The ability to translate complex information into non-technical, easy to understand language.Ideally, you will also haveA PhD in a technical field like Computer Science, Econometrics, Mathematics, Engineering, or a related fieldPerks and BenefitsAnnual CTC: Rupees 5,00,000 to 15,00,000 (willing to pay more if have good experience)'"
      ]
     },
     "execution_count": 81,
     "metadata": {},
     "output_type": "execute_result"
    }
   ],
   "source": [
    "JD_title_4.text.replace('\\n','')"
   ]
  },
  {
   "cell_type": "code",
   "execution_count": 82,
   "metadata": {},
   "outputs": [],
   "source": [
    "url='https://www.naukri.com/job-listings-senior-data-scientist-vijaya-management-services-pune-chennai-bangalore-bengaluru-5-to-10-years-290421005579?src=jobsearchDesk&sid=16207107392609982&xp=6&px=1'"
   ]
  },
  {
   "cell_type": "code",
   "execution_count": 83,
   "metadata": {},
   "outputs": [],
   "source": [
    "Driver_2.get(url)"
   ]
  },
  {
   "cell_type": "code",
   "execution_count": 84,
   "metadata": {},
   "outputs": [
    {
     "data": {
      "text/plain": [
       "<selenium.webdriver.remote.webelement.WebElement (session=\"3244746e3f8d691c09ad34d5d40223bd\", element=\"8664d0ae-c979-45ed-9393-e7f06b6f9890\")>"
      ]
     },
     "execution_count": 84,
     "metadata": {},
     "output_type": "execute_result"
    }
   ],
   "source": [
    "JD_title_5=Driver_2.find_element_by_xpath(\"//div[@class='dang-inner-html']\")\n",
    "JD_title_5"
   ]
  },
  {
   "cell_type": "code",
   "execution_count": 88,
   "metadata": {},
   "outputs": [
    {
     "data": {
      "text/plain": [
       "'.Roles and ResponsibilitiesAnalyze structured and unstructured data at scale to derive new insights and opportunities.Build and validate predictive models.Advise clients and project teams on leading data science practices.Create data-driven business recommendations.Contribute to internal research and development efforts in cutting edge areas including NLP, graph analytics, and deep learning / AI.Skills and attributes for successFostering an innovative and inclusive team-oriented work environmentLeading and coaching diverse teams of professionals with different backgroundsDemonstrating in-depth technical capabilities and professional knowledgeEstablishing strong relationships with the clientsWorking in an entrepreneurial environment to pave your own career pathDesired Candidate ProfileA MSc in a technical field like Computer Science, Econometrics, Mathematics, Engineering, or a related field .3+ years practical experience with advanced machine learning techniques and big data technologies.3+ years working with data and relevant computational frameworks and systems.An understanding of the latest industry developments in Big Data and AI such as graph databases, Natural Language Processing, and neural networks.A thorough understanding of common languages and libraries used in machine learning (such as Spark or Python. Experience with big data tools, Hive, Databricks, Neo4j, etc. a plus)Excellent business, communication, and presentation skills (experience in health insurance services domains a plus, but not required)The ability to translate complex information into non-technical, easy to understand language.Ideally, you will also haveA PhD in a technical field like Computer Science, Econometrics, Mathematics, Engineering, or a related fieldPerks and BenefitsAnnual CTC: Rupees 5,00,000 to 15,00,000 (willing to pay more if have good experience)'"
      ]
     },
     "execution_count": 88,
     "metadata": {},
     "output_type": "execute_result"
    }
   ],
   "source": [
    "JD_title_5.text.replace('\\n','')"
   ]
  },
  {
   "cell_type": "code",
   "execution_count": 91,
   "metadata": {},
   "outputs": [],
   "source": [
    "url='https://www.naukri.com/job-listings-senior-data-scientist-modeling-nielsen-kolkata-gurgaon-gurugram-bangalore-bengaluru-vadodara-baroda-mumbai-all-areas-3-to-7-years-280421003878?src=jobsearchDesk&sid=16207112130086376&xp=7&px=1'"
   ]
  },
  {
   "cell_type": "code",
   "execution_count": 96,
   "metadata": {},
   "outputs": [],
   "source": [
    "Driver_2.get(url)"
   ]
  },
  {
   "cell_type": "code",
   "execution_count": 97,
   "metadata": {},
   "outputs": [
    {
     "data": {
      "text/plain": [
       "<selenium.webdriver.remote.webelement.WebElement (session=\"3244746e3f8d691c09ad34d5d40223bd\", element=\"128db439-c2ec-48e7-8f8e-a5f0130810e6\")>"
      ]
     },
     "execution_count": 97,
     "metadata": {},
     "output_type": "execute_result"
    }
   ],
   "source": [
    "JD_title_7=Driver_2.find_element_by_xpath(\"//div[@class='dang-inner-html']\")\n",
    "JD_title_7"
   ]
  },
  {
   "cell_type": "code",
   "execution_count": 98,
   "metadata": {},
   "outputs": [
    {
     "data": {
      "text/plain": [
       "'We wont say we can predict the future, but our team of Analysts get pretty close, they turn millions of data points into useful information & insights that help our clients to make better decisions on their marketing mix and achieve superior results. Be part of the future and join in on one of the major transformations in the market research industry with the integration of big data and classic marketing mix analysis.Responsibilities:Deliver as a part of our consultant team in driving high quality results on custom project workEnsure effective and timely delivery of project workWork towards understanding statistical models and deliver business insights and findingsEnsure compliance to Marketing Mix Modeling modeling practices and company quality standardsMaximize the efficient and effective use of resources by utilizing appropriate processes and toolsTo build and maintain effective contacts with other departments to ensure the efficient and effective use of resourcesLiaise with appropriate Marketing Mix Modeling and Nielsen departments to ensure hardware and software requirements are fulfilledWork with co/ third party modellers to deliver business insights and findingsQualifications and Skills2-5 years of relevant experienceMasters degree in Economics, Mathematics, Statistics, EngineeringIn-depth understanding of statistical modeling techniques and applicationsGood and working knowledge of any statistical languages like SAS, R, PythonsSolid proficiency of decision making and problem resolution skillsPassion for results with a challenger mindsetAbout the Team:Global Product, Technology & Operations supports Nielsen Medias growth strategy by enabling positive client and market solutions. Our Operations Team is in a unique position as the center of data collection, analysis and delivery. We deliver outcomes with the highest quality and integrity standards in an agile and transparent way while standing by our Nielsen values.'"
      ]
     },
     "execution_count": 98,
     "metadata": {},
     "output_type": "execute_result"
    }
   ],
   "source": [
    "JD_title_7.text.replace('\\n','')"
   ]
  },
  {
   "cell_type": "code",
   "execution_count": 99,
   "metadata": {},
   "outputs": [],
   "source": [
    "url='https://www.naukri.com/job-listings-data-scientist-ibm-garage-ibm-india-pvt-limited-noida-hyderabad-secunderabad-bangalore-bengaluru-5-to-8-years-040521900448?src=jobsearchDesk&sid=16207123810205260&xp=8&px=1'"
   ]
  },
  {
   "cell_type": "code",
   "execution_count": 100,
   "metadata": {},
   "outputs": [],
   "source": [
    "Driver_2.get(url)"
   ]
  },
  {
   "cell_type": "code",
   "execution_count": 101,
   "metadata": {},
   "outputs": [
    {
     "data": {
      "text/plain": [
       "<selenium.webdriver.remote.webelement.WebElement (session=\"3244746e3f8d691c09ad34d5d40223bd\", element=\"21b8cbb3-e9dd-4dd8-90e1-735756ea3d72\")>"
      ]
     },
     "execution_count": 101,
     "metadata": {},
     "output_type": "execute_result"
    }
   ],
   "source": [
    "JD_title_8=Driver_2.find_element_by_xpath(\"//div[@class='clearboth description']\")\n",
    "JD_title_8"
   ]
  },
  {
   "cell_type": "code",
   "execution_count": 102,
   "metadata": {},
   "outputs": [
    {
     "data": {
      "text/plain": [
       "'As a Data Scientist in the IBM Garage team you will part of a cross-functional team that delivers a unique client co-creation experience to accelerate client transformation.Your Role and ResponsibilitiesWho you areYou are a key contributor to a pre-sales Garage team ,partnering with client to understand business problems and propose solutions.You demonstrate strong business acumen and ability to understand business problems, formulate hypotheses and test conclusions to influence solution design.What you will doContribute to co-creation of rapid proofs of concept and minimally viable solutions that demonstrate business value, leading to client investment in strategic solution .Translate business problems into leading-edge analytics solutions using consulting skills ,industry expertise and technical knowledgeDeliver meaningful insights and predict emerging trends to inform business solution that optimize client valueApply Data Engineering techniques to gather ,prepare, cleanse and transform client data for analysis and AI automation ,including automating data pipelinesRequired Technical and Professional ExpertiseExcellent understanding of machine learning and deep learning techniques and algorithms, such Deep CNNs, Optimizers, Feature Engineering, Transformers, etc.Experience handling large scale production datasets and understanding of related challenges and processes to address themExperience with common data science toolkits such as NumPy, scikit-learn, spaCy, Keras, PyTorch, etc. Excellence in at least one of these is highly desirableExperience with NoSQL databases, such as MongoDB, DnamoDB, Cloudant etc and understanding of basic data wrangling techniquesGood to have academic training in a quantitative discipline and /or a specialized degree in data science or analytics .Possesses relevant industry and /or business domain knowledge such finance or healthcare .Preferred Technical and Professional ExpertiseDemonstrated experience in applying user centric approach to design and create compelling prototypes that lead to transformative change for the clientKnowledge of a variety of modern application of data science, including machine learning ,optimization ,neural networks and /or artificial intelligence that can be applied to solve client problemsDeep understanding of statistical machine learning models with Python or R to propose innovative solutionExpertise in the use of cloud based infrastructure to manage the volume and veracity of complex data streams .'"
      ]
     },
     "execution_count": 102,
     "metadata": {},
     "output_type": "execute_result"
    }
   ],
   "source": [
    "JD_title_8.text.replace('\\n','')"
   ]
  },
  {
   "cell_type": "code",
   "execution_count": 103,
   "metadata": {},
   "outputs": [],
   "source": [
    "url='https://www.naukri.com/job-listings-data-scientist-ibm-india-pvt-limited-noida-hyderabad-secunderabad-bangalore-bengaluru-4-to-9-years-300421904650?src=jobsearchDesk&sid=16207125935939635&xp=9&px=1'"
   ]
  },
  {
   "cell_type": "code",
   "execution_count": 104,
   "metadata": {},
   "outputs": [],
   "source": [
    "Driver_2.get(url)"
   ]
  },
  {
   "cell_type": "code",
   "execution_count": 105,
   "metadata": {},
   "outputs": [
    {
     "data": {
      "text/plain": [
       "<selenium.webdriver.remote.webelement.WebElement (session=\"3244746e3f8d691c09ad34d5d40223bd\", element=\"8426b0f1-3edb-42e9-b03c-d8519b75d8d0\")>"
      ]
     },
     "execution_count": 105,
     "metadata": {},
     "output_type": "execute_result"
    }
   ],
   "source": [
    "JD_title_9=Driver_2.find_element_by_xpath(\"//div[@class='clearboth description']\")\n",
    "JD_title_9"
   ]
  },
  {
   "cell_type": "code",
   "execution_count": 106,
   "metadata": {},
   "outputs": [
    {
     "data": {
      "text/plain": [
       "'IntroductionAs a Data Scientist at IBM, you will help transform our clients’ data into tangible business value by analyzing information, communicating outcomes and collaborating on product development. Work with Best in Class open source and visual tools, along with the most flexible and scalable deployment options. Whether it’s investigating patient trends or weather patterns, you will work to solve real world problems for the industries transforming how we live.Your Role and ResponsibilitiesAs businesses, governments and communities become more data driven in their decision making and business operations, demand on the new and innovative AI and Analytics related capabilities are exponentially growing. As trusted advisor to the Chief Analytics Officer and various CXOs (Marketing, Risk, Digital), build compelling value proposition for flexible and futuristic Analytics driven insights and solutions. You will partner with sector teams, global markets team and all IBM brands to sense, originate, qualify opportunities, and pursue the deals to closure.Responsibilities:Originate new Analytics &AI opportunities in partnership with Global Markets, Sectors and IBM BrandsWork closely with the deal teams to shape and solution Analytics & AI led programs, continuously engage with key client executives and share IBM solution details, effectively communicate value proposition on analytics led insights and embed AI solution in client processes.Own end to end delivery of, a) large & complex Analytics &AI led transformation programs, b) small and nimble business insights initiatives to realize quick gains, c) work with IBM and Partners to bring the best tools and delivery methods.Own the offerings and assets on key components of Analytics & AI value chain, including understanding burning platform and industry trends, define and frame hypothesis,Build key partnerships with top tools, platform and fintechs.Improvise new and innovative data assets and drive it’s adoption to the market.Be a thought leader on AIShould have hired and nurtured talent and grow them in market facing specialists and consultants. Should have built a community of practice on data.Required Technical and Professional ExpertiseSomeone who has traversed the Analytics &AI value chain, having moved the clients from data to insights.Deep expertise in applying Analytics for two or more industries (BFSI, Manufacturing, Distribution, Electronics, Oil&Gas etc.)In depth understanding of AI tools across Machine Learning, Intelligent Automation, Conversation Intelligence and how they all come together to build AI ecosystemWorked in a third party consulting, service, technology organization for a fair share of the career.Consulted clients on aspiration to make them information led decision making business.Hands on expertise in developing and implementing predictive models (statistical and machine learning) for large enterprises.Proven deep client relationships and drive the advisory agenda.Proven ability to enhance value of an opportunity through new technologyAbility to run multiple and disparate client conversations, opportunity pursuits, and handle the execution of dynamic practice agenda.Preferred Technical and Professional ExpertiseSupport both the development of new business opportunities and the delivery of analytics platform services to clients.Advise clients in the planning, design, management, execution, and reporting of the core components for big data offerings. Skills include: architecture, tool selection, data lake design and implementationStrong relations in the Indian market with key client decision makers'"
      ]
     },
     "execution_count": 106,
     "metadata": {},
     "output_type": "execute_result"
    }
   ],
   "source": [
    "JD_title_9.text.replace('\\n','')"
   ]
  },
  {
   "cell_type": "code",
   "execution_count": 107,
   "metadata": {},
   "outputs": [],
   "source": [
    "url='https://www.naukri.com/job-listings-data-scientist-ibm-india-pvt-limited-noida-hyderabad-secunderabad-bangalore-bengaluru-5-to-8-years-030521900421?src=jobsearchDesk&sid=16207127181327048&xp=10&px=1'"
   ]
  },
  {
   "cell_type": "code",
   "execution_count": 108,
   "metadata": {},
   "outputs": [],
   "source": [
    "Driver_2.get(url)"
   ]
  },
  {
   "cell_type": "code",
   "execution_count": 109,
   "metadata": {},
   "outputs": [
    {
     "data": {
      "text/plain": [
       "<selenium.webdriver.remote.webelement.WebElement (session=\"3244746e3f8d691c09ad34d5d40223bd\", element=\"f917c631-e898-4841-9c85-6e1c912edf7d\")>"
      ]
     },
     "execution_count": 109,
     "metadata": {},
     "output_type": "execute_result"
    }
   ],
   "source": [
    "JD_title_10=Driver_2.find_element_by_xpath(\"//div[@class='clearboth description']\")\n",
    "JD_title_10"
   ]
  },
  {
   "cell_type": "code",
   "execution_count": 110,
   "metadata": {},
   "outputs": [
    {
     "data": {
      "text/plain": [
       "'IntroductionAs a Data Scientist at IBM, you will help transform our clients’ data into tangible business value by analyzing information, communicating outcomes and collaborating on product development. Work with Best in Class open source and visual tools, along with the most flexible and scalable deployment options. Whether it’s investigating patient trends or weather patterns, you will work to solve real world problems for the industries transforming how we live.Your Role and ResponsibilitiesAs businesses, governments and communities become more data driven in their decision making and business operations, demand on the new and innovative AI and Analytics related capabilities are exponentially growing. As trusted advisor to the Chief Analytics Officer and various CXOs (Marketing, Risk, Digital), build compelling value proposition for flexible and futuristic Analytics driven insights and solutions. You will partner with sector teams, global markets team and all IBM brands to sense, originate, qualify opportunities, and pursue the deals to closure.Responsibilities:Originate new Analytics &AI opportunities in partnership with Global Markets, Sectors and IBM BrandsWork closely with the deal teams to shape and solution Analytics & AI led programs, continuously engage with key client executives and share IBM solution details, effectively communicate value proposition on analytics led insights and embed AI solution in client processes.Own end to end delivery of, a) large & complex Analytics &AI led transformation programs, b) small and nimble business insights initiatives to realize quick gains, c) work with IBM and Partners to bring the best tools and delivery methods.Own the offerings and assets on key components of Analytics & AI value chain, including understanding burning platform and industry trends, define and frame hypothesis,Build key partnerships with top tools, platform and fintechs.Improvise new and innovative data assets and drive it’s adoption to the market.Be a thought leader on AIShould have hired and nurtured talent and grow them in market facing specialists and consultants. Should have built a community of practice on data.Required Technical and Professional ExpertiseSomeone who has traversed the Analytics &AI value chain, having moved the clients from data to insights.Deep expertise in applying Analytics for two or more industries (BFSI, Manufacturing, Distribution, Electronics, Oil&Gas etc.)In depth understanding of AI tools across Machine Learning, Intelligent Automation, Conversation Intelligence and how they all come together to build AI ecosystemWorked in a third party consulting, service, technology organization for a fair share of the career.Consulted clients on aspiration to make them information led decision making business.Hands on expertise in developing and implementing predictive models (statistical and machine learning) for large enterprises.Proven deep client relationships and drive the advisory agenda.Proven ability to enhance value of an opportunity through new technologyAbility to run multiple and disparate client conversations, opportunity pursuits, and handle the execution of dynamic practice agenda.Preferred Technical and Professional ExpertiseSupport both the development of new business opportunities and the delivery of analytics platform services to clients.Advise clients in the planning, design, management, execution, and reporting of the core components for big data offerings. Skills include: architecture, tool selection, data lake design and implementationStrong relations in the Indian market with key client decision makers'"
      ]
     },
     "execution_count": 110,
     "metadata": {},
     "output_type": "execute_result"
    }
   ],
   "source": [
    "JD_title_10.text.replace('\\n','')"
   ]
  },
  {
   "cell_type": "markdown",
   "metadata": {},
   "source": [
    "Q3: In this question you have to scrape data using the filters available on the \n",
    "webpage as shown below\n",
    "\n",
    "You have to use the location and salary filter.\n",
    "You have to scrape data for “Data Scientist” designation for first 10 job results.\n",
    "You have to scrape the job-title, job-location, company_name,\n",
    "experience_required.\n",
    "The location filter to be used is “Delhi/NCR”\n",
    "The salary filter to be used is “3-6” lakhs\n",
    "The task will be done as shown in the below steps:\n",
    "1. first get the webpage https://www.naukri.com/\n",
    "2. Enter “Data Scientist” in “Skill,Designations,Companies” field \n",
    "3. Then click the search button.\n",
    "4. Then apply the location filter and salary filter by checking the respective boxes\n",
    "4. Then scrape the data for the first 10 jobs results you get.\n",
    "5. Finally create a dataframe of the scraped data"
   ]
  },
  {
   "cell_type": "code",
   "execution_count": 111,
   "metadata": {},
   "outputs": [
    {
     "data": {
      "text/plain": [
       "<selenium.webdriver.chrome.webdriver.WebDriver (session=\"acd38f01a73ced8a4bb81607c148468e\")>"
      ]
     },
     "execution_count": 111,
     "metadata": {},
     "output_type": "execute_result"
    }
   ],
   "source": [
    "driver=webdriver.Chrome('chromedriver.exe')\n",
    "driver"
   ]
  },
  {
   "cell_type": "code",
   "execution_count": 112,
   "metadata": {},
   "outputs": [],
   "source": [
    "url='https://www.naukri.com/'\n",
    "driver.get(url)"
   ]
  },
  {
   "cell_type": "code",
   "execution_count": 113,
   "metadata": {},
   "outputs": [
    {
     "data": {
      "text/plain": [
       "<selenium.webdriver.remote.webelement.WebElement (session=\"acd38f01a73ced8a4bb81607c148468e\", element=\"dc3b6832-0676-4447-a14d-e6b09b62b11f\")>"
      ]
     },
     "execution_count": 113,
     "metadata": {},
     "output_type": "execute_result"
    }
   ],
   "source": [
    "#Extracting elements from search bar\n",
    "\n",
    "search=driver.find_element_by_id(\"qsb-keyword-sugg\")\n",
    "search"
   ]
  },
  {
   "cell_type": "code",
   "execution_count": 114,
   "metadata": {},
   "outputs": [],
   "source": [
    "search.send_keys('Data Scientist')"
   ]
  },
  {
   "cell_type": "code",
   "execution_count": 115,
   "metadata": {},
   "outputs": [
    {
     "data": {
      "text/plain": [
       "<selenium.webdriver.remote.webelement.WebElement (session=\"acd38f01a73ced8a4bb81607c148468e\", element=\"e60a92d2-ba8b-487a-afd6-e3c32a0afa55\")>"
      ]
     },
     "execution_count": 115,
     "metadata": {},
     "output_type": "execute_result"
    }
   ],
   "source": [
    "search_btn=driver.find_element_by_xpath(\"//button[@class='btn']\")\n",
    "search_btn"
   ]
  },
  {
   "cell_type": "code",
   "execution_count": 116,
   "metadata": {},
   "outputs": [],
   "source": [
    "search_btn.click()"
   ]
  },
  {
   "cell_type": "code",
   "execution_count": 123,
   "metadata": {},
   "outputs": [],
   "source": [
    "url='https://www.naukri.com/data-scientist-jobs?k=data%20scientist&cityTypeGid=9508&ctcFilter=3to6'"
   ]
  },
  {
   "cell_type": "code",
   "execution_count": null,
   "metadata": {},
   "outputs": [],
   "source": []
  },
  {
   "cell_type": "code",
   "execution_count": 126,
   "metadata": {},
   "outputs": [],
   "source": [
    "driver.get(url)"
   ]
  },
  {
   "cell_type": "code",
   "execution_count": 128,
   "metadata": {},
   "outputs": [
    {
     "data": {
      "text/plain": [
       "[<selenium.webdriver.remote.webelement.WebElement (session=\"acd38f01a73ced8a4bb81607c148468e\", element=\"095c5d9f-0c27-4e9d-bd35-189eae26d479\")>,\n",
       " <selenium.webdriver.remote.webelement.WebElement (session=\"acd38f01a73ced8a4bb81607c148468e\", element=\"d4ed13ff-c42e-4609-9bc9-622acce0fa17\")>,\n",
       " <selenium.webdriver.remote.webelement.WebElement (session=\"acd38f01a73ced8a4bb81607c148468e\", element=\"71e10fa9-cbda-457d-979e-c88738e33c62\")>,\n",
       " <selenium.webdriver.remote.webelement.WebElement (session=\"acd38f01a73ced8a4bb81607c148468e\", element=\"e9c5337e-b258-4887-ae3c-a291ebce6e39\")>,\n",
       " <selenium.webdriver.remote.webelement.WebElement (session=\"acd38f01a73ced8a4bb81607c148468e\", element=\"15a6ace7-800c-498d-97cf-3c319a5e9931\")>,\n",
       " <selenium.webdriver.remote.webelement.WebElement (session=\"acd38f01a73ced8a4bb81607c148468e\", element=\"c75fde3e-d10c-4a7e-80ad-ba9c94b5f879\")>,\n",
       " <selenium.webdriver.remote.webelement.WebElement (session=\"acd38f01a73ced8a4bb81607c148468e\", element=\"6bc5f5ff-0a15-4e48-b89b-367083866e29\")>,\n",
       " <selenium.webdriver.remote.webelement.WebElement (session=\"acd38f01a73ced8a4bb81607c148468e\", element=\"dda77b9c-48d2-41c2-85c8-0b38752a29c4\")>,\n",
       " <selenium.webdriver.remote.webelement.WebElement (session=\"acd38f01a73ced8a4bb81607c148468e\", element=\"a13d45e7-f12e-412e-ad52-536eefb9f38f\")>,\n",
       " <selenium.webdriver.remote.webelement.WebElement (session=\"acd38f01a73ced8a4bb81607c148468e\", element=\"31a96c04-8447-4e62-9a1e-be1803eb7591\")>,\n",
       " <selenium.webdriver.remote.webelement.WebElement (session=\"acd38f01a73ced8a4bb81607c148468e\", element=\"a4f8b00c-9cf6-4ed2-a4bd-7c05bdde9e2a\")>,\n",
       " <selenium.webdriver.remote.webelement.WebElement (session=\"acd38f01a73ced8a4bb81607c148468e\", element=\"494ebf57-a061-40cd-9e1d-79c0249fdd96\")>,\n",
       " <selenium.webdriver.remote.webelement.WebElement (session=\"acd38f01a73ced8a4bb81607c148468e\", element=\"79a8c1f9-8929-4b76-8529-e439493469fd\")>,\n",
       " <selenium.webdriver.remote.webelement.WebElement (session=\"acd38f01a73ced8a4bb81607c148468e\", element=\"32f66931-4a0d-40a7-8d91-7bb0b9f86d7d\")>,\n",
       " <selenium.webdriver.remote.webelement.WebElement (session=\"acd38f01a73ced8a4bb81607c148468e\", element=\"ab721601-4301-42c9-87cd-18ffa2b8c311\")>,\n",
       " <selenium.webdriver.remote.webelement.WebElement (session=\"acd38f01a73ced8a4bb81607c148468e\", element=\"634362e7-889e-41b9-bc5c-39ec2dbb9ae4\")>,\n",
       " <selenium.webdriver.remote.webelement.WebElement (session=\"acd38f01a73ced8a4bb81607c148468e\", element=\"284e6366-7f29-4042-af0f-228a3cfde714\")>,\n",
       " <selenium.webdriver.remote.webelement.WebElement (session=\"acd38f01a73ced8a4bb81607c148468e\", element=\"fe3b9eb4-3022-422a-acab-81884684a51e\")>,\n",
       " <selenium.webdriver.remote.webelement.WebElement (session=\"acd38f01a73ced8a4bb81607c148468e\", element=\"81a939f1-39c3-42d9-b9b3-f5e7f53413e1\")>,\n",
       " <selenium.webdriver.remote.webelement.WebElement (session=\"acd38f01a73ced8a4bb81607c148468e\", element=\"2149ee21-cc62-4dfc-b2c2-5a385baf0f24\")>]"
      ]
     },
     "execution_count": 128,
     "metadata": {},
     "output_type": "execute_result"
    }
   ],
   "source": [
    "#Extracting tags for job titles\n",
    "\n",
    "title_tags=driver.find_elements_by_xpath(\"//a[@class='title fw500 ellipsis']\")\n",
    "title_tags"
   ]
  },
  {
   "cell_type": "code",
   "execution_count": 129,
   "metadata": {},
   "outputs": [
    {
     "data": {
      "text/plain": [
       "['Data Scientist / Data Analyst -Business Analyst',\n",
       " 'Data Scientist',\n",
       " 'Senior Data Scientist II 5+ yrs II Gurgaon',\n",
       " 'Excellent opportunity For Data Scientist',\n",
       " 'Data Scientist',\n",
       " 'DATA Scientist – Gurgaon (Exp 3-6 years)',\n",
       " 'DATA Scientist – Gurgaon (Exp 3-6 years)',\n",
       " \"Data Scientist - Noida/ B'lore\",\n",
       " 'Only Fresher / Data Scientist / Data Analyst / Analytics - MNC',\n",
       " 'Data Scientist',\n",
       " 'Data Scientist',\n",
       " 'Senior Data Scientist',\n",
       " 'Data Scientist',\n",
       " 'Data Scientist/ Data Analyst/ Data Engineer',\n",
       " 'Data Scientist',\n",
       " 'Data Scientist',\n",
       " 'Data Scientist',\n",
       " 'Data Scientist Machine Learning',\n",
       " 'Data Scientist',\n",
       " 'Data Scientist']"
      ]
     },
     "execution_count": 129,
     "metadata": {},
     "output_type": "execute_result"
    }
   ],
   "source": [
    "#Extracting text from the tags\n",
    "\n",
    "Title=[]\n",
    "for i in title_tags:\n",
    "    Title.append(i.text)\n",
    "    \n",
    "Title"
   ]
  },
  {
   "cell_type": "code",
   "execution_count": 131,
   "metadata": {},
   "outputs": [
    {
     "data": {
      "text/plain": [
       "[<selenium.webdriver.remote.webelement.WebElement (session=\"acd38f01a73ced8a4bb81607c148468e\", element=\"153c3a9f-02ca-4bea-a4de-dbd716db61e2\")>,\n",
       " <selenium.webdriver.remote.webelement.WebElement (session=\"acd38f01a73ced8a4bb81607c148468e\", element=\"ac35f40a-f657-4f21-a185-56d5ce68625b\")>,\n",
       " <selenium.webdriver.remote.webelement.WebElement (session=\"acd38f01a73ced8a4bb81607c148468e\", element=\"f7333879-1003-4f33-a009-9547f545cd18\")>,\n",
       " <selenium.webdriver.remote.webelement.WebElement (session=\"acd38f01a73ced8a4bb81607c148468e\", element=\"d80775d5-4df7-4a3a-bb64-1cfdec169eee\")>,\n",
       " <selenium.webdriver.remote.webelement.WebElement (session=\"acd38f01a73ced8a4bb81607c148468e\", element=\"debdbef0-95df-479f-a91d-d0aef68c2ac5\")>,\n",
       " <selenium.webdriver.remote.webelement.WebElement (session=\"acd38f01a73ced8a4bb81607c148468e\", element=\"80def9dc-cb81-4209-a0dd-7f4b6dafa7ce\")>,\n",
       " <selenium.webdriver.remote.webelement.WebElement (session=\"acd38f01a73ced8a4bb81607c148468e\", element=\"40c53dd3-28ff-48d1-b47e-2fec910904bc\")>,\n",
       " <selenium.webdriver.remote.webelement.WebElement (session=\"acd38f01a73ced8a4bb81607c148468e\", element=\"81e0aad7-a2e7-401a-a20d-bc4fdb568f61\")>,\n",
       " <selenium.webdriver.remote.webelement.WebElement (session=\"acd38f01a73ced8a4bb81607c148468e\", element=\"792c23bc-0ff9-4ee6-ae52-67ccff9c0ec7\")>,\n",
       " <selenium.webdriver.remote.webelement.WebElement (session=\"acd38f01a73ced8a4bb81607c148468e\", element=\"e039c246-d7d3-43aa-8ddb-2ad8641df1ef\")>,\n",
       " <selenium.webdriver.remote.webelement.WebElement (session=\"acd38f01a73ced8a4bb81607c148468e\", element=\"e3f93d41-75f9-444b-a87c-ecf3b700824a\")>,\n",
       " <selenium.webdriver.remote.webelement.WebElement (session=\"acd38f01a73ced8a4bb81607c148468e\", element=\"50988147-843b-4898-9a52-6c45818a5717\")>,\n",
       " <selenium.webdriver.remote.webelement.WebElement (session=\"acd38f01a73ced8a4bb81607c148468e\", element=\"872c08b2-e4fc-4846-a11f-03f3c4ad1cd5\")>,\n",
       " <selenium.webdriver.remote.webelement.WebElement (session=\"acd38f01a73ced8a4bb81607c148468e\", element=\"b0b2f9ea-e423-4ee0-888d-d012201dfffb\")>,\n",
       " <selenium.webdriver.remote.webelement.WebElement (session=\"acd38f01a73ced8a4bb81607c148468e\", element=\"7ea72633-99fc-46ca-ad62-1b3cca20f0b8\")>,\n",
       " <selenium.webdriver.remote.webelement.WebElement (session=\"acd38f01a73ced8a4bb81607c148468e\", element=\"adaffdde-7373-494c-9d8d-c43d6f7733b0\")>,\n",
       " <selenium.webdriver.remote.webelement.WebElement (session=\"acd38f01a73ced8a4bb81607c148468e\", element=\"a77c8b54-0886-4bdb-80d0-d33471f94e5f\")>,\n",
       " <selenium.webdriver.remote.webelement.WebElement (session=\"acd38f01a73ced8a4bb81607c148468e\", element=\"7976e3c6-1479-448c-993a-6725fa791f2b\")>,\n",
       " <selenium.webdriver.remote.webelement.WebElement (session=\"acd38f01a73ced8a4bb81607c148468e\", element=\"f42ebf79-5ded-411f-932e-4f5f01227c87\")>,\n",
       " <selenium.webdriver.remote.webelement.WebElement (session=\"acd38f01a73ced8a4bb81607c148468e\", element=\"938369bc-30ff-40ba-908e-23d898714111\")>]"
      ]
     },
     "execution_count": 131,
     "metadata": {},
     "output_type": "execute_result"
    }
   ],
   "source": [
    "#Extracting tags for location\n",
    "\n",
    "location_tags=driver.find_elements_by_xpath(\"//li[@class='fleft grey-text br2 placeHolderLi location']/span\")\n",
    "location_tags"
   ]
  },
  {
   "cell_type": "code",
   "execution_count": null,
   "metadata": {},
   "outputs": [],
   "source": []
  },
  {
   "cell_type": "code",
   "execution_count": 134,
   "metadata": {},
   "outputs": [
    {
     "data": {
      "text/plain": [
       "['Mumbai, Hyderabad/Secunderabad, Pune, Gurgaon/Gurugram, Chennai, Bangalore/Bengaluru',\n",
       " 'Noida, Hyderabad/Secunderabad, Bangalore/Bengaluru',\n",
       " 'Gurgaon/Gurugram',\n",
       " 'Noida, Bangalore/Bengaluru',\n",
       " 'New Delhi, Gurgaon/Gurugram, Delhi / NCR',\n",
       " 'Gurgaon/Gurugram, Delhi / NCR',\n",
       " 'Gurgaon/Gurugram, Delhi / NCR',\n",
       " 'Noida, Bangalore/Bengaluru',\n",
       " 'Noida, Gurgaon/Gurugram, Delhi / NCR',\n",
       " 'Bangalore/Bengaluru, Delhi / NCR, Mumbai (All Areas)',\n",
       " 'Bharuch, Jaipur, Bhopal, Mumbai, Jhansi, Nagpur, Ghaziabad, Jaunpur, Kanpur, New Delhi, Lucknow, Agra, Gurgaon/Gurugram, Rajkot, Bangalore/Bengaluru',\n",
       " 'Delhi',\n",
       " 'Gurgaon/Gurugram, Bangalore/Bengaluru',\n",
       " 'Noida, Chennai',\n",
       " 'Delhi',\n",
       " 'New Delhi',\n",
       " 'Delhi',\n",
       " 'Gurgaon/Gurugram',\n",
       " 'Mumbai, Delhi / NCR',\n",
       " 'Gurgaon']"
      ]
     },
     "execution_count": 134,
     "metadata": {},
     "output_type": "execute_result"
    }
   ],
   "source": [
    "#Extracting text from tags\n",
    "\n",
    "Location=[]\n",
    "for i in location_tags:\n",
    "    Location.append(i.text)\n",
    "    \n",
    "Location"
   ]
  },
  {
   "cell_type": "code",
   "execution_count": 135,
   "metadata": {},
   "outputs": [
    {
     "data": {
      "text/plain": [
       "[<selenium.webdriver.remote.webelement.WebElement (session=\"acd38f01a73ced8a4bb81607c148468e\", element=\"025418bf-51ad-4e8b-94bd-9fb900b169f4\")>,\n",
       " <selenium.webdriver.remote.webelement.WebElement (session=\"acd38f01a73ced8a4bb81607c148468e\", element=\"d6a7f36f-4abf-4eb2-aaa7-2c239532b8a6\")>,\n",
       " <selenium.webdriver.remote.webelement.WebElement (session=\"acd38f01a73ced8a4bb81607c148468e\", element=\"759e31e9-e53c-49ab-a7fb-eb30e278c658\")>,\n",
       " <selenium.webdriver.remote.webelement.WebElement (session=\"acd38f01a73ced8a4bb81607c148468e\", element=\"6afb697a-c4bd-4a3e-b8d1-678e63821645\")>,\n",
       " <selenium.webdriver.remote.webelement.WebElement (session=\"acd38f01a73ced8a4bb81607c148468e\", element=\"882a41bb-c3be-464a-904f-c2e2dbc6b13a\")>,\n",
       " <selenium.webdriver.remote.webelement.WebElement (session=\"acd38f01a73ced8a4bb81607c148468e\", element=\"979ca4cf-58c0-43ce-b424-cb4cca8dd2c5\")>,\n",
       " <selenium.webdriver.remote.webelement.WebElement (session=\"acd38f01a73ced8a4bb81607c148468e\", element=\"2bef0866-2e5b-4525-af54-3e4fd953c68e\")>,\n",
       " <selenium.webdriver.remote.webelement.WebElement (session=\"acd38f01a73ced8a4bb81607c148468e\", element=\"eea7ff86-c1c4-47a4-a671-2355e2f2498c\")>,\n",
       " <selenium.webdriver.remote.webelement.WebElement (session=\"acd38f01a73ced8a4bb81607c148468e\", element=\"788ec69e-0217-4f65-820b-d5e696b23e27\")>,\n",
       " <selenium.webdriver.remote.webelement.WebElement (session=\"acd38f01a73ced8a4bb81607c148468e\", element=\"5c040f08-50be-472c-b3a5-0ede2802f434\")>,\n",
       " <selenium.webdriver.remote.webelement.WebElement (session=\"acd38f01a73ced8a4bb81607c148468e\", element=\"9f4ac40f-7881-4a34-886b-8056c445e92a\")>,\n",
       " <selenium.webdriver.remote.webelement.WebElement (session=\"acd38f01a73ced8a4bb81607c148468e\", element=\"377081b8-b5a3-477b-b213-a3fafc9ae0b5\")>,\n",
       " <selenium.webdriver.remote.webelement.WebElement (session=\"acd38f01a73ced8a4bb81607c148468e\", element=\"23a4fdab-05a6-4c96-9bf1-a761f2927d3d\")>,\n",
       " <selenium.webdriver.remote.webelement.WebElement (session=\"acd38f01a73ced8a4bb81607c148468e\", element=\"5b493069-63a0-4cfa-b651-32048aa98744\")>,\n",
       " <selenium.webdriver.remote.webelement.WebElement (session=\"acd38f01a73ced8a4bb81607c148468e\", element=\"fc4fe4e4-90d2-4107-88dc-42d68acff0fd\")>,\n",
       " <selenium.webdriver.remote.webelement.WebElement (session=\"acd38f01a73ced8a4bb81607c148468e\", element=\"6c882283-a57b-4551-9957-3f37729bd7d4\")>,\n",
       " <selenium.webdriver.remote.webelement.WebElement (session=\"acd38f01a73ced8a4bb81607c148468e\", element=\"80ccab3b-4c63-4051-a46e-971a6f96b08d\")>,\n",
       " <selenium.webdriver.remote.webelement.WebElement (session=\"acd38f01a73ced8a4bb81607c148468e\", element=\"f43f273b-403c-4ae6-8435-9c7a0c4c4377\")>,\n",
       " <selenium.webdriver.remote.webelement.WebElement (session=\"acd38f01a73ced8a4bb81607c148468e\", element=\"189296b2-9d2d-4510-9a97-722357e85587\")>,\n",
       " <selenium.webdriver.remote.webelement.WebElement (session=\"acd38f01a73ced8a4bb81607c148468e\", element=\"2c4961d1-9776-40bf-9d7b-64312ce09c73\")>]"
      ]
     },
     "execution_count": 135,
     "metadata": {},
     "output_type": "execute_result"
    }
   ],
   "source": [
    "#extracting tags for company_name\n",
    "\n",
    "company_tags=driver.find_elements_by_xpath(\"//a[@class='subTitle ellipsis fleft']\")\n",
    "company_tags"
   ]
  },
  {
   "cell_type": "code",
   "execution_count": 136,
   "metadata": {},
   "outputs": [
    {
     "data": {
      "text/plain": [
       "['Inflexion Analytix Private Limited',\n",
       " 'IBM India Pvt. Limited',\n",
       " 'Zenatix Solutions Private Limited',\n",
       " 'NEC CORPORATION INDIA PRIVATE LIMITED',\n",
       " 'Mobikwik',\n",
       " 'CRESCENDO GLOBAL LEADERSHIP HIRING INDIA PRIVATE L IMITED',\n",
       " 'CRESCENDO GLOBAL LEADERSHIP HIRING INDIA PRIVATE L IMITED',\n",
       " 'NEC CORPORATION INDIA PRIVATE LIMITED',\n",
       " 'GABA Consultancy services',\n",
       " 'Cloudstrats Technologies Private Limited',\n",
       " 'Country Veggie',\n",
       " 'iNICU',\n",
       " 'BlackBuck',\n",
       " 'LANCE LABS PRIVATE LIMITED',\n",
       " 'Sentieo',\n",
       " 'Mahajan Imaging',\n",
       " 'Mahajan Imaging',\n",
       " 'Delhivery',\n",
       " 'VBPO India Pvt Ltd.',\n",
       " 'itForte Staffing Services Private Ltd.']"
      ]
     },
     "execution_count": 136,
     "metadata": {},
     "output_type": "execute_result"
    }
   ],
   "source": [
    "#extracting text from tags\n",
    "Company=[]\n",
    "for i in company_tags:\n",
    "    Company.append(i.text)\n",
    "    \n",
    "Company"
   ]
  },
  {
   "cell_type": "code",
   "execution_count": 137,
   "metadata": {},
   "outputs": [
    {
     "data": {
      "text/plain": [
       "[<selenium.webdriver.remote.webelement.WebElement (session=\"acd38f01a73ced8a4bb81607c148468e\", element=\"ebc0f80c-e0e3-405b-bb9d-607f6a5bf0b1\")>,\n",
       " <selenium.webdriver.remote.webelement.WebElement (session=\"acd38f01a73ced8a4bb81607c148468e\", element=\"28208235-0cc5-4671-a915-a0868781fcc2\")>,\n",
       " <selenium.webdriver.remote.webelement.WebElement (session=\"acd38f01a73ced8a4bb81607c148468e\", element=\"9cebea37-00b0-4071-917a-2f36a2f5b9e8\")>,\n",
       " <selenium.webdriver.remote.webelement.WebElement (session=\"acd38f01a73ced8a4bb81607c148468e\", element=\"d8f056e4-069c-4c59-bbab-bbcc8e44ab7a\")>,\n",
       " <selenium.webdriver.remote.webelement.WebElement (session=\"acd38f01a73ced8a4bb81607c148468e\", element=\"a6976f84-169f-4180-a3e2-45f8c21aec39\")>,\n",
       " <selenium.webdriver.remote.webelement.WebElement (session=\"acd38f01a73ced8a4bb81607c148468e\", element=\"3d778b14-27df-4a2b-9781-e06794fbc786\")>,\n",
       " <selenium.webdriver.remote.webelement.WebElement (session=\"acd38f01a73ced8a4bb81607c148468e\", element=\"63b38ad3-b97e-4109-9b15-8187b1babedc\")>,\n",
       " <selenium.webdriver.remote.webelement.WebElement (session=\"acd38f01a73ced8a4bb81607c148468e\", element=\"578670d0-46a9-4639-b70e-645f191352bf\")>,\n",
       " <selenium.webdriver.remote.webelement.WebElement (session=\"acd38f01a73ced8a4bb81607c148468e\", element=\"716401bb-1bf1-4379-bd79-585ddd088601\")>,\n",
       " <selenium.webdriver.remote.webelement.WebElement (session=\"acd38f01a73ced8a4bb81607c148468e\", element=\"6cc16b62-cf84-4ef4-b689-a29668271533\")>,\n",
       " <selenium.webdriver.remote.webelement.WebElement (session=\"acd38f01a73ced8a4bb81607c148468e\", element=\"259864a7-c70b-44c3-b465-3024a58430e3\")>,\n",
       " <selenium.webdriver.remote.webelement.WebElement (session=\"acd38f01a73ced8a4bb81607c148468e\", element=\"083d18a7-64f9-4715-940b-632fd3963338\")>,\n",
       " <selenium.webdriver.remote.webelement.WebElement (session=\"acd38f01a73ced8a4bb81607c148468e\", element=\"8cdb3ab8-c868-4578-ac37-c023d0fd2d8d\")>,\n",
       " <selenium.webdriver.remote.webelement.WebElement (session=\"acd38f01a73ced8a4bb81607c148468e\", element=\"82a31a0b-145a-4664-8724-f2d5ef5b0cc7\")>,\n",
       " <selenium.webdriver.remote.webelement.WebElement (session=\"acd38f01a73ced8a4bb81607c148468e\", element=\"47939957-e425-4e81-9408-1953fca7fc03\")>,\n",
       " <selenium.webdriver.remote.webelement.WebElement (session=\"acd38f01a73ced8a4bb81607c148468e\", element=\"4548180b-8df1-4c5b-be1c-e2a748fa3273\")>,\n",
       " <selenium.webdriver.remote.webelement.WebElement (session=\"acd38f01a73ced8a4bb81607c148468e\", element=\"3ffe0fb1-9ca3-4d2a-ab50-d4831f639dd5\")>,\n",
       " <selenium.webdriver.remote.webelement.WebElement (session=\"acd38f01a73ced8a4bb81607c148468e\", element=\"c4b7b865-f809-4b9e-aef8-9bcc1492150d\")>,\n",
       " <selenium.webdriver.remote.webelement.WebElement (session=\"acd38f01a73ced8a4bb81607c148468e\", element=\"597473dd-d6bd-496b-a52e-392cf53914f5\")>,\n",
       " <selenium.webdriver.remote.webelement.WebElement (session=\"acd38f01a73ced8a4bb81607c148468e\", element=\"16450ca2-bb5e-4193-a6fe-7d94dcf39f20\")>]"
      ]
     },
     "execution_count": 137,
     "metadata": {},
     "output_type": "execute_result"
    }
   ],
   "source": [
    "#Extracting tags for experience required\n",
    "\n",
    "experience_tags=driver.find_elements_by_xpath(\"//li[@class='fleft grey-text br2 placeHolderLi experience']/span\")\n",
    "experience_tags\n"
   ]
  },
  {
   "cell_type": "code",
   "execution_count": 138,
   "metadata": {},
   "outputs": [
    {
     "data": {
      "text/plain": [
       "['0-3 Yrs',\n",
       " '4-9 Yrs',\n",
       " '5-10 Yrs',\n",
       " '3-7 Yrs',\n",
       " '3-5 Yrs',\n",
       " '3-6 Yrs',\n",
       " '3-6 Yrs',\n",
       " '3-8 Yrs',\n",
       " '0-5 Yrs',\n",
       " '5-8 Yrs',\n",
       " '1-3 Yrs',\n",
       " '1-5 Yrs',\n",
       " '3-7 Yrs',\n",
       " '0-3 Yrs',\n",
       " '2-7 Yrs',\n",
       " '2-6 Yrs',\n",
       " '2-6 Yrs',\n",
       " '1-3 Yrs',\n",
       " '3-6 Yrs',\n",
       " '3-8 Yrs']"
      ]
     },
     "execution_count": 138,
     "metadata": {},
     "output_type": "execute_result"
    }
   ],
   "source": [
    "#Extracting text from tags\n",
    "\n",
    "Experience=[]\n",
    "for i in experience_tags:\n",
    "    Experience.append(i.text)\n",
    "    \n",
    "Experience"
   ]
  },
  {
   "cell_type": "markdown",
   "metadata": {},
   "source": [
    "We extracted all the required data, lets check the len of each list to create DataFrame."
   ]
  },
  {
   "cell_type": "code",
   "execution_count": 139,
   "metadata": {},
   "outputs": [
    {
     "name": "stdout",
     "output_type": "stream",
     "text": [
      "20 20 20 20\n"
     ]
    }
   ],
   "source": [
    "print(len(Title),len(Location),len(Company),len(Experience))"
   ]
  },
  {
   "cell_type": "code",
   "execution_count": 141,
   "metadata": {},
   "outputs": [
    {
     "data": {
      "text/html": [
       "<div>\n",
       "<style scoped>\n",
       "    .dataframe tbody tr th:only-of-type {\n",
       "        vertical-align: middle;\n",
       "    }\n",
       "\n",
       "    .dataframe tbody tr th {\n",
       "        vertical-align: top;\n",
       "    }\n",
       "\n",
       "    .dataframe thead th {\n",
       "        text-align: right;\n",
       "    }\n",
       "</style>\n",
       "<table border=\"1\" class=\"dataframe\">\n",
       "  <thead>\n",
       "    <tr style=\"text-align: right;\">\n",
       "      <th></th>\n",
       "      <th>Title</th>\n",
       "      <th>Location</th>\n",
       "      <th>Company</th>\n",
       "      <th>Experience</th>\n",
       "    </tr>\n",
       "  </thead>\n",
       "  <tbody>\n",
       "    <tr>\n",
       "      <th>0</th>\n",
       "      <td>Data Scientist / Data Analyst -Business Analyst</td>\n",
       "      <td>Mumbai, Hyderabad/Secunderabad, Pune, Gurgaon/...</td>\n",
       "      <td>Inflexion Analytix Private Limited</td>\n",
       "      <td>0-3 Yrs</td>\n",
       "    </tr>\n",
       "    <tr>\n",
       "      <th>1</th>\n",
       "      <td>Data Scientist</td>\n",
       "      <td>Noida, Hyderabad/Secunderabad, Bangalore/Benga...</td>\n",
       "      <td>IBM India Pvt. Limited</td>\n",
       "      <td>4-9 Yrs</td>\n",
       "    </tr>\n",
       "    <tr>\n",
       "      <th>2</th>\n",
       "      <td>Senior Data Scientist II 5+ yrs II Gurgaon</td>\n",
       "      <td>Gurgaon/Gurugram</td>\n",
       "      <td>Zenatix Solutions Private Limited</td>\n",
       "      <td>5-10 Yrs</td>\n",
       "    </tr>\n",
       "    <tr>\n",
       "      <th>3</th>\n",
       "      <td>Excellent opportunity For Data Scientist</td>\n",
       "      <td>Noida, Bangalore/Bengaluru</td>\n",
       "      <td>NEC CORPORATION INDIA PRIVATE LIMITED</td>\n",
       "      <td>3-7 Yrs</td>\n",
       "    </tr>\n",
       "    <tr>\n",
       "      <th>4</th>\n",
       "      <td>Data Scientist</td>\n",
       "      <td>New Delhi, Gurgaon/Gurugram, Delhi / NCR</td>\n",
       "      <td>Mobikwik</td>\n",
       "      <td>3-5 Yrs</td>\n",
       "    </tr>\n",
       "    <tr>\n",
       "      <th>5</th>\n",
       "      <td>DATA Scientist – Gurgaon (Exp 3-6 years)</td>\n",
       "      <td>Gurgaon/Gurugram, Delhi / NCR</td>\n",
       "      <td>CRESCENDO GLOBAL LEADERSHIP HIRING INDIA PRIVA...</td>\n",
       "      <td>3-6 Yrs</td>\n",
       "    </tr>\n",
       "    <tr>\n",
       "      <th>6</th>\n",
       "      <td>DATA Scientist – Gurgaon (Exp 3-6 years)</td>\n",
       "      <td>Gurgaon/Gurugram, Delhi / NCR</td>\n",
       "      <td>CRESCENDO GLOBAL LEADERSHIP HIRING INDIA PRIVA...</td>\n",
       "      <td>3-6 Yrs</td>\n",
       "    </tr>\n",
       "    <tr>\n",
       "      <th>7</th>\n",
       "      <td>Data Scientist - Noida/ B'lore</td>\n",
       "      <td>Noida, Bangalore/Bengaluru</td>\n",
       "      <td>NEC CORPORATION INDIA PRIVATE LIMITED</td>\n",
       "      <td>3-8 Yrs</td>\n",
       "    </tr>\n",
       "    <tr>\n",
       "      <th>8</th>\n",
       "      <td>Only Fresher / Data Scientist / Data Analyst /...</td>\n",
       "      <td>Noida, Gurgaon/Gurugram, Delhi / NCR</td>\n",
       "      <td>GABA Consultancy services</td>\n",
       "      <td>0-5 Yrs</td>\n",
       "    </tr>\n",
       "    <tr>\n",
       "      <th>9</th>\n",
       "      <td>Data Scientist</td>\n",
       "      <td>Bangalore/Bengaluru, Delhi / NCR, Mumbai (All ...</td>\n",
       "      <td>Cloudstrats Technologies Private Limited</td>\n",
       "      <td>5-8 Yrs</td>\n",
       "    </tr>\n",
       "    <tr>\n",
       "      <th>10</th>\n",
       "      <td>Data Scientist</td>\n",
       "      <td>Bharuch, Jaipur, Bhopal, Mumbai, Jhansi, Nagpu...</td>\n",
       "      <td>Country Veggie</td>\n",
       "      <td>1-3 Yrs</td>\n",
       "    </tr>\n",
       "    <tr>\n",
       "      <th>11</th>\n",
       "      <td>Senior Data Scientist</td>\n",
       "      <td>Delhi</td>\n",
       "      <td>iNICU</td>\n",
       "      <td>1-5 Yrs</td>\n",
       "    </tr>\n",
       "    <tr>\n",
       "      <th>12</th>\n",
       "      <td>Data Scientist</td>\n",
       "      <td>Gurgaon/Gurugram, Bangalore/Bengaluru</td>\n",
       "      <td>BlackBuck</td>\n",
       "      <td>3-7 Yrs</td>\n",
       "    </tr>\n",
       "    <tr>\n",
       "      <th>13</th>\n",
       "      <td>Data Scientist/ Data Analyst/ Data Engineer</td>\n",
       "      <td>Noida, Chennai</td>\n",
       "      <td>LANCE LABS PRIVATE LIMITED</td>\n",
       "      <td>0-3 Yrs</td>\n",
       "    </tr>\n",
       "    <tr>\n",
       "      <th>14</th>\n",
       "      <td>Data Scientist</td>\n",
       "      <td>Delhi</td>\n",
       "      <td>Sentieo</td>\n",
       "      <td>2-7 Yrs</td>\n",
       "    </tr>\n",
       "    <tr>\n",
       "      <th>15</th>\n",
       "      <td>Data Scientist</td>\n",
       "      <td>New Delhi</td>\n",
       "      <td>Mahajan Imaging</td>\n",
       "      <td>2-6 Yrs</td>\n",
       "    </tr>\n",
       "    <tr>\n",
       "      <th>16</th>\n",
       "      <td>Data Scientist</td>\n",
       "      <td>Delhi</td>\n",
       "      <td>Mahajan Imaging</td>\n",
       "      <td>2-6 Yrs</td>\n",
       "    </tr>\n",
       "    <tr>\n",
       "      <th>17</th>\n",
       "      <td>Data Scientist Machine Learning</td>\n",
       "      <td>Gurgaon/Gurugram</td>\n",
       "      <td>Delhivery</td>\n",
       "      <td>1-3 Yrs</td>\n",
       "    </tr>\n",
       "    <tr>\n",
       "      <th>18</th>\n",
       "      <td>Data Scientist</td>\n",
       "      <td>Mumbai, Delhi / NCR</td>\n",
       "      <td>VBPO India Pvt Ltd.</td>\n",
       "      <td>3-6 Yrs</td>\n",
       "    </tr>\n",
       "    <tr>\n",
       "      <th>19</th>\n",
       "      <td>Data Scientist</td>\n",
       "      <td>Gurgaon</td>\n",
       "      <td>itForte Staffing Services Private Ltd.</td>\n",
       "      <td>3-8 Yrs</td>\n",
       "    </tr>\n",
       "  </tbody>\n",
       "</table>\n",
       "</div>"
      ],
      "text/plain": [
       "                                                Title  \\\n",
       "0     Data Scientist / Data Analyst -Business Analyst   \n",
       "1                                      Data Scientist   \n",
       "2          Senior Data Scientist II 5+ yrs II Gurgaon   \n",
       "3            Excellent opportunity For Data Scientist   \n",
       "4                                      Data Scientist   \n",
       "5            DATA Scientist – Gurgaon (Exp 3-6 years)   \n",
       "6            DATA Scientist – Gurgaon (Exp 3-6 years)   \n",
       "7                      Data Scientist - Noida/ B'lore   \n",
       "8   Only Fresher / Data Scientist / Data Analyst /...   \n",
       "9                                      Data Scientist   \n",
       "10                                     Data Scientist   \n",
       "11                              Senior Data Scientist   \n",
       "12                                     Data Scientist   \n",
       "13        Data Scientist/ Data Analyst/ Data Engineer   \n",
       "14                                     Data Scientist   \n",
       "15                                     Data Scientist   \n",
       "16                                     Data Scientist   \n",
       "17                    Data Scientist Machine Learning   \n",
       "18                                     Data Scientist   \n",
       "19                                     Data Scientist   \n",
       "\n",
       "                                             Location  \\\n",
       "0   Mumbai, Hyderabad/Secunderabad, Pune, Gurgaon/...   \n",
       "1   Noida, Hyderabad/Secunderabad, Bangalore/Benga...   \n",
       "2                                    Gurgaon/Gurugram   \n",
       "3                          Noida, Bangalore/Bengaluru   \n",
       "4            New Delhi, Gurgaon/Gurugram, Delhi / NCR   \n",
       "5                       Gurgaon/Gurugram, Delhi / NCR   \n",
       "6                       Gurgaon/Gurugram, Delhi / NCR   \n",
       "7                          Noida, Bangalore/Bengaluru   \n",
       "8                Noida, Gurgaon/Gurugram, Delhi / NCR   \n",
       "9   Bangalore/Bengaluru, Delhi / NCR, Mumbai (All ...   \n",
       "10  Bharuch, Jaipur, Bhopal, Mumbai, Jhansi, Nagpu...   \n",
       "11                                              Delhi   \n",
       "12              Gurgaon/Gurugram, Bangalore/Bengaluru   \n",
       "13                                     Noida, Chennai   \n",
       "14                                              Delhi   \n",
       "15                                          New Delhi   \n",
       "16                                              Delhi   \n",
       "17                                   Gurgaon/Gurugram   \n",
       "18                                Mumbai, Delhi / NCR   \n",
       "19                                            Gurgaon   \n",
       "\n",
       "                                              Company Experience  \n",
       "0                  Inflexion Analytix Private Limited    0-3 Yrs  \n",
       "1                              IBM India Pvt. Limited    4-9 Yrs  \n",
       "2                   Zenatix Solutions Private Limited   5-10 Yrs  \n",
       "3               NEC CORPORATION INDIA PRIVATE LIMITED    3-7 Yrs  \n",
       "4                                            Mobikwik    3-5 Yrs  \n",
       "5   CRESCENDO GLOBAL LEADERSHIP HIRING INDIA PRIVA...    3-6 Yrs  \n",
       "6   CRESCENDO GLOBAL LEADERSHIP HIRING INDIA PRIVA...    3-6 Yrs  \n",
       "7               NEC CORPORATION INDIA PRIVATE LIMITED    3-8 Yrs  \n",
       "8                           GABA Consultancy services    0-5 Yrs  \n",
       "9            Cloudstrats Technologies Private Limited    5-8 Yrs  \n",
       "10                                     Country Veggie    1-3 Yrs  \n",
       "11                                              iNICU    1-5 Yrs  \n",
       "12                                          BlackBuck    3-7 Yrs  \n",
       "13                         LANCE LABS PRIVATE LIMITED    0-3 Yrs  \n",
       "14                                            Sentieo    2-7 Yrs  \n",
       "15                                    Mahajan Imaging    2-6 Yrs  \n",
       "16                                    Mahajan Imaging    2-6 Yrs  \n",
       "17                                          Delhivery    1-3 Yrs  \n",
       "18                                VBPO India Pvt Ltd.    3-6 Yrs  \n",
       "19             itForte Staffing Services Private Ltd.    3-8 Yrs  "
      ]
     },
     "execution_count": 141,
     "metadata": {},
     "output_type": "execute_result"
    }
   ],
   "source": [
    "Jobs=pd.DataFrame({})\n",
    "Jobs['Title']=Title\n",
    "Jobs['Location']=Location\n",
    "Jobs['Company']=Company\n",
    "Jobs['Experience']=Experience\n",
    "\n",
    "Jobs"
   ]
  },
  {
   "cell_type": "code",
   "execution_count": 142,
   "metadata": {},
   "outputs": [
    {
     "data": {
      "text/html": [
       "<div>\n",
       "<style scoped>\n",
       "    .dataframe tbody tr th:only-of-type {\n",
       "        vertical-align: middle;\n",
       "    }\n",
       "\n",
       "    .dataframe tbody tr th {\n",
       "        vertical-align: top;\n",
       "    }\n",
       "\n",
       "    .dataframe thead th {\n",
       "        text-align: right;\n",
       "    }\n",
       "</style>\n",
       "<table border=\"1\" class=\"dataframe\">\n",
       "  <thead>\n",
       "    <tr style=\"text-align: right;\">\n",
       "      <th></th>\n",
       "      <th>Title</th>\n",
       "      <th>Location</th>\n",
       "      <th>Company</th>\n",
       "      <th>Experience</th>\n",
       "    </tr>\n",
       "  </thead>\n",
       "  <tbody>\n",
       "    <tr>\n",
       "      <th>0</th>\n",
       "      <td>Data Scientist / Data Analyst -Business Analyst</td>\n",
       "      <td>Mumbai, Hyderabad/Secunderabad, Pune, Gurgaon/...</td>\n",
       "      <td>Inflexion Analytix Private Limited</td>\n",
       "      <td>0-3 Yrs</td>\n",
       "    </tr>\n",
       "    <tr>\n",
       "      <th>1</th>\n",
       "      <td>Data Scientist</td>\n",
       "      <td>Noida, Hyderabad/Secunderabad, Bangalore/Benga...</td>\n",
       "      <td>IBM India Pvt. Limited</td>\n",
       "      <td>4-9 Yrs</td>\n",
       "    </tr>\n",
       "    <tr>\n",
       "      <th>2</th>\n",
       "      <td>Senior Data Scientist II 5+ yrs II Gurgaon</td>\n",
       "      <td>Gurgaon/Gurugram</td>\n",
       "      <td>Zenatix Solutions Private Limited</td>\n",
       "      <td>5-10 Yrs</td>\n",
       "    </tr>\n",
       "    <tr>\n",
       "      <th>3</th>\n",
       "      <td>Excellent opportunity For Data Scientist</td>\n",
       "      <td>Noida, Bangalore/Bengaluru</td>\n",
       "      <td>NEC CORPORATION INDIA PRIVATE LIMITED</td>\n",
       "      <td>3-7 Yrs</td>\n",
       "    </tr>\n",
       "    <tr>\n",
       "      <th>4</th>\n",
       "      <td>Data Scientist</td>\n",
       "      <td>New Delhi, Gurgaon/Gurugram, Delhi / NCR</td>\n",
       "      <td>Mobikwik</td>\n",
       "      <td>3-5 Yrs</td>\n",
       "    </tr>\n",
       "    <tr>\n",
       "      <th>5</th>\n",
       "      <td>DATA Scientist – Gurgaon (Exp 3-6 years)</td>\n",
       "      <td>Gurgaon/Gurugram, Delhi / NCR</td>\n",
       "      <td>CRESCENDO GLOBAL LEADERSHIP HIRING INDIA PRIVA...</td>\n",
       "      <td>3-6 Yrs</td>\n",
       "    </tr>\n",
       "    <tr>\n",
       "      <th>6</th>\n",
       "      <td>DATA Scientist – Gurgaon (Exp 3-6 years)</td>\n",
       "      <td>Gurgaon/Gurugram, Delhi / NCR</td>\n",
       "      <td>CRESCENDO GLOBAL LEADERSHIP HIRING INDIA PRIVA...</td>\n",
       "      <td>3-6 Yrs</td>\n",
       "    </tr>\n",
       "    <tr>\n",
       "      <th>7</th>\n",
       "      <td>Data Scientist - Noida/ B'lore</td>\n",
       "      <td>Noida, Bangalore/Bengaluru</td>\n",
       "      <td>NEC CORPORATION INDIA PRIVATE LIMITED</td>\n",
       "      <td>3-8 Yrs</td>\n",
       "    </tr>\n",
       "    <tr>\n",
       "      <th>8</th>\n",
       "      <td>Only Fresher / Data Scientist / Data Analyst /...</td>\n",
       "      <td>Noida, Gurgaon/Gurugram, Delhi / NCR</td>\n",
       "      <td>GABA Consultancy services</td>\n",
       "      <td>0-5 Yrs</td>\n",
       "    </tr>\n",
       "    <tr>\n",
       "      <th>9</th>\n",
       "      <td>Data Scientist</td>\n",
       "      <td>Bangalore/Bengaluru, Delhi / NCR, Mumbai (All ...</td>\n",
       "      <td>Cloudstrats Technologies Private Limited</td>\n",
       "      <td>5-8 Yrs</td>\n",
       "    </tr>\n",
       "  </tbody>\n",
       "</table>\n",
       "</div>"
      ],
      "text/plain": [
       "                                               Title  \\\n",
       "0    Data Scientist / Data Analyst -Business Analyst   \n",
       "1                                     Data Scientist   \n",
       "2         Senior Data Scientist II 5+ yrs II Gurgaon   \n",
       "3           Excellent opportunity For Data Scientist   \n",
       "4                                     Data Scientist   \n",
       "5           DATA Scientist – Gurgaon (Exp 3-6 years)   \n",
       "6           DATA Scientist – Gurgaon (Exp 3-6 years)   \n",
       "7                     Data Scientist - Noida/ B'lore   \n",
       "8  Only Fresher / Data Scientist / Data Analyst /...   \n",
       "9                                     Data Scientist   \n",
       "\n",
       "                                            Location  \\\n",
       "0  Mumbai, Hyderabad/Secunderabad, Pune, Gurgaon/...   \n",
       "1  Noida, Hyderabad/Secunderabad, Bangalore/Benga...   \n",
       "2                                   Gurgaon/Gurugram   \n",
       "3                         Noida, Bangalore/Bengaluru   \n",
       "4           New Delhi, Gurgaon/Gurugram, Delhi / NCR   \n",
       "5                      Gurgaon/Gurugram, Delhi / NCR   \n",
       "6                      Gurgaon/Gurugram, Delhi / NCR   \n",
       "7                         Noida, Bangalore/Bengaluru   \n",
       "8               Noida, Gurgaon/Gurugram, Delhi / NCR   \n",
       "9  Bangalore/Bengaluru, Delhi / NCR, Mumbai (All ...   \n",
       "\n",
       "                                             Company Experience  \n",
       "0                 Inflexion Analytix Private Limited    0-3 Yrs  \n",
       "1                             IBM India Pvt. Limited    4-9 Yrs  \n",
       "2                  Zenatix Solutions Private Limited   5-10 Yrs  \n",
       "3              NEC CORPORATION INDIA PRIVATE LIMITED    3-7 Yrs  \n",
       "4                                           Mobikwik    3-5 Yrs  \n",
       "5  CRESCENDO GLOBAL LEADERSHIP HIRING INDIA PRIVA...    3-6 Yrs  \n",
       "6  CRESCENDO GLOBAL LEADERSHIP HIRING INDIA PRIVA...    3-6 Yrs  \n",
       "7              NEC CORPORATION INDIA PRIVATE LIMITED    3-8 Yrs  \n",
       "8                          GABA Consultancy services    0-5 Yrs  \n",
       "9           Cloudstrats Technologies Private Limited    5-8 Yrs  "
      ]
     },
     "execution_count": 142,
     "metadata": {},
     "output_type": "execute_result"
    }
   ],
   "source": [
    "Jobs[:10]"
   ]
  },
  {
   "cell_type": "markdown",
   "metadata": {},
   "source": [
    "Q4: Write a python program to scrape data for first 10 job results for Data scientist \n",
    "Designation in Noida location. You have to scrape company_name, No. of days \n",
    "ago when job was posted, Rating of the company.\n",
    "\n",
    "This task will be done in following steps:\n",
    "    \n",
    "1. first get the webpage https://www.glassdoor.co.in/index.htm\n",
    "2. Enter “Data Scientist” in “Job Title,Keyword,Company” field and enter “Noida” \n",
    "in “location” field.\n",
    "3. Then click the search button. You will land up in the below page\n",
    "4. Then scrape the data for the first 10 jobs results you get in the above shown \n",
    "page\n",
    "5. Finally create a dataframe of the scraped data."
   ]
  },
  {
   "cell_type": "code",
   "execution_count": 149,
   "metadata": {},
   "outputs": [
    {
     "data": {
      "text/plain": [
       "<selenium.webdriver.chrome.webdriver.WebDriver (session=\"2f62b951bf5947c245aa07661c2bdd8b\")>"
      ]
     },
     "execution_count": 149,
     "metadata": {},
     "output_type": "execute_result"
    }
   ],
   "source": [
    "driver=webdriver.Chrome('chromedriver.exe')\n",
    "driver"
   ]
  },
  {
   "cell_type": "code",
   "execution_count": 152,
   "metadata": {},
   "outputs": [],
   "source": [
    "url='https://www.glassdoor.co.in/index.htm'\n",
    "driver.get(url)"
   ]
  },
  {
   "cell_type": "code",
   "execution_count": 155,
   "metadata": {},
   "outputs": [
    {
     "data": {
      "text/plain": [
       "<selenium.webdriver.remote.webelement.WebElement (session=\"2f62b951bf5947c245aa07661c2bdd8b\", element=\"64664e94-8e51-4128-9a75-605fe6502957\")>"
      ]
     },
     "execution_count": 155,
     "metadata": {},
     "output_type": "execute_result"
    }
   ],
   "source": [
    "#Extracting element for search bar\n",
    "\n",
    "Search=driver.find_element_by_id('scKeyword')\n",
    "Search"
   ]
  },
  {
   "cell_type": "code",
   "execution_count": 156,
   "metadata": {},
   "outputs": [],
   "source": [
    "Search.send_keys('Data Scientist')"
   ]
  },
  {
   "cell_type": "code",
   "execution_count": 157,
   "metadata": {},
   "outputs": [
    {
     "data": {
      "text/plain": [
       "<selenium.webdriver.remote.webelement.WebElement (session=\"2f62b951bf5947c245aa07661c2bdd8b\", element=\"a3e28bf9-ad9f-4aad-af6a-6ec091b81c36\")>"
      ]
     },
     "execution_count": 157,
     "metadata": {},
     "output_type": "execute_result"
    }
   ],
   "source": [
    "#Extracting element for location bar\n",
    "loc=driver.find_element_by_id('scLocation')\n",
    "loc"
   ]
  },
  {
   "cell_type": "code",
   "execution_count": 158,
   "metadata": {},
   "outputs": [],
   "source": [
    "loc.send_keys('Noida')"
   ]
  },
  {
   "cell_type": "code",
   "execution_count": 162,
   "metadata": {},
   "outputs": [
    {
     "data": {
      "text/plain": [
       "<selenium.webdriver.remote.webelement.WebElement (session=\"2f62b951bf5947c245aa07661c2bdd8b\", element=\"7a6c5e8d-8baf-4e43-947c-3521fc7b6045\")>"
      ]
     },
     "execution_count": 162,
     "metadata": {},
     "output_type": "execute_result"
    }
   ],
   "source": [
    "#do click using xpath\n",
    "\n",
    "search_btn=driver.find_element_by_xpath(\"//button[@class='pl-0 pr-xsm SearchStyles__searchKeywordSubmit']\")\n",
    "search_btn"
   ]
  },
  {
   "cell_type": "code",
   "execution_count": 163,
   "metadata": {},
   "outputs": [],
   "source": [
    "search_btn.click()"
   ]
  },
  {
   "cell_type": "code",
   "execution_count": 164,
   "metadata": {},
   "outputs": [],
   "source": [
    "url='https://www.glassdoor.co.in/Job/noida-data-scientist-jobs-SRCH_IL.0,5_IC4477468_KO6,20.htm'\n",
    "driver.get(url)"
   ]
  },
  {
   "cell_type": "code",
   "execution_count": 166,
   "metadata": {},
   "outputs": [
    {
     "data": {
      "text/plain": [
       "[<selenium.webdriver.remote.webelement.WebElement (session=\"2f62b951bf5947c245aa07661c2bdd8b\", element=\"58d61529-55cc-4d54-91a9-03237acfe132\")>,\n",
       " <selenium.webdriver.remote.webelement.WebElement (session=\"2f62b951bf5947c245aa07661c2bdd8b\", element=\"ec668fab-9524-47ad-972f-76ad8189efa9\")>,\n",
       " <selenium.webdriver.remote.webelement.WebElement (session=\"2f62b951bf5947c245aa07661c2bdd8b\", element=\"8d04e251-6601-41e8-8213-9e035a881f25\")>,\n",
       " <selenium.webdriver.remote.webelement.WebElement (session=\"2f62b951bf5947c245aa07661c2bdd8b\", element=\"5fc9b17d-db9c-407c-984a-e403e2ab3ed7\")>,\n",
       " <selenium.webdriver.remote.webelement.WebElement (session=\"2f62b951bf5947c245aa07661c2bdd8b\", element=\"53bc3de4-454b-41a3-bacd-ee4cb0b51b48\")>,\n",
       " <selenium.webdriver.remote.webelement.WebElement (session=\"2f62b951bf5947c245aa07661c2bdd8b\", element=\"d0ead3f7-6bf4-4ec7-a59f-1c61b1d09b69\")>,\n",
       " <selenium.webdriver.remote.webelement.WebElement (session=\"2f62b951bf5947c245aa07661c2bdd8b\", element=\"fb4a8007-4a4b-479b-bc98-1865ea4e47fd\")>,\n",
       " <selenium.webdriver.remote.webelement.WebElement (session=\"2f62b951bf5947c245aa07661c2bdd8b\", element=\"7f960f6e-4ad0-4486-8a09-77f1f6fd8c91\")>,\n",
       " <selenium.webdriver.remote.webelement.WebElement (session=\"2f62b951bf5947c245aa07661c2bdd8b\", element=\"317c4fd9-351a-477a-accf-0d6ac73ffe87\")>,\n",
       " <selenium.webdriver.remote.webelement.WebElement (session=\"2f62b951bf5947c245aa07661c2bdd8b\", element=\"6cef77d9-4df5-42af-8f02-a09148be2d53\")>,\n",
       " <selenium.webdriver.remote.webelement.WebElement (session=\"2f62b951bf5947c245aa07661c2bdd8b\", element=\"f46b306f-fc61-49f6-830f-d7087f2fffc3\")>,\n",
       " <selenium.webdriver.remote.webelement.WebElement (session=\"2f62b951bf5947c245aa07661c2bdd8b\", element=\"19bdf62b-470d-43a9-81fc-6d16584bab14\")>,\n",
       " <selenium.webdriver.remote.webelement.WebElement (session=\"2f62b951bf5947c245aa07661c2bdd8b\", element=\"80a307a6-4288-4f38-92fa-03f118de37d8\")>,\n",
       " <selenium.webdriver.remote.webelement.WebElement (session=\"2f62b951bf5947c245aa07661c2bdd8b\", element=\"31dfdd57-d49c-47f6-a926-3ff342defc9e\")>,\n",
       " <selenium.webdriver.remote.webelement.WebElement (session=\"2f62b951bf5947c245aa07661c2bdd8b\", element=\"f189b2e9-27a8-4c4e-b372-83768fa28be8\")>,\n",
       " <selenium.webdriver.remote.webelement.WebElement (session=\"2f62b951bf5947c245aa07661c2bdd8b\", element=\"7a0300d5-aa3b-41ea-ae33-d6d089835688\")>,\n",
       " <selenium.webdriver.remote.webelement.WebElement (session=\"2f62b951bf5947c245aa07661c2bdd8b\", element=\"d570da46-0cb5-4013-9c2c-3d61e7334138\")>,\n",
       " <selenium.webdriver.remote.webelement.WebElement (session=\"2f62b951bf5947c245aa07661c2bdd8b\", element=\"483c7def-567a-433c-9b6b-b3f2a8a0c59f\")>,\n",
       " <selenium.webdriver.remote.webelement.WebElement (session=\"2f62b951bf5947c245aa07661c2bdd8b\", element=\"89873faa-4337-4bac-962a-feed3c1c1a9c\")>,\n",
       " <selenium.webdriver.remote.webelement.WebElement (session=\"2f62b951bf5947c245aa07661c2bdd8b\", element=\"39efac9f-6164-4d4f-8b9a-65198e6a82bc\")>,\n",
       " <selenium.webdriver.remote.webelement.WebElement (session=\"2f62b951bf5947c245aa07661c2bdd8b\", element=\"563de79d-e662-4021-a2f4-97b3ffff58ec\")>,\n",
       " <selenium.webdriver.remote.webelement.WebElement (session=\"2f62b951bf5947c245aa07661c2bdd8b\", element=\"efbe166d-ea73-4c54-ad98-9faddb6f0cee\")>,\n",
       " <selenium.webdriver.remote.webelement.WebElement (session=\"2f62b951bf5947c245aa07661c2bdd8b\", element=\"46d500ae-2331-4527-be8d-5bd8f6e8bcd3\")>,\n",
       " <selenium.webdriver.remote.webelement.WebElement (session=\"2f62b951bf5947c245aa07661c2bdd8b\", element=\"e3248514-217d-4bd1-a206-e1f0dcfe6822\")>,\n",
       " <selenium.webdriver.remote.webelement.WebElement (session=\"2f62b951bf5947c245aa07661c2bdd8b\", element=\"b55eb77f-89d5-4d8e-ad3c-7d8b2f5fa1ee\")>,\n",
       " <selenium.webdriver.remote.webelement.WebElement (session=\"2f62b951bf5947c245aa07661c2bdd8b\", element=\"de672439-7223-4605-afca-e40ad34b0cdd\")>,\n",
       " <selenium.webdriver.remote.webelement.WebElement (session=\"2f62b951bf5947c245aa07661c2bdd8b\", element=\"44508ab7-a702-4c45-906f-b7b61e141f8e\")>,\n",
       " <selenium.webdriver.remote.webelement.WebElement (session=\"2f62b951bf5947c245aa07661c2bdd8b\", element=\"b8bcb485-4147-47c3-bf64-77d35b21163f\")>,\n",
       " <selenium.webdriver.remote.webelement.WebElement (session=\"2f62b951bf5947c245aa07661c2bdd8b\", element=\"6d936c36-c8b8-4453-a574-28c8427acf0d\")>,\n",
       " <selenium.webdriver.remote.webelement.WebElement (session=\"2f62b951bf5947c245aa07661c2bdd8b\", element=\"5549ad88-67c4-41cf-b94d-bfbe5e780e21\")>,\n",
       " <selenium.webdriver.remote.webelement.WebElement (session=\"2f62b951bf5947c245aa07661c2bdd8b\", element=\"f7f69a56-8f47-441c-9667-5d661288a995\")>]"
      ]
     },
     "execution_count": 166,
     "metadata": {},
     "output_type": "execute_result"
    }
   ],
   "source": [
    "#extracting tags from company name\n",
    "\n",
    "company_tags=driver.find_elements_by_xpath(\"//div[@class='d-flex justify-content-between align-items-start']\")\n",
    "company_tags"
   ]
  },
  {
   "cell_type": "code",
   "execution_count": 167,
   "metadata": {},
   "outputs": [
    {
     "data": {
      "text/plain": [
       "['Bechtel',\n",
       " 'Adobe',\n",
       " 'Unyscape Infocom Pvt. Ltd',\n",
       " 'Gauge Data Solutions',\n",
       " '',\n",
       " 'Ericsson',\n",
       " 'Lantern Digital Services',\n",
       " 'Techlive',\n",
       " 'Priority Vendor',\n",
       " 'SearchUrCollege',\n",
       " 'Biz2Credit Inc',\n",
       " 'Salasar New Age Technologies',\n",
       " 'Boston Consulting Group',\n",
       " 'Fitfyles',\n",
       " 'Sparkbpl',\n",
       " 'WishFin',\n",
       " 'Ank Aha',\n",
       " 'xtLytics',\n",
       " 'Mahajan Imaging',\n",
       " 'NatWest Group',\n",
       " 'American Express Global Business Travel',\n",
       " 'Profisor Services',\n",
       " 'Analytics Vidhya',\n",
       " 'Simpplr Software India Pvt. Ltd.',\n",
       " 'Siemens Technology and Services Private Limited',\n",
       " 'Sentieo',\n",
       " 'IMMO',\n",
       " 'ESRI, Inc.',\n",
       " 'Webhelp',\n",
       " 'Team Computers',\n",
       " 'Saffron Consultancy Services']"
      ]
     },
     "execution_count": 167,
     "metadata": {},
     "output_type": "execute_result"
    }
   ],
   "source": [
    "#Extracting text from the tags\n",
    "Company=[]\n",
    "for i in company_tags:\n",
    "    Company.append(i.text)\n",
    "    \n",
    "Company"
   ]
  },
  {
   "cell_type": "code",
   "execution_count": 169,
   "metadata": {},
   "outputs": [
    {
     "data": {
      "text/plain": [
       "[<selenium.webdriver.remote.webelement.WebElement (session=\"2f62b951bf5947c245aa07661c2bdd8b\", element=\"70f762ef-bdac-461f-a85c-a07f10551814\")>,\n",
       " <selenium.webdriver.remote.webelement.WebElement (session=\"2f62b951bf5947c245aa07661c2bdd8b\", element=\"4d8e34c7-8ba0-4318-a03d-3d56a5433c4b\")>,\n",
       " <selenium.webdriver.remote.webelement.WebElement (session=\"2f62b951bf5947c245aa07661c2bdd8b\", element=\"cb27b39d-1c79-4290-9175-4da83a3ab762\")>,\n",
       " <selenium.webdriver.remote.webelement.WebElement (session=\"2f62b951bf5947c245aa07661c2bdd8b\", element=\"56053b62-910d-4955-a40e-f1446e6a8723\")>,\n",
       " <selenium.webdriver.remote.webelement.WebElement (session=\"2f62b951bf5947c245aa07661c2bdd8b\", element=\"5e0c6729-1c11-476b-b0c4-faa5d4e8db29\")>,\n",
       " <selenium.webdriver.remote.webelement.WebElement (session=\"2f62b951bf5947c245aa07661c2bdd8b\", element=\"ffa495d4-1305-46e9-8db3-af91424bc0ee\")>,\n",
       " <selenium.webdriver.remote.webelement.WebElement (session=\"2f62b951bf5947c245aa07661c2bdd8b\", element=\"ed0774dc-c65a-4bd1-b546-2ae3b8d9000b\")>,\n",
       " <selenium.webdriver.remote.webelement.WebElement (session=\"2f62b951bf5947c245aa07661c2bdd8b\", element=\"2782014e-baf9-4b80-9018-c8c7bc586526\")>,\n",
       " <selenium.webdriver.remote.webelement.WebElement (session=\"2f62b951bf5947c245aa07661c2bdd8b\", element=\"d0609d85-036f-4539-9a00-86c271f28550\")>,\n",
       " <selenium.webdriver.remote.webelement.WebElement (session=\"2f62b951bf5947c245aa07661c2bdd8b\", element=\"c499a8cd-1e73-4ff6-9cea-724a3becee5f\")>,\n",
       " <selenium.webdriver.remote.webelement.WebElement (session=\"2f62b951bf5947c245aa07661c2bdd8b\", element=\"b7280a66-2b12-481b-a9e3-d08fa173d913\")>,\n",
       " <selenium.webdriver.remote.webelement.WebElement (session=\"2f62b951bf5947c245aa07661c2bdd8b\", element=\"5c628cd8-188d-4c45-9c6a-8fc438752cb1\")>,\n",
       " <selenium.webdriver.remote.webelement.WebElement (session=\"2f62b951bf5947c245aa07661c2bdd8b\", element=\"c1fbf148-2f45-431b-8a87-9b980cff82b2\")>,\n",
       " <selenium.webdriver.remote.webelement.WebElement (session=\"2f62b951bf5947c245aa07661c2bdd8b\", element=\"2e583d2d-ae09-47c3-894d-e7cb0f62b545\")>,\n",
       " <selenium.webdriver.remote.webelement.WebElement (session=\"2f62b951bf5947c245aa07661c2bdd8b\", element=\"34083766-98a6-4059-8e68-29fca790fef4\")>,\n",
       " <selenium.webdriver.remote.webelement.WebElement (session=\"2f62b951bf5947c245aa07661c2bdd8b\", element=\"2acdded7-f4e1-4ceb-9706-bb6defdc0395\")>,\n",
       " <selenium.webdriver.remote.webelement.WebElement (session=\"2f62b951bf5947c245aa07661c2bdd8b\", element=\"dd0fe711-f679-4a22-a618-31947bfd18be\")>,\n",
       " <selenium.webdriver.remote.webelement.WebElement (session=\"2f62b951bf5947c245aa07661c2bdd8b\", element=\"0da87680-df38-4132-81dd-999f4232d49d\")>,\n",
       " <selenium.webdriver.remote.webelement.WebElement (session=\"2f62b951bf5947c245aa07661c2bdd8b\", element=\"8f8255e3-113f-4df7-93ff-52c8ac36059e\")>,\n",
       " <selenium.webdriver.remote.webelement.WebElement (session=\"2f62b951bf5947c245aa07661c2bdd8b\", element=\"43f4e398-6ef4-4632-aa53-75f54490f285\")>,\n",
       " <selenium.webdriver.remote.webelement.WebElement (session=\"2f62b951bf5947c245aa07661c2bdd8b\", element=\"de8b2aea-ec09-4e66-958f-1729e91ae9a9\")>,\n",
       " <selenium.webdriver.remote.webelement.WebElement (session=\"2f62b951bf5947c245aa07661c2bdd8b\", element=\"fe0a3ca3-60ad-4313-a7f6-049ed00a61db\")>,\n",
       " <selenium.webdriver.remote.webelement.WebElement (session=\"2f62b951bf5947c245aa07661c2bdd8b\", element=\"2b5b0aa5-d3a2-46c5-8ceb-fd79cbc70f95\")>,\n",
       " <selenium.webdriver.remote.webelement.WebElement (session=\"2f62b951bf5947c245aa07661c2bdd8b\", element=\"17df1eb9-0a0c-46eb-a20c-ea08e14668b4\")>,\n",
       " <selenium.webdriver.remote.webelement.WebElement (session=\"2f62b951bf5947c245aa07661c2bdd8b\", element=\"ac04d179-5966-4f39-99b1-4da10338c210\")>,\n",
       " <selenium.webdriver.remote.webelement.WebElement (session=\"2f62b951bf5947c245aa07661c2bdd8b\", element=\"2deb214b-d81e-4315-b098-2898f6fb03e1\")>,\n",
       " <selenium.webdriver.remote.webelement.WebElement (session=\"2f62b951bf5947c245aa07661c2bdd8b\", element=\"9a5bfe6e-d238-4986-9a76-0f1eb192c4e9\")>,\n",
       " <selenium.webdriver.remote.webelement.WebElement (session=\"2f62b951bf5947c245aa07661c2bdd8b\", element=\"faa0042d-ddf8-461c-8814-593e94ccdf41\")>,\n",
       " <selenium.webdriver.remote.webelement.WebElement (session=\"2f62b951bf5947c245aa07661c2bdd8b\", element=\"86e11c9f-90ac-4a65-abfb-81694ea79aef\")>,\n",
       " <selenium.webdriver.remote.webelement.WebElement (session=\"2f62b951bf5947c245aa07661c2bdd8b\", element=\"27199d5f-497c-4e8e-b630-969b7bb0128b\")>,\n",
       " <selenium.webdriver.remote.webelement.WebElement (session=\"2f62b951bf5947c245aa07661c2bdd8b\", element=\"b5c3d299-bb69-4923-9534-5c215b11c818\")>]"
      ]
     },
     "execution_count": 169,
     "metadata": {},
     "output_type": "execute_result"
    }
   ],
   "source": [
    "#Extracting tag for before how many days the job was posted\n",
    "day_tags=driver.find_elements_by_xpath(\"//div[@class='d-flex align-items-end pl-std css-mi55ob']\")\n",
    "day_tags"
   ]
  },
  {
   "cell_type": "code",
   "execution_count": 170,
   "metadata": {},
   "outputs": [
    {
     "data": {
      "text/plain": [
       "['7d',\n",
       " '12d',\n",
       " '1d',\n",
       " '4d',\n",
       " '24h',\n",
       " '5d',\n",
       " '27d',\n",
       " '11d',\n",
       " '4d',\n",
       " '4d',\n",
       " '13d',\n",
       " '17d',\n",
       " '19d',\n",
       " '5d',\n",
       " '5d',\n",
       " '16d',\n",
       " '5d',\n",
       " '19d',\n",
       " '5d',\n",
       " '21d',\n",
       " '11d',\n",
       " '5d',\n",
       " '5d',\n",
       " '24h',\n",
       " '20d',\n",
       " '6d',\n",
       " '10d',\n",
       " '14d',\n",
       " '26d',\n",
       " '21d',\n",
       " '4d']"
      ]
     },
     "execution_count": 170,
     "metadata": {},
     "output_type": "execute_result"
    }
   ],
   "source": [
    "#extracting text from tags\n",
    "Before_Days=[]\n",
    "for i in day_tags:\n",
    "    Before_Days.append(i.text)\n",
    "    \n",
    "Before_Days"
   ]
  },
  {
   "cell_type": "code",
   "execution_count": 171,
   "metadata": {},
   "outputs": [
    {
     "data": {
      "text/plain": [
       "[<selenium.webdriver.remote.webelement.WebElement (session=\"2f62b951bf5947c245aa07661c2bdd8b\", element=\"8bb7974c-7459-4618-8f36-c735645548e8\")>,\n",
       " <selenium.webdriver.remote.webelement.WebElement (session=\"2f62b951bf5947c245aa07661c2bdd8b\", element=\"f586b788-3afe-4880-881f-7d4ff59bdf6a\")>,\n",
       " <selenium.webdriver.remote.webelement.WebElement (session=\"2f62b951bf5947c245aa07661c2bdd8b\", element=\"a3672b28-3de0-48a1-9a2f-982a89c5dfe7\")>,\n",
       " <selenium.webdriver.remote.webelement.WebElement (session=\"2f62b951bf5947c245aa07661c2bdd8b\", element=\"9a93ee3e-0c21-4f82-a5b4-abd1b2f28dc1\")>,\n",
       " <selenium.webdriver.remote.webelement.WebElement (session=\"2f62b951bf5947c245aa07661c2bdd8b\", element=\"d9d66ae7-22c5-4d91-b5e1-ccbd8f995a60\")>,\n",
       " <selenium.webdriver.remote.webelement.WebElement (session=\"2f62b951bf5947c245aa07661c2bdd8b\", element=\"c940c31d-4473-4f10-ba50-5c5f84a74f4e\")>,\n",
       " <selenium.webdriver.remote.webelement.WebElement (session=\"2f62b951bf5947c245aa07661c2bdd8b\", element=\"3a285f61-9cea-4aac-b6cd-ec4654df0921\")>,\n",
       " <selenium.webdriver.remote.webelement.WebElement (session=\"2f62b951bf5947c245aa07661c2bdd8b\", element=\"7a8ee9ad-a8ea-4a7f-96dd-94b03f75c528\")>,\n",
       " <selenium.webdriver.remote.webelement.WebElement (session=\"2f62b951bf5947c245aa07661c2bdd8b\", element=\"d371ee40-c4d2-4d26-847b-68c65ae481bb\")>,\n",
       " <selenium.webdriver.remote.webelement.WebElement (session=\"2f62b951bf5947c245aa07661c2bdd8b\", element=\"bc848b09-d3df-4921-b689-4a9867fa16e8\")>,\n",
       " <selenium.webdriver.remote.webelement.WebElement (session=\"2f62b951bf5947c245aa07661c2bdd8b\", element=\"24afc49c-86a3-4656-9faa-2ef48794d675\")>,\n",
       " <selenium.webdriver.remote.webelement.WebElement (session=\"2f62b951bf5947c245aa07661c2bdd8b\", element=\"fb684847-df6e-4219-8371-62ecb332835a\")>,\n",
       " <selenium.webdriver.remote.webelement.WebElement (session=\"2f62b951bf5947c245aa07661c2bdd8b\", element=\"6aa57d1e-a18a-485d-bff4-2e0b52e27a68\")>,\n",
       " <selenium.webdriver.remote.webelement.WebElement (session=\"2f62b951bf5947c245aa07661c2bdd8b\", element=\"f5392d4a-7f64-4418-84e5-3fcc96dee9ed\")>,\n",
       " <selenium.webdriver.remote.webelement.WebElement (session=\"2f62b951bf5947c245aa07661c2bdd8b\", element=\"b956d003-fcb7-43de-affe-25be53a991dd\")>,\n",
       " <selenium.webdriver.remote.webelement.WebElement (session=\"2f62b951bf5947c245aa07661c2bdd8b\", element=\"172a806c-eab9-4307-bea4-56fe542e0044\")>,\n",
       " <selenium.webdriver.remote.webelement.WebElement (session=\"2f62b951bf5947c245aa07661c2bdd8b\", element=\"454e5110-5018-4690-ba77-012a02a18567\")>]"
      ]
     },
     "execution_count": 171,
     "metadata": {},
     "output_type": "execute_result"
    }
   ],
   "source": [
    "#Extracting tags for Ratings\n",
    "\n",
    "Rating_tags=driver.find_elements_by_xpath(\"//span[@class='css-19pjha7 e1cjmv6j1']\")\n",
    "Rating_tags"
   ]
  },
  {
   "cell_type": "code",
   "execution_count": 172,
   "metadata": {},
   "outputs": [
    {
     "data": {
      "text/plain": [
       "['4.0',\n",
       " '4.4',\n",
       " '4.2',\n",
       " '3.1',\n",
       " '4.1',\n",
       " '5.0',\n",
       " '3.7',\n",
       " '3.8',\n",
       " '4.1',\n",
       " '3.8',\n",
       " '4.0',\n",
       " '4.0',\n",
       " '3.9',\n",
       " '4.5',\n",
       " '3.9',\n",
       " '4.1',\n",
       " '4.1']"
      ]
     },
     "execution_count": 172,
     "metadata": {},
     "output_type": "execute_result"
    }
   ],
   "source": [
    "#Extracting text from tags\n",
    "\n",
    "Rating=[]\n",
    "for i in Rating_tags:\n",
    "    Rating.append(i.text)\n",
    "    \n",
    "Rating"
   ]
  },
  {
   "cell_type": "markdown",
   "metadata": {},
   "source": [
    "Lets check the len of each list to create a dataframe."
   ]
  },
  {
   "cell_type": "code",
   "execution_count": 173,
   "metadata": {},
   "outputs": [
    {
     "name": "stdout",
     "output_type": "stream",
     "text": [
      "31 31 17\n"
     ]
    }
   ],
   "source": [
    "print(len(Company),len(Before_Days),len(Rating))"
   ]
  },
  {
   "cell_type": "markdown",
   "metadata": {},
   "source": [
    "WE will not put rating column in the dataframe, although rating for some companies were missing on the site."
   ]
  },
  {
   "cell_type": "code",
   "execution_count": 176,
   "metadata": {},
   "outputs": [
    {
     "data": {
      "text/html": [
       "<div>\n",
       "<style scoped>\n",
       "    .dataframe tbody tr th:only-of-type {\n",
       "        vertical-align: middle;\n",
       "    }\n",
       "\n",
       "    .dataframe tbody tr th {\n",
       "        vertical-align: top;\n",
       "    }\n",
       "\n",
       "    .dataframe thead th {\n",
       "        text-align: right;\n",
       "    }\n",
       "</style>\n",
       "<table border=\"1\" class=\"dataframe\">\n",
       "  <thead>\n",
       "    <tr style=\"text-align: right;\">\n",
       "      <th></th>\n",
       "      <th>Company</th>\n",
       "      <th>Before_Days</th>\n",
       "    </tr>\n",
       "  </thead>\n",
       "  <tbody>\n",
       "    <tr>\n",
       "      <th>0</th>\n",
       "      <td>Bechtel</td>\n",
       "      <td>7d</td>\n",
       "    </tr>\n",
       "    <tr>\n",
       "      <th>1</th>\n",
       "      <td>Adobe</td>\n",
       "      <td>12d</td>\n",
       "    </tr>\n",
       "    <tr>\n",
       "      <th>2</th>\n",
       "      <td>Unyscape Infocom Pvt. Ltd</td>\n",
       "      <td>1d</td>\n",
       "    </tr>\n",
       "    <tr>\n",
       "      <th>3</th>\n",
       "      <td>Gauge Data Solutions</td>\n",
       "      <td>4d</td>\n",
       "    </tr>\n",
       "    <tr>\n",
       "      <th>4</th>\n",
       "      <td></td>\n",
       "      <td>24h</td>\n",
       "    </tr>\n",
       "    <tr>\n",
       "      <th>5</th>\n",
       "      <td>Ericsson</td>\n",
       "      <td>5d</td>\n",
       "    </tr>\n",
       "    <tr>\n",
       "      <th>6</th>\n",
       "      <td>Lantern Digital Services</td>\n",
       "      <td>27d</td>\n",
       "    </tr>\n",
       "    <tr>\n",
       "      <th>7</th>\n",
       "      <td>Techlive</td>\n",
       "      <td>11d</td>\n",
       "    </tr>\n",
       "    <tr>\n",
       "      <th>8</th>\n",
       "      <td>Priority Vendor</td>\n",
       "      <td>4d</td>\n",
       "    </tr>\n",
       "    <tr>\n",
       "      <th>9</th>\n",
       "      <td>SearchUrCollege</td>\n",
       "      <td>4d</td>\n",
       "    </tr>\n",
       "    <tr>\n",
       "      <th>10</th>\n",
       "      <td>Biz2Credit Inc</td>\n",
       "      <td>13d</td>\n",
       "    </tr>\n",
       "    <tr>\n",
       "      <th>11</th>\n",
       "      <td>Salasar New Age Technologies</td>\n",
       "      <td>17d</td>\n",
       "    </tr>\n",
       "    <tr>\n",
       "      <th>12</th>\n",
       "      <td>Boston Consulting Group</td>\n",
       "      <td>19d</td>\n",
       "    </tr>\n",
       "    <tr>\n",
       "      <th>13</th>\n",
       "      <td>Fitfyles</td>\n",
       "      <td>5d</td>\n",
       "    </tr>\n",
       "    <tr>\n",
       "      <th>14</th>\n",
       "      <td>Sparkbpl</td>\n",
       "      <td>5d</td>\n",
       "    </tr>\n",
       "    <tr>\n",
       "      <th>15</th>\n",
       "      <td>WishFin</td>\n",
       "      <td>16d</td>\n",
       "    </tr>\n",
       "    <tr>\n",
       "      <th>16</th>\n",
       "      <td>Ank Aha</td>\n",
       "      <td>5d</td>\n",
       "    </tr>\n",
       "    <tr>\n",
       "      <th>17</th>\n",
       "      <td>xtLytics</td>\n",
       "      <td>19d</td>\n",
       "    </tr>\n",
       "    <tr>\n",
       "      <th>18</th>\n",
       "      <td>Mahajan Imaging</td>\n",
       "      <td>5d</td>\n",
       "    </tr>\n",
       "    <tr>\n",
       "      <th>19</th>\n",
       "      <td>NatWest Group</td>\n",
       "      <td>21d</td>\n",
       "    </tr>\n",
       "    <tr>\n",
       "      <th>20</th>\n",
       "      <td>American Express Global Business Travel</td>\n",
       "      <td>11d</td>\n",
       "    </tr>\n",
       "    <tr>\n",
       "      <th>21</th>\n",
       "      <td>Profisor Services</td>\n",
       "      <td>5d</td>\n",
       "    </tr>\n",
       "    <tr>\n",
       "      <th>22</th>\n",
       "      <td>Analytics Vidhya</td>\n",
       "      <td>5d</td>\n",
       "    </tr>\n",
       "    <tr>\n",
       "      <th>23</th>\n",
       "      <td>Simpplr Software India Pvt. Ltd.</td>\n",
       "      <td>24h</td>\n",
       "    </tr>\n",
       "    <tr>\n",
       "      <th>24</th>\n",
       "      <td>Siemens Technology and Services Private Limited</td>\n",
       "      <td>20d</td>\n",
       "    </tr>\n",
       "    <tr>\n",
       "      <th>25</th>\n",
       "      <td>Sentieo</td>\n",
       "      <td>6d</td>\n",
       "    </tr>\n",
       "    <tr>\n",
       "      <th>26</th>\n",
       "      <td>IMMO</td>\n",
       "      <td>10d</td>\n",
       "    </tr>\n",
       "    <tr>\n",
       "      <th>27</th>\n",
       "      <td>ESRI, Inc.</td>\n",
       "      <td>14d</td>\n",
       "    </tr>\n",
       "    <tr>\n",
       "      <th>28</th>\n",
       "      <td>Webhelp</td>\n",
       "      <td>26d</td>\n",
       "    </tr>\n",
       "    <tr>\n",
       "      <th>29</th>\n",
       "      <td>Team Computers</td>\n",
       "      <td>21d</td>\n",
       "    </tr>\n",
       "    <tr>\n",
       "      <th>30</th>\n",
       "      <td>Saffron Consultancy Services</td>\n",
       "      <td>4d</td>\n",
       "    </tr>\n",
       "  </tbody>\n",
       "</table>\n",
       "</div>"
      ],
      "text/plain": [
       "                                            Company Before_Days\n",
       "0                                           Bechtel          7d\n",
       "1                                             Adobe         12d\n",
       "2                         Unyscape Infocom Pvt. Ltd          1d\n",
       "3                              Gauge Data Solutions          4d\n",
       "4                                                           24h\n",
       "5                                          Ericsson          5d\n",
       "6                          Lantern Digital Services         27d\n",
       "7                                          Techlive         11d\n",
       "8                                   Priority Vendor          4d\n",
       "9                                   SearchUrCollege          4d\n",
       "10                                   Biz2Credit Inc         13d\n",
       "11                     Salasar New Age Technologies         17d\n",
       "12                          Boston Consulting Group         19d\n",
       "13                                         Fitfyles          5d\n",
       "14                                         Sparkbpl          5d\n",
       "15                                          WishFin         16d\n",
       "16                                          Ank Aha          5d\n",
       "17                                         xtLytics         19d\n",
       "18                                  Mahajan Imaging          5d\n",
       "19                                    NatWest Group         21d\n",
       "20          American Express Global Business Travel         11d\n",
       "21                                Profisor Services          5d\n",
       "22                                 Analytics Vidhya          5d\n",
       "23                 Simpplr Software India Pvt. Ltd.         24h\n",
       "24  Siemens Technology and Services Private Limited         20d\n",
       "25                                          Sentieo          6d\n",
       "26                                             IMMO         10d\n",
       "27                                       ESRI, Inc.         14d\n",
       "28                                          Webhelp         26d\n",
       "29                                   Team Computers         21d\n",
       "30                     Saffron Consultancy Services          4d"
      ]
     },
     "execution_count": 176,
     "metadata": {},
     "output_type": "execute_result"
    }
   ],
   "source": [
    "Jobs=pd.DataFrame({})\n",
    "Jobs['Company']=Company\n",
    "Jobs['Before_Days']=Before_Days\n",
    "\n",
    "Jobs"
   ]
  },
  {
   "cell_type": "code",
   "execution_count": 178,
   "metadata": {},
   "outputs": [
    {
     "data": {
      "text/html": [
       "<div>\n",
       "<style scoped>\n",
       "    .dataframe tbody tr th:only-of-type {\n",
       "        vertical-align: middle;\n",
       "    }\n",
       "\n",
       "    .dataframe tbody tr th {\n",
       "        vertical-align: top;\n",
       "    }\n",
       "\n",
       "    .dataframe thead th {\n",
       "        text-align: right;\n",
       "    }\n",
       "</style>\n",
       "<table border=\"1\" class=\"dataframe\">\n",
       "  <thead>\n",
       "    <tr style=\"text-align: right;\">\n",
       "      <th></th>\n",
       "      <th>Company</th>\n",
       "      <th>Before_Days</th>\n",
       "    </tr>\n",
       "  </thead>\n",
       "  <tbody>\n",
       "    <tr>\n",
       "      <th>0</th>\n",
       "      <td>Bechtel</td>\n",
       "      <td>7d</td>\n",
       "    </tr>\n",
       "    <tr>\n",
       "      <th>1</th>\n",
       "      <td>Adobe</td>\n",
       "      <td>12d</td>\n",
       "    </tr>\n",
       "    <tr>\n",
       "      <th>2</th>\n",
       "      <td>Unyscape Infocom Pvt. Ltd</td>\n",
       "      <td>1d</td>\n",
       "    </tr>\n",
       "    <tr>\n",
       "      <th>3</th>\n",
       "      <td>Gauge Data Solutions</td>\n",
       "      <td>4d</td>\n",
       "    </tr>\n",
       "    <tr>\n",
       "      <th>4</th>\n",
       "      <td></td>\n",
       "      <td>24h</td>\n",
       "    </tr>\n",
       "    <tr>\n",
       "      <th>5</th>\n",
       "      <td>Ericsson</td>\n",
       "      <td>5d</td>\n",
       "    </tr>\n",
       "    <tr>\n",
       "      <th>6</th>\n",
       "      <td>Lantern Digital Services</td>\n",
       "      <td>27d</td>\n",
       "    </tr>\n",
       "    <tr>\n",
       "      <th>7</th>\n",
       "      <td>Techlive</td>\n",
       "      <td>11d</td>\n",
       "    </tr>\n",
       "    <tr>\n",
       "      <th>8</th>\n",
       "      <td>Priority Vendor</td>\n",
       "      <td>4d</td>\n",
       "    </tr>\n",
       "    <tr>\n",
       "      <th>9</th>\n",
       "      <td>SearchUrCollege</td>\n",
       "      <td>4d</td>\n",
       "    </tr>\n",
       "  </tbody>\n",
       "</table>\n",
       "</div>"
      ],
      "text/plain": [
       "                     Company Before_Days\n",
       "0                    Bechtel          7d\n",
       "1                      Adobe         12d\n",
       "2  Unyscape Infocom Pvt. Ltd          1d\n",
       "3       Gauge Data Solutions          4d\n",
       "4                                    24h\n",
       "5                   Ericsson          5d\n",
       "6   Lantern Digital Services         27d\n",
       "7                   Techlive         11d\n",
       "8            Priority Vendor          4d\n",
       "9            SearchUrCollege          4d"
      ]
     },
     "execution_count": 178,
     "metadata": {},
     "output_type": "execute_result"
    }
   ],
   "source": [
    "Jobs[:10]"
   ]
  },
  {
   "cell_type": "markdown",
   "metadata": {},
   "source": [
    "Q5: Write a python program to scrape the salary data for Data Scientist designation \n",
    "in Noida location.\n",
    "You have to scrape Company name, Number of salaries, Average salary, Min\n",
    "salary, Max Salary.\n",
    "\n",
    "The above task will be, done as shown in the below steps:\n",
    "    \n",
    "1. first get the webpage https://www.glassdoor.co.in/Salaries/index.htm\n",
    "2. Enter “Data Scientist” in Job title field and “Noida” in location field.\n",
    "3. Click the search button.\n",
    "4. After that you will land on the below page \n",
    "You have to scrape whole data from this webpage\n",
    "5. Scrape data for first 10 companies. Scrape the min salary, max salary, company \n",
    "name, Average salary and rating of the company.\n",
    "6.Store the data in a dataframe.\n"
   ]
  },
  {
   "cell_type": "code",
   "execution_count": 180,
   "metadata": {},
   "outputs": [
    {
     "data": {
      "text/plain": [
       "<selenium.webdriver.chrome.webdriver.WebDriver (session=\"b83deffee4565c84622bf72c395edf3a\")>"
      ]
     },
     "execution_count": 180,
     "metadata": {},
     "output_type": "execute_result"
    }
   ],
   "source": [
    "driver=webdriver.Chrome('chromedriver.exe')\n",
    "driver"
   ]
  },
  {
   "cell_type": "code",
   "execution_count": 181,
   "metadata": {},
   "outputs": [],
   "source": [
    "url='https://www.glassdoor.co.in/Salaries/index.htm'"
   ]
  },
  {
   "cell_type": "code",
   "execution_count": 182,
   "metadata": {},
   "outputs": [],
   "source": [
    "driver.get(url)"
   ]
  },
  {
   "cell_type": "code",
   "execution_count": 183,
   "metadata": {},
   "outputs": [
    {
     "data": {
      "text/plain": [
       "<selenium.webdriver.remote.webelement.WebElement (session=\"b83deffee4565c84622bf72c395edf3a\", element=\"91a4a256-6850-4158-bc84-9cd913afdc1f\")>"
      ]
     },
     "execution_count": 183,
     "metadata": {},
     "output_type": "execute_result"
    }
   ],
   "source": [
    "#extracting the element for search bar\n",
    "\n",
    "Search=driver.find_element_by_id('KeywordSearch')\n",
    "Search"
   ]
  },
  {
   "cell_type": "code",
   "execution_count": 184,
   "metadata": {},
   "outputs": [],
   "source": [
    "Search.send_keys('Data Scientist')"
   ]
  },
  {
   "cell_type": "code",
   "execution_count": 185,
   "metadata": {},
   "outputs": [
    {
     "data": {
      "text/plain": [
       "<selenium.webdriver.remote.webelement.WebElement (session=\"b83deffee4565c84622bf72c395edf3a\", element=\"3b2232e4-5216-4a8e-9404-f04be106fc74\")>"
      ]
     },
     "execution_count": 185,
     "metadata": {},
     "output_type": "execute_result"
    }
   ],
   "source": [
    "#extracting element for location bar\n",
    "loc=driver.find_element_by_id('LocationSearch')\n",
    "loc"
   ]
  },
  {
   "cell_type": "code",
   "execution_count": 186,
   "metadata": {},
   "outputs": [],
   "source": [
    "loc.send_keys('Noida')"
   ]
  },
  {
   "cell_type": "code",
   "execution_count": 187,
   "metadata": {},
   "outputs": [],
   "source": [
    "#do click using xpath\n",
    "\n",
    "search_btn=driver.find_element_by_xpath(\"//button[@class='gd-btn-mkt']\")\n",
    "search_btn.click()"
   ]
  },
  {
   "cell_type": "code",
   "execution_count": 190,
   "metadata": {},
   "outputs": [
    {
     "data": {
      "text/plain": [
       "[<selenium.webdriver.remote.webelement.WebElement (session=\"b83deffee4565c84622bf72c395edf3a\", element=\"e80d6bc6-8c20-43f5-adbf-906f3d734c93\")>,\n",
       " <selenium.webdriver.remote.webelement.WebElement (session=\"b83deffee4565c84622bf72c395edf3a\", element=\"8ba0fec4-f1d9-40de-8f21-c3300300b32b\")>,\n",
       " <selenium.webdriver.remote.webelement.WebElement (session=\"b83deffee4565c84622bf72c395edf3a\", element=\"6ae167a3-9e39-4a66-b5e5-154612b7bfdf\")>,\n",
       " <selenium.webdriver.remote.webelement.WebElement (session=\"b83deffee4565c84622bf72c395edf3a\", element=\"b8a33a6e-1cf9-41a5-bcfe-e0d4e52ed27d\")>,\n",
       " <selenium.webdriver.remote.webelement.WebElement (session=\"b83deffee4565c84622bf72c395edf3a\", element=\"b015a592-e008-4031-9955-f3709c39a926\")>,\n",
       " <selenium.webdriver.remote.webelement.WebElement (session=\"b83deffee4565c84622bf72c395edf3a\", element=\"b52d4c6b-16c0-4957-9eae-6233ffdfe8b9\")>,\n",
       " <selenium.webdriver.remote.webelement.WebElement (session=\"b83deffee4565c84622bf72c395edf3a\", element=\"267e05a6-c140-4d71-9a01-1176c9f51c85\")>,\n",
       " <selenium.webdriver.remote.webelement.WebElement (session=\"b83deffee4565c84622bf72c395edf3a\", element=\"682fa2f3-4184-4e7d-a4f3-536ed06d3e9d\")>,\n",
       " <selenium.webdriver.remote.webelement.WebElement (session=\"b83deffee4565c84622bf72c395edf3a\", element=\"f9ea48bf-1e55-4713-b237-2f5b094fc7c8\")>,\n",
       " <selenium.webdriver.remote.webelement.WebElement (session=\"b83deffee4565c84622bf72c395edf3a\", element=\"f70edda9-5da0-4bcf-8bf9-18555ec07b2b\")>,\n",
       " <selenium.webdriver.remote.webelement.WebElement (session=\"b83deffee4565c84622bf72c395edf3a\", element=\"15d00977-35ce-456f-b068-464720423c23\")>,\n",
       " <selenium.webdriver.remote.webelement.WebElement (session=\"b83deffee4565c84622bf72c395edf3a\", element=\"7d339bd6-9420-410e-95a5-937691804182\")>,\n",
       " <selenium.webdriver.remote.webelement.WebElement (session=\"b83deffee4565c84622bf72c395edf3a\", element=\"8186497b-df4d-407b-a70a-62062c8bf1c3\")>,\n",
       " <selenium.webdriver.remote.webelement.WebElement (session=\"b83deffee4565c84622bf72c395edf3a\", element=\"f4f130ab-dbb8-45f2-aac8-9d3d5cd73f2e\")>,\n",
       " <selenium.webdriver.remote.webelement.WebElement (session=\"b83deffee4565c84622bf72c395edf3a\", element=\"eedb4fe8-9eee-42c8-986e-f9bba55fbad0\")>,\n",
       " <selenium.webdriver.remote.webelement.WebElement (session=\"b83deffee4565c84622bf72c395edf3a\", element=\"3259056b-43aa-48a3-b64a-62c0e642eaec\")>,\n",
       " <selenium.webdriver.remote.webelement.WebElement (session=\"b83deffee4565c84622bf72c395edf3a\", element=\"3c91d682-c6f3-4949-bd75-edf4c4b5a033\")>,\n",
       " <selenium.webdriver.remote.webelement.WebElement (session=\"b83deffee4565c84622bf72c395edf3a\", element=\"34d22213-f248-4e99-a429-2fd270194221\")>,\n",
       " <selenium.webdriver.remote.webelement.WebElement (session=\"b83deffee4565c84622bf72c395edf3a\", element=\"0df48114-bf4e-43a3-850d-5597764b26cc\")>,\n",
       " <selenium.webdriver.remote.webelement.WebElement (session=\"b83deffee4565c84622bf72c395edf3a\", element=\"2eec24be-e622-407e-a0a9-75cb0ba38f6e\")>]"
      ]
     },
     "execution_count": 190,
     "metadata": {},
     "output_type": "execute_result"
    }
   ],
   "source": [
    "#extracting tags for company names\n",
    "company_tags=driver.find_elements_by_xpath(\"//a[@class='css-f3vw95 e1aj7ssy3']\")\n",
    "company_tags"
   ]
  },
  {
   "cell_type": "code",
   "execution_count": 191,
   "metadata": {},
   "outputs": [
    {
     "data": {
      "text/plain": [
       "['Tata Consultancy Services',\n",
       " 'IBM',\n",
       " 'Ericsson-Worldwide',\n",
       " 'Delhivery',\n",
       " 'Accenture',\n",
       " 'UnitedHealth Group',\n",
       " 'Valiance Solutions',\n",
       " 'ZS Associates',\n",
       " 'EXL Service',\n",
       " 'Optum Global Solutions',\n",
       " 'Innovaccer',\n",
       " 'Cognizant Technology Solutions',\n",
       " 'Optum',\n",
       " 'Tech Mahindra',\n",
       " 'OYO',\n",
       " 'Nagarro',\n",
       " 'dunnhumby',\n",
       " 'Vidooly Media Tech',\n",
       " 'Algo8.ai',\n",
       " 'Amazon']"
      ]
     },
     "execution_count": 191,
     "metadata": {},
     "output_type": "execute_result"
    }
   ],
   "source": [
    "#extracting text from the tags\n",
    "\n",
    "Company=[]\n",
    "for i in company_tags:\n",
    "    Company.append(i.text)\n",
    "    \n",
    "Company"
   ]
  },
  {
   "cell_type": "code",
   "execution_count": 192,
   "metadata": {},
   "outputs": [
    {
     "data": {
      "text/plain": [
       "[<selenium.webdriver.remote.webelement.WebElement (session=\"b83deffee4565c84622bf72c395edf3a\", element=\"586a8447-e649-43db-b897-d27cac4b292e\")>,\n",
       " <selenium.webdriver.remote.webelement.WebElement (session=\"b83deffee4565c84622bf72c395edf3a\", element=\"0d0034ba-c7ef-47d7-b30a-4e7506bd1f74\")>,\n",
       " <selenium.webdriver.remote.webelement.WebElement (session=\"b83deffee4565c84622bf72c395edf3a\", element=\"9f0ce22e-dc6d-46cb-b38b-229cb5851de7\")>,\n",
       " <selenium.webdriver.remote.webelement.WebElement (session=\"b83deffee4565c84622bf72c395edf3a\", element=\"aff02ba4-6e8b-499d-a138-4325a9d57d3d\")>,\n",
       " <selenium.webdriver.remote.webelement.WebElement (session=\"b83deffee4565c84622bf72c395edf3a\", element=\"f5eafac7-0baf-468f-b7de-5c4e3ea942cf\")>,\n",
       " <selenium.webdriver.remote.webelement.WebElement (session=\"b83deffee4565c84622bf72c395edf3a\", element=\"14a23a4a-c691-4a72-aaef-02850ed7568e\")>,\n",
       " <selenium.webdriver.remote.webelement.WebElement (session=\"b83deffee4565c84622bf72c395edf3a\", element=\"07dee2dc-1905-4d26-9288-a15821245df5\")>,\n",
       " <selenium.webdriver.remote.webelement.WebElement (session=\"b83deffee4565c84622bf72c395edf3a\", element=\"6fa0fa18-c14f-4388-a0e3-9b117f1ef7af\")>,\n",
       " <selenium.webdriver.remote.webelement.WebElement (session=\"b83deffee4565c84622bf72c395edf3a\", element=\"1851eaf6-7392-4e30-a079-7728abb600bb\")>,\n",
       " <selenium.webdriver.remote.webelement.WebElement (session=\"b83deffee4565c84622bf72c395edf3a\", element=\"fc2fcf7a-0aa1-4c68-aa1a-f73666cbdf7d\")>,\n",
       " <selenium.webdriver.remote.webelement.WebElement (session=\"b83deffee4565c84622bf72c395edf3a\", element=\"31fcbdbb-d955-4729-9b9b-1e9d17aeb82f\")>,\n",
       " <selenium.webdriver.remote.webelement.WebElement (session=\"b83deffee4565c84622bf72c395edf3a\", element=\"09244130-22cd-4e83-b9f7-ce77c44929ef\")>,\n",
       " <selenium.webdriver.remote.webelement.WebElement (session=\"b83deffee4565c84622bf72c395edf3a\", element=\"1daede92-e44a-4d44-b32e-fd8f66aa75cd\")>,\n",
       " <selenium.webdriver.remote.webelement.WebElement (session=\"b83deffee4565c84622bf72c395edf3a\", element=\"8161f8bf-a1ba-4687-ab1f-6be6c7e00750\")>,\n",
       " <selenium.webdriver.remote.webelement.WebElement (session=\"b83deffee4565c84622bf72c395edf3a\", element=\"81d2d9a2-7859-4277-942a-f9cf6e1b50e1\")>,\n",
       " <selenium.webdriver.remote.webelement.WebElement (session=\"b83deffee4565c84622bf72c395edf3a\", element=\"f6580cca-9ee6-4ecc-8bf3-f5760650f8a9\")>,\n",
       " <selenium.webdriver.remote.webelement.WebElement (session=\"b83deffee4565c84622bf72c395edf3a\", element=\"03aec84b-0525-41b2-8ff1-8f33d1c99440\")>,\n",
       " <selenium.webdriver.remote.webelement.WebElement (session=\"b83deffee4565c84622bf72c395edf3a\", element=\"019a1d91-3328-4d2d-b53e-8bf4d1527127\")>,\n",
       " <selenium.webdriver.remote.webelement.WebElement (session=\"b83deffee4565c84622bf72c395edf3a\", element=\"4f486635-343d-432e-95b9-61924f768c7c\")>,\n",
       " <selenium.webdriver.remote.webelement.WebElement (session=\"b83deffee4565c84622bf72c395edf3a\", element=\"e64d0974-fa5e-41c4-8215-8c96b182b525\")>]"
      ]
     },
     "execution_count": 192,
     "metadata": {},
     "output_type": "execute_result"
    }
   ],
   "source": [
    "#Extracting tags for Number of Salaries\n",
    "\n",
    "SNo_tags=driver.find_elements_by_xpath(\"//div[@class='col-12 col-lg-auto']/span\")\n",
    "SNo_tags"
   ]
  },
  {
   "cell_type": "code",
   "execution_count": 193,
   "metadata": {},
   "outputs": [
    {
     "data": {
      "text/plain": [
       "['18 salaries',\n",
       " '14 salaries',\n",
       " '14 salaries',\n",
       " '14 salaries',\n",
       " '13 salaries',\n",
       " '11 salaries',\n",
       " '9 salaries',\n",
       " '8 salaries',\n",
       " '8 salaries',\n",
       " '8 salaries',\n",
       " '8 salaries',\n",
       " '6 salaries',\n",
       " '6 salaries',\n",
       " '5 salaries',\n",
       " '5 salaries',\n",
       " '5 salaries',\n",
       " '5 salaries',\n",
       " '5 salaries',\n",
       " '5 salaries',\n",
       " '4 salaries']"
      ]
     },
     "execution_count": 193,
     "metadata": {},
     "output_type": "execute_result"
    }
   ],
   "source": [
    "Number_of_Salaries=[]\n",
    "for i in SNo_tags:\n",
    "    Number_of_Salaries.append(i.text)\n",
    "    \n",
    "Number_of_Salaries"
   ]
  },
  {
   "cell_type": "code",
   "execution_count": 194,
   "metadata": {},
   "outputs": [
    {
     "data": {
      "text/plain": [
       "[<selenium.webdriver.remote.webelement.WebElement (session=\"b83deffee4565c84622bf72c395edf3a\", element=\"867b33d1-69f6-4b5f-b363-b363f80e27a3\")>,\n",
       " <selenium.webdriver.remote.webelement.WebElement (session=\"b83deffee4565c84622bf72c395edf3a\", element=\"03df7efe-67b0-4fe8-963e-4bb427d9d12d\")>,\n",
       " <selenium.webdriver.remote.webelement.WebElement (session=\"b83deffee4565c84622bf72c395edf3a\", element=\"925ddb5c-14ee-44c9-87af-f6b02ecb2bed\")>,\n",
       " <selenium.webdriver.remote.webelement.WebElement (session=\"b83deffee4565c84622bf72c395edf3a\", element=\"bc188ae5-603c-4fe8-8fb8-e066949fb45f\")>,\n",
       " <selenium.webdriver.remote.webelement.WebElement (session=\"b83deffee4565c84622bf72c395edf3a\", element=\"0c29ad77-0951-405d-98b2-09075f7d15ce\")>,\n",
       " <selenium.webdriver.remote.webelement.WebElement (session=\"b83deffee4565c84622bf72c395edf3a\", element=\"d80b3b62-fd23-45d7-922e-e7fcd5a18a70\")>,\n",
       " <selenium.webdriver.remote.webelement.WebElement (session=\"b83deffee4565c84622bf72c395edf3a\", element=\"13f3ba7a-f120-49f9-b3a8-384846b97ad0\")>,\n",
       " <selenium.webdriver.remote.webelement.WebElement (session=\"b83deffee4565c84622bf72c395edf3a\", element=\"c3f4c2f4-d121-4717-944c-b054077e70c6\")>,\n",
       " <selenium.webdriver.remote.webelement.WebElement (session=\"b83deffee4565c84622bf72c395edf3a\", element=\"48459f84-4832-42b6-9386-45dea0d12954\")>,\n",
       " <selenium.webdriver.remote.webelement.WebElement (session=\"b83deffee4565c84622bf72c395edf3a\", element=\"8f88ad60-a12d-4b79-ab6b-9b4d87546784\")>,\n",
       " <selenium.webdriver.remote.webelement.WebElement (session=\"b83deffee4565c84622bf72c395edf3a\", element=\"96745271-c52e-41ac-945d-32f97404bc08\")>,\n",
       " <selenium.webdriver.remote.webelement.WebElement (session=\"b83deffee4565c84622bf72c395edf3a\", element=\"1bf2fad1-a5ac-4d69-a30f-7620dee525fb\")>,\n",
       " <selenium.webdriver.remote.webelement.WebElement (session=\"b83deffee4565c84622bf72c395edf3a\", element=\"9519cd65-a51d-4026-b0c2-6c05636daa98\")>,\n",
       " <selenium.webdriver.remote.webelement.WebElement (session=\"b83deffee4565c84622bf72c395edf3a\", element=\"94423c13-a336-4cfc-ae54-8f62e8ec20d1\")>,\n",
       " <selenium.webdriver.remote.webelement.WebElement (session=\"b83deffee4565c84622bf72c395edf3a\", element=\"a86bec83-12e4-4793-ab26-28d123bdc433\")>,\n",
       " <selenium.webdriver.remote.webelement.WebElement (session=\"b83deffee4565c84622bf72c395edf3a\", element=\"6f619467-37b6-4b36-ab21-320da2d7f33d\")>,\n",
       " <selenium.webdriver.remote.webelement.WebElement (session=\"b83deffee4565c84622bf72c395edf3a\", element=\"61e01140-c1a0-4f58-a174-a01512e822d2\")>,\n",
       " <selenium.webdriver.remote.webelement.WebElement (session=\"b83deffee4565c84622bf72c395edf3a\", element=\"d01b26ca-3b3f-4131-b3d7-d3dd1bd12873\")>,\n",
       " <selenium.webdriver.remote.webelement.WebElement (session=\"b83deffee4565c84622bf72c395edf3a\", element=\"222b56c7-5d78-407d-b5b6-7c2f4c4bc5d7\")>,\n",
       " <selenium.webdriver.remote.webelement.WebElement (session=\"b83deffee4565c84622bf72c395edf3a\", element=\"24a016c4-1d9d-4e26-b307-072ecc88fc28\")>]"
      ]
     },
     "execution_count": 194,
     "metadata": {},
     "output_type": "execute_result"
    }
   ],
   "source": [
    "#Extracting tags for Average Salary\n",
    "\n",
    "Avg_tags=driver.find_elements_by_xpath(\"//div[@class='col-12 col-lg-4 px-lg-0 d-flex align-items-baseline']/h3\")\n",
    "Avg_tags"
   ]
  },
  {
   "cell_type": "code",
   "execution_count": 195,
   "metadata": {},
   "outputs": [
    {
     "data": {
      "text/plain": [
       "['₹ 6,00,000',\n",
       " '₹ 8,79,486',\n",
       " '₹ 7,15,984',\n",
       " '₹ 12,12,741',\n",
       " '₹ 10,97,744',\n",
       " '₹ 12,96,182',\n",
       " '₹ 7,90,812',\n",
       " '₹ 11,19,962',\n",
       " '₹ 11,10,022',\n",
       " '₹ 13,93,451',\n",
       " '₹ 11,81,047',\n",
       " '₹ 9,77,281',\n",
       " '₹ 12,89,447',\n",
       " '₹ 10,21,234',\n",
       " '₹ 13,70,817',\n",
       " '₹ 9,32,892',\n",
       " '₹ 11,00,000',\n",
       " '₹ 15,412',\n",
       " '₹ 6,75,000',\n",
       " '₹ 15,00,000']"
      ]
     },
     "execution_count": 195,
     "metadata": {},
     "output_type": "execute_result"
    }
   ],
   "source": [
    "#Extracting text from the tags\n",
    "\n",
    "Average_Salary=[]\n",
    "for i in Avg_tags:\n",
    "    Average_Salary.append(i.text)\n",
    "    \n",
    "Average_Salary"
   ]
  },
  {
   "cell_type": "code",
   "execution_count": 197,
   "metadata": {},
   "outputs": [
    {
     "data": {
      "text/plain": [
       "[<selenium.webdriver.remote.webelement.WebElement (session=\"b83deffee4565c84622bf72c395edf3a\", element=\"0eab8681-50db-40ad-86f6-13a680c8fc0a\")>,\n",
       " <selenium.webdriver.remote.webelement.WebElement (session=\"b83deffee4565c84622bf72c395edf3a\", element=\"3430a7a8-4794-4f0f-9dd7-6557d73fcab9\")>,\n",
       " <selenium.webdriver.remote.webelement.WebElement (session=\"b83deffee4565c84622bf72c395edf3a\", element=\"63c5c5ad-7322-4b7c-9e1e-65cba04cb87e\")>,\n",
       " <selenium.webdriver.remote.webelement.WebElement (session=\"b83deffee4565c84622bf72c395edf3a\", element=\"ad271eb8-cd5a-4fe2-b530-1a58b76799e7\")>,\n",
       " <selenium.webdriver.remote.webelement.WebElement (session=\"b83deffee4565c84622bf72c395edf3a\", element=\"eceb90d1-20ba-4db2-8d2f-1f904eb88ae3\")>,\n",
       " <selenium.webdriver.remote.webelement.WebElement (session=\"b83deffee4565c84622bf72c395edf3a\", element=\"3de86fec-ba6f-48aa-a046-4790c3cf7de3\")>,\n",
       " <selenium.webdriver.remote.webelement.WebElement (session=\"b83deffee4565c84622bf72c395edf3a\", element=\"f9c40205-1c22-4727-b1ab-7b97e9bc21bc\")>,\n",
       " <selenium.webdriver.remote.webelement.WebElement (session=\"b83deffee4565c84622bf72c395edf3a\", element=\"de27c17c-5076-4d89-b084-22d192516163\")>,\n",
       " <selenium.webdriver.remote.webelement.WebElement (session=\"b83deffee4565c84622bf72c395edf3a\", element=\"c1f8c965-d1f4-40aa-b1bc-d02cbfd778a0\")>,\n",
       " <selenium.webdriver.remote.webelement.WebElement (session=\"b83deffee4565c84622bf72c395edf3a\", element=\"a19a64b3-1273-4a30-99cd-602a012982d5\")>,\n",
       " <selenium.webdriver.remote.webelement.WebElement (session=\"b83deffee4565c84622bf72c395edf3a\", element=\"5b040384-feaf-425f-8d11-0149f3c59847\")>,\n",
       " <selenium.webdriver.remote.webelement.WebElement (session=\"b83deffee4565c84622bf72c395edf3a\", element=\"7f4d365c-280a-4f38-b82f-6be59687544b\")>,\n",
       " <selenium.webdriver.remote.webelement.WebElement (session=\"b83deffee4565c84622bf72c395edf3a\", element=\"6f29acca-0d69-4334-b75d-428a79fc69ec\")>,\n",
       " <selenium.webdriver.remote.webelement.WebElement (session=\"b83deffee4565c84622bf72c395edf3a\", element=\"a1b9f514-9c06-43cf-b008-7c4b99754e86\")>,\n",
       " <selenium.webdriver.remote.webelement.WebElement (session=\"b83deffee4565c84622bf72c395edf3a\", element=\"fb6c50ea-1467-44b4-afb7-867b96d65dbe\")>,\n",
       " <selenium.webdriver.remote.webelement.WebElement (session=\"b83deffee4565c84622bf72c395edf3a\", element=\"733bcd56-41dc-471e-a68d-103255f3c87e\")>,\n",
       " <selenium.webdriver.remote.webelement.WebElement (session=\"b83deffee4565c84622bf72c395edf3a\", element=\"0b85ed9c-66ac-479c-b011-dab67b31da47\")>,\n",
       " <selenium.webdriver.remote.webelement.WebElement (session=\"b83deffee4565c84622bf72c395edf3a\", element=\"85276cd8-4574-48ba-8f65-b873eaaead06\")>,\n",
       " <selenium.webdriver.remote.webelement.WebElement (session=\"b83deffee4565c84622bf72c395edf3a\", element=\"ee6d0234-7d61-47a0-ba93-2ad498d5c512\")>,\n",
       " <selenium.webdriver.remote.webelement.WebElement (session=\"b83deffee4565c84622bf72c395edf3a\", element=\"0bfaed52-af30-4940-a425-dd53b0ff6a87\")>]"
      ]
     },
     "execution_count": 197,
     "metadata": {},
     "output_type": "execute_result"
    }
   ],
   "source": [
    "#Extracting tags for Minimum salary\n",
    "\n",
    "Min_Max_tags=driver.find_elements_by_xpath(\"//span[@class='d-block d-lg-none m-0 css-1b6bxoo']\")\n",
    "Min_Max_tags"
   ]
  },
  {
   "cell_type": "code",
   "execution_count": 198,
   "metadata": {},
   "outputs": [
    {
     "data": {
      "text/plain": [
       "['Range: ₹333K - ₹1,080K',\n",
       " 'Range: ₹569K - ₹2,648K',\n",
       " 'Range: ₹350K - ₹1,565K',\n",
       " 'Range: ₹436K - ₹11,274K',\n",
       " 'Range: ₹560K - ₹2,147K',\n",
       " 'Range: ₹1,037K - ₹1,500K',\n",
       " 'Range: ₹487K - ₹1,421K',\n",
       " 'Range: ₹196K - ₹1,755K',\n",
       " 'Range: ₹558K - ₹1,500K',\n",
       " 'Range: ₹1,000K - ₹2,085K',\n",
       " 'Range: ₹602K - ₹1,644K',\n",
       " 'Range: ₹769K - ₹1,225K',\n",
       " 'Range: ₹783K - ₹1,959K',\n",
       " 'Range: ₹400K - ₹1,680K',\n",
       " 'Range: ₹942K - ₹1,827K',\n",
       " 'Range: ₹400K - ₹1,091K',\n",
       " 'Range: ₹793K - ₹1,946K',\n",
       " 'Range: ₹12K - ₹61K',\n",
       " 'Range: ₹83K - ₹1,317K',\n",
       " 'Range: ₹749K - ₹2,028K']"
      ]
     },
     "execution_count": 198,
     "metadata": {},
     "output_type": "execute_result"
    }
   ],
   "source": [
    "#Extracting text from the tag\n",
    "Salary_Range=[]\n",
    "for i in Min_Max_tags:\n",
    "    Salary_Range.append(i.text)\n",
    "    \n",
    "Salary_Range"
   ]
  },
  {
   "cell_type": "markdown",
   "metadata": {},
   "source": [
    "Lets check the len of all the list to create the dataframe."
   ]
  },
  {
   "cell_type": "code",
   "execution_count": 199,
   "metadata": {},
   "outputs": [
    {
     "name": "stdout",
     "output_type": "stream",
     "text": [
      "20 20 20 20\n"
     ]
    }
   ],
   "source": [
    "print(len(Company),len(Number_of_Salaries),len(Average_Salary),len(Salary_Range))"
   ]
  },
  {
   "cell_type": "code",
   "execution_count": 201,
   "metadata": {},
   "outputs": [
    {
     "data": {
      "text/html": [
       "<div>\n",
       "<style scoped>\n",
       "    .dataframe tbody tr th:only-of-type {\n",
       "        vertical-align: middle;\n",
       "    }\n",
       "\n",
       "    .dataframe tbody tr th {\n",
       "        vertical-align: top;\n",
       "    }\n",
       "\n",
       "    .dataframe thead th {\n",
       "        text-align: right;\n",
       "    }\n",
       "</style>\n",
       "<table border=\"1\" class=\"dataframe\">\n",
       "  <thead>\n",
       "    <tr style=\"text-align: right;\">\n",
       "      <th></th>\n",
       "      <th>Company</th>\n",
       "      <th>Number_of_Salaries</th>\n",
       "      <th>Average_Salary</th>\n",
       "      <th>Salary_Range</th>\n",
       "    </tr>\n",
       "  </thead>\n",
       "  <tbody>\n",
       "    <tr>\n",
       "      <th>0</th>\n",
       "      <td>Tata Consultancy Services</td>\n",
       "      <td>18 salaries</td>\n",
       "      <td>₹ 6,00,000</td>\n",
       "      <td>Range: ₹333K - ₹1,080K</td>\n",
       "    </tr>\n",
       "    <tr>\n",
       "      <th>1</th>\n",
       "      <td>IBM</td>\n",
       "      <td>14 salaries</td>\n",
       "      <td>₹ 8,79,486</td>\n",
       "      <td>Range: ₹569K - ₹2,648K</td>\n",
       "    </tr>\n",
       "    <tr>\n",
       "      <th>2</th>\n",
       "      <td>Ericsson-Worldwide</td>\n",
       "      <td>14 salaries</td>\n",
       "      <td>₹ 7,15,984</td>\n",
       "      <td>Range: ₹350K - ₹1,565K</td>\n",
       "    </tr>\n",
       "    <tr>\n",
       "      <th>3</th>\n",
       "      <td>Delhivery</td>\n",
       "      <td>14 salaries</td>\n",
       "      <td>₹ 12,12,741</td>\n",
       "      <td>Range: ₹436K - ₹11,274K</td>\n",
       "    </tr>\n",
       "    <tr>\n",
       "      <th>4</th>\n",
       "      <td>Accenture</td>\n",
       "      <td>13 salaries</td>\n",
       "      <td>₹ 10,97,744</td>\n",
       "      <td>Range: ₹560K - ₹2,147K</td>\n",
       "    </tr>\n",
       "    <tr>\n",
       "      <th>5</th>\n",
       "      <td>UnitedHealth Group</td>\n",
       "      <td>11 salaries</td>\n",
       "      <td>₹ 12,96,182</td>\n",
       "      <td>Range: ₹1,037K - ₹1,500K</td>\n",
       "    </tr>\n",
       "    <tr>\n",
       "      <th>6</th>\n",
       "      <td>Valiance Solutions</td>\n",
       "      <td>9 salaries</td>\n",
       "      <td>₹ 7,90,812</td>\n",
       "      <td>Range: ₹487K - ₹1,421K</td>\n",
       "    </tr>\n",
       "    <tr>\n",
       "      <th>7</th>\n",
       "      <td>ZS Associates</td>\n",
       "      <td>8 salaries</td>\n",
       "      <td>₹ 11,19,962</td>\n",
       "      <td>Range: ₹196K - ₹1,755K</td>\n",
       "    </tr>\n",
       "    <tr>\n",
       "      <th>8</th>\n",
       "      <td>EXL Service</td>\n",
       "      <td>8 salaries</td>\n",
       "      <td>₹ 11,10,022</td>\n",
       "      <td>Range: ₹558K - ₹1,500K</td>\n",
       "    </tr>\n",
       "    <tr>\n",
       "      <th>9</th>\n",
       "      <td>Optum Global Solutions</td>\n",
       "      <td>8 salaries</td>\n",
       "      <td>₹ 13,93,451</td>\n",
       "      <td>Range: ₹1,000K - ₹2,085K</td>\n",
       "    </tr>\n",
       "    <tr>\n",
       "      <th>10</th>\n",
       "      <td>Innovaccer</td>\n",
       "      <td>8 salaries</td>\n",
       "      <td>₹ 11,81,047</td>\n",
       "      <td>Range: ₹602K - ₹1,644K</td>\n",
       "    </tr>\n",
       "    <tr>\n",
       "      <th>11</th>\n",
       "      <td>Cognizant Technology Solutions</td>\n",
       "      <td>6 salaries</td>\n",
       "      <td>₹ 9,77,281</td>\n",
       "      <td>Range: ₹769K - ₹1,225K</td>\n",
       "    </tr>\n",
       "    <tr>\n",
       "      <th>12</th>\n",
       "      <td>Optum</td>\n",
       "      <td>6 salaries</td>\n",
       "      <td>₹ 12,89,447</td>\n",
       "      <td>Range: ₹783K - ₹1,959K</td>\n",
       "    </tr>\n",
       "    <tr>\n",
       "      <th>13</th>\n",
       "      <td>Tech Mahindra</td>\n",
       "      <td>5 salaries</td>\n",
       "      <td>₹ 10,21,234</td>\n",
       "      <td>Range: ₹400K - ₹1,680K</td>\n",
       "    </tr>\n",
       "    <tr>\n",
       "      <th>14</th>\n",
       "      <td>OYO</td>\n",
       "      <td>5 salaries</td>\n",
       "      <td>₹ 13,70,817</td>\n",
       "      <td>Range: ₹942K - ₹1,827K</td>\n",
       "    </tr>\n",
       "    <tr>\n",
       "      <th>15</th>\n",
       "      <td>Nagarro</td>\n",
       "      <td>5 salaries</td>\n",
       "      <td>₹ 9,32,892</td>\n",
       "      <td>Range: ₹400K - ₹1,091K</td>\n",
       "    </tr>\n",
       "    <tr>\n",
       "      <th>16</th>\n",
       "      <td>dunnhumby</td>\n",
       "      <td>5 salaries</td>\n",
       "      <td>₹ 11,00,000</td>\n",
       "      <td>Range: ₹793K - ₹1,946K</td>\n",
       "    </tr>\n",
       "    <tr>\n",
       "      <th>17</th>\n",
       "      <td>Vidooly Media Tech</td>\n",
       "      <td>5 salaries</td>\n",
       "      <td>₹ 15,412</td>\n",
       "      <td>Range: ₹12K - ₹61K</td>\n",
       "    </tr>\n",
       "    <tr>\n",
       "      <th>18</th>\n",
       "      <td>Algo8.ai</td>\n",
       "      <td>5 salaries</td>\n",
       "      <td>₹ 6,75,000</td>\n",
       "      <td>Range: ₹83K - ₹1,317K</td>\n",
       "    </tr>\n",
       "    <tr>\n",
       "      <th>19</th>\n",
       "      <td>Amazon</td>\n",
       "      <td>4 salaries</td>\n",
       "      <td>₹ 15,00,000</td>\n",
       "      <td>Range: ₹749K - ₹2,028K</td>\n",
       "    </tr>\n",
       "  </tbody>\n",
       "</table>\n",
       "</div>"
      ],
      "text/plain": [
       "                           Company Number_of_Salaries Average_Salary  \\\n",
       "0        Tata Consultancy Services        18 salaries     ₹ 6,00,000   \n",
       "1                              IBM        14 salaries     ₹ 8,79,486   \n",
       "2               Ericsson-Worldwide        14 salaries     ₹ 7,15,984   \n",
       "3                        Delhivery        14 salaries    ₹ 12,12,741   \n",
       "4                        Accenture        13 salaries    ₹ 10,97,744   \n",
       "5               UnitedHealth Group        11 salaries    ₹ 12,96,182   \n",
       "6               Valiance Solutions         9 salaries     ₹ 7,90,812   \n",
       "7                    ZS Associates         8 salaries    ₹ 11,19,962   \n",
       "8                      EXL Service         8 salaries    ₹ 11,10,022   \n",
       "9           Optum Global Solutions         8 salaries    ₹ 13,93,451   \n",
       "10                      Innovaccer         8 salaries    ₹ 11,81,047   \n",
       "11  Cognizant Technology Solutions         6 salaries     ₹ 9,77,281   \n",
       "12                           Optum         6 salaries    ₹ 12,89,447   \n",
       "13                   Tech Mahindra         5 salaries    ₹ 10,21,234   \n",
       "14                             OYO         5 salaries    ₹ 13,70,817   \n",
       "15                         Nagarro         5 salaries     ₹ 9,32,892   \n",
       "16                       dunnhumby         5 salaries    ₹ 11,00,000   \n",
       "17              Vidooly Media Tech         5 salaries       ₹ 15,412   \n",
       "18                        Algo8.ai         5 salaries     ₹ 6,75,000   \n",
       "19                          Amazon         4 salaries    ₹ 15,00,000   \n",
       "\n",
       "                Salary_Range  \n",
       "0     Range: ₹333K - ₹1,080K  \n",
       "1     Range: ₹569K - ₹2,648K  \n",
       "2     Range: ₹350K - ₹1,565K  \n",
       "3    Range: ₹436K - ₹11,274K  \n",
       "4     Range: ₹560K - ₹2,147K  \n",
       "5   Range: ₹1,037K - ₹1,500K  \n",
       "6     Range: ₹487K - ₹1,421K  \n",
       "7     Range: ₹196K - ₹1,755K  \n",
       "8     Range: ₹558K - ₹1,500K  \n",
       "9   Range: ₹1,000K - ₹2,085K  \n",
       "10    Range: ₹602K - ₹1,644K  \n",
       "11    Range: ₹769K - ₹1,225K  \n",
       "12    Range: ₹783K - ₹1,959K  \n",
       "13    Range: ₹400K - ₹1,680K  \n",
       "14    Range: ₹942K - ₹1,827K  \n",
       "15    Range: ₹400K - ₹1,091K  \n",
       "16    Range: ₹793K - ₹1,946K  \n",
       "17        Range: ₹12K - ₹61K  \n",
       "18     Range: ₹83K - ₹1,317K  \n",
       "19    Range: ₹749K - ₹2,028K  "
      ]
     },
     "execution_count": 201,
     "metadata": {},
     "output_type": "execute_result"
    }
   ],
   "source": [
    "Job_Data=pd.DataFrame({})\n",
    "Job_Data['Company']=Company\n",
    "Job_Data['Number_of_Salaries']=Number_of_Salaries\n",
    "Job_Data['Average_Salary']=Average_Salary\n",
    "Job_Data['Salary_Range']=Salary_Range\n",
    "\n",
    "Job_Data\n"
   ]
  },
  {
   "cell_type": "code",
   "execution_count": 202,
   "metadata": {},
   "outputs": [
    {
     "data": {
      "text/html": [
       "<div>\n",
       "<style scoped>\n",
       "    .dataframe tbody tr th:only-of-type {\n",
       "        vertical-align: middle;\n",
       "    }\n",
       "\n",
       "    .dataframe tbody tr th {\n",
       "        vertical-align: top;\n",
       "    }\n",
       "\n",
       "    .dataframe thead th {\n",
       "        text-align: right;\n",
       "    }\n",
       "</style>\n",
       "<table border=\"1\" class=\"dataframe\">\n",
       "  <thead>\n",
       "    <tr style=\"text-align: right;\">\n",
       "      <th></th>\n",
       "      <th>Company</th>\n",
       "      <th>Number_of_Salaries</th>\n",
       "      <th>Average_Salary</th>\n",
       "      <th>Salary_Range</th>\n",
       "    </tr>\n",
       "  </thead>\n",
       "  <tbody>\n",
       "    <tr>\n",
       "      <th>0</th>\n",
       "      <td>Tata Consultancy Services</td>\n",
       "      <td>18 salaries</td>\n",
       "      <td>₹ 6,00,000</td>\n",
       "      <td>Range: ₹333K - ₹1,080K</td>\n",
       "    </tr>\n",
       "    <tr>\n",
       "      <th>1</th>\n",
       "      <td>IBM</td>\n",
       "      <td>14 salaries</td>\n",
       "      <td>₹ 8,79,486</td>\n",
       "      <td>Range: ₹569K - ₹2,648K</td>\n",
       "    </tr>\n",
       "    <tr>\n",
       "      <th>2</th>\n",
       "      <td>Ericsson-Worldwide</td>\n",
       "      <td>14 salaries</td>\n",
       "      <td>₹ 7,15,984</td>\n",
       "      <td>Range: ₹350K - ₹1,565K</td>\n",
       "    </tr>\n",
       "    <tr>\n",
       "      <th>3</th>\n",
       "      <td>Delhivery</td>\n",
       "      <td>14 salaries</td>\n",
       "      <td>₹ 12,12,741</td>\n",
       "      <td>Range: ₹436K - ₹11,274K</td>\n",
       "    </tr>\n",
       "    <tr>\n",
       "      <th>4</th>\n",
       "      <td>Accenture</td>\n",
       "      <td>13 salaries</td>\n",
       "      <td>₹ 10,97,744</td>\n",
       "      <td>Range: ₹560K - ₹2,147K</td>\n",
       "    </tr>\n",
       "    <tr>\n",
       "      <th>5</th>\n",
       "      <td>UnitedHealth Group</td>\n",
       "      <td>11 salaries</td>\n",
       "      <td>₹ 12,96,182</td>\n",
       "      <td>Range: ₹1,037K - ₹1,500K</td>\n",
       "    </tr>\n",
       "    <tr>\n",
       "      <th>6</th>\n",
       "      <td>Valiance Solutions</td>\n",
       "      <td>9 salaries</td>\n",
       "      <td>₹ 7,90,812</td>\n",
       "      <td>Range: ₹487K - ₹1,421K</td>\n",
       "    </tr>\n",
       "    <tr>\n",
       "      <th>7</th>\n",
       "      <td>ZS Associates</td>\n",
       "      <td>8 salaries</td>\n",
       "      <td>₹ 11,19,962</td>\n",
       "      <td>Range: ₹196K - ₹1,755K</td>\n",
       "    </tr>\n",
       "    <tr>\n",
       "      <th>8</th>\n",
       "      <td>EXL Service</td>\n",
       "      <td>8 salaries</td>\n",
       "      <td>₹ 11,10,022</td>\n",
       "      <td>Range: ₹558K - ₹1,500K</td>\n",
       "    </tr>\n",
       "    <tr>\n",
       "      <th>9</th>\n",
       "      <td>Optum Global Solutions</td>\n",
       "      <td>8 salaries</td>\n",
       "      <td>₹ 13,93,451</td>\n",
       "      <td>Range: ₹1,000K - ₹2,085K</td>\n",
       "    </tr>\n",
       "  </tbody>\n",
       "</table>\n",
       "</div>"
      ],
      "text/plain": [
       "                     Company Number_of_Salaries Average_Salary  \\\n",
       "0  Tata Consultancy Services        18 salaries     ₹ 6,00,000   \n",
       "1                        IBM        14 salaries     ₹ 8,79,486   \n",
       "2         Ericsson-Worldwide        14 salaries     ₹ 7,15,984   \n",
       "3                  Delhivery        14 salaries    ₹ 12,12,741   \n",
       "4                  Accenture        13 salaries    ₹ 10,97,744   \n",
       "5         UnitedHealth Group        11 salaries    ₹ 12,96,182   \n",
       "6         Valiance Solutions         9 salaries     ₹ 7,90,812   \n",
       "7              ZS Associates         8 salaries    ₹ 11,19,962   \n",
       "8                EXL Service         8 salaries    ₹ 11,10,022   \n",
       "9     Optum Global Solutions         8 salaries    ₹ 13,93,451   \n",
       "\n",
       "               Salary_Range  \n",
       "0    Range: ₹333K - ₹1,080K  \n",
       "1    Range: ₹569K - ₹2,648K  \n",
       "2    Range: ₹350K - ₹1,565K  \n",
       "3   Range: ₹436K - ₹11,274K  \n",
       "4    Range: ₹560K - ₹2,147K  \n",
       "5  Range: ₹1,037K - ₹1,500K  \n",
       "6    Range: ₹487K - ₹1,421K  \n",
       "7    Range: ₹196K - ₹1,755K  \n",
       "8    Range: ₹558K - ₹1,500K  \n",
       "9  Range: ₹1,000K - ₹2,085K  "
      ]
     },
     "execution_count": 202,
     "metadata": {},
     "output_type": "execute_result"
    }
   ],
   "source": [
    "Job_Data[:10]"
   ]
  },
  {
   "cell_type": "markdown",
   "metadata": {},
   "source": [
    "Q6 : Scrape data of first 100 sunglasses listings on flipkart.com. You have to \n",
    "scrape four attributes:\n",
    "    \n",
    "    \n",
    "1. Brand\n",
    "2. Product Description\n",
    "3. Price\n",
    "4. Discount %\n",
    "\n",
    "\n",
    "The attributes which you have to scrape is ticked marked in the below image.\n",
    "To scrape the data you have to go through following steps:\n",
    "    \n",
    "    \n",
    "1. Go to flipkart webpage by url https://www.flipkart.com/\n",
    "2. Enter “sunglasses” in the search field where “search for products, brands and \n",
    "more” is written and click the search icon\n",
    "3. after that you will reach to a webpage having a lot of sunglasses. From this page \n",
    "you can scrap the required data as usual.\n",
    "4. after scraping data from the first page, go to the “Next” Button at the bottom of \n",
    "the page \n",
    "5. Now scrape data from this page as usual\n",
    "6. repeat this until you get data for 100 sunglasses"
   ]
  },
  {
   "cell_type": "code",
   "execution_count": 215,
   "metadata": {},
   "outputs": [
    {
     "data": {
      "text/plain": [
       "<selenium.webdriver.chrome.webdriver.WebDriver (session=\"a0270776f6699ae5b356fbda0cb166ab\")>"
      ]
     },
     "execution_count": 215,
     "metadata": {},
     "output_type": "execute_result"
    }
   ],
   "source": [
    "driver=webdriver.Chrome('chromedriver.exe')\n",
    "driver"
   ]
  },
  {
   "cell_type": "code",
   "execution_count": 216,
   "metadata": {},
   "outputs": [],
   "source": [
    "url='https://www.flipkart.com/'\n",
    "driver.get(url)"
   ]
  },
  {
   "cell_type": "code",
   "execution_count": 217,
   "metadata": {},
   "outputs": [
    {
     "data": {
      "text/plain": [
       "<selenium.webdriver.remote.webelement.WebElement (session=\"a0270776f6699ae5b356fbda0cb166ab\", element=\"e1862703-71b7-4175-af6f-fb0536929492\")>"
      ]
     },
     "execution_count": 217,
     "metadata": {},
     "output_type": "execute_result"
    }
   ],
   "source": [
    "#extracting element for search bar\n",
    "\n",
    "search=driver.find_element_by_xpath(\"//input[@class='_3704LK']\")\n",
    "search"
   ]
  },
  {
   "cell_type": "code",
   "execution_count": 218,
   "metadata": {},
   "outputs": [],
   "source": [
    "search.send_keys('sunglasses')"
   ]
  },
  {
   "cell_type": "code",
   "execution_count": 219,
   "metadata": {},
   "outputs": [],
   "source": [
    "#Extracting element for search button\n",
    "\n",
    "search_btn=driver.find_element_by_xpath(\"//button[@class='L0Z3Pu']\")\n",
    "search_btn.click()"
   ]
  },
  {
   "cell_type": "code",
   "execution_count": 220,
   "metadata": {},
   "outputs": [],
   "source": [
    "driver.get('https://www.flipkart.com/search?q=sunglasses&otracker=search&otracker1=search&marketplace=FLIPKART&as-show=on&as=off')"
   ]
  },
  {
   "cell_type": "code",
   "execution_count": 221,
   "metadata": {},
   "outputs": [
    {
     "data": {
      "text/plain": [
       "[<selenium.webdriver.remote.webelement.WebElement (session=\"a0270776f6699ae5b356fbda0cb166ab\", element=\"6ac865fe-13c3-428f-899d-61cabc4b1cd0\")>,\n",
       " <selenium.webdriver.remote.webelement.WebElement (session=\"a0270776f6699ae5b356fbda0cb166ab\", element=\"a34fdf46-d708-460b-b92b-d4709c8fc90d\")>,\n",
       " <selenium.webdriver.remote.webelement.WebElement (session=\"a0270776f6699ae5b356fbda0cb166ab\", element=\"27de81bb-7905-41b8-8a7b-34ab2acd9ec7\")>,\n",
       " <selenium.webdriver.remote.webelement.WebElement (session=\"a0270776f6699ae5b356fbda0cb166ab\", element=\"85d8dd65-0dc6-4349-b2b4-b0424ed20997\")>,\n",
       " <selenium.webdriver.remote.webelement.WebElement (session=\"a0270776f6699ae5b356fbda0cb166ab\", element=\"790ac455-7959-46f0-bd67-0d9b5d78bc64\")>,\n",
       " <selenium.webdriver.remote.webelement.WebElement (session=\"a0270776f6699ae5b356fbda0cb166ab\", element=\"1599ad34-1282-4ab1-a08a-7b8f39dd77db\")>,\n",
       " <selenium.webdriver.remote.webelement.WebElement (session=\"a0270776f6699ae5b356fbda0cb166ab\", element=\"b8806347-45bb-43bd-901c-6fea9464a6ee\")>,\n",
       " <selenium.webdriver.remote.webelement.WebElement (session=\"a0270776f6699ae5b356fbda0cb166ab\", element=\"4e4cee59-a5c7-4d41-89d4-cd1eadf01a23\")>,\n",
       " <selenium.webdriver.remote.webelement.WebElement (session=\"a0270776f6699ae5b356fbda0cb166ab\", element=\"4d5d33da-4b69-4292-8376-26e8e6b03f43\")>,\n",
       " <selenium.webdriver.remote.webelement.WebElement (session=\"a0270776f6699ae5b356fbda0cb166ab\", element=\"691aeb5e-6b73-438b-a6f7-95acc830874d\")>,\n",
       " <selenium.webdriver.remote.webelement.WebElement (session=\"a0270776f6699ae5b356fbda0cb166ab\", element=\"b883cf7c-1286-40cb-982f-92c058e5f2a0\")>,\n",
       " <selenium.webdriver.remote.webelement.WebElement (session=\"a0270776f6699ae5b356fbda0cb166ab\", element=\"bcdf6312-1691-4117-8e3d-a5a8ee0d3b57\")>,\n",
       " <selenium.webdriver.remote.webelement.WebElement (session=\"a0270776f6699ae5b356fbda0cb166ab\", element=\"b23c6ba8-bd8a-4243-b3be-a62deecac33c\")>,\n",
       " <selenium.webdriver.remote.webelement.WebElement (session=\"a0270776f6699ae5b356fbda0cb166ab\", element=\"c3e911cb-98c3-4b39-aac0-b99ea8ea7cff\")>,\n",
       " <selenium.webdriver.remote.webelement.WebElement (session=\"a0270776f6699ae5b356fbda0cb166ab\", element=\"3f8aed9a-8972-4545-89f4-20cb7120ccd6\")>,\n",
       " <selenium.webdriver.remote.webelement.WebElement (session=\"a0270776f6699ae5b356fbda0cb166ab\", element=\"9af47be4-433a-4f99-8d81-81bc99b4e660\")>,\n",
       " <selenium.webdriver.remote.webelement.WebElement (session=\"a0270776f6699ae5b356fbda0cb166ab\", element=\"216c553f-f279-4a4c-8b9a-0d93e289422a\")>,\n",
       " <selenium.webdriver.remote.webelement.WebElement (session=\"a0270776f6699ae5b356fbda0cb166ab\", element=\"9ac8235a-b894-4417-a1bd-289b8f1915b1\")>,\n",
       " <selenium.webdriver.remote.webelement.WebElement (session=\"a0270776f6699ae5b356fbda0cb166ab\", element=\"597c1fb1-468d-4c3a-b834-3bba1404b0ab\")>,\n",
       " <selenium.webdriver.remote.webelement.WebElement (session=\"a0270776f6699ae5b356fbda0cb166ab\", element=\"8f2a85e2-83a4-45ac-93a4-79fd382fca61\")>,\n",
       " <selenium.webdriver.remote.webelement.WebElement (session=\"a0270776f6699ae5b356fbda0cb166ab\", element=\"53cfe561-b94e-41cb-9a52-f02f48497a15\")>,\n",
       " <selenium.webdriver.remote.webelement.WebElement (session=\"a0270776f6699ae5b356fbda0cb166ab\", element=\"470f3eb1-0c1f-4a31-8aa5-b24e0b1492d9\")>,\n",
       " <selenium.webdriver.remote.webelement.WebElement (session=\"a0270776f6699ae5b356fbda0cb166ab\", element=\"ce82cff4-91a8-4041-8674-bc31d3ee5ba9\")>,\n",
       " <selenium.webdriver.remote.webelement.WebElement (session=\"a0270776f6699ae5b356fbda0cb166ab\", element=\"7acdf6ae-d3d9-4f39-9242-c6f402c9abd0\")>,\n",
       " <selenium.webdriver.remote.webelement.WebElement (session=\"a0270776f6699ae5b356fbda0cb166ab\", element=\"b6e7e9af-56cb-43df-aae7-56c304a8f5ca\")>,\n",
       " <selenium.webdriver.remote.webelement.WebElement (session=\"a0270776f6699ae5b356fbda0cb166ab\", element=\"c8fd8147-8b3f-406e-a06a-cc8b7e33e323\")>,\n",
       " <selenium.webdriver.remote.webelement.WebElement (session=\"a0270776f6699ae5b356fbda0cb166ab\", element=\"dc4453af-496b-4671-9156-8429c610af3d\")>,\n",
       " <selenium.webdriver.remote.webelement.WebElement (session=\"a0270776f6699ae5b356fbda0cb166ab\", element=\"341240b2-82dc-46b2-98d6-867c733c56fa\")>,\n",
       " <selenium.webdriver.remote.webelement.WebElement (session=\"a0270776f6699ae5b356fbda0cb166ab\", element=\"3f6dbe3c-d47b-42fd-869a-02d16bfe9ad3\")>,\n",
       " <selenium.webdriver.remote.webelement.WebElement (session=\"a0270776f6699ae5b356fbda0cb166ab\", element=\"fb548667-36d5-4823-a919-65a44f561021\")>,\n",
       " <selenium.webdriver.remote.webelement.WebElement (session=\"a0270776f6699ae5b356fbda0cb166ab\", element=\"c2d7d751-aef3-4ec1-a81d-649b1d2f97aa\")>,\n",
       " <selenium.webdriver.remote.webelement.WebElement (session=\"a0270776f6699ae5b356fbda0cb166ab\", element=\"72895464-441e-4b1e-8851-1e23f0074445\")>,\n",
       " <selenium.webdriver.remote.webelement.WebElement (session=\"a0270776f6699ae5b356fbda0cb166ab\", element=\"7567b0c6-540e-48e6-9382-79ddcc70c6d8\")>,\n",
       " <selenium.webdriver.remote.webelement.WebElement (session=\"a0270776f6699ae5b356fbda0cb166ab\", element=\"84a854b2-5619-45c0-a6b1-78ab808c3d82\")>,\n",
       " <selenium.webdriver.remote.webelement.WebElement (session=\"a0270776f6699ae5b356fbda0cb166ab\", element=\"be9f9e28-c5d3-4a75-bbd5-ccf8959d4796\")>,\n",
       " <selenium.webdriver.remote.webelement.WebElement (session=\"a0270776f6699ae5b356fbda0cb166ab\", element=\"99936f22-e526-4187-a08e-952dfd5bf236\")>,\n",
       " <selenium.webdriver.remote.webelement.WebElement (session=\"a0270776f6699ae5b356fbda0cb166ab\", element=\"f896f214-0aa3-4181-95df-e1cd546cf83b\")>,\n",
       " <selenium.webdriver.remote.webelement.WebElement (session=\"a0270776f6699ae5b356fbda0cb166ab\", element=\"3c8f3009-c46f-4f0b-8200-597ea494fabf\")>,\n",
       " <selenium.webdriver.remote.webelement.WebElement (session=\"a0270776f6699ae5b356fbda0cb166ab\", element=\"8adec509-cd65-4836-a5ef-7abd4858014e\")>,\n",
       " <selenium.webdriver.remote.webelement.WebElement (session=\"a0270776f6699ae5b356fbda0cb166ab\", element=\"08b4801b-8f5a-4130-9897-a776ddbff6ce\")>]"
      ]
     },
     "execution_count": 221,
     "metadata": {},
     "output_type": "execute_result"
    }
   ],
   "source": [
    "#Extracting tags from Brand\n",
    "\n",
    "brand_tags=driver.find_elements_by_xpath(\"//div[@class='_2WkVRV']\")\n",
    "brand_tags"
   ]
  },
  {
   "cell_type": "code",
   "execution_count": 222,
   "metadata": {},
   "outputs": [
    {
     "data": {
      "text/plain": [
       "['Fastrack',\n",
       " 'Silver Kartz',\n",
       " 'PIRASO',\n",
       " 'Singco India',\n",
       " 'PHENOMENAL',\n",
       " 'ROZZETTA CRAFT',\n",
       " 'HIPPON',\n",
       " 'ROYAL SON',\n",
       " 'GANSTA',\n",
       " 'NuVew',\n",
       " 'DEIXELS',\n",
       " 'hipe',\n",
       " 'FOSSIL',\n",
       " 'Villain',\n",
       " 'Fravy',\n",
       " 'elegante',\n",
       " 'Flizz',\n",
       " 'FLYING MACHINE',\n",
       " 'Wrogn',\n",
       " 'Ray-Ban',\n",
       " 'Badfella',\n",
       " 'PETER JONES',\n",
       " 'Elligator',\n",
       " 'AISLIN',\n",
       " 'Cruze',\n",
       " 'Fastrack',\n",
       " 'PIRASO',\n",
       " 'Silver Kartz',\n",
       " 'Singco India',\n",
       " 'PHENOMENAL',\n",
       " 'ROYAL SON',\n",
       " 'ROZZETTA CRAFT',\n",
       " 'DEIXELS',\n",
       " 'GANSTA',\n",
       " 'NuVew',\n",
       " 'Wrogn',\n",
       " 'hipe',\n",
       " 'elegante',\n",
       " 'Ray-Ban',\n",
       " 'AISLIN']"
      ]
     },
     "execution_count": 222,
     "metadata": {},
     "output_type": "execute_result"
    }
   ],
   "source": [
    "#Extracting Text from tags\n",
    "\n",
    "Brands_1=[]\n",
    "for i in brand_tags:\n",
    "    Brands_1.append(i.text)\n",
    "    \n",
    "Brands_1"
   ]
  },
  {
   "cell_type": "code",
   "execution_count": 223,
   "metadata": {},
   "outputs": [
    {
     "data": {
      "text/plain": [
       "[<selenium.webdriver.remote.webelement.WebElement (session=\"a0270776f6699ae5b356fbda0cb166ab\", element=\"6d11203e-c6dc-4154-afaa-05218b51bd12\")>,\n",
       " <selenium.webdriver.remote.webelement.WebElement (session=\"a0270776f6699ae5b356fbda0cb166ab\", element=\"d9bb7345-8cbf-4a0e-9836-dba31d6056d5\")>,\n",
       " <selenium.webdriver.remote.webelement.WebElement (session=\"a0270776f6699ae5b356fbda0cb166ab\", element=\"b5f250fb-2e68-4cda-b3eb-9855bc75de19\")>,\n",
       " <selenium.webdriver.remote.webelement.WebElement (session=\"a0270776f6699ae5b356fbda0cb166ab\", element=\"935a11e2-6906-4fee-ab7b-92aee5338de3\")>,\n",
       " <selenium.webdriver.remote.webelement.WebElement (session=\"a0270776f6699ae5b356fbda0cb166ab\", element=\"dfb2585d-b41a-4be4-9973-d1925e9f0e00\")>,\n",
       " <selenium.webdriver.remote.webelement.WebElement (session=\"a0270776f6699ae5b356fbda0cb166ab\", element=\"c5c83167-b67f-4b5a-98b1-4b1b8af0d933\")>,\n",
       " <selenium.webdriver.remote.webelement.WebElement (session=\"a0270776f6699ae5b356fbda0cb166ab\", element=\"ac2c2bce-3085-45d4-a8ee-ccac415a7b2e\")>,\n",
       " <selenium.webdriver.remote.webelement.WebElement (session=\"a0270776f6699ae5b356fbda0cb166ab\", element=\"138ef6c1-8505-43bf-94ec-4c09499d99ed\")>,\n",
       " <selenium.webdriver.remote.webelement.WebElement (session=\"a0270776f6699ae5b356fbda0cb166ab\", element=\"fd0a2c80-d9f9-4294-b045-355b76406ab1\")>,\n",
       " <selenium.webdriver.remote.webelement.WebElement (session=\"a0270776f6699ae5b356fbda0cb166ab\", element=\"3d134851-3635-425c-a94c-c40dcd23f5e9\")>,\n",
       " <selenium.webdriver.remote.webelement.WebElement (session=\"a0270776f6699ae5b356fbda0cb166ab\", element=\"f9f91f56-99ac-408e-89a2-2793b7aa4226\")>,\n",
       " <selenium.webdriver.remote.webelement.WebElement (session=\"a0270776f6699ae5b356fbda0cb166ab\", element=\"de2c2908-fbd8-4a21-9fa3-58015aa81041\")>,\n",
       " <selenium.webdriver.remote.webelement.WebElement (session=\"a0270776f6699ae5b356fbda0cb166ab\", element=\"51f128d9-6a1f-42f3-8c41-885c76a2bd62\")>,\n",
       " <selenium.webdriver.remote.webelement.WebElement (session=\"a0270776f6699ae5b356fbda0cb166ab\", element=\"f5a4ab30-4e4e-4850-8567-1df552006b62\")>,\n",
       " <selenium.webdriver.remote.webelement.WebElement (session=\"a0270776f6699ae5b356fbda0cb166ab\", element=\"93f45a2a-f2fa-444e-ad44-8951ed9de5b6\")>,\n",
       " <selenium.webdriver.remote.webelement.WebElement (session=\"a0270776f6699ae5b356fbda0cb166ab\", element=\"adbcb423-5a10-48f4-b57a-5993c49b3ac5\")>,\n",
       " <selenium.webdriver.remote.webelement.WebElement (session=\"a0270776f6699ae5b356fbda0cb166ab\", element=\"7da0d7c4-1f74-4b06-b9da-9856faeba7a7\")>,\n",
       " <selenium.webdriver.remote.webelement.WebElement (session=\"a0270776f6699ae5b356fbda0cb166ab\", element=\"914fcd0d-621b-44e9-8d07-a0bf4879274c\")>,\n",
       " <selenium.webdriver.remote.webelement.WebElement (session=\"a0270776f6699ae5b356fbda0cb166ab\", element=\"eebfea69-ccd1-45e9-8808-58cf7cf87edd\")>,\n",
       " <selenium.webdriver.remote.webelement.WebElement (session=\"a0270776f6699ae5b356fbda0cb166ab\", element=\"90778b87-0168-4a0f-87a0-578a9e67e9ff\")>,\n",
       " <selenium.webdriver.remote.webelement.WebElement (session=\"a0270776f6699ae5b356fbda0cb166ab\", element=\"27717f9e-8459-46b0-a392-dbb89a4fffa0\")>,\n",
       " <selenium.webdriver.remote.webelement.WebElement (session=\"a0270776f6699ae5b356fbda0cb166ab\", element=\"efa08afa-b153-4573-8e90-96528cca0632\")>,\n",
       " <selenium.webdriver.remote.webelement.WebElement (session=\"a0270776f6699ae5b356fbda0cb166ab\", element=\"6d7c0b67-0787-4aa2-b21f-f82a6c9b1b37\")>,\n",
       " <selenium.webdriver.remote.webelement.WebElement (session=\"a0270776f6699ae5b356fbda0cb166ab\", element=\"944f7267-7dcf-4ef1-ba31-6dd85c1c6ddd\")>,\n",
       " <selenium.webdriver.remote.webelement.WebElement (session=\"a0270776f6699ae5b356fbda0cb166ab\", element=\"03ab308a-5add-4d3a-b41d-dc1fcd7d6f51\")>,\n",
       " <selenium.webdriver.remote.webelement.WebElement (session=\"a0270776f6699ae5b356fbda0cb166ab\", element=\"b4f405b4-12b0-4917-9bff-1382cc6bb97d\")>,\n",
       " <selenium.webdriver.remote.webelement.WebElement (session=\"a0270776f6699ae5b356fbda0cb166ab\", element=\"3990c291-2d37-45bf-9e86-68004632ef23\")>,\n",
       " <selenium.webdriver.remote.webelement.WebElement (session=\"a0270776f6699ae5b356fbda0cb166ab\", element=\"83164b5b-17bb-487b-9570-714875f0142c\")>,\n",
       " <selenium.webdriver.remote.webelement.WebElement (session=\"a0270776f6699ae5b356fbda0cb166ab\", element=\"c50ce025-352a-4c70-bdf5-219bc2e59e13\")>,\n",
       " <selenium.webdriver.remote.webelement.WebElement (session=\"a0270776f6699ae5b356fbda0cb166ab\", element=\"8f60422a-b42e-4987-96cc-388a897056f4\")>,\n",
       " <selenium.webdriver.remote.webelement.WebElement (session=\"a0270776f6699ae5b356fbda0cb166ab\", element=\"16645050-623c-440d-a4c9-39cfcb255efd\")>,\n",
       " <selenium.webdriver.remote.webelement.WebElement (session=\"a0270776f6699ae5b356fbda0cb166ab\", element=\"b6293e81-24d6-4ce7-b1da-b51b1df1c307\")>,\n",
       " <selenium.webdriver.remote.webelement.WebElement (session=\"a0270776f6699ae5b356fbda0cb166ab\", element=\"f501ec07-07aa-4066-9a1e-4f14e663ddf3\")>,\n",
       " <selenium.webdriver.remote.webelement.WebElement (session=\"a0270776f6699ae5b356fbda0cb166ab\", element=\"e0cd5eea-cbce-48dc-92c1-392f0eb46018\")>,\n",
       " <selenium.webdriver.remote.webelement.WebElement (session=\"a0270776f6699ae5b356fbda0cb166ab\", element=\"55179b5f-2bcf-4401-b814-7a6c3293f131\")>,\n",
       " <selenium.webdriver.remote.webelement.WebElement (session=\"a0270776f6699ae5b356fbda0cb166ab\", element=\"51898c5f-5bfa-4a14-a087-347cd975f76e\")>,\n",
       " <selenium.webdriver.remote.webelement.WebElement (session=\"a0270776f6699ae5b356fbda0cb166ab\", element=\"fd093d31-c53f-4ef3-a0bd-4585d62e5a22\")>,\n",
       " <selenium.webdriver.remote.webelement.WebElement (session=\"a0270776f6699ae5b356fbda0cb166ab\", element=\"866719fa-f91c-4302-9f18-3af03ff8de62\")>,\n",
       " <selenium.webdriver.remote.webelement.WebElement (session=\"a0270776f6699ae5b356fbda0cb166ab\", element=\"2bb7e83e-80ba-4840-8527-cfcf3a2f8789\")>]"
      ]
     },
     "execution_count": 223,
     "metadata": {},
     "output_type": "execute_result"
    }
   ],
   "source": [
    "#Extracting tags for product decsription\n",
    "\n",
    "decs_tags=driver.find_elements_by_xpath(\"//a[@class='IRpwTa']\")\n",
    "decs_tags"
   ]
  },
  {
   "cell_type": "code",
   "execution_count": 226,
   "metadata": {},
   "outputs": [
    {
     "data": {
      "text/plain": [
       "['UV Protection Rectangular Sunglasses (Free Size)',\n",
       " 'UV Protection Wayfarer Sunglasses (Free Size)',\n",
       " 'UV Protection Aviator Sunglasses (54)',\n",
       " 'Mirrored, Riding Glasses, Others Sports Sunglasses (50)',\n",
       " 'UV Protection Retro Square Sunglasses (Free Size)',\n",
       " 'UV Protection Retro Square Sunglasses (Free Size)',\n",
       " 'UV Protection Wayfarer Sunglasses (55)',\n",
       " 'UV Protection Retro Square Sunglasses (88)',\n",
       " 'UV Protection Aviator Sunglasses (57)',\n",
       " 'UV Protection Aviator Sunglasses (58)',\n",
       " 'UV Protection Round Sunglasses (Free Size)',\n",
       " 'UV Protection Sports Sunglasses (Free Size)',\n",
       " 'Others Rectangular Sunglasses (54)',\n",
       " 'Others Retro Square Sunglasses (Free Size)',\n",
       " 'UV Protection Retro Square Sunglasses (Free Size)',\n",
       " 'Mirrored Round Sunglasses (Free Size)',\n",
       " 'UV Protection Retro Square Sunglasses (Free Size)',\n",
       " 'UV Protection Wayfarer Sunglasses (Free Size)',\n",
       " 'Mirrored Aviator Sunglasses (60)',\n",
       " 'UV Protection Clubmaster Sunglasses (49)',\n",
       " 'Polarized, UV Protection Retro Square Sunglasses (53)',\n",
       " 'UV Protection, Gradient Retro Square Sunglasses (60)',\n",
       " 'UV Protection Oval Sunglasses (60)',\n",
       " 'UV Protection Aviator Sunglasses (Free Size)',\n",
       " 'UV Protection Wayfarer Sunglasses (Free Size)',\n",
       " 'UV Protection Aviator Sunglasses (58)',\n",
       " 'UV Protection Oval Sunglasses (56)',\n",
       " 'UV Protection, Riding Glasses, Others Aviator, Wayfarer...',\n",
       " 'UV Protection, Mirrored Retro Square Sunglasses (53)',\n",
       " 'UV Protection, Gradient Wayfarer Sunglasses (55)',\n",
       " 'UV Protection, Gradient Rectangular Sunglasses (Free Si...',\n",
       " 'UV Protection Wayfarer Sunglasses (Free Size)',\n",
       " 'UV Protection, Night Vision, Riding Glasses Aviator Sun...',\n",
       " 'UV Protection Wayfarer, Rectangular Sunglasses (57)',\n",
       " 'Polarized Aviator Sunglasses (60)',\n",
       " 'Mirrored, UV Protection, Gradient Round Sunglasses (55)',\n",
       " 'Mirrored Round Sunglasses (Free Size)',\n",
       " 'UV Protection Wayfarer Sunglasses (50)',\n",
       " 'UV Protection, Gradient Oval Sunglasses (58)']"
      ]
     },
     "execution_count": 226,
     "metadata": {},
     "output_type": "execute_result"
    }
   ],
   "source": [
    "Desc_1=[]\n",
    "for i in decs_tags:\n",
    "    \n",
    "    Desc_1.append(i.text)\n",
    "    \n",
    "Desc_1"
   ]
  },
  {
   "cell_type": "code",
   "execution_count": 227,
   "metadata": {},
   "outputs": [
    {
     "data": {
      "text/plain": [
       "39"
      ]
     },
     "execution_count": 227,
     "metadata": {},
     "output_type": "execute_result"
    }
   ],
   "source": [
    "len(Desc_1)"
   ]
  },
  {
   "cell_type": "code",
   "execution_count": 228,
   "metadata": {},
   "outputs": [
    {
     "data": {
      "text/plain": [
       "[<selenium.webdriver.remote.webelement.WebElement (session=\"a0270776f6699ae5b356fbda0cb166ab\", element=\"54138813-7fe5-4a90-a573-b1781b36887c\")>,\n",
       " <selenium.webdriver.remote.webelement.WebElement (session=\"a0270776f6699ae5b356fbda0cb166ab\", element=\"ab2a7251-6350-48cf-9427-aad04bca75bc\")>,\n",
       " <selenium.webdriver.remote.webelement.WebElement (session=\"a0270776f6699ae5b356fbda0cb166ab\", element=\"f4bb9676-0712-4786-9e0c-6cd21ecdbdb7\")>,\n",
       " <selenium.webdriver.remote.webelement.WebElement (session=\"a0270776f6699ae5b356fbda0cb166ab\", element=\"ea7cb509-7287-48c1-bafd-d816bc3e3f12\")>,\n",
       " <selenium.webdriver.remote.webelement.WebElement (session=\"a0270776f6699ae5b356fbda0cb166ab\", element=\"9ff46bd0-0938-4ec6-9b54-ba693083a15b\")>,\n",
       " <selenium.webdriver.remote.webelement.WebElement (session=\"a0270776f6699ae5b356fbda0cb166ab\", element=\"4327223f-d8b8-4512-aa6b-d4a12fa9def7\")>,\n",
       " <selenium.webdriver.remote.webelement.WebElement (session=\"a0270776f6699ae5b356fbda0cb166ab\", element=\"64b3af3e-4f64-4b25-a3a8-9daab043e1ee\")>,\n",
       " <selenium.webdriver.remote.webelement.WebElement (session=\"a0270776f6699ae5b356fbda0cb166ab\", element=\"c0e6661c-c75e-4806-928c-38148e488ea5\")>,\n",
       " <selenium.webdriver.remote.webelement.WebElement (session=\"a0270776f6699ae5b356fbda0cb166ab\", element=\"235ba73e-8fc2-45ad-aa87-cc9ec69163ee\")>,\n",
       " <selenium.webdriver.remote.webelement.WebElement (session=\"a0270776f6699ae5b356fbda0cb166ab\", element=\"712752cd-deb1-4b5a-88cc-4a6407a65750\")>,\n",
       " <selenium.webdriver.remote.webelement.WebElement (session=\"a0270776f6699ae5b356fbda0cb166ab\", element=\"39c3a30b-4aa3-488e-83a4-5e2026a2d3f2\")>,\n",
       " <selenium.webdriver.remote.webelement.WebElement (session=\"a0270776f6699ae5b356fbda0cb166ab\", element=\"e565cefc-f9cb-4d9d-8eaf-92eee8adb788\")>,\n",
       " <selenium.webdriver.remote.webelement.WebElement (session=\"a0270776f6699ae5b356fbda0cb166ab\", element=\"48212bc9-e16b-4cf3-9646-131a1968b00b\")>,\n",
       " <selenium.webdriver.remote.webelement.WebElement (session=\"a0270776f6699ae5b356fbda0cb166ab\", element=\"fd2d6da7-7cbe-4f51-90e8-e6d2d0a640c6\")>,\n",
       " <selenium.webdriver.remote.webelement.WebElement (session=\"a0270776f6699ae5b356fbda0cb166ab\", element=\"8bb03f87-a46d-4e41-9f4e-c609a7caf190\")>,\n",
       " <selenium.webdriver.remote.webelement.WebElement (session=\"a0270776f6699ae5b356fbda0cb166ab\", element=\"2012e6c8-76d1-4190-aed6-d2f587160ab7\")>,\n",
       " <selenium.webdriver.remote.webelement.WebElement (session=\"a0270776f6699ae5b356fbda0cb166ab\", element=\"f66e33e3-de74-4690-92f8-4a187ca4b633\")>,\n",
       " <selenium.webdriver.remote.webelement.WebElement (session=\"a0270776f6699ae5b356fbda0cb166ab\", element=\"d026c5aa-5137-4856-b78b-281101b3811d\")>,\n",
       " <selenium.webdriver.remote.webelement.WebElement (session=\"a0270776f6699ae5b356fbda0cb166ab\", element=\"e6e0f255-0e26-4b0a-9676-8e697e8f1a4d\")>,\n",
       " <selenium.webdriver.remote.webelement.WebElement (session=\"a0270776f6699ae5b356fbda0cb166ab\", element=\"d99a56ce-a3c4-4eed-aa8e-783d2bb65068\")>,\n",
       " <selenium.webdriver.remote.webelement.WebElement (session=\"a0270776f6699ae5b356fbda0cb166ab\", element=\"ccaff5dd-4845-4624-bda4-fcbd9872c3fb\")>,\n",
       " <selenium.webdriver.remote.webelement.WebElement (session=\"a0270776f6699ae5b356fbda0cb166ab\", element=\"59ae0574-4d72-46f3-b2e2-5873e5f45fab\")>,\n",
       " <selenium.webdriver.remote.webelement.WebElement (session=\"a0270776f6699ae5b356fbda0cb166ab\", element=\"8f93918e-5707-4970-bbc9-b40fdc257b68\")>,\n",
       " <selenium.webdriver.remote.webelement.WebElement (session=\"a0270776f6699ae5b356fbda0cb166ab\", element=\"43a6d0dc-c08d-4422-bb59-98f55741e576\")>,\n",
       " <selenium.webdriver.remote.webelement.WebElement (session=\"a0270776f6699ae5b356fbda0cb166ab\", element=\"7f4bcd3b-c269-4e3b-b141-83e6288becac\")>,\n",
       " <selenium.webdriver.remote.webelement.WebElement (session=\"a0270776f6699ae5b356fbda0cb166ab\", element=\"f9cfb49c-2170-4d3a-98bc-6a96d3afd732\")>,\n",
       " <selenium.webdriver.remote.webelement.WebElement (session=\"a0270776f6699ae5b356fbda0cb166ab\", element=\"5f1f06df-89d4-420e-b499-c2600feaa64b\")>,\n",
       " <selenium.webdriver.remote.webelement.WebElement (session=\"a0270776f6699ae5b356fbda0cb166ab\", element=\"9ada2a48-4e36-4f07-98ce-5b6226dcbff9\")>,\n",
       " <selenium.webdriver.remote.webelement.WebElement (session=\"a0270776f6699ae5b356fbda0cb166ab\", element=\"f486bb19-d02d-488e-b581-f9e1f705cc7b\")>,\n",
       " <selenium.webdriver.remote.webelement.WebElement (session=\"a0270776f6699ae5b356fbda0cb166ab\", element=\"96e51cd9-cf4f-482c-b9c7-109480f378c9\")>,\n",
       " <selenium.webdriver.remote.webelement.WebElement (session=\"a0270776f6699ae5b356fbda0cb166ab\", element=\"83e56194-b02a-455d-89ef-c0e57fa15096\")>,\n",
       " <selenium.webdriver.remote.webelement.WebElement (session=\"a0270776f6699ae5b356fbda0cb166ab\", element=\"a5a5168f-cef2-43d3-a759-15bf411de3f8\")>,\n",
       " <selenium.webdriver.remote.webelement.WebElement (session=\"a0270776f6699ae5b356fbda0cb166ab\", element=\"b78cfd51-b742-4dba-8000-32f6c2a82017\")>,\n",
       " <selenium.webdriver.remote.webelement.WebElement (session=\"a0270776f6699ae5b356fbda0cb166ab\", element=\"2adb6572-4896-42c6-bf17-7fa57fe65acb\")>,\n",
       " <selenium.webdriver.remote.webelement.WebElement (session=\"a0270776f6699ae5b356fbda0cb166ab\", element=\"654a91f4-a55c-4e80-93f8-7e817efd0eee\")>,\n",
       " <selenium.webdriver.remote.webelement.WebElement (session=\"a0270776f6699ae5b356fbda0cb166ab\", element=\"2da35a30-4c8a-47f1-9d29-ba734c2bd597\")>,\n",
       " <selenium.webdriver.remote.webelement.WebElement (session=\"a0270776f6699ae5b356fbda0cb166ab\", element=\"3a3bbb3b-3ffd-4990-8eb5-1f2fc34511b8\")>,\n",
       " <selenium.webdriver.remote.webelement.WebElement (session=\"a0270776f6699ae5b356fbda0cb166ab\", element=\"da283b57-eba7-4499-be86-e3fca8fb57b3\")>,\n",
       " <selenium.webdriver.remote.webelement.WebElement (session=\"a0270776f6699ae5b356fbda0cb166ab\", element=\"9d0792ea-fc72-47dc-a630-fa47f6f53233\")>,\n",
       " <selenium.webdriver.remote.webelement.WebElement (session=\"a0270776f6699ae5b356fbda0cb166ab\", element=\"a697a446-ca46-44cc-9b63-8809e13f8e92\")>]"
      ]
     },
     "execution_count": 228,
     "metadata": {},
     "output_type": "execute_result"
    }
   ],
   "source": [
    "#Extracting elements for price\n",
    "\n",
    "price_tags=driver.find_elements_by_xpath(\"//div[@class='_30jeq3']\")\n",
    "price_tags"
   ]
  },
  {
   "cell_type": "code",
   "execution_count": 229,
   "metadata": {},
   "outputs": [
    {
     "data": {
      "text/plain": [
       "['₹630',\n",
       " '₹246',\n",
       " '₹250',\n",
       " '₹249',\n",
       " '₹399',\n",
       " '₹499',\n",
       " '₹251',\n",
       " '₹599',\n",
       " '₹281',\n",
       " '₹215',\n",
       " '₹209',\n",
       " '₹319',\n",
       " '₹2,609',\n",
       " '₹599',\n",
       " '₹289',\n",
       " '₹399',\n",
       " '₹399',\n",
       " '₹516',\n",
       " '₹1,215',\n",
       " '₹6,630',\n",
       " '₹269',\n",
       " '₹629',\n",
       " '₹292',\n",
       " '₹764',\n",
       " '₹499',\n",
       " '₹758',\n",
       " '₹349',\n",
       " '₹284',\n",
       " '₹209',\n",
       " '₹399',\n",
       " '₹217',\n",
       " '₹404',\n",
       " '₹211',\n",
       " '₹292',\n",
       " '₹395',\n",
       " '₹1,208',\n",
       " '₹210',\n",
       " '₹399',\n",
       " '₹7,872',\n",
       " '₹500']"
      ]
     },
     "execution_count": 229,
     "metadata": {},
     "output_type": "execute_result"
    }
   ],
   "source": [
    "#Extracting text from tags\n",
    "\n",
    "Price_1=[]\n",
    "for i in price_tags:\n",
    "    Price_1.append(i.text)\n",
    "    \n",
    "Price_1"
   ]
  },
  {
   "cell_type": "code",
   "execution_count": 230,
   "metadata": {},
   "outputs": [
    {
     "data": {
      "text/plain": [
       "[<selenium.webdriver.remote.webelement.WebElement (session=\"a0270776f6699ae5b356fbda0cb166ab\", element=\"d56fe461-4771-4a8c-9a2a-4519bfb55dc0\")>,\n",
       " <selenium.webdriver.remote.webelement.WebElement (session=\"a0270776f6699ae5b356fbda0cb166ab\", element=\"33912552-a734-4253-9cbf-9036f4ffba0e\")>,\n",
       " <selenium.webdriver.remote.webelement.WebElement (session=\"a0270776f6699ae5b356fbda0cb166ab\", element=\"6016aabc-6895-40ab-a2c4-34d85cea20ed\")>,\n",
       " <selenium.webdriver.remote.webelement.WebElement (session=\"a0270776f6699ae5b356fbda0cb166ab\", element=\"00eb955e-9d4d-4374-928f-3371e2f2e462\")>,\n",
       " <selenium.webdriver.remote.webelement.WebElement (session=\"a0270776f6699ae5b356fbda0cb166ab\", element=\"c652384f-077e-49fc-9bd8-d59925b3894d\")>,\n",
       " <selenium.webdriver.remote.webelement.WebElement (session=\"a0270776f6699ae5b356fbda0cb166ab\", element=\"38e1f34b-8c64-4272-ab87-bb2cd712574f\")>,\n",
       " <selenium.webdriver.remote.webelement.WebElement (session=\"a0270776f6699ae5b356fbda0cb166ab\", element=\"9c37a4ae-ca47-4783-8b83-ea3178c210fd\")>,\n",
       " <selenium.webdriver.remote.webelement.WebElement (session=\"a0270776f6699ae5b356fbda0cb166ab\", element=\"27366530-59dc-464f-813b-6a368a6b5386\")>,\n",
       " <selenium.webdriver.remote.webelement.WebElement (session=\"a0270776f6699ae5b356fbda0cb166ab\", element=\"4f9b47a9-f77e-4219-a39f-dea8bf5290e0\")>,\n",
       " <selenium.webdriver.remote.webelement.WebElement (session=\"a0270776f6699ae5b356fbda0cb166ab\", element=\"af04648a-2b25-4e1a-a7ad-574211c5d94f\")>,\n",
       " <selenium.webdriver.remote.webelement.WebElement (session=\"a0270776f6699ae5b356fbda0cb166ab\", element=\"4527eed0-1f8a-4aa7-8bdb-0323d7ed6e1a\")>,\n",
       " <selenium.webdriver.remote.webelement.WebElement (session=\"a0270776f6699ae5b356fbda0cb166ab\", element=\"86ea2303-8656-4eb4-a606-09b8488d5efb\")>,\n",
       " <selenium.webdriver.remote.webelement.WebElement (session=\"a0270776f6699ae5b356fbda0cb166ab\", element=\"ba0c1450-1a54-460f-bdbc-476a965d77ee\")>,\n",
       " <selenium.webdriver.remote.webelement.WebElement (session=\"a0270776f6699ae5b356fbda0cb166ab\", element=\"66270059-3a5b-49c3-b05a-7014c38aadae\")>,\n",
       " <selenium.webdriver.remote.webelement.WebElement (session=\"a0270776f6699ae5b356fbda0cb166ab\", element=\"847b6f44-d0ca-4891-9faf-56b53ecbe806\")>,\n",
       " <selenium.webdriver.remote.webelement.WebElement (session=\"a0270776f6699ae5b356fbda0cb166ab\", element=\"d05828d5-1546-46e5-b24b-39793e189d6f\")>,\n",
       " <selenium.webdriver.remote.webelement.WebElement (session=\"a0270776f6699ae5b356fbda0cb166ab\", element=\"459c6700-d8db-4fc1-ac0c-c9f37b046680\")>,\n",
       " <selenium.webdriver.remote.webelement.WebElement (session=\"a0270776f6699ae5b356fbda0cb166ab\", element=\"2854194c-fc91-4245-ba65-f68ee3c13588\")>,\n",
       " <selenium.webdriver.remote.webelement.WebElement (session=\"a0270776f6699ae5b356fbda0cb166ab\", element=\"00cb947b-f378-4d5e-8768-47368dedb313\")>,\n",
       " <selenium.webdriver.remote.webelement.WebElement (session=\"a0270776f6699ae5b356fbda0cb166ab\", element=\"c4c1a889-692c-437e-a2f3-40f74e6cbec7\")>,\n",
       " <selenium.webdriver.remote.webelement.WebElement (session=\"a0270776f6699ae5b356fbda0cb166ab\", element=\"d492892f-80bb-4568-8fc7-788242cae7a4\")>,\n",
       " <selenium.webdriver.remote.webelement.WebElement (session=\"a0270776f6699ae5b356fbda0cb166ab\", element=\"b6105b89-8295-459c-9f95-207a7845c80b\")>,\n",
       " <selenium.webdriver.remote.webelement.WebElement (session=\"a0270776f6699ae5b356fbda0cb166ab\", element=\"005c61b7-59b6-4cf9-8299-f583c9b749f7\")>,\n",
       " <selenium.webdriver.remote.webelement.WebElement (session=\"a0270776f6699ae5b356fbda0cb166ab\", element=\"747fecc3-dccd-4db2-aead-17daecd34e99\")>,\n",
       " <selenium.webdriver.remote.webelement.WebElement (session=\"a0270776f6699ae5b356fbda0cb166ab\", element=\"44cf7d1e-2d99-4781-b72e-23b9e1e34cc2\")>,\n",
       " <selenium.webdriver.remote.webelement.WebElement (session=\"a0270776f6699ae5b356fbda0cb166ab\", element=\"cdeee0ba-0c29-436b-a056-683c42c3c00e\")>,\n",
       " <selenium.webdriver.remote.webelement.WebElement (session=\"a0270776f6699ae5b356fbda0cb166ab\", element=\"af0ba027-43c6-40db-99a4-c94a555d1418\")>,\n",
       " <selenium.webdriver.remote.webelement.WebElement (session=\"a0270776f6699ae5b356fbda0cb166ab\", element=\"398cb862-3e37-4ec4-9c68-3198374485c8\")>,\n",
       " <selenium.webdriver.remote.webelement.WebElement (session=\"a0270776f6699ae5b356fbda0cb166ab\", element=\"e4383bfa-bae8-4201-9a37-a690a4e0f874\")>,\n",
       " <selenium.webdriver.remote.webelement.WebElement (session=\"a0270776f6699ae5b356fbda0cb166ab\", element=\"ff9791be-1a8d-48b4-898b-c7e464e9c31b\")>,\n",
       " <selenium.webdriver.remote.webelement.WebElement (session=\"a0270776f6699ae5b356fbda0cb166ab\", element=\"5665937b-363d-4cea-97f6-378feab66309\")>,\n",
       " <selenium.webdriver.remote.webelement.WebElement (session=\"a0270776f6699ae5b356fbda0cb166ab\", element=\"fb076e8c-c404-4870-b1c6-92ab66e6afd0\")>,\n",
       " <selenium.webdriver.remote.webelement.WebElement (session=\"a0270776f6699ae5b356fbda0cb166ab\", element=\"c96b836f-c6f3-4623-ad14-da087a87fc62\")>,\n",
       " <selenium.webdriver.remote.webelement.WebElement (session=\"a0270776f6699ae5b356fbda0cb166ab\", element=\"40d5f5a4-8f3d-4a87-a63b-212d4aa414bb\")>,\n",
       " <selenium.webdriver.remote.webelement.WebElement (session=\"a0270776f6699ae5b356fbda0cb166ab\", element=\"02221735-122b-4bdf-817f-268b8b47a919\")>,\n",
       " <selenium.webdriver.remote.webelement.WebElement (session=\"a0270776f6699ae5b356fbda0cb166ab\", element=\"f07b5c22-9443-4e85-b92b-b5bdd738f086\")>,\n",
       " <selenium.webdriver.remote.webelement.WebElement (session=\"a0270776f6699ae5b356fbda0cb166ab\", element=\"29d57306-d2b6-4107-b113-ebc6069bc614\")>,\n",
       " <selenium.webdriver.remote.webelement.WebElement (session=\"a0270776f6699ae5b356fbda0cb166ab\", element=\"ac66f003-0605-45f2-b5e3-56c3eade42f6\")>,\n",
       " <selenium.webdriver.remote.webelement.WebElement (session=\"a0270776f6699ae5b356fbda0cb166ab\", element=\"da773c2b-5378-4892-a3f0-1eb87813a0a3\")>,\n",
       " <selenium.webdriver.remote.webelement.WebElement (session=\"a0270776f6699ae5b356fbda0cb166ab\", element=\"c356ee0a-20f6-4e64-856f-5b59e2bbdbe9\")>]"
      ]
     },
     "execution_count": 230,
     "metadata": {},
     "output_type": "execute_result"
    }
   ],
   "source": [
    "#Extracting tags for discount\n",
    "\n",
    "discount_tags=driver.find_elements_by_xpath(\"//div[@class='_3Ay6Sb']\")\n",
    "discount_tags"
   ]
  },
  {
   "cell_type": "code",
   "execution_count": 231,
   "metadata": {},
   "outputs": [
    {
     "data": {
      "text/plain": [
       "['21% off',\n",
       " '83% off',\n",
       " '84% off',\n",
       " '83% off',\n",
       " '80% off',\n",
       " '77% off',\n",
       " '79% off',\n",
       " '70% off',\n",
       " '85% off',\n",
       " '72% off',\n",
       " '73% off',\n",
       " '83% off',\n",
       " '40% off',\n",
       " '20% off',\n",
       " '80% off',\n",
       " '80% off',\n",
       " '81% off',\n",
       " '63% off',\n",
       " '62% off',\n",
       " '25% off',\n",
       " '73% off',\n",
       " '68% off',\n",
       " '88% off',\n",
       " '69% off',\n",
       " '61% off',\n",
       " '15% off',\n",
       " '86% off',\n",
       " '76% off',\n",
       " '70% off',\n",
       " '80% off',\n",
       " '78% off',\n",
       " '79% off',\n",
       " '57% off',\n",
       " '85% off',\n",
       " '62% off',\n",
       " '62% off',\n",
       " '85% off',\n",
       " '80% off',\n",
       " '17% off',\n",
       " '67% off']"
      ]
     },
     "execution_count": 231,
     "metadata": {},
     "output_type": "execute_result"
    }
   ],
   "source": [
    "#Extracting text from the tags\n",
    "\n",
    "Discount_1=[]\n",
    "for i in discount_tags:\n",
    "    Discount_1.append(i.text)\n",
    "    \n",
    "Discount_1"
   ]
  },
  {
   "cell_type": "markdown",
   "metadata": {},
   "source": [
    "Scrapping for webpage done, lets scrap other webpages."
   ]
  },
  {
   "cell_type": "code",
   "execution_count": 233,
   "metadata": {},
   "outputs": [],
   "source": [
    "page_2=driver.find_element_by_xpath(\"//a[@class='ge-49M']\")\n",
    "page_2.click()"
   ]
  },
  {
   "cell_type": "code",
   "execution_count": 234,
   "metadata": {},
   "outputs": [],
   "source": [
    "url='https://www.flipkart.com/search?q=sunglasses&otracker=search&otracker1=search&marketplace=FLIPKART&as-show=on&as=off&page=2'"
   ]
  },
  {
   "cell_type": "code",
   "execution_count": 235,
   "metadata": {},
   "outputs": [],
   "source": [
    "driver.get(url)"
   ]
  },
  {
   "cell_type": "code",
   "execution_count": 237,
   "metadata": {},
   "outputs": [
    {
     "data": {
      "text/plain": [
       "[<selenium.webdriver.remote.webelement.WebElement (session=\"a0270776f6699ae5b356fbda0cb166ab\", element=\"92055066-9964-4049-baf2-d73120865e06\")>,\n",
       " <selenium.webdriver.remote.webelement.WebElement (session=\"a0270776f6699ae5b356fbda0cb166ab\", element=\"e4f0da3a-4360-40d5-86fa-d93205140c9c\")>,\n",
       " <selenium.webdriver.remote.webelement.WebElement (session=\"a0270776f6699ae5b356fbda0cb166ab\", element=\"1559691d-697d-4c9a-802b-eb2f12531ee2\")>,\n",
       " <selenium.webdriver.remote.webelement.WebElement (session=\"a0270776f6699ae5b356fbda0cb166ab\", element=\"16a41034-ff08-4a4e-a127-8fe4997131a2\")>,\n",
       " <selenium.webdriver.remote.webelement.WebElement (session=\"a0270776f6699ae5b356fbda0cb166ab\", element=\"39af4b04-c1a3-44bd-b01d-845021942dc4\")>,\n",
       " <selenium.webdriver.remote.webelement.WebElement (session=\"a0270776f6699ae5b356fbda0cb166ab\", element=\"49848732-ef09-4681-a2db-5e72a5e10a46\")>,\n",
       " <selenium.webdriver.remote.webelement.WebElement (session=\"a0270776f6699ae5b356fbda0cb166ab\", element=\"da390b40-79ee-4c12-b5e8-1ca9f321ce35\")>,\n",
       " <selenium.webdriver.remote.webelement.WebElement (session=\"a0270776f6699ae5b356fbda0cb166ab\", element=\"a2cf8e2c-91e3-4e52-9db5-84e083cafdd8\")>,\n",
       " <selenium.webdriver.remote.webelement.WebElement (session=\"a0270776f6699ae5b356fbda0cb166ab\", element=\"4d94907d-b585-4539-b6ef-0a2b609fa8f0\")>,\n",
       " <selenium.webdriver.remote.webelement.WebElement (session=\"a0270776f6699ae5b356fbda0cb166ab\", element=\"30ff0ff7-8635-47d6-9056-5528b6cd7722\")>,\n",
       " <selenium.webdriver.remote.webelement.WebElement (session=\"a0270776f6699ae5b356fbda0cb166ab\", element=\"5756c58f-35fb-48a7-9a05-a41632e52afe\")>,\n",
       " <selenium.webdriver.remote.webelement.WebElement (session=\"a0270776f6699ae5b356fbda0cb166ab\", element=\"16973ecb-c93f-4d8b-b407-0dbbf69b9450\")>,\n",
       " <selenium.webdriver.remote.webelement.WebElement (session=\"a0270776f6699ae5b356fbda0cb166ab\", element=\"9f75aa1f-3749-4671-8244-134ce1c41cb2\")>,\n",
       " <selenium.webdriver.remote.webelement.WebElement (session=\"a0270776f6699ae5b356fbda0cb166ab\", element=\"bc9d6c76-d88c-46b9-bae2-1b851209e772\")>,\n",
       " <selenium.webdriver.remote.webelement.WebElement (session=\"a0270776f6699ae5b356fbda0cb166ab\", element=\"160c57d4-f10b-42d2-a9d5-b37d7fd7eafc\")>,\n",
       " <selenium.webdriver.remote.webelement.WebElement (session=\"a0270776f6699ae5b356fbda0cb166ab\", element=\"f8678e5e-feab-42bb-bfb6-419398145e96\")>,\n",
       " <selenium.webdriver.remote.webelement.WebElement (session=\"a0270776f6699ae5b356fbda0cb166ab\", element=\"c1f310dd-14ed-4f0c-83d3-471bc7bc5dee\")>,\n",
       " <selenium.webdriver.remote.webelement.WebElement (session=\"a0270776f6699ae5b356fbda0cb166ab\", element=\"fef89e82-4b3a-4ef5-a526-a6c4d1165a87\")>,\n",
       " <selenium.webdriver.remote.webelement.WebElement (session=\"a0270776f6699ae5b356fbda0cb166ab\", element=\"c44f0325-4d84-457f-8f8a-2776eeefed19\")>,\n",
       " <selenium.webdriver.remote.webelement.WebElement (session=\"a0270776f6699ae5b356fbda0cb166ab\", element=\"c22f91b0-0dae-4d3e-a83b-9106dc872f24\")>,\n",
       " <selenium.webdriver.remote.webelement.WebElement (session=\"a0270776f6699ae5b356fbda0cb166ab\", element=\"f30d4ac8-fbfd-4877-abeb-9aefcf4755d5\")>,\n",
       " <selenium.webdriver.remote.webelement.WebElement (session=\"a0270776f6699ae5b356fbda0cb166ab\", element=\"ca504de6-c46c-42bb-84cf-7a66e3108003\")>,\n",
       " <selenium.webdriver.remote.webelement.WebElement (session=\"a0270776f6699ae5b356fbda0cb166ab\", element=\"44aabfc0-c007-4b45-85ed-116b47e95785\")>,\n",
       " <selenium.webdriver.remote.webelement.WebElement (session=\"a0270776f6699ae5b356fbda0cb166ab\", element=\"d6a57698-6ca9-445a-b777-3c3205279350\")>,\n",
       " <selenium.webdriver.remote.webelement.WebElement (session=\"a0270776f6699ae5b356fbda0cb166ab\", element=\"de486375-10f2-4cdb-8d5d-7a0a34d6cbd5\")>,\n",
       " <selenium.webdriver.remote.webelement.WebElement (session=\"a0270776f6699ae5b356fbda0cb166ab\", element=\"e4ef6b4e-361a-45c7-aade-8704e01133cb\")>,\n",
       " <selenium.webdriver.remote.webelement.WebElement (session=\"a0270776f6699ae5b356fbda0cb166ab\", element=\"98dd47fb-420f-4ffb-b308-3d97da3db179\")>,\n",
       " <selenium.webdriver.remote.webelement.WebElement (session=\"a0270776f6699ae5b356fbda0cb166ab\", element=\"60117e4c-d693-4310-88ce-5a8f397b65e3\")>,\n",
       " <selenium.webdriver.remote.webelement.WebElement (session=\"a0270776f6699ae5b356fbda0cb166ab\", element=\"ac274209-b3db-45f2-b683-0bdb165d4fa1\")>,\n",
       " <selenium.webdriver.remote.webelement.WebElement (session=\"a0270776f6699ae5b356fbda0cb166ab\", element=\"5681304e-a96e-4281-b29a-d82291977fe2\")>,\n",
       " <selenium.webdriver.remote.webelement.WebElement (session=\"a0270776f6699ae5b356fbda0cb166ab\", element=\"8f31c8e5-ad7f-49fd-9c5c-5942ca1de8d3\")>,\n",
       " <selenium.webdriver.remote.webelement.WebElement (session=\"a0270776f6699ae5b356fbda0cb166ab\", element=\"11208d1a-8848-4a84-98a8-140d4ced51e3\")>,\n",
       " <selenium.webdriver.remote.webelement.WebElement (session=\"a0270776f6699ae5b356fbda0cb166ab\", element=\"175af952-3780-4dd1-801b-82e787661ac4\")>,\n",
       " <selenium.webdriver.remote.webelement.WebElement (session=\"a0270776f6699ae5b356fbda0cb166ab\", element=\"df6b9fab-0978-4783-aae0-53befdb1eb82\")>,\n",
       " <selenium.webdriver.remote.webelement.WebElement (session=\"a0270776f6699ae5b356fbda0cb166ab\", element=\"f70613e0-3251-4a64-a6f2-c4fb8c5f452e\")>,\n",
       " <selenium.webdriver.remote.webelement.WebElement (session=\"a0270776f6699ae5b356fbda0cb166ab\", element=\"de99b57f-dbef-4355-b3d0-fbcd49082d43\")>,\n",
       " <selenium.webdriver.remote.webelement.WebElement (session=\"a0270776f6699ae5b356fbda0cb166ab\", element=\"9b5913e7-e05f-4a7e-bb97-8b1e547bab24\")>,\n",
       " <selenium.webdriver.remote.webelement.WebElement (session=\"a0270776f6699ae5b356fbda0cb166ab\", element=\"a3555885-8474-43fb-a712-8f9eb6897799\")>,\n",
       " <selenium.webdriver.remote.webelement.WebElement (session=\"a0270776f6699ae5b356fbda0cb166ab\", element=\"01ec3bae-58dc-482f-9c2d-f8be6552499e\")>,\n",
       " <selenium.webdriver.remote.webelement.WebElement (session=\"a0270776f6699ae5b356fbda0cb166ab\", element=\"97685065-6b60-4a52-87bb-8076deef8ba9\")>]"
      ]
     },
     "execution_count": 237,
     "metadata": {},
     "output_type": "execute_result"
    }
   ],
   "source": [
    "brand_tag=driver.find_elements_by_xpath(\"//div[@class='_2WkVRV']\")\n",
    "brand_tag"
   ]
  },
  {
   "cell_type": "code",
   "execution_count": 238,
   "metadata": {},
   "outputs": [
    {
     "data": {
      "text/plain": [
       "['Fastrack',\n",
       " 'Singco India',\n",
       " 'PIRASO',\n",
       " 'ROZZETTA CRAFT',\n",
       " 'PHENOMENAL',\n",
       " 'ROYAL SON',\n",
       " 'DEIXELS',\n",
       " 'GANSTA',\n",
       " 'elegante',\n",
       " 'hipe',\n",
       " 'Ray-Ban',\n",
       " 'AISLIN',\n",
       " 'Fastrack',\n",
       " 'ROZZETTA CRAFT',\n",
       " 'PHENOMENAL',\n",
       " 'Singco India',\n",
       " 'ROYAL SON',\n",
       " 'PIRASO',\n",
       " 'GANSTA',\n",
       " 'hipe',\n",
       " 'elegante',\n",
       " 'Fastrack',\n",
       " 'ROZZETTA CRAFT',\n",
       " 'Singco India',\n",
       " 'PHENOMENAL',\n",
       " 'ROYAL SON',\n",
       " 'GANSTA',\n",
       " 'hipe',\n",
       " 'Fastrack',\n",
       " 'ROYAL SON',\n",
       " 'Singco India',\n",
       " 'PHENOMENAL',\n",
       " 'ROZZETTA CRAFT',\n",
       " 'GANSTA',\n",
       " 'hipe',\n",
       " 'Fastrack',\n",
       " 'ROYAL SON',\n",
       " 'ROZZETTA CRAFT',\n",
       " 'PHENOMENAL',\n",
       " 'Fastrack']"
      ]
     },
     "execution_count": 238,
     "metadata": {},
     "output_type": "execute_result"
    }
   ],
   "source": [
    "Brands_2=[]\n",
    "for i in brand_tag:\n",
    "    Brands_2.append(i.text)\n",
    "    \n",
    "Brands_2\n"
   ]
  },
  {
   "cell_type": "code",
   "execution_count": 239,
   "metadata": {},
   "outputs": [
    {
     "data": {
      "text/plain": [
       "[<selenium.webdriver.remote.webelement.WebElement (session=\"a0270776f6699ae5b356fbda0cb166ab\", element=\"7d0acf43-baee-4e97-97ca-542f34bfe4d5\")>,\n",
       " <selenium.webdriver.remote.webelement.WebElement (session=\"a0270776f6699ae5b356fbda0cb166ab\", element=\"1321421c-7bd8-4f04-bf7c-f5bbe9aa95f8\")>,\n",
       " <selenium.webdriver.remote.webelement.WebElement (session=\"a0270776f6699ae5b356fbda0cb166ab\", element=\"be4e95d0-3582-4e04-a147-b72c46ad75dc\")>,\n",
       " <selenium.webdriver.remote.webelement.WebElement (session=\"a0270776f6699ae5b356fbda0cb166ab\", element=\"8bad5c81-639c-42bf-bef7-406f53bd12c1\")>,\n",
       " <selenium.webdriver.remote.webelement.WebElement (session=\"a0270776f6699ae5b356fbda0cb166ab\", element=\"3fa1773b-ec9e-459e-95a4-1fa431a81452\")>,\n",
       " <selenium.webdriver.remote.webelement.WebElement (session=\"a0270776f6699ae5b356fbda0cb166ab\", element=\"b7fde10a-39ed-436e-a3b7-b5079af3c0e5\")>,\n",
       " <selenium.webdriver.remote.webelement.WebElement (session=\"a0270776f6699ae5b356fbda0cb166ab\", element=\"acb56df1-1780-427c-8a88-d82fbdf5f28e\")>,\n",
       " <selenium.webdriver.remote.webelement.WebElement (session=\"a0270776f6699ae5b356fbda0cb166ab\", element=\"3720a1be-4522-473a-8b9d-e188bd0bec77\")>,\n",
       " <selenium.webdriver.remote.webelement.WebElement (session=\"a0270776f6699ae5b356fbda0cb166ab\", element=\"f721f096-665d-4b68-8bb4-b578e2b51b40\")>,\n",
       " <selenium.webdriver.remote.webelement.WebElement (session=\"a0270776f6699ae5b356fbda0cb166ab\", element=\"c18e944e-1105-410f-886d-f625b3af2e95\")>,\n",
       " <selenium.webdriver.remote.webelement.WebElement (session=\"a0270776f6699ae5b356fbda0cb166ab\", element=\"1c1e0b63-5035-48f9-acab-f74a53c9c7ae\")>,\n",
       " <selenium.webdriver.remote.webelement.WebElement (session=\"a0270776f6699ae5b356fbda0cb166ab\", element=\"d8f59a0e-038b-4418-95c6-71aaf4a01f2c\")>,\n",
       " <selenium.webdriver.remote.webelement.WebElement (session=\"a0270776f6699ae5b356fbda0cb166ab\", element=\"cbbc76e4-345c-46c4-a089-4789d07561d2\")>,\n",
       " <selenium.webdriver.remote.webelement.WebElement (session=\"a0270776f6699ae5b356fbda0cb166ab\", element=\"a9bbb329-755a-4427-8459-22ff9e012918\")>,\n",
       " <selenium.webdriver.remote.webelement.WebElement (session=\"a0270776f6699ae5b356fbda0cb166ab\", element=\"0e37a174-21bd-45e6-992a-db2bfebad45d\")>,\n",
       " <selenium.webdriver.remote.webelement.WebElement (session=\"a0270776f6699ae5b356fbda0cb166ab\", element=\"fbfe1b52-de87-4c83-bde9-6e7326914f50\")>,\n",
       " <selenium.webdriver.remote.webelement.WebElement (session=\"a0270776f6699ae5b356fbda0cb166ab\", element=\"1474dd93-da5a-442a-bc32-5923b7f00aea\")>,\n",
       " <selenium.webdriver.remote.webelement.WebElement (session=\"a0270776f6699ae5b356fbda0cb166ab\", element=\"68bd81e7-18d0-4042-a910-c6b35304420c\")>,\n",
       " <selenium.webdriver.remote.webelement.WebElement (session=\"a0270776f6699ae5b356fbda0cb166ab\", element=\"5888d870-0591-4b74-9f9b-e5a5cde0d39e\")>,\n",
       " <selenium.webdriver.remote.webelement.WebElement (session=\"a0270776f6699ae5b356fbda0cb166ab\", element=\"2a8c23cf-fe3e-4f9b-8d3f-2c1b09c2c790\")>,\n",
       " <selenium.webdriver.remote.webelement.WebElement (session=\"a0270776f6699ae5b356fbda0cb166ab\", element=\"fcafa301-ae76-493e-be20-3501b9456b74\")>,\n",
       " <selenium.webdriver.remote.webelement.WebElement (session=\"a0270776f6699ae5b356fbda0cb166ab\", element=\"2092f3fd-23a2-4cba-b0fe-cab63abd8528\")>,\n",
       " <selenium.webdriver.remote.webelement.WebElement (session=\"a0270776f6699ae5b356fbda0cb166ab\", element=\"37042979-a3b5-438e-a957-6c9743adf879\")>,\n",
       " <selenium.webdriver.remote.webelement.WebElement (session=\"a0270776f6699ae5b356fbda0cb166ab\", element=\"e6f1dec6-1933-49a6-9225-e35bc3e216ce\")>,\n",
       " <selenium.webdriver.remote.webelement.WebElement (session=\"a0270776f6699ae5b356fbda0cb166ab\", element=\"7d693139-fc04-4792-822b-df29cc42b84f\")>,\n",
       " <selenium.webdriver.remote.webelement.WebElement (session=\"a0270776f6699ae5b356fbda0cb166ab\", element=\"c132ab1f-78b9-4b04-bd70-624fbdeeec8e\")>,\n",
       " <selenium.webdriver.remote.webelement.WebElement (session=\"a0270776f6699ae5b356fbda0cb166ab\", element=\"68e0584d-29f0-4194-bfdc-49aed0c9f3d0\")>,\n",
       " <selenium.webdriver.remote.webelement.WebElement (session=\"a0270776f6699ae5b356fbda0cb166ab\", element=\"1b5ff3ae-5eca-4d26-b496-64506fb6c73d\")>,\n",
       " <selenium.webdriver.remote.webelement.WebElement (session=\"a0270776f6699ae5b356fbda0cb166ab\", element=\"8a618b2b-5682-48e6-aebe-ce130e230498\")>,\n",
       " <selenium.webdriver.remote.webelement.WebElement (session=\"a0270776f6699ae5b356fbda0cb166ab\", element=\"d52b6753-e02a-487f-a153-9e1462fce4fe\")>,\n",
       " <selenium.webdriver.remote.webelement.WebElement (session=\"a0270776f6699ae5b356fbda0cb166ab\", element=\"35b6ebca-8441-4feb-82b4-05b49751faab\")>,\n",
       " <selenium.webdriver.remote.webelement.WebElement (session=\"a0270776f6699ae5b356fbda0cb166ab\", element=\"aac6c3e1-0166-4cdf-988c-600e7bbd303b\")>,\n",
       " <selenium.webdriver.remote.webelement.WebElement (session=\"a0270776f6699ae5b356fbda0cb166ab\", element=\"f193bd81-e17e-41cb-889e-0a8c075b38c1\")>,\n",
       " <selenium.webdriver.remote.webelement.WebElement (session=\"a0270776f6699ae5b356fbda0cb166ab\", element=\"c0848aaf-8007-4a53-89fa-88cf8a920dd6\")>,\n",
       " <selenium.webdriver.remote.webelement.WebElement (session=\"a0270776f6699ae5b356fbda0cb166ab\", element=\"352d7b2c-ca4c-43b9-9010-94f70cd3a7d1\")>,\n",
       " <selenium.webdriver.remote.webelement.WebElement (session=\"a0270776f6699ae5b356fbda0cb166ab\", element=\"6c7da74d-56c2-43be-b0e9-814fca8e5662\")>,\n",
       " <selenium.webdriver.remote.webelement.WebElement (session=\"a0270776f6699ae5b356fbda0cb166ab\", element=\"265a14ec-d2ee-4a2f-9713-cc77a5b013b2\")>,\n",
       " <selenium.webdriver.remote.webelement.WebElement (session=\"a0270776f6699ae5b356fbda0cb166ab\", element=\"88e7d158-898d-409e-98b4-227340522d7a\")>,\n",
       " <selenium.webdriver.remote.webelement.WebElement (session=\"a0270776f6699ae5b356fbda0cb166ab\", element=\"e3458bd4-0dd9-45b9-a3dd-3c31a719dd8e\")>,\n",
       " <selenium.webdriver.remote.webelement.WebElement (session=\"a0270776f6699ae5b356fbda0cb166ab\", element=\"9653da17-5801-4a48-8ec7-7e0bc3010fcb\")>]"
      ]
     },
     "execution_count": 239,
     "metadata": {},
     "output_type": "execute_result"
    }
   ],
   "source": [
    "desc_tag=driver.find_elements_by_xpath(\"//a[@class='IRpwTa']\")\n",
    "desc_tag"
   ]
  },
  {
   "cell_type": "code",
   "execution_count": 240,
   "metadata": {},
   "outputs": [
    {
     "data": {
      "text/plain": [
       "['UV Protection Aviator Sunglasses (Free Size)',\n",
       " 'UV Protection Aviator Sunglasses (Free Size)',\n",
       " 'UV Protection Aviator Sunglasses (54)',\n",
       " 'UV Protection Retro Square Sunglasses (Free Size)',\n",
       " 'UV Protection, Mirrored Retro Square Sunglasses (Free S...',\n",
       " 'UV Protection Wayfarer Sunglasses (55)',\n",
       " 'UV Protection Aviator, Wayfarer Sunglasses (Free Size)',\n",
       " 'UV Protection, Gradient Wayfarer Sunglasses (53)',\n",
       " 'UV Protection Round Sunglasses (Free Size)',\n",
       " 'UV Protection, Night Vision, Riding Glasses, Gradient, ...',\n",
       " 'UV Protection Retro Square Sunglasses (55)',\n",
       " 'UV Protection, Gradient Oval Sunglasses (58)',\n",
       " 'UV Protection Wayfarer Sunglasses (Free Size)',\n",
       " 'UV Protection, Riding Glasses Rectangular Sunglasses (F...',\n",
       " 'UV Protection, Mirrored Retro Square Sunglasses (53)',\n",
       " 'Riding Glasses, UV Protection, Others Aviator Sunglasse...',\n",
       " 'Polarized, UV Protection Round Sunglasses (49)',\n",
       " 'UV Protection Wayfarer Sunglasses (32)',\n",
       " 'UV Protection, Mirrored Wayfarer Sunglasses (53)',\n",
       " 'Mirrored Wayfarer Sunglasses (55)',\n",
       " 'UV Protection Round Sunglasses (Free Size)',\n",
       " 'UV Protection Aviator Sunglasses (58)',\n",
       " 'UV Protection, Gradient Rectangular Sunglasses (Free Si...',\n",
       " 'Mirrored, UV Protection, Riding Glasses, Others Wrap-ar...',\n",
       " 'UV Protection Clubmaster Sunglasses (Free Size)',\n",
       " 'UV Protection Rectangular Sunglasses (58)',\n",
       " 'UV Protection Aviator Sunglasses (57)',\n",
       " 'Gradient, UV Protection Round Sunglasses (Free Size)',\n",
       " 'UV Protection Wayfarer Sunglasses (56)',\n",
       " 'Polarized, UV Protection Aviator Sunglasses (58)',\n",
       " 'UV Protection Round Sunglasses (Free Size)',\n",
       " 'UV Protection, Mirrored Clubmaster Sunglasses (Free Siz...',\n",
       " 'Gradient, UV Protection Round Sunglasses (Free Size)',\n",
       " 'UV Protection Aviator Sunglasses (57)',\n",
       " 'UV Protection, Mirrored Aviator Sunglasses (Free Size)',\n",
       " 'UV Protection Wayfarer Sunglasses (Free Size)',\n",
       " 'Gradient, UV Protection Round, Oval, Cat-eye Sunglasses...',\n",
       " 'UV Protection, Gradient Round Sunglasses (Free Size)',\n",
       " 'UV Protection Retro Square Sunglasses (Free Size)',\n",
       " 'UV Protection Aviator Sunglasses (58)']"
      ]
     },
     "execution_count": 240,
     "metadata": {},
     "output_type": "execute_result"
    }
   ],
   "source": [
    "Desc_2=[]\n",
    "for i in desc_tag:\n",
    "    Desc_2.append(i.text)\n",
    "    \n",
    "Desc_2"
   ]
  },
  {
   "cell_type": "code",
   "execution_count": 241,
   "metadata": {},
   "outputs": [
    {
     "data": {
      "text/plain": [
       "[<selenium.webdriver.remote.webelement.WebElement (session=\"a0270776f6699ae5b356fbda0cb166ab\", element=\"1b2a35da-0c36-430d-a9e8-b3adb7f57193\")>,\n",
       " <selenium.webdriver.remote.webelement.WebElement (session=\"a0270776f6699ae5b356fbda0cb166ab\", element=\"67195df8-385e-4358-a57a-46ccac52fdac\")>,\n",
       " <selenium.webdriver.remote.webelement.WebElement (session=\"a0270776f6699ae5b356fbda0cb166ab\", element=\"e080fe5b-28a7-4e9e-8830-a1974b79b4fd\")>,\n",
       " <selenium.webdriver.remote.webelement.WebElement (session=\"a0270776f6699ae5b356fbda0cb166ab\", element=\"202b97e2-3950-45ab-8238-08a190ff15bb\")>,\n",
       " <selenium.webdriver.remote.webelement.WebElement (session=\"a0270776f6699ae5b356fbda0cb166ab\", element=\"0f5683a2-251c-4b1f-a10b-9b562172f3b0\")>,\n",
       " <selenium.webdriver.remote.webelement.WebElement (session=\"a0270776f6699ae5b356fbda0cb166ab\", element=\"f9ab72d6-2674-49f8-81b1-52e8485d100e\")>,\n",
       " <selenium.webdriver.remote.webelement.WebElement (session=\"a0270776f6699ae5b356fbda0cb166ab\", element=\"81eab7b7-e5b4-4b90-a206-3d8e4586ec8f\")>,\n",
       " <selenium.webdriver.remote.webelement.WebElement (session=\"a0270776f6699ae5b356fbda0cb166ab\", element=\"b9edf4e2-c2c5-4fef-8251-9ababbd8e8b8\")>,\n",
       " <selenium.webdriver.remote.webelement.WebElement (session=\"a0270776f6699ae5b356fbda0cb166ab\", element=\"7ff3d44b-c9be-4310-9ab2-3f94e2f51ca7\")>,\n",
       " <selenium.webdriver.remote.webelement.WebElement (session=\"a0270776f6699ae5b356fbda0cb166ab\", element=\"7efd8a91-c0e3-4d5d-aa51-5831675fe1cc\")>,\n",
       " <selenium.webdriver.remote.webelement.WebElement (session=\"a0270776f6699ae5b356fbda0cb166ab\", element=\"a8c58802-1403-4f3a-8a93-5a7eed87176a\")>,\n",
       " <selenium.webdriver.remote.webelement.WebElement (session=\"a0270776f6699ae5b356fbda0cb166ab\", element=\"c3da53cd-390a-48d2-b6f7-7c000309aaa2\")>,\n",
       " <selenium.webdriver.remote.webelement.WebElement (session=\"a0270776f6699ae5b356fbda0cb166ab\", element=\"626c0554-9fc0-4267-a61d-707223b62239\")>,\n",
       " <selenium.webdriver.remote.webelement.WebElement (session=\"a0270776f6699ae5b356fbda0cb166ab\", element=\"c3292677-d935-4d61-80f8-f81abb42c3c6\")>,\n",
       " <selenium.webdriver.remote.webelement.WebElement (session=\"a0270776f6699ae5b356fbda0cb166ab\", element=\"0b6d7097-c31c-488c-bb8e-c89e5a38b847\")>,\n",
       " <selenium.webdriver.remote.webelement.WebElement (session=\"a0270776f6699ae5b356fbda0cb166ab\", element=\"a05f46b1-3007-4226-9ad3-86413455ea8d\")>,\n",
       " <selenium.webdriver.remote.webelement.WebElement (session=\"a0270776f6699ae5b356fbda0cb166ab\", element=\"7190fee3-f39e-415a-aada-fa5b5e0e5ee4\")>,\n",
       " <selenium.webdriver.remote.webelement.WebElement (session=\"a0270776f6699ae5b356fbda0cb166ab\", element=\"11174cf2-37c2-4e31-a448-69bcfc2571ef\")>,\n",
       " <selenium.webdriver.remote.webelement.WebElement (session=\"a0270776f6699ae5b356fbda0cb166ab\", element=\"0363ea8e-fe42-4bf6-ac95-817d01995cf3\")>,\n",
       " <selenium.webdriver.remote.webelement.WebElement (session=\"a0270776f6699ae5b356fbda0cb166ab\", element=\"0ce51dfe-6c21-4a1b-81f2-ac615e7e4899\")>,\n",
       " <selenium.webdriver.remote.webelement.WebElement (session=\"a0270776f6699ae5b356fbda0cb166ab\", element=\"6dd7248d-3bd1-4ed4-84ca-180e2d5ba982\")>,\n",
       " <selenium.webdriver.remote.webelement.WebElement (session=\"a0270776f6699ae5b356fbda0cb166ab\", element=\"306223d6-b9e0-469e-a5ac-6970c372f854\")>,\n",
       " <selenium.webdriver.remote.webelement.WebElement (session=\"a0270776f6699ae5b356fbda0cb166ab\", element=\"246bdfb9-a27b-477a-8822-1a6a9af93cab\")>,\n",
       " <selenium.webdriver.remote.webelement.WebElement (session=\"a0270776f6699ae5b356fbda0cb166ab\", element=\"78c6147b-90ed-4fa1-8726-7c0f7f71583a\")>,\n",
       " <selenium.webdriver.remote.webelement.WebElement (session=\"a0270776f6699ae5b356fbda0cb166ab\", element=\"8bbf7a71-f799-4172-abbd-cbe296fe2105\")>,\n",
       " <selenium.webdriver.remote.webelement.WebElement (session=\"a0270776f6699ae5b356fbda0cb166ab\", element=\"6c8d8f12-cb1c-47a5-83f9-4d9320482490\")>,\n",
       " <selenium.webdriver.remote.webelement.WebElement (session=\"a0270776f6699ae5b356fbda0cb166ab\", element=\"af0f8bec-1cc2-46a0-b336-57378cbe1beb\")>,\n",
       " <selenium.webdriver.remote.webelement.WebElement (session=\"a0270776f6699ae5b356fbda0cb166ab\", element=\"0586a43e-f5dc-4aa6-b639-673105eb37c8\")>,\n",
       " <selenium.webdriver.remote.webelement.WebElement (session=\"a0270776f6699ae5b356fbda0cb166ab\", element=\"bff00549-db68-4833-8bcc-3d434e46a85a\")>,\n",
       " <selenium.webdriver.remote.webelement.WebElement (session=\"a0270776f6699ae5b356fbda0cb166ab\", element=\"9df7ec3c-2d61-49b9-be12-512b52e14b3f\")>,\n",
       " <selenium.webdriver.remote.webelement.WebElement (session=\"a0270776f6699ae5b356fbda0cb166ab\", element=\"bc51824f-309d-4d44-aae9-fad1f39a12ee\")>,\n",
       " <selenium.webdriver.remote.webelement.WebElement (session=\"a0270776f6699ae5b356fbda0cb166ab\", element=\"6f3222b7-ed84-458c-ab29-4331536cc531\")>,\n",
       " <selenium.webdriver.remote.webelement.WebElement (session=\"a0270776f6699ae5b356fbda0cb166ab\", element=\"a6a01e90-5333-4766-b24c-976426c29a98\")>,\n",
       " <selenium.webdriver.remote.webelement.WebElement (session=\"a0270776f6699ae5b356fbda0cb166ab\", element=\"fb0033a1-fb63-4a78-b58c-9544d92e6623\")>,\n",
       " <selenium.webdriver.remote.webelement.WebElement (session=\"a0270776f6699ae5b356fbda0cb166ab\", element=\"d9ad330b-6352-45a5-8075-a88ac824e0fb\")>,\n",
       " <selenium.webdriver.remote.webelement.WebElement (session=\"a0270776f6699ae5b356fbda0cb166ab\", element=\"cd343f5e-19a8-45e1-ba0e-ac0d40c3fa41\")>,\n",
       " <selenium.webdriver.remote.webelement.WebElement (session=\"a0270776f6699ae5b356fbda0cb166ab\", element=\"c91cab2f-98a3-4d59-af7c-517a2afa0712\")>,\n",
       " <selenium.webdriver.remote.webelement.WebElement (session=\"a0270776f6699ae5b356fbda0cb166ab\", element=\"5fedeb16-1e63-425e-8e43-2df3b82e8da3\")>,\n",
       " <selenium.webdriver.remote.webelement.WebElement (session=\"a0270776f6699ae5b356fbda0cb166ab\", element=\"76c368e7-eef3-4593-b52d-8ab87968492b\")>,\n",
       " <selenium.webdriver.remote.webelement.WebElement (session=\"a0270776f6699ae5b356fbda0cb166ab\", element=\"131a8d69-f1db-4cb3-a318-8473c4ecbce8\")>]"
      ]
     },
     "execution_count": 241,
     "metadata": {},
     "output_type": "execute_result"
    }
   ],
   "source": [
    "price_tags=driver.find_elements_by_xpath(\"//div[@class='_30jeq3']\")\n",
    "price_tags"
   ]
  },
  {
   "cell_type": "code",
   "execution_count": 243,
   "metadata": {},
   "outputs": [
    {
     "data": {
      "text/plain": [
       "['₹674',\n",
       " '₹339',\n",
       " '₹250',\n",
       " '₹499',\n",
       " '₹399',\n",
       " '₹265',\n",
       " '₹213',\n",
       " '₹328',\n",
       " '₹399',\n",
       " '₹210',\n",
       " '₹4,467',\n",
       " '₹525',\n",
       " '₹733',\n",
       " '₹449',\n",
       " '₹399',\n",
       " '₹239',\n",
       " '₹699',\n",
       " '₹250',\n",
       " '₹211',\n",
       " '₹219',\n",
       " '₹199',\n",
       " '₹1,123',\n",
       " '₹499',\n",
       " '₹349',\n",
       " '₹319',\n",
       " '₹474',\n",
       " '₹374',\n",
       " '₹219',\n",
       " '₹759',\n",
       " '₹711',\n",
       " '₹205',\n",
       " '₹319',\n",
       " '₹449',\n",
       " '₹328',\n",
       " '₹199',\n",
       " '₹758',\n",
       " '₹699',\n",
       " '₹449',\n",
       " '₹399',\n",
       " '₹1,085']"
      ]
     },
     "execution_count": 243,
     "metadata": {},
     "output_type": "execute_result"
    }
   ],
   "source": [
    "Price_2=[]\n",
    "for i in price_tags:\n",
    "    Price_2.append(i.text)\n",
    "    \n",
    "Price_2"
   ]
  },
  {
   "cell_type": "code",
   "execution_count": 244,
   "metadata": {},
   "outputs": [
    {
     "data": {
      "text/plain": [
       "[<selenium.webdriver.remote.webelement.WebElement (session=\"a0270776f6699ae5b356fbda0cb166ab\", element=\"9f887d7b-ed87-4143-9be0-ea48a4c74a57\")>,\n",
       " <selenium.webdriver.remote.webelement.WebElement (session=\"a0270776f6699ae5b356fbda0cb166ab\", element=\"e932ff50-eaa9-48c1-9748-2359da6afca7\")>,\n",
       " <selenium.webdriver.remote.webelement.WebElement (session=\"a0270776f6699ae5b356fbda0cb166ab\", element=\"353097d2-34c4-44c4-bbbe-2fc1728fc544\")>,\n",
       " <selenium.webdriver.remote.webelement.WebElement (session=\"a0270776f6699ae5b356fbda0cb166ab\", element=\"f41d56b0-eea3-4c84-9a10-0d547c930928\")>,\n",
       " <selenium.webdriver.remote.webelement.WebElement (session=\"a0270776f6699ae5b356fbda0cb166ab\", element=\"6401dfc8-c692-496e-96c8-b25e1b76d766\")>,\n",
       " <selenium.webdriver.remote.webelement.WebElement (session=\"a0270776f6699ae5b356fbda0cb166ab\", element=\"3021f069-0a76-487e-9d50-f8ebeba1b2dc\")>,\n",
       " <selenium.webdriver.remote.webelement.WebElement (session=\"a0270776f6699ae5b356fbda0cb166ab\", element=\"4fe08729-632e-449c-b80e-88b3cd5197bb\")>,\n",
       " <selenium.webdriver.remote.webelement.WebElement (session=\"a0270776f6699ae5b356fbda0cb166ab\", element=\"658869df-7c45-43f3-91ef-2c693b7e904a\")>,\n",
       " <selenium.webdriver.remote.webelement.WebElement (session=\"a0270776f6699ae5b356fbda0cb166ab\", element=\"332e596b-20ba-4fdc-bac9-feeff2f8ac47\")>,\n",
       " <selenium.webdriver.remote.webelement.WebElement (session=\"a0270776f6699ae5b356fbda0cb166ab\", element=\"1d76b7c1-77a4-4028-b1ff-2b5e9d329cb8\")>,\n",
       " <selenium.webdriver.remote.webelement.WebElement (session=\"a0270776f6699ae5b356fbda0cb166ab\", element=\"c830ee16-2220-4376-abdf-0b97a084a66e\")>,\n",
       " <selenium.webdriver.remote.webelement.WebElement (session=\"a0270776f6699ae5b356fbda0cb166ab\", element=\"cf42f8b3-f216-454e-95d8-a519c39a0abd\")>,\n",
       " <selenium.webdriver.remote.webelement.WebElement (session=\"a0270776f6699ae5b356fbda0cb166ab\", element=\"b1b9cdf4-42e4-41bb-a68e-25570b245faa\")>,\n",
       " <selenium.webdriver.remote.webelement.WebElement (session=\"a0270776f6699ae5b356fbda0cb166ab\", element=\"4b0362a9-b434-4a1a-a911-a20275e5ad95\")>,\n",
       " <selenium.webdriver.remote.webelement.WebElement (session=\"a0270776f6699ae5b356fbda0cb166ab\", element=\"c9ab7a28-a145-4a1e-95cf-d6b100757399\")>,\n",
       " <selenium.webdriver.remote.webelement.WebElement (session=\"a0270776f6699ae5b356fbda0cb166ab\", element=\"2dd2fd80-2300-4423-8f49-abdc723c4acd\")>,\n",
       " <selenium.webdriver.remote.webelement.WebElement (session=\"a0270776f6699ae5b356fbda0cb166ab\", element=\"21bb912b-3cf2-46d1-9b3e-bd7627205e51\")>,\n",
       " <selenium.webdriver.remote.webelement.WebElement (session=\"a0270776f6699ae5b356fbda0cb166ab\", element=\"44d70288-2830-4f54-b1a0-2da894ffced8\")>,\n",
       " <selenium.webdriver.remote.webelement.WebElement (session=\"a0270776f6699ae5b356fbda0cb166ab\", element=\"8501c257-3238-4959-bae5-940f1ae88af0\")>,\n",
       " <selenium.webdriver.remote.webelement.WebElement (session=\"a0270776f6699ae5b356fbda0cb166ab\", element=\"75463fdb-e088-4e84-87d1-c46e8210221c\")>,\n",
       " <selenium.webdriver.remote.webelement.WebElement (session=\"a0270776f6699ae5b356fbda0cb166ab\", element=\"e15ca8ed-b6b9-4874-8ebd-16d26cecf5df\")>,\n",
       " <selenium.webdriver.remote.webelement.WebElement (session=\"a0270776f6699ae5b356fbda0cb166ab\", element=\"f44a46c0-f83f-4075-b1eb-d08262972684\")>,\n",
       " <selenium.webdriver.remote.webelement.WebElement (session=\"a0270776f6699ae5b356fbda0cb166ab\", element=\"c0d394f3-9635-4612-adbe-b8bbf0948eab\")>,\n",
       " <selenium.webdriver.remote.webelement.WebElement (session=\"a0270776f6699ae5b356fbda0cb166ab\", element=\"7d031373-dbe9-40e7-ae1b-22838a63a272\")>,\n",
       " <selenium.webdriver.remote.webelement.WebElement (session=\"a0270776f6699ae5b356fbda0cb166ab\", element=\"67733694-c114-4cb0-a818-fd85e1682b3c\")>,\n",
       " <selenium.webdriver.remote.webelement.WebElement (session=\"a0270776f6699ae5b356fbda0cb166ab\", element=\"16ae80a9-b8f3-4e7b-8ba5-164d0d19553b\")>,\n",
       " <selenium.webdriver.remote.webelement.WebElement (session=\"a0270776f6699ae5b356fbda0cb166ab\", element=\"0d0e2a70-0081-4cbd-845d-e192a92302db\")>,\n",
       " <selenium.webdriver.remote.webelement.WebElement (session=\"a0270776f6699ae5b356fbda0cb166ab\", element=\"f388cf58-1988-479f-86d4-48f35cf5a1d3\")>,\n",
       " <selenium.webdriver.remote.webelement.WebElement (session=\"a0270776f6699ae5b356fbda0cb166ab\", element=\"e6492078-61b6-49df-9f44-d4e1bf154c4a\")>,\n",
       " <selenium.webdriver.remote.webelement.WebElement (session=\"a0270776f6699ae5b356fbda0cb166ab\", element=\"4f0bf82d-cc82-464c-a3cb-062293feaaec\")>,\n",
       " <selenium.webdriver.remote.webelement.WebElement (session=\"a0270776f6699ae5b356fbda0cb166ab\", element=\"1bb704f6-6e4c-4691-aefc-72046084b3e6\")>,\n",
       " <selenium.webdriver.remote.webelement.WebElement (session=\"a0270776f6699ae5b356fbda0cb166ab\", element=\"287848dd-117b-42f8-b051-8cac0707d665\")>,\n",
       " <selenium.webdriver.remote.webelement.WebElement (session=\"a0270776f6699ae5b356fbda0cb166ab\", element=\"d1e3ce23-e3e7-4934-a9bd-8af3f5a70668\")>,\n",
       " <selenium.webdriver.remote.webelement.WebElement (session=\"a0270776f6699ae5b356fbda0cb166ab\", element=\"aed386a6-29bd-4522-95e5-a33c75998d36\")>,\n",
       " <selenium.webdriver.remote.webelement.WebElement (session=\"a0270776f6699ae5b356fbda0cb166ab\", element=\"fe4655c6-4280-4448-8718-42856639be75\")>,\n",
       " <selenium.webdriver.remote.webelement.WebElement (session=\"a0270776f6699ae5b356fbda0cb166ab\", element=\"f2c0b4fa-e8f8-4b12-9f98-a427e2d8ca67\")>,\n",
       " <selenium.webdriver.remote.webelement.WebElement (session=\"a0270776f6699ae5b356fbda0cb166ab\", element=\"59aa3a35-429c-4657-9e33-a9fb1ee61873\")>,\n",
       " <selenium.webdriver.remote.webelement.WebElement (session=\"a0270776f6699ae5b356fbda0cb166ab\", element=\"33ce7fce-78bc-47e6-a9fa-9f1a4db0a32c\")>,\n",
       " <selenium.webdriver.remote.webelement.WebElement (session=\"a0270776f6699ae5b356fbda0cb166ab\", element=\"889199cd-97ae-4371-b0a4-f3534fbb247b\")>,\n",
       " <selenium.webdriver.remote.webelement.WebElement (session=\"a0270776f6699ae5b356fbda0cb166ab\", element=\"7f3048aa-1c45-49a1-a72f-1134c61ba91b\")>]"
      ]
     },
     "execution_count": 244,
     "metadata": {},
     "output_type": "execute_result"
    }
   ],
   "source": [
    "discount=driver.find_elements_by_xpath(\"//div[@class='_3Ay6Sb']\")\n",
    "discount"
   ]
  },
  {
   "cell_type": "code",
   "execution_count": 245,
   "metadata": {},
   "outputs": [
    {
     "data": {
      "text/plain": [
       "['25% off',\n",
       " '71% off',\n",
       " '84% off',\n",
       " '77% off',\n",
       " '80% off',\n",
       " '79% off',\n",
       " '82% off',\n",
       " '83% off',\n",
       " '80% off',\n",
       " '83% off',\n",
       " '18% off',\n",
       " '65% off',\n",
       " '18% off',\n",
       " '79% off',\n",
       " '80% off',\n",
       " '84% off',\n",
       " '65% off',\n",
       " '84% off',\n",
       " '78% off',\n",
       " '78% off',\n",
       " '80% off',\n",
       " '13% off',\n",
       " '77% off',\n",
       " '82% off',\n",
       " '84% off',\n",
       " '68% off',\n",
       " '81% off',\n",
       " '83% off',\n",
       " '15% off',\n",
       " '64% off',\n",
       " '79% off',\n",
       " '84% off',\n",
       " '77% off',\n",
       " '83% off',\n",
       " '80% off',\n",
       " '15% off',\n",
       " '53% off',\n",
       " '77% off',\n",
       " '80% off',\n",
       " '16% off']"
      ]
     },
     "execution_count": 245,
     "metadata": {},
     "output_type": "execute_result"
    }
   ],
   "source": [
    "Discount_2=[]\n",
    "for i in discount:\n",
    "    Discount_2.append(i.text)\n",
    "    \n",
    "Discount_2"
   ]
  },
  {
   "cell_type": "code",
   "execution_count": 246,
   "metadata": {},
   "outputs": [],
   "source": [
    "#lest scrape next webpage"
   ]
  },
  {
   "cell_type": "code",
   "execution_count": 252,
   "metadata": {},
   "outputs": [],
   "source": [
    "url='https://www.flipkart.com/search?q=sunglasses&otracker=search&otracker1=search&marketplace=FLIPKART&as-show=on&as=off&page=3'"
   ]
  },
  {
   "cell_type": "code",
   "execution_count": 253,
   "metadata": {},
   "outputs": [],
   "source": [
    "driver.get(url)"
   ]
  },
  {
   "cell_type": "code",
   "execution_count": 254,
   "metadata": {},
   "outputs": [
    {
     "data": {
      "text/plain": [
       "[<selenium.webdriver.remote.webelement.WebElement (session=\"a0270776f6699ae5b356fbda0cb166ab\", element=\"a899afbc-6a54-4b99-afb8-a97a34e546fa\")>,\n",
       " <selenium.webdriver.remote.webelement.WebElement (session=\"a0270776f6699ae5b356fbda0cb166ab\", element=\"c1c235b2-d17b-40a5-8162-69f8980eecb7\")>,\n",
       " <selenium.webdriver.remote.webelement.WebElement (session=\"a0270776f6699ae5b356fbda0cb166ab\", element=\"512e3a59-2919-4dcd-8321-afb4ca4a3745\")>,\n",
       " <selenium.webdriver.remote.webelement.WebElement (session=\"a0270776f6699ae5b356fbda0cb166ab\", element=\"b5027e1e-701d-4558-93b4-6fa1c4788a61\")>,\n",
       " <selenium.webdriver.remote.webelement.WebElement (session=\"a0270776f6699ae5b356fbda0cb166ab\", element=\"7835a734-6d5c-4d47-b124-cf1d8080de9a\")>,\n",
       " <selenium.webdriver.remote.webelement.WebElement (session=\"a0270776f6699ae5b356fbda0cb166ab\", element=\"025b90c5-a57e-4323-8615-ea566380b5ed\")>,\n",
       " <selenium.webdriver.remote.webelement.WebElement (session=\"a0270776f6699ae5b356fbda0cb166ab\", element=\"525f3b39-3b6c-46b0-b291-0a216c9f883b\")>,\n",
       " <selenium.webdriver.remote.webelement.WebElement (session=\"a0270776f6699ae5b356fbda0cb166ab\", element=\"e079a1bb-eb55-4f58-af67-5666fc12cda2\")>,\n",
       " <selenium.webdriver.remote.webelement.WebElement (session=\"a0270776f6699ae5b356fbda0cb166ab\", element=\"3a004ac2-e269-490d-b23b-673cabc70457\")>,\n",
       " <selenium.webdriver.remote.webelement.WebElement (session=\"a0270776f6699ae5b356fbda0cb166ab\", element=\"6121bfb2-ff9a-444e-ad37-bd88730c33ac\")>,\n",
       " <selenium.webdriver.remote.webelement.WebElement (session=\"a0270776f6699ae5b356fbda0cb166ab\", element=\"82df8335-4503-4af8-97d9-ac88cdae394b\")>,\n",
       " <selenium.webdriver.remote.webelement.WebElement (session=\"a0270776f6699ae5b356fbda0cb166ab\", element=\"2b415758-1930-486a-b503-7014d6033943\")>,\n",
       " <selenium.webdriver.remote.webelement.WebElement (session=\"a0270776f6699ae5b356fbda0cb166ab\", element=\"0f1fc2e3-efcd-42ac-9dd7-8b22bf3e9b14\")>,\n",
       " <selenium.webdriver.remote.webelement.WebElement (session=\"a0270776f6699ae5b356fbda0cb166ab\", element=\"67c59ffd-19d7-4f0a-9919-6496fe18219a\")>,\n",
       " <selenium.webdriver.remote.webelement.WebElement (session=\"a0270776f6699ae5b356fbda0cb166ab\", element=\"37e2ae1a-0d42-47d2-aae8-4cabce2ac35e\")>,\n",
       " <selenium.webdriver.remote.webelement.WebElement (session=\"a0270776f6699ae5b356fbda0cb166ab\", element=\"77ca8025-f159-4af9-87dd-a517c5554017\")>,\n",
       " <selenium.webdriver.remote.webelement.WebElement (session=\"a0270776f6699ae5b356fbda0cb166ab\", element=\"ce333f86-b828-4302-8dca-c0b9ac903069\")>,\n",
       " <selenium.webdriver.remote.webelement.WebElement (session=\"a0270776f6699ae5b356fbda0cb166ab\", element=\"a2dd5ead-6a71-4bd2-be36-04bafd33856b\")>,\n",
       " <selenium.webdriver.remote.webelement.WebElement (session=\"a0270776f6699ae5b356fbda0cb166ab\", element=\"6ee65cfe-0272-41d6-8278-8bca9e98e9d4\")>,\n",
       " <selenium.webdriver.remote.webelement.WebElement (session=\"a0270776f6699ae5b356fbda0cb166ab\", element=\"29622d55-53e9-4323-9add-3d78746d8d6c\")>,\n",
       " <selenium.webdriver.remote.webelement.WebElement (session=\"a0270776f6699ae5b356fbda0cb166ab\", element=\"b2685fdd-ce58-46a7-a686-6a6704b1df0a\")>,\n",
       " <selenium.webdriver.remote.webelement.WebElement (session=\"a0270776f6699ae5b356fbda0cb166ab\", element=\"3fa7d1dd-4869-4177-a1b9-d17e21664a1e\")>,\n",
       " <selenium.webdriver.remote.webelement.WebElement (session=\"a0270776f6699ae5b356fbda0cb166ab\", element=\"a2fa7bf3-26bc-43c4-bca6-a03672635b85\")>,\n",
       " <selenium.webdriver.remote.webelement.WebElement (session=\"a0270776f6699ae5b356fbda0cb166ab\", element=\"ea1d395e-b10a-46bc-b578-9837983d24c8\")>,\n",
       " <selenium.webdriver.remote.webelement.WebElement (session=\"a0270776f6699ae5b356fbda0cb166ab\", element=\"b620eb5d-cee0-4e29-b4a1-ecb9899b2a6c\")>,\n",
       " <selenium.webdriver.remote.webelement.WebElement (session=\"a0270776f6699ae5b356fbda0cb166ab\", element=\"ccc62aec-90d3-481a-9339-44f674c5c9f1\")>,\n",
       " <selenium.webdriver.remote.webelement.WebElement (session=\"a0270776f6699ae5b356fbda0cb166ab\", element=\"14dc37ac-3e75-43b2-9567-659a1623cb4c\")>,\n",
       " <selenium.webdriver.remote.webelement.WebElement (session=\"a0270776f6699ae5b356fbda0cb166ab\", element=\"8dfebd94-b2f6-46e9-8f74-e2e13d7b2302\")>,\n",
       " <selenium.webdriver.remote.webelement.WebElement (session=\"a0270776f6699ae5b356fbda0cb166ab\", element=\"5d0440ad-99db-4791-aef1-9e61c3ba0084\")>,\n",
       " <selenium.webdriver.remote.webelement.WebElement (session=\"a0270776f6699ae5b356fbda0cb166ab\", element=\"a8cbb8e1-4fc2-46c1-9960-c8b17c68960b\")>,\n",
       " <selenium.webdriver.remote.webelement.WebElement (session=\"a0270776f6699ae5b356fbda0cb166ab\", element=\"742ba6cb-4260-47e0-b0ce-0b584d318390\")>,\n",
       " <selenium.webdriver.remote.webelement.WebElement (session=\"a0270776f6699ae5b356fbda0cb166ab\", element=\"28dbbf9a-a915-49e3-af8e-c307b48b6d93\")>,\n",
       " <selenium.webdriver.remote.webelement.WebElement (session=\"a0270776f6699ae5b356fbda0cb166ab\", element=\"6c872af3-7c74-4f04-b61c-8854f37bd1cf\")>,\n",
       " <selenium.webdriver.remote.webelement.WebElement (session=\"a0270776f6699ae5b356fbda0cb166ab\", element=\"3388df2a-0c14-46b6-97be-9a6c219dfc50\")>,\n",
       " <selenium.webdriver.remote.webelement.WebElement (session=\"a0270776f6699ae5b356fbda0cb166ab\", element=\"610bf4ec-d39c-44ea-9227-eb8c6abd458d\")>,\n",
       " <selenium.webdriver.remote.webelement.WebElement (session=\"a0270776f6699ae5b356fbda0cb166ab\", element=\"af22d22a-8501-43df-b8e8-f6d4e74aab6c\")>,\n",
       " <selenium.webdriver.remote.webelement.WebElement (session=\"a0270776f6699ae5b356fbda0cb166ab\", element=\"d8a113d3-e86f-4c09-ad62-62eec548a63b\")>,\n",
       " <selenium.webdriver.remote.webelement.WebElement (session=\"a0270776f6699ae5b356fbda0cb166ab\", element=\"e7913131-7e69-494b-af18-775882107671\")>,\n",
       " <selenium.webdriver.remote.webelement.WebElement (session=\"a0270776f6699ae5b356fbda0cb166ab\", element=\"1764a5ef-d94a-4939-a844-2d34a35e9e20\")>,\n",
       " <selenium.webdriver.remote.webelement.WebElement (session=\"a0270776f6699ae5b356fbda0cb166ab\", element=\"49629251-dc58-4c86-a20e-364f1042e8c1\")>]"
      ]
     },
     "execution_count": 254,
     "metadata": {},
     "output_type": "execute_result"
    }
   ],
   "source": [
    "Brand_tag=driver.find_elements_by_xpath(\"//div[@class='_2WkVRV']\")\n",
    "Brand_tag"
   ]
  },
  {
   "cell_type": "code",
   "execution_count": 257,
   "metadata": {},
   "outputs": [
    {
     "data": {
      "text/plain": [
       "['Fastrack',\n",
       " 'ROYAL SON',\n",
       " 'ROZZETTA CRAFT',\n",
       " 'Fastrack',\n",
       " 'GANSTA',\n",
       " 'ROYAL SON',\n",
       " 'Fastrack',\n",
       " 'GANSTA',\n",
       " 'Fastrack',\n",
       " 'ROYAL SON',\n",
       " 'Fastrack',\n",
       " 'ROYAL SON',\n",
       " 'Fastrack',\n",
       " 'ROYAL SON',\n",
       " 'Fastrack',\n",
       " 'Fastrack',\n",
       " 'ROYAL SON',\n",
       " 'Fastrack',\n",
       " 'ROYAL SON',\n",
       " 'Fastrack',\n",
       " 'Fastrack',\n",
       " 'ROYAL SON',\n",
       " 'Fastrack',\n",
       " 'ROYAL SON',\n",
       " 'Fastrack',\n",
       " 'ROYAL SON',\n",
       " 'ROYAL SON',\n",
       " 'Fastrack',\n",
       " 'Fastrack',\n",
       " 'Fastrack',\n",
       " 'Fastrack',\n",
       " 'Fastrack',\n",
       " 'Fastrack',\n",
       " 'Fastrack',\n",
       " 'Fastrack',\n",
       " 'Fastrack',\n",
       " 'Fastrack',\n",
       " 'Fastrack',\n",
       " 'Fastrack',\n",
       " 'ROYAL SON']"
      ]
     },
     "execution_count": 257,
     "metadata": {},
     "output_type": "execute_result"
    }
   ],
   "source": [
    "Brands_3=[]\n",
    "for i in Brand_tag:\n",
    "    Brands_3.append(i.text)\n",
    "    \n",
    "Brands_3"
   ]
  },
  {
   "cell_type": "code",
   "execution_count": 260,
   "metadata": {},
   "outputs": [
    {
     "data": {
      "text/plain": [
       "[<selenium.webdriver.remote.webelement.WebElement (session=\"a0270776f6699ae5b356fbda0cb166ab\", element=\"bbeb23d9-5180-470b-b93c-cdbf39829726\")>,\n",
       " <selenium.webdriver.remote.webelement.WebElement (session=\"a0270776f6699ae5b356fbda0cb166ab\", element=\"ec6fd9a3-57bc-4ccb-bbcd-3e30c0ba7716\")>,\n",
       " <selenium.webdriver.remote.webelement.WebElement (session=\"a0270776f6699ae5b356fbda0cb166ab\", element=\"fba9fa74-f352-4fb7-9bcb-f29267783a67\")>,\n",
       " <selenium.webdriver.remote.webelement.WebElement (session=\"a0270776f6699ae5b356fbda0cb166ab\", element=\"d6a2b750-05e8-4e3b-a6e5-d996bae6dd40\")>,\n",
       " <selenium.webdriver.remote.webelement.WebElement (session=\"a0270776f6699ae5b356fbda0cb166ab\", element=\"03db8905-33c7-4bf7-a3e0-f8c32363579e\")>,\n",
       " <selenium.webdriver.remote.webelement.WebElement (session=\"a0270776f6699ae5b356fbda0cb166ab\", element=\"a9fa3c21-0aff-4a07-8dab-013b80db7d2c\")>,\n",
       " <selenium.webdriver.remote.webelement.WebElement (session=\"a0270776f6699ae5b356fbda0cb166ab\", element=\"70c9a756-bcae-4c4d-b4e3-86d36a297d3a\")>,\n",
       " <selenium.webdriver.remote.webelement.WebElement (session=\"a0270776f6699ae5b356fbda0cb166ab\", element=\"83af1afc-badd-4065-b8bf-69049f4d41da\")>,\n",
       " <selenium.webdriver.remote.webelement.WebElement (session=\"a0270776f6699ae5b356fbda0cb166ab\", element=\"f564f2be-4be2-4b5d-ae93-f02dabbbc2a9\")>,\n",
       " <selenium.webdriver.remote.webelement.WebElement (session=\"a0270776f6699ae5b356fbda0cb166ab\", element=\"ad4fac6b-89e2-4d2a-a9c9-087ea8822bca\")>,\n",
       " <selenium.webdriver.remote.webelement.WebElement (session=\"a0270776f6699ae5b356fbda0cb166ab\", element=\"d36b4a79-39f3-4e71-be3d-8ad5534a004f\")>,\n",
       " <selenium.webdriver.remote.webelement.WebElement (session=\"a0270776f6699ae5b356fbda0cb166ab\", element=\"c8766def-eaf8-480d-8356-fe058314322a\")>,\n",
       " <selenium.webdriver.remote.webelement.WebElement (session=\"a0270776f6699ae5b356fbda0cb166ab\", element=\"80ae885c-e54e-4f5c-8996-0f2cfb4f6961\")>,\n",
       " <selenium.webdriver.remote.webelement.WebElement (session=\"a0270776f6699ae5b356fbda0cb166ab\", element=\"d063a21b-366d-4cf9-9b2d-612605cb5232\")>,\n",
       " <selenium.webdriver.remote.webelement.WebElement (session=\"a0270776f6699ae5b356fbda0cb166ab\", element=\"a510435a-2242-4893-9d4d-408dcb1b586b\")>,\n",
       " <selenium.webdriver.remote.webelement.WebElement (session=\"a0270776f6699ae5b356fbda0cb166ab\", element=\"2ff98e51-b924-4289-91f4-49fcd1a5e4ec\")>,\n",
       " <selenium.webdriver.remote.webelement.WebElement (session=\"a0270776f6699ae5b356fbda0cb166ab\", element=\"25e70b4f-8b3f-47eb-92a9-ec8bd702cc71\")>,\n",
       " <selenium.webdriver.remote.webelement.WebElement (session=\"a0270776f6699ae5b356fbda0cb166ab\", element=\"fd4fb35d-0798-4226-9af7-a71869ec56e2\")>,\n",
       " <selenium.webdriver.remote.webelement.WebElement (session=\"a0270776f6699ae5b356fbda0cb166ab\", element=\"81608e6b-914c-42cf-a124-68f7fad12cd3\")>,\n",
       " <selenium.webdriver.remote.webelement.WebElement (session=\"a0270776f6699ae5b356fbda0cb166ab\", element=\"53de25df-2e00-47bd-b4c1-fa4706f3ea22\")>,\n",
       " <selenium.webdriver.remote.webelement.WebElement (session=\"a0270776f6699ae5b356fbda0cb166ab\", element=\"ac818ef4-38ea-4745-9044-5814fa4fd6ff\")>,\n",
       " <selenium.webdriver.remote.webelement.WebElement (session=\"a0270776f6699ae5b356fbda0cb166ab\", element=\"2c31ca39-63eb-41aa-9c33-0dcd12d4a8e7\")>,\n",
       " <selenium.webdriver.remote.webelement.WebElement (session=\"a0270776f6699ae5b356fbda0cb166ab\", element=\"aa11de21-dc63-4d05-b09d-cb3caa1f5d07\")>,\n",
       " <selenium.webdriver.remote.webelement.WebElement (session=\"a0270776f6699ae5b356fbda0cb166ab\", element=\"0c401624-479c-4004-afeb-5ab9b0884ec2\")>,\n",
       " <selenium.webdriver.remote.webelement.WebElement (session=\"a0270776f6699ae5b356fbda0cb166ab\", element=\"d2ed5ac7-a986-4880-9794-a485871a46af\")>,\n",
       " <selenium.webdriver.remote.webelement.WebElement (session=\"a0270776f6699ae5b356fbda0cb166ab\", element=\"95178046-2d62-4aa2-bae7-b2b6dcae12bc\")>,\n",
       " <selenium.webdriver.remote.webelement.WebElement (session=\"a0270776f6699ae5b356fbda0cb166ab\", element=\"ea976a8b-61ca-4235-87ae-1ab421b0afe7\")>,\n",
       " <selenium.webdriver.remote.webelement.WebElement (session=\"a0270776f6699ae5b356fbda0cb166ab\", element=\"53396d71-7ca3-4a2c-b61e-07ba124bc2b1\")>,\n",
       " <selenium.webdriver.remote.webelement.WebElement (session=\"a0270776f6699ae5b356fbda0cb166ab\", element=\"48cbecd6-2a5d-4742-971e-57f63aa1a12e\")>,\n",
       " <selenium.webdriver.remote.webelement.WebElement (session=\"a0270776f6699ae5b356fbda0cb166ab\", element=\"6bd5d87f-d37e-493b-88c5-1f38cf479dfe\")>,\n",
       " <selenium.webdriver.remote.webelement.WebElement (session=\"a0270776f6699ae5b356fbda0cb166ab\", element=\"4b85af83-8028-4873-ac8d-164e62f06ded\")>,\n",
       " <selenium.webdriver.remote.webelement.WebElement (session=\"a0270776f6699ae5b356fbda0cb166ab\", element=\"5a8bb41d-0ba8-4803-82fa-b66e79bd5e15\")>,\n",
       " <selenium.webdriver.remote.webelement.WebElement (session=\"a0270776f6699ae5b356fbda0cb166ab\", element=\"036c0f89-bc3a-4b3b-b3fe-804cc5aee787\")>,\n",
       " <selenium.webdriver.remote.webelement.WebElement (session=\"a0270776f6699ae5b356fbda0cb166ab\", element=\"4e7979a5-c477-4ec0-b37a-bd1af09f6181\")>,\n",
       " <selenium.webdriver.remote.webelement.WebElement (session=\"a0270776f6699ae5b356fbda0cb166ab\", element=\"a7668f69-7787-48d0-b481-8f4d77595daf\")>,\n",
       " <selenium.webdriver.remote.webelement.WebElement (session=\"a0270776f6699ae5b356fbda0cb166ab\", element=\"8b84d8a9-4cde-4582-a3be-efbf5c5de33b\")>,\n",
       " <selenium.webdriver.remote.webelement.WebElement (session=\"a0270776f6699ae5b356fbda0cb166ab\", element=\"428ea8b0-c6a0-4bd7-904d-a02b25f69d49\")>,\n",
       " <selenium.webdriver.remote.webelement.WebElement (session=\"a0270776f6699ae5b356fbda0cb166ab\", element=\"c2af6248-3ed7-40ad-b00f-b557c327331a\")>,\n",
       " <selenium.webdriver.remote.webelement.WebElement (session=\"a0270776f6699ae5b356fbda0cb166ab\", element=\"fc4c6197-9530-4f55-83b5-4baf29bcca72\")>,\n",
       " <selenium.webdriver.remote.webelement.WebElement (session=\"a0270776f6699ae5b356fbda0cb166ab\", element=\"43d7866f-908c-40b2-8619-b607fd6714ba\")>]"
      ]
     },
     "execution_count": 260,
     "metadata": {},
     "output_type": "execute_result"
    }
   ],
   "source": [
    "Descr=driver.find_elements_by_xpath(\"//a[@class='IRpwTa']\")\n",
    "Descr"
   ]
  },
  {
   "cell_type": "code",
   "execution_count": 261,
   "metadata": {},
   "outputs": [
    {
     "data": {
      "text/plain": [
       "['UV Protection Wayfarer Sunglasses (Free Size)',\n",
       " 'Polarized, UV Protection Aviator Sunglasses (58)',\n",
       " 'Mirrored, UV Protection Round Sunglasses (Free Size)',\n",
       " 'UV Protection Aviator Sunglasses (58)',\n",
       " 'Night Vision, Riding Glasses Wayfarer Sunglasses (53)',\n",
       " 'UV Protection Retro Square Sunglasses (58)',\n",
       " 'UV Protection Wayfarer Sunglasses (Free Size)',\n",
       " 'UV Protection, Gradient Wayfarer Sunglasses (53)',\n",
       " 'UV Protection Aviator Sunglasses (58)',\n",
       " 'Polarized, Mirrored, UV Protection Round Sunglasses (50...',\n",
       " 'Mirrored, UV Protection Wayfarer Sunglasses (Free Size)',\n",
       " 'UV Protection Retro Square Sunglasses (88)',\n",
       " 'UV Protection Aviator Sunglasses (Free Size)',\n",
       " 'Polarized Sports Sunglasses (68)',\n",
       " 'UV Protection Wayfarer Sunglasses (Free Size)',\n",
       " 'UV Protection Aviator Sunglasses (58)',\n",
       " 'UV Protection Rectangular Sunglasses (Free Size)',\n",
       " 'Gradient, UV Protection Wayfarer Sunglasses (Free Size)',\n",
       " 'UV Protection Round, Oval, Cat-eye Sunglasses (56)',\n",
       " 'Gradient, UV Protection Wayfarer Sunglasses (Free Size)',\n",
       " 'Gradient, UV Protection Wayfarer Sunglasses (Free Size)',\n",
       " 'Polarized, UV Protection, Mirrored Aviator Sunglasses (...',\n",
       " 'UV Protection Rectangular Sunglasses (56)',\n",
       " 'Polarized Sports Sunglasses (68)',\n",
       " 'UV Protection Rectangular Sunglasses (59)',\n",
       " 'UV Protection Aviator Sunglasses (Free Size)',\n",
       " 'UV Protection Retro Square Sunglasses (58)',\n",
       " 'UV Protection Shield Sunglasses (Free Size)',\n",
       " 'UV Protection, Polarized Wayfarer Sunglasses (56)',\n",
       " 'UV Protection Aviator Sunglasses (Free Size)',\n",
       " 'UV Protection Wayfarer Sunglasses (Free Size)',\n",
       " 'UV Protection Wayfarer Sunglasses (Free Size)',\n",
       " 'UV Protection Round Sunglasses (Free Size)',\n",
       " 'UV Protection Wayfarer Sunglasses (55)',\n",
       " 'Gradient, UV Protection Wayfarer Sunglasses (Free Size)',\n",
       " 'UV Protection Wayfarer Sunglasses (57)',\n",
       " 'UV Protection Round Sunglasses (52)',\n",
       " 'UV Protection Round Sunglasses (52)',\n",
       " 'UV Protection Wayfarer Sunglasses (Free Size)',\n",
       " 'UV Protection Round Sunglasses (53)']"
      ]
     },
     "execution_count": 261,
     "metadata": {},
     "output_type": "execute_result"
    }
   ],
   "source": [
    "Description_3=[]\n",
    "for i in Descr:\n",
    "    Description_3.append(i.text)\n",
    "    \n",
    "Description_3"
   ]
  },
  {
   "cell_type": "code",
   "execution_count": 262,
   "metadata": {},
   "outputs": [
    {
     "data": {
      "text/plain": [
       "[<selenium.webdriver.remote.webelement.WebElement (session=\"a0270776f6699ae5b356fbda0cb166ab\", element=\"247902d0-352b-4d20-b738-a196e571496b\")>,\n",
       " <selenium.webdriver.remote.webelement.WebElement (session=\"a0270776f6699ae5b356fbda0cb166ab\", element=\"7711297e-78b5-4c1d-a5db-9eb0422d6947\")>,\n",
       " <selenium.webdriver.remote.webelement.WebElement (session=\"a0270776f6699ae5b356fbda0cb166ab\", element=\"04b1464b-fb2c-4ba8-9b4a-6c5206e3657c\")>,\n",
       " <selenium.webdriver.remote.webelement.WebElement (session=\"a0270776f6699ae5b356fbda0cb166ab\", element=\"0cd020f4-4182-4071-bdb9-1ae218a028ca\")>,\n",
       " <selenium.webdriver.remote.webelement.WebElement (session=\"a0270776f6699ae5b356fbda0cb166ab\", element=\"e68d33c2-850b-4d8e-b4e4-800dee95b9db\")>,\n",
       " <selenium.webdriver.remote.webelement.WebElement (session=\"a0270776f6699ae5b356fbda0cb166ab\", element=\"f7e50e19-4fa7-4170-bc66-a85a72dcca2b\")>,\n",
       " <selenium.webdriver.remote.webelement.WebElement (session=\"a0270776f6699ae5b356fbda0cb166ab\", element=\"8c25dcfe-0724-4956-906d-e3d471767b4e\")>,\n",
       " <selenium.webdriver.remote.webelement.WebElement (session=\"a0270776f6699ae5b356fbda0cb166ab\", element=\"884d4212-9c80-49af-878b-115241309e11\")>,\n",
       " <selenium.webdriver.remote.webelement.WebElement (session=\"a0270776f6699ae5b356fbda0cb166ab\", element=\"40cf3def-da0d-4289-9e39-90423ef21616\")>,\n",
       " <selenium.webdriver.remote.webelement.WebElement (session=\"a0270776f6699ae5b356fbda0cb166ab\", element=\"eb0b8a9c-19b6-4e0b-991e-5483a99323f9\")>,\n",
       " <selenium.webdriver.remote.webelement.WebElement (session=\"a0270776f6699ae5b356fbda0cb166ab\", element=\"ab42e429-1c9f-44e5-86ca-89e39f31e9a9\")>,\n",
       " <selenium.webdriver.remote.webelement.WebElement (session=\"a0270776f6699ae5b356fbda0cb166ab\", element=\"e1832832-a1c0-4f87-b1bf-d8dd0c265507\")>,\n",
       " <selenium.webdriver.remote.webelement.WebElement (session=\"a0270776f6699ae5b356fbda0cb166ab\", element=\"863d4783-5582-4b29-a159-72b36354ff85\")>,\n",
       " <selenium.webdriver.remote.webelement.WebElement (session=\"a0270776f6699ae5b356fbda0cb166ab\", element=\"e47d03d4-812b-4548-8867-0a5debe2f06a\")>,\n",
       " <selenium.webdriver.remote.webelement.WebElement (session=\"a0270776f6699ae5b356fbda0cb166ab\", element=\"a76d5475-e284-437d-ad6c-720ac379f9d2\")>,\n",
       " <selenium.webdriver.remote.webelement.WebElement (session=\"a0270776f6699ae5b356fbda0cb166ab\", element=\"6e4ce189-f048-462c-b439-860ab3c1bc1e\")>,\n",
       " <selenium.webdriver.remote.webelement.WebElement (session=\"a0270776f6699ae5b356fbda0cb166ab\", element=\"3387c24a-8279-40cc-9027-3f4ea4445a43\")>,\n",
       " <selenium.webdriver.remote.webelement.WebElement (session=\"a0270776f6699ae5b356fbda0cb166ab\", element=\"febe4710-ea6c-4ec9-8efb-4fb2056ba797\")>,\n",
       " <selenium.webdriver.remote.webelement.WebElement (session=\"a0270776f6699ae5b356fbda0cb166ab\", element=\"bebc1d2f-36a7-4e1e-84b0-82ae712a2f8f\")>,\n",
       " <selenium.webdriver.remote.webelement.WebElement (session=\"a0270776f6699ae5b356fbda0cb166ab\", element=\"6ce1277f-5858-432c-aab3-b41cdd86eb48\")>,\n",
       " <selenium.webdriver.remote.webelement.WebElement (session=\"a0270776f6699ae5b356fbda0cb166ab\", element=\"4d52f383-93e4-415d-84f0-ab5d2ebb35f0\")>,\n",
       " <selenium.webdriver.remote.webelement.WebElement (session=\"a0270776f6699ae5b356fbda0cb166ab\", element=\"39549201-c050-4ec0-85bd-cc1fb511aa1d\")>,\n",
       " <selenium.webdriver.remote.webelement.WebElement (session=\"a0270776f6699ae5b356fbda0cb166ab\", element=\"19ba180a-88c3-4aa0-ae6e-8e76f2361f30\")>,\n",
       " <selenium.webdriver.remote.webelement.WebElement (session=\"a0270776f6699ae5b356fbda0cb166ab\", element=\"024e3b55-4df0-4f61-928b-ae4a27e8c825\")>,\n",
       " <selenium.webdriver.remote.webelement.WebElement (session=\"a0270776f6699ae5b356fbda0cb166ab\", element=\"9d3c0059-c969-4a26-8b03-0276350458df\")>,\n",
       " <selenium.webdriver.remote.webelement.WebElement (session=\"a0270776f6699ae5b356fbda0cb166ab\", element=\"0a5b47bc-87db-4533-9d72-de94685f3981\")>,\n",
       " <selenium.webdriver.remote.webelement.WebElement (session=\"a0270776f6699ae5b356fbda0cb166ab\", element=\"3d2dac70-edff-42bc-85a3-4b3b1e516844\")>,\n",
       " <selenium.webdriver.remote.webelement.WebElement (session=\"a0270776f6699ae5b356fbda0cb166ab\", element=\"e97e4d80-b11c-49f5-89aa-3a71493f5317\")>,\n",
       " <selenium.webdriver.remote.webelement.WebElement (session=\"a0270776f6699ae5b356fbda0cb166ab\", element=\"4729cb29-44f0-4a01-9c88-0e3efc74aaf8\")>,\n",
       " <selenium.webdriver.remote.webelement.WebElement (session=\"a0270776f6699ae5b356fbda0cb166ab\", element=\"00bbef71-9842-4cb1-b79c-1ab215ae34aa\")>,\n",
       " <selenium.webdriver.remote.webelement.WebElement (session=\"a0270776f6699ae5b356fbda0cb166ab\", element=\"2984ce5a-9449-452b-985f-a8c257dd6831\")>,\n",
       " <selenium.webdriver.remote.webelement.WebElement (session=\"a0270776f6699ae5b356fbda0cb166ab\", element=\"073741cb-1af3-4c12-a83e-b756a3cf22c8\")>,\n",
       " <selenium.webdriver.remote.webelement.WebElement (session=\"a0270776f6699ae5b356fbda0cb166ab\", element=\"f74fe7af-68d3-45a0-ad30-6204026b9768\")>,\n",
       " <selenium.webdriver.remote.webelement.WebElement (session=\"a0270776f6699ae5b356fbda0cb166ab\", element=\"70454d23-038e-4607-ab20-05439b914dfb\")>,\n",
       " <selenium.webdriver.remote.webelement.WebElement (session=\"a0270776f6699ae5b356fbda0cb166ab\", element=\"f9a3c28a-7364-4efe-9030-3673abb90bec\")>,\n",
       " <selenium.webdriver.remote.webelement.WebElement (session=\"a0270776f6699ae5b356fbda0cb166ab\", element=\"3edea142-a8f9-4bde-b6ba-8290e6cc7b9e\")>,\n",
       " <selenium.webdriver.remote.webelement.WebElement (session=\"a0270776f6699ae5b356fbda0cb166ab\", element=\"7dd711d2-811f-4d94-b85d-efc734f8b96b\")>,\n",
       " <selenium.webdriver.remote.webelement.WebElement (session=\"a0270776f6699ae5b356fbda0cb166ab\", element=\"e215c3d3-5c6f-4fac-b830-28c2496962bd\")>,\n",
       " <selenium.webdriver.remote.webelement.WebElement (session=\"a0270776f6699ae5b356fbda0cb166ab\", element=\"a5e31bb2-cf30-4853-b250-22d78b503ac7\")>,\n",
       " <selenium.webdriver.remote.webelement.WebElement (session=\"a0270776f6699ae5b356fbda0cb166ab\", element=\"074d0b3c-a24b-4b77-a5a1-42117c9171e9\")>]"
      ]
     },
     "execution_count": 262,
     "metadata": {},
     "output_type": "execute_result"
    }
   ],
   "source": [
    "price_tag=driver.find_elements_by_xpath(\"//div[@class='_30jeq3']\")\n",
    "price_tag"
   ]
  },
  {
   "cell_type": "code",
   "execution_count": 263,
   "metadata": {},
   "outputs": [
    {
     "data": {
      "text/plain": [
       "['₹758',\n",
       " '₹749',\n",
       " '₹399',\n",
       " '₹1,085',\n",
       " '₹207',\n",
       " '₹499',\n",
       " '₹844',\n",
       " '₹309',\n",
       " '₹1,115',\n",
       " '₹699',\n",
       " '₹777',\n",
       " '₹569',\n",
       " '₹749',\n",
       " '₹1,234',\n",
       " '₹627',\n",
       " '₹1,148',\n",
       " '₹499',\n",
       " '₹629',\n",
       " '₹699',\n",
       " '₹638',\n",
       " '₹682',\n",
       " '₹749',\n",
       " '₹698',\n",
       " '₹1,299',\n",
       " '₹1,097',\n",
       " '₹499',\n",
       " '₹474',\n",
       " '₹783',\n",
       " '₹759',\n",
       " '₹759',\n",
       " '₹758',\n",
       " '₹578',\n",
       " '₹960',\n",
       " '₹745',\n",
       " '₹777',\n",
       " '₹559',\n",
       " '₹1,217',\n",
       " '₹1,243',\n",
       " '₹576',\n",
       " '₹499']"
      ]
     },
     "execution_count": 263,
     "metadata": {},
     "output_type": "execute_result"
    }
   ],
   "source": [
    "Price_3=[]\n",
    "for i in price_tag:\n",
    "    Price_3.append(i.text)\n",
    "    \n",
    "Price_3"
   ]
  },
  {
   "cell_type": "code",
   "execution_count": 264,
   "metadata": {},
   "outputs": [
    {
     "data": {
      "text/plain": [
       "[<selenium.webdriver.remote.webelement.WebElement (session=\"a0270776f6699ae5b356fbda0cb166ab\", element=\"0a88d63b-6d09-4c39-b315-1ba501bce925\")>,\n",
       " <selenium.webdriver.remote.webelement.WebElement (session=\"a0270776f6699ae5b356fbda0cb166ab\", element=\"3b919fa7-7e06-46a0-a1a8-a2e1b790c118\")>,\n",
       " <selenium.webdriver.remote.webelement.WebElement (session=\"a0270776f6699ae5b356fbda0cb166ab\", element=\"7691eaa7-d49d-49d4-9efa-4639de745b19\")>,\n",
       " <selenium.webdriver.remote.webelement.WebElement (session=\"a0270776f6699ae5b356fbda0cb166ab\", element=\"be314037-e30f-4f0b-9e4c-f87a4e208237\")>,\n",
       " <selenium.webdriver.remote.webelement.WebElement (session=\"a0270776f6699ae5b356fbda0cb166ab\", element=\"153a1306-ebbc-4b37-8ac5-7ff54a46fd91\")>,\n",
       " <selenium.webdriver.remote.webelement.WebElement (session=\"a0270776f6699ae5b356fbda0cb166ab\", element=\"e3945e92-6daf-4678-aa51-d0b431c99b68\")>,\n",
       " <selenium.webdriver.remote.webelement.WebElement (session=\"a0270776f6699ae5b356fbda0cb166ab\", element=\"79489445-1a0f-4ea2-aa0a-7fffa1e203fc\")>,\n",
       " <selenium.webdriver.remote.webelement.WebElement (session=\"a0270776f6699ae5b356fbda0cb166ab\", element=\"ac71eeda-57df-4298-84a1-ba5e269d71e7\")>,\n",
       " <selenium.webdriver.remote.webelement.WebElement (session=\"a0270776f6699ae5b356fbda0cb166ab\", element=\"06c14bba-20c0-4dd0-abd5-2bf48fe67a13\")>,\n",
       " <selenium.webdriver.remote.webelement.WebElement (session=\"a0270776f6699ae5b356fbda0cb166ab\", element=\"d5fb5664-2509-43b4-894e-5176fd4ae0fe\")>,\n",
       " <selenium.webdriver.remote.webelement.WebElement (session=\"a0270776f6699ae5b356fbda0cb166ab\", element=\"c5a67532-f3a6-4772-8110-5f982313b053\")>,\n",
       " <selenium.webdriver.remote.webelement.WebElement (session=\"a0270776f6699ae5b356fbda0cb166ab\", element=\"5a7331ca-9e24-4ba5-8102-2e177bfbb68f\")>,\n",
       " <selenium.webdriver.remote.webelement.WebElement (session=\"a0270776f6699ae5b356fbda0cb166ab\", element=\"a05a4bbf-fea9-4074-8fac-7eb2051f022f\")>,\n",
       " <selenium.webdriver.remote.webelement.WebElement (session=\"a0270776f6699ae5b356fbda0cb166ab\", element=\"209e83e5-5e56-4941-8b7b-91e4746fdf4c\")>,\n",
       " <selenium.webdriver.remote.webelement.WebElement (session=\"a0270776f6699ae5b356fbda0cb166ab\", element=\"38a9e992-3ff9-44d7-a172-5fe0795a0721\")>,\n",
       " <selenium.webdriver.remote.webelement.WebElement (session=\"a0270776f6699ae5b356fbda0cb166ab\", element=\"4df16316-f71a-4731-a464-2aaa30c919b9\")>,\n",
       " <selenium.webdriver.remote.webelement.WebElement (session=\"a0270776f6699ae5b356fbda0cb166ab\", element=\"8d61e15a-49ce-4d8b-afdd-62e2b0c85c6f\")>,\n",
       " <selenium.webdriver.remote.webelement.WebElement (session=\"a0270776f6699ae5b356fbda0cb166ab\", element=\"085d1c1f-90ec-422d-a39f-69198829f307\")>,\n",
       " <selenium.webdriver.remote.webelement.WebElement (session=\"a0270776f6699ae5b356fbda0cb166ab\", element=\"ec3c2129-4fbc-4a78-bcd5-1a52c37b2046\")>,\n",
       " <selenium.webdriver.remote.webelement.WebElement (session=\"a0270776f6699ae5b356fbda0cb166ab\", element=\"eb42dd75-60a4-4ca7-a15d-6c7c1b750ff6\")>,\n",
       " <selenium.webdriver.remote.webelement.WebElement (session=\"a0270776f6699ae5b356fbda0cb166ab\", element=\"58edf9e6-b4c0-4fc9-930e-0194c5d00d3a\")>,\n",
       " <selenium.webdriver.remote.webelement.WebElement (session=\"a0270776f6699ae5b356fbda0cb166ab\", element=\"28e26833-6d91-4283-b45b-f7ee3bb59ef6\")>,\n",
       " <selenium.webdriver.remote.webelement.WebElement (session=\"a0270776f6699ae5b356fbda0cb166ab\", element=\"4959da03-f89a-4417-9a31-e50c0f99bd93\")>,\n",
       " <selenium.webdriver.remote.webelement.WebElement (session=\"a0270776f6699ae5b356fbda0cb166ab\", element=\"d5656939-829e-4fbe-9ab2-8ec69975a2cb\")>,\n",
       " <selenium.webdriver.remote.webelement.WebElement (session=\"a0270776f6699ae5b356fbda0cb166ab\", element=\"fbdfce65-7b5d-402e-8f23-bf74b6c6e471\")>,\n",
       " <selenium.webdriver.remote.webelement.WebElement (session=\"a0270776f6699ae5b356fbda0cb166ab\", element=\"b477396d-7c91-474f-afa2-f8566c581234\")>,\n",
       " <selenium.webdriver.remote.webelement.WebElement (session=\"a0270776f6699ae5b356fbda0cb166ab\", element=\"e51931c5-a7fe-4d89-8d0e-e0277a3e6320\")>,\n",
       " <selenium.webdriver.remote.webelement.WebElement (session=\"a0270776f6699ae5b356fbda0cb166ab\", element=\"ae15184a-72a1-4714-a82b-e76b3380b00b\")>,\n",
       " <selenium.webdriver.remote.webelement.WebElement (session=\"a0270776f6699ae5b356fbda0cb166ab\", element=\"3c60afac-d474-4760-ba3f-f01d553990e5\")>,\n",
       " <selenium.webdriver.remote.webelement.WebElement (session=\"a0270776f6699ae5b356fbda0cb166ab\", element=\"87ab3d6e-7fd3-4b56-991a-a1edb2ab99a2\")>,\n",
       " <selenium.webdriver.remote.webelement.WebElement (session=\"a0270776f6699ae5b356fbda0cb166ab\", element=\"78a95283-2f43-434d-9575-f489fd1a577b\")>,\n",
       " <selenium.webdriver.remote.webelement.WebElement (session=\"a0270776f6699ae5b356fbda0cb166ab\", element=\"f618a165-39f0-4ff6-944e-8045361ed78c\")>,\n",
       " <selenium.webdriver.remote.webelement.WebElement (session=\"a0270776f6699ae5b356fbda0cb166ab\", element=\"46eca86a-a095-4ef3-befb-06f91b65a432\")>,\n",
       " <selenium.webdriver.remote.webelement.WebElement (session=\"a0270776f6699ae5b356fbda0cb166ab\", element=\"79ff8db3-a95a-42e4-b7fd-60bfb249853a\")>,\n",
       " <selenium.webdriver.remote.webelement.WebElement (session=\"a0270776f6699ae5b356fbda0cb166ab\", element=\"6e2deb48-0ad0-46e2-873d-7b0723568dd4\")>,\n",
       " <selenium.webdriver.remote.webelement.WebElement (session=\"a0270776f6699ae5b356fbda0cb166ab\", element=\"a9270525-7715-4531-8e6b-5a3769a4c160\")>,\n",
       " <selenium.webdriver.remote.webelement.WebElement (session=\"a0270776f6699ae5b356fbda0cb166ab\", element=\"14017633-ab84-47db-a8fb-230854792336\")>,\n",
       " <selenium.webdriver.remote.webelement.WebElement (session=\"a0270776f6699ae5b356fbda0cb166ab\", element=\"54c85a79-3c9a-4b61-87d3-dc63fadfc15d\")>,\n",
       " <selenium.webdriver.remote.webelement.WebElement (session=\"a0270776f6699ae5b356fbda0cb166ab\", element=\"6276263c-26fe-4c68-b5a4-349211f6e75f\")>,\n",
       " <selenium.webdriver.remote.webelement.WebElement (session=\"a0270776f6699ae5b356fbda0cb166ab\", element=\"c5446798-2077-48bd-8aac-cad6872f61d5\")>]"
      ]
     },
     "execution_count": 264,
     "metadata": {},
     "output_type": "execute_result"
    }
   ],
   "source": [
    "discount_tag=driver.find_elements_by_xpath(\"//div[@class='_3Ay6Sb']\")\n",
    "discount_tag"
   ]
  },
  {
   "cell_type": "code",
   "execution_count": 265,
   "metadata": {},
   "outputs": [
    {
     "data": {
      "text/plain": [
       "['15% off',\n",
       " '62% off',\n",
       " '72% off',\n",
       " '16% off',\n",
       " '88% off',\n",
       " '66% off',\n",
       " '6% off',\n",
       " '84% off',\n",
       " '14% off',\n",
       " '65% off',\n",
       " '22% off',\n",
       " '71% off',\n",
       " '6% off',\n",
       " '50% off',\n",
       " '21% off',\n",
       " '11% off',\n",
       " '66% off',\n",
       " '21% off',\n",
       " '53% off',\n",
       " '20% off',\n",
       " '14% off',\n",
       " '62% off',\n",
       " '12% off',\n",
       " '48% off',\n",
       " '15% off',\n",
       " '61% off',\n",
       " '68% off',\n",
       " '12% off',\n",
       " '15% off',\n",
       " '15% off',\n",
       " '15% off',\n",
       " '27% off',\n",
       " '3% off',\n",
       " '17% off',\n",
       " '22% off',\n",
       " '30% off',\n",
       " '6% off',\n",
       " '4% off',\n",
       " '27% off',\n",
       " '72% off']"
      ]
     },
     "execution_count": 265,
     "metadata": {},
     "output_type": "execute_result"
    }
   ],
   "source": [
    "Discount_3=[]\n",
    "for i in discount_tag:\n",
    "    Discount_3.append(i.text)\n",
    "    \n",
    "Discount_3"
   ]
  },
  {
   "cell_type": "markdown",
   "metadata": {},
   "source": [
    "Q7: Scrape 100 reviews data from flipkart.com for iphone11 phone. You have to \n",
    "go the link: https://www.flipkart.com/apple-iphone-11-black-64-gb-includes\u0002earpods-power\u0002adapter/p/itm0f37c2240b217?pid=MOBFKCTSVZAXUHGR&lid=LSTMOBFKC\n",
    "TSVZAXUHGREPBFGI&marketplace.\n",
    "\n",
    "When you will open the above link you will reach to the below shown webpage.\n",
    "As shown in the above page you have to scrape the tick marked attributes.\n",
    "\n",
    "These are \n",
    "1. Rating \n",
    "2. Review_summary \n",
    "3. Full review\n",
    "You have to scrape this data for first 100 review"
   ]
  },
  {
   "cell_type": "code",
   "execution_count": 2,
   "metadata": {},
   "outputs": [],
   "source": [
    "driver=webdriver.Chrome('chromedriver.exe')"
   ]
  },
  {
   "cell_type": "code",
   "execution_count": 3,
   "metadata": {},
   "outputs": [],
   "source": [
    "url='https://www.flipkart.com/apple-iphone-11-black-64-gb-includes-earpods-power-adapter/p/itm0f37c2240b217?pid=MOBFKCTSVZAXUHGR&lid=LSTMOBFKCTSVZAXUHGREPBFGI&marketplace'\n"
   ]
  },
  {
   "cell_type": "code",
   "execution_count": 4,
   "metadata": {},
   "outputs": [],
   "source": [
    "driver.get(url)"
   ]
  },
  {
   "cell_type": "code",
   "execution_count": 5,
   "metadata": {},
   "outputs": [],
   "source": [
    "url='https://www.flipkart.com/apple-iphone-11-black-64-gb-includes-earpods-power-adapter/product-reviews/itm0f37c2240b217?pid=MOBFKCTSVZAXUHGR&lid=LSTMOBFKCTSVZAXUHGREPBFGI&marketplace=FLIPKART'"
   ]
  },
  {
   "cell_type": "code",
   "execution_count": 6,
   "metadata": {},
   "outputs": [],
   "source": [
    "driver.get(url)"
   ]
  },
  {
   "cell_type": "code",
   "execution_count": 12,
   "metadata": {},
   "outputs": [
    {
     "data": {
      "text/plain": [
       "[<selenium.webdriver.remote.webelement.WebElement (session=\"4498dbab1d76d6c4a1c5d82c8c6bdb7d\", element=\"962722bc-7872-47df-86ee-fd539f9247ee\")>,\n",
       " <selenium.webdriver.remote.webelement.WebElement (session=\"4498dbab1d76d6c4a1c5d82c8c6bdb7d\", element=\"9b38e629-5113-4f95-b047-7cc9aac9c800\")>,\n",
       " <selenium.webdriver.remote.webelement.WebElement (session=\"4498dbab1d76d6c4a1c5d82c8c6bdb7d\", element=\"8c43c8d5-3617-4dd8-8fb0-15510fa18e51\")>,\n",
       " <selenium.webdriver.remote.webelement.WebElement (session=\"4498dbab1d76d6c4a1c5d82c8c6bdb7d\", element=\"1c72560d-a414-481c-9d80-60a424de2096\")>,\n",
       " <selenium.webdriver.remote.webelement.WebElement (session=\"4498dbab1d76d6c4a1c5d82c8c6bdb7d\", element=\"c66d95fc-9bce-4715-a998-9df7117bb6b2\")>,\n",
       " <selenium.webdriver.remote.webelement.WebElement (session=\"4498dbab1d76d6c4a1c5d82c8c6bdb7d\", element=\"c44c5a83-3cf8-439e-870e-0034b8b29531\")>,\n",
       " <selenium.webdriver.remote.webelement.WebElement (session=\"4498dbab1d76d6c4a1c5d82c8c6bdb7d\", element=\"650fedee-1b84-4ee3-9cec-05d0854f1c71\")>,\n",
       " <selenium.webdriver.remote.webelement.WebElement (session=\"4498dbab1d76d6c4a1c5d82c8c6bdb7d\", element=\"02ef098a-250d-4d5d-89e2-2e0c3d39ce5f\")>,\n",
       " <selenium.webdriver.remote.webelement.WebElement (session=\"4498dbab1d76d6c4a1c5d82c8c6bdb7d\", element=\"b852acfe-d635-46a5-bdc5-ee01ba85a01c\")>,\n",
       " <selenium.webdriver.remote.webelement.WebElement (session=\"4498dbab1d76d6c4a1c5d82c8c6bdb7d\", element=\"e707e01d-dc97-4113-9ee1-221369989257\")>]"
      ]
     },
     "execution_count": 12,
     "metadata": {},
     "output_type": "execute_result"
    }
   ],
   "source": [
    "#Extracting tags for ratings\n",
    "Rating_tag=driver.find_elements_by_xpath(\"//div[@class='_3LWZlK _1BLPMq']\")\n",
    "Rating_tag\n",
    "    \n"
   ]
  },
  {
   "cell_type": "code",
   "execution_count": 13,
   "metadata": {},
   "outputs": [
    {
     "data": {
      "text/plain": [
       "['5', '5', '5', '5', '4', '5', '5', '5', '5', '5']"
      ]
     },
     "execution_count": 13,
     "metadata": {},
     "output_type": "execute_result"
    }
   ],
   "source": [
    "Ratings_1=[]\n",
    "for i in Rating_tag:\n",
    "    Ratings_1.append(i.text)\n",
    "    \n",
    "Ratings_1"
   ]
  },
  {
   "cell_type": "code",
   "execution_count": 14,
   "metadata": {},
   "outputs": [
    {
     "data": {
      "text/plain": [
       "[<selenium.webdriver.remote.webelement.WebElement (session=\"4498dbab1d76d6c4a1c5d82c8c6bdb7d\", element=\"8c39d077-f43f-43d1-bd57-17817d991017\")>,\n",
       " <selenium.webdriver.remote.webelement.WebElement (session=\"4498dbab1d76d6c4a1c5d82c8c6bdb7d\", element=\"0edcc335-09b1-4e3c-bbe5-97fbc74759bd\")>,\n",
       " <selenium.webdriver.remote.webelement.WebElement (session=\"4498dbab1d76d6c4a1c5d82c8c6bdb7d\", element=\"b898f1f3-7363-416f-b69e-6a87ff5f990a\")>,\n",
       " <selenium.webdriver.remote.webelement.WebElement (session=\"4498dbab1d76d6c4a1c5d82c8c6bdb7d\", element=\"b7b3ce95-ae46-4113-ae11-8ffeef302d4a\")>,\n",
       " <selenium.webdriver.remote.webelement.WebElement (session=\"4498dbab1d76d6c4a1c5d82c8c6bdb7d\", element=\"53fbc6f6-9a37-4166-bdfe-29c9852b9bd3\")>,\n",
       " <selenium.webdriver.remote.webelement.WebElement (session=\"4498dbab1d76d6c4a1c5d82c8c6bdb7d\", element=\"fcde9c19-b193-4caa-8dae-a15c54316bfe\")>,\n",
       " <selenium.webdriver.remote.webelement.WebElement (session=\"4498dbab1d76d6c4a1c5d82c8c6bdb7d\", element=\"e482e3e9-eba8-4d2b-ad0c-827a0eac1062\")>,\n",
       " <selenium.webdriver.remote.webelement.WebElement (session=\"4498dbab1d76d6c4a1c5d82c8c6bdb7d\", element=\"aa9ccc31-80c4-460b-83a8-b2cc97709d6c\")>,\n",
       " <selenium.webdriver.remote.webelement.WebElement (session=\"4498dbab1d76d6c4a1c5d82c8c6bdb7d\", element=\"5d1acbe7-c3e6-45f2-b96f-674d99426716\")>,\n",
       " <selenium.webdriver.remote.webelement.WebElement (session=\"4498dbab1d76d6c4a1c5d82c8c6bdb7d\", element=\"1788392d-4cd6-4ede-989a-a4c16886ccc2\")>]"
      ]
     },
     "execution_count": 14,
     "metadata": {},
     "output_type": "execute_result"
    }
   ],
   "source": [
    "#extracting tags for review summary\n",
    "\n",
    "Review_s_tag=driver.find_elements_by_xpath(\"//p[@class='_2-N8zT']\")\n",
    "Review_s_tag"
   ]
  },
  {
   "cell_type": "code",
   "execution_count": 17,
   "metadata": {},
   "outputs": [
    {
     "data": {
      "text/plain": [
       "['Brilliant',\n",
       " 'Perfect product!',\n",
       " 'Great product',\n",
       " 'Worth every penny',\n",
       " 'Good choice',\n",
       " 'Highly recommended',\n",
       " 'Perfect product!',\n",
       " 'Perfect product!',\n",
       " 'Fabulous!',\n",
       " 'Wonderful']"
      ]
     },
     "execution_count": 17,
     "metadata": {},
     "output_type": "execute_result"
    }
   ],
   "source": [
    "Review_Summary_1=[]\n",
    "for i in Review_s_tag:\n",
    "    Review_Summary_1.append(i.text)\n",
    "Review_Summary_1"
   ]
  },
  {
   "cell_type": "code",
   "execution_count": 19,
   "metadata": {},
   "outputs": [
    {
     "data": {
      "text/plain": [
       "[<selenium.webdriver.remote.webelement.WebElement (session=\"4498dbab1d76d6c4a1c5d82c8c6bdb7d\", element=\"3da252eb-b3fe-4964-a85d-27302f51fa94\")>,\n",
       " <selenium.webdriver.remote.webelement.WebElement (session=\"4498dbab1d76d6c4a1c5d82c8c6bdb7d\", element=\"58820b69-a4c7-4cae-a2b0-9f1014a1ec92\")>,\n",
       " <selenium.webdriver.remote.webelement.WebElement (session=\"4498dbab1d76d6c4a1c5d82c8c6bdb7d\", element=\"5edcf324-4428-4753-8d0b-366535918eaf\")>,\n",
       " <selenium.webdriver.remote.webelement.WebElement (session=\"4498dbab1d76d6c4a1c5d82c8c6bdb7d\", element=\"d34a0b6a-7e87-4516-8081-b4b7a455c71b\")>,\n",
       " <selenium.webdriver.remote.webelement.WebElement (session=\"4498dbab1d76d6c4a1c5d82c8c6bdb7d\", element=\"3eb1b789-d945-4251-92a0-ea49683f3e1c\")>,\n",
       " <selenium.webdriver.remote.webelement.WebElement (session=\"4498dbab1d76d6c4a1c5d82c8c6bdb7d\", element=\"e058106d-c5c4-4ec8-8e5f-db6490bd2612\")>,\n",
       " <selenium.webdriver.remote.webelement.WebElement (session=\"4498dbab1d76d6c4a1c5d82c8c6bdb7d\", element=\"29a59082-6730-40a6-8ea7-dac8d1716acd\")>,\n",
       " <selenium.webdriver.remote.webelement.WebElement (session=\"4498dbab1d76d6c4a1c5d82c8c6bdb7d\", element=\"515948f3-a88e-4f6e-83b3-b2523631cdcc\")>,\n",
       " <selenium.webdriver.remote.webelement.WebElement (session=\"4498dbab1d76d6c4a1c5d82c8c6bdb7d\", element=\"f1daa676-3c94-41c0-a335-ca8d4ac53796\")>,\n",
       " <selenium.webdriver.remote.webelement.WebElement (session=\"4498dbab1d76d6c4a1c5d82c8c6bdb7d\", element=\"dc3c7a4d-6495-4e80-a232-6463bfb02ceb\")>]"
      ]
     },
     "execution_count": 19,
     "metadata": {},
     "output_type": "execute_result"
    }
   ],
   "source": [
    "#Extracting tags for Review\n",
    "\n",
    "Review_tag=driver.find_elements_by_xpath(\"//div[@class='t-ZTKy']\")\n",
    "Review_tag"
   ]
  },
  {
   "cell_type": "code",
   "execution_count": 21,
   "metadata": {},
   "outputs": [
    {
     "data": {
      "text/plain": [
       "['The Best Phone for the MoneyThe iPhone 11 offers superb cameras, a more durable design and excellent battery life for an affordable price.Compelling ultra-wide cameraNew Night mode is excellentLong battery life',\n",
       " 'Amazing phone with great cameras and better battery which gives you the best performance. I just love the camera .',\n",
       " 'Amazing Powerful and Durable Gadget.I’m am very happy with the camera picture quality, Amazing face id unlocked in dark room, Strong battery with perfect screen size as you can carry easily in pocket. This is my third iPhone.I shifted from android Samsung Note series to iPhone because of the strong build quality and peace of mind for next 3-4 years.Don’t think to much just go for it and I suggest you to go for minimum 128gb variant or more 256gb.I’ve attached my puppy pics and no fi...READ MORE',\n",
       " 'Previously I was using one plus 3t it was a great phoneAnd then I decided to upgrade I am stuck between Samsung s10 plus or iPhone 11I have seen the specs and everything were good except the display it’s somewhere between 720-1080 and it’s not even an amoled it’s an LCD displayBut I decided to go with iPhone because I have never used an IOS device I have Been an android user from the past 9 years I ordered IPhone 11 (128gb) product redMy experience after using 3 weeks1. The delivery ...READ MORE',\n",
       " 'So far it’s been an AMAZING experience coming back to iOS after nearly a decade but it’s not as versatile as android though phone is sturdy dropped it accidentally a couple of times and nothing happened fortunately camera is awesome',\n",
       " 'iphone 11 is a very good phone to buy only if you can compromise for the display. The display on this is device is pretty good but you can get other options with better displays in this price segment.If you can survive with an HD+ LCD panel with thicker bezels and a notch up top then this is a very good phone for you.Cameras are awesome, battery backup excellent, great performance and a decent premium look. Good job Apple !',\n",
       " 'It’s a must buy who is looking for an upgrade from previous generation of iPhones. If you are using XR then still you can hold on for sometime and upgrade to 2020 model else this phone is a must buy . Camera quality is amazing and wide angle is something to count upon. Performance wise it’s amazing and feels premium while holding in hand. So a big YES for this device. Go for 128 GB variant as the 4K videos will occupy lots of space and the storage can get over very quickly. Try to buy it with...READ MORE',\n",
       " 'Value for money❤️❤️Its awesome mobile phone in the world ...Display was very good and bright ..Trust me freinds you r never regret after Buying..Just go for it....I love this phone and i switch to iphone x to 11',\n",
       " 'This is my first iOS phone. I am very happy with this product. Very much satisfied with this. I love this phone.',\n",
       " '*Review after 10 months of usage*Doesn\\'t seem bulky with decent touch and camera. The \"standard maintained\" quality of IPhone. Go for it, if your budget is not more enough for pro models. It\\'s a value for money among the 11 series Stereo speakers are so good, you will love the stereo sound. Battery backup is not decent but still better than Iphone 7 and 8.Processor is fast, the phone doesn\\'t lag at all even with heavy games, waterproof, faster face id and with no fingerprint scanners. The ca...READ MORE']"
      ]
     },
     "execution_count": 21,
     "metadata": {},
     "output_type": "execute_result"
    }
   ],
   "source": [
    "Review_1=[]\n",
    "for i in Review_tag:\n",
    "    Review_1.append(i.text.replace('\\n',''))\n",
    "    \n",
    "Review_1"
   ]
  },
  {
   "cell_type": "code",
   "execution_count": 22,
   "metadata": {},
   "outputs": [
    {
     "name": "stdout",
     "output_type": "stream",
     "text": [
      "10 10 10\n"
     ]
    }
   ],
   "source": [
    "print(len(Ratings_1),len(Review_Summary_1),len(Review_1))"
   ]
  },
  {
   "cell_type": "code",
   "execution_count": 23,
   "metadata": {},
   "outputs": [
    {
     "data": {
      "text/html": [
       "<div>\n",
       "<style scoped>\n",
       "    .dataframe tbody tr th:only-of-type {\n",
       "        vertical-align: middle;\n",
       "    }\n",
       "\n",
       "    .dataframe tbody tr th {\n",
       "        vertical-align: top;\n",
       "    }\n",
       "\n",
       "    .dataframe thead th {\n",
       "        text-align: right;\n",
       "    }\n",
       "</style>\n",
       "<table border=\"1\" class=\"dataframe\">\n",
       "  <thead>\n",
       "    <tr style=\"text-align: right;\">\n",
       "      <th></th>\n",
       "      <th>Ratings_1</th>\n",
       "      <th>Review_Summary_1</th>\n",
       "      <th>Review_1</th>\n",
       "    </tr>\n",
       "  </thead>\n",
       "  <tbody>\n",
       "    <tr>\n",
       "      <th>0</th>\n",
       "      <td>5</td>\n",
       "      <td>Brilliant</td>\n",
       "      <td>The Best Phone for the MoneyThe iPhone 11 offe...</td>\n",
       "    </tr>\n",
       "    <tr>\n",
       "      <th>1</th>\n",
       "      <td>5</td>\n",
       "      <td>Perfect product!</td>\n",
       "      <td>Amazing phone with great cameras and better ba...</td>\n",
       "    </tr>\n",
       "    <tr>\n",
       "      <th>2</th>\n",
       "      <td>5</td>\n",
       "      <td>Great product</td>\n",
       "      <td>Amazing Powerful and Durable Gadget.I’m am ver...</td>\n",
       "    </tr>\n",
       "    <tr>\n",
       "      <th>3</th>\n",
       "      <td>5</td>\n",
       "      <td>Worth every penny</td>\n",
       "      <td>Previously I was using one plus 3t it was a gr...</td>\n",
       "    </tr>\n",
       "    <tr>\n",
       "      <th>4</th>\n",
       "      <td>4</td>\n",
       "      <td>Good choice</td>\n",
       "      <td>So far it’s been an AMAZING experience coming ...</td>\n",
       "    </tr>\n",
       "    <tr>\n",
       "      <th>5</th>\n",
       "      <td>5</td>\n",
       "      <td>Highly recommended</td>\n",
       "      <td>iphone 11 is a very good phone to buy only if ...</td>\n",
       "    </tr>\n",
       "    <tr>\n",
       "      <th>6</th>\n",
       "      <td>5</td>\n",
       "      <td>Perfect product!</td>\n",
       "      <td>It’s a must buy who is looking for an upgrade ...</td>\n",
       "    </tr>\n",
       "    <tr>\n",
       "      <th>7</th>\n",
       "      <td>5</td>\n",
       "      <td>Perfect product!</td>\n",
       "      <td>Value for money❤️❤️Its awesome mobile phone in...</td>\n",
       "    </tr>\n",
       "    <tr>\n",
       "      <th>8</th>\n",
       "      <td>5</td>\n",
       "      <td>Fabulous!</td>\n",
       "      <td>This is my first iOS phone. I am very happy wi...</td>\n",
       "    </tr>\n",
       "    <tr>\n",
       "      <th>9</th>\n",
       "      <td>5</td>\n",
       "      <td>Wonderful</td>\n",
       "      <td>*Review after 10 months of usage*Doesn't seem ...</td>\n",
       "    </tr>\n",
       "  </tbody>\n",
       "</table>\n",
       "</div>"
      ],
      "text/plain": [
       "  Ratings_1    Review_Summary_1  \\\n",
       "0         5           Brilliant   \n",
       "1         5    Perfect product!   \n",
       "2         5       Great product   \n",
       "3         5   Worth every penny   \n",
       "4         4         Good choice   \n",
       "5         5  Highly recommended   \n",
       "6         5    Perfect product!   \n",
       "7         5    Perfect product!   \n",
       "8         5           Fabulous!   \n",
       "9         5           Wonderful   \n",
       "\n",
       "                                            Review_1  \n",
       "0  The Best Phone for the MoneyThe iPhone 11 offe...  \n",
       "1  Amazing phone with great cameras and better ba...  \n",
       "2  Amazing Powerful and Durable Gadget.I’m am ver...  \n",
       "3  Previously I was using one plus 3t it was a gr...  \n",
       "4  So far it’s been an AMAZING experience coming ...  \n",
       "5  iphone 11 is a very good phone to buy only if ...  \n",
       "6  It’s a must buy who is looking for an upgrade ...  \n",
       "7  Value for money❤️❤️Its awesome mobile phone in...  \n",
       "8  This is my first iOS phone. I am very happy wi...  \n",
       "9  *Review after 10 months of usage*Doesn't seem ...  "
      ]
     },
     "execution_count": 23,
     "metadata": {},
     "output_type": "execute_result"
    }
   ],
   "source": [
    "Page_1=pd.DataFrame({})\n",
    "\n",
    "Page_1['Ratings_1']=Ratings_1\n",
    "Page_1['Review_Summary_1']=Review_Summary_1\n",
    "Page_1['Review_1']=Review_1\n",
    "\n",
    "Page_1"
   ]
  },
  {
   "cell_type": "code",
   "execution_count": 24,
   "metadata": {},
   "outputs": [],
   "source": [
    "#for page 2\n",
    "\n",
    "two=driver.find_element_by_xpath(\"//a[@class='ge-49M']\")\n",
    "two.click()"
   ]
  },
  {
   "cell_type": "code",
   "execution_count": 25,
   "metadata": {},
   "outputs": [
    {
     "data": {
      "text/plain": [
       "[<selenium.webdriver.remote.webelement.WebElement (session=\"4498dbab1d76d6c4a1c5d82c8c6bdb7d\", element=\"9daca97d-1214-4266-b6e1-9d1b8e24e78b\")>,\n",
       " <selenium.webdriver.remote.webelement.WebElement (session=\"4498dbab1d76d6c4a1c5d82c8c6bdb7d\", element=\"ad0b6b5e-230c-48cf-a478-6662d565b151\")>,\n",
       " <selenium.webdriver.remote.webelement.WebElement (session=\"4498dbab1d76d6c4a1c5d82c8c6bdb7d\", element=\"336e96bf-1ec8-4ff9-ad28-7ec94b037e68\")>,\n",
       " <selenium.webdriver.remote.webelement.WebElement (session=\"4498dbab1d76d6c4a1c5d82c8c6bdb7d\", element=\"04ac30e6-edc4-4fc0-872d-716362e54270\")>,\n",
       " <selenium.webdriver.remote.webelement.WebElement (session=\"4498dbab1d76d6c4a1c5d82c8c6bdb7d\", element=\"0d39b693-3000-47b6-9fe0-7ba29791dd10\")>,\n",
       " <selenium.webdriver.remote.webelement.WebElement (session=\"4498dbab1d76d6c4a1c5d82c8c6bdb7d\", element=\"69cc488a-67a1-4b68-a1fb-29d1e45bfa5b\")>,\n",
       " <selenium.webdriver.remote.webelement.WebElement (session=\"4498dbab1d76d6c4a1c5d82c8c6bdb7d\", element=\"3f2aa6bf-b9c1-4af3-9081-46d0343e584c\")>,\n",
       " <selenium.webdriver.remote.webelement.WebElement (session=\"4498dbab1d76d6c4a1c5d82c8c6bdb7d\", element=\"0414e6f9-7de7-41d9-bc92-5e1ad56955cb\")>,\n",
       " <selenium.webdriver.remote.webelement.WebElement (session=\"4498dbab1d76d6c4a1c5d82c8c6bdb7d\", element=\"c71a2b72-2c80-4666-987f-991f199f0d6f\")>,\n",
       " <selenium.webdriver.remote.webelement.WebElement (session=\"4498dbab1d76d6c4a1c5d82c8c6bdb7d\", element=\"8d9a0263-a8ce-4600-885e-631da5ee8e1c\")>]"
      ]
     },
     "execution_count": 25,
     "metadata": {},
     "output_type": "execute_result"
    }
   ],
   "source": [
    "Rating_tag=driver.find_elements_by_xpath(\"//div[@class='_3LWZlK _1BLPMq']\")\n",
    "Rating_tag"
   ]
  },
  {
   "cell_type": "code",
   "execution_count": 26,
   "metadata": {},
   "outputs": [
    {
     "data": {
      "text/plain": [
       "['5', '5', '5', '4', '5', '5', '5', '5', '5', '5']"
      ]
     },
     "execution_count": 26,
     "metadata": {},
     "output_type": "execute_result"
    }
   ],
   "source": [
    "Ratings_2=[]\n",
    "for i in Rating_tag:\n",
    "    Ratings_2.append(i.text)\n",
    "    \n",
    "Ratings_2"
   ]
  },
  {
   "cell_type": "code",
   "execution_count": 27,
   "metadata": {},
   "outputs": [
    {
     "data": {
      "text/plain": [
       "[<selenium.webdriver.remote.webelement.WebElement (session=\"4498dbab1d76d6c4a1c5d82c8c6bdb7d\", element=\"fb5ff0c6-81c8-402e-aac5-db36a7fd550b\")>,\n",
       " <selenium.webdriver.remote.webelement.WebElement (session=\"4498dbab1d76d6c4a1c5d82c8c6bdb7d\", element=\"5253efcd-8dcf-40b1-bbd9-30fa466e0a5e\")>,\n",
       " <selenium.webdriver.remote.webelement.WebElement (session=\"4498dbab1d76d6c4a1c5d82c8c6bdb7d\", element=\"be2953ad-9adf-45da-848d-624fb9076671\")>,\n",
       " <selenium.webdriver.remote.webelement.WebElement (session=\"4498dbab1d76d6c4a1c5d82c8c6bdb7d\", element=\"024bfe67-f0a1-4569-ba1a-9fb3fb49a823\")>,\n",
       " <selenium.webdriver.remote.webelement.WebElement (session=\"4498dbab1d76d6c4a1c5d82c8c6bdb7d\", element=\"41de7b09-a67e-4dcd-a998-bf5ffc5df88b\")>,\n",
       " <selenium.webdriver.remote.webelement.WebElement (session=\"4498dbab1d76d6c4a1c5d82c8c6bdb7d\", element=\"e699eca0-33f9-4739-88d8-52d32253d07f\")>,\n",
       " <selenium.webdriver.remote.webelement.WebElement (session=\"4498dbab1d76d6c4a1c5d82c8c6bdb7d\", element=\"a379918c-a3f0-42b7-918e-468985e82cfb\")>,\n",
       " <selenium.webdriver.remote.webelement.WebElement (session=\"4498dbab1d76d6c4a1c5d82c8c6bdb7d\", element=\"d29d937d-e105-4059-88d1-114e3421c574\")>,\n",
       " <selenium.webdriver.remote.webelement.WebElement (session=\"4498dbab1d76d6c4a1c5d82c8c6bdb7d\", element=\"58edb675-9a68-4005-8baa-91fbb2688d39\")>,\n",
       " <selenium.webdriver.remote.webelement.WebElement (session=\"4498dbab1d76d6c4a1c5d82c8c6bdb7d\", element=\"68cef425-4704-4ec8-9fa6-b01e5d52cb5a\")>]"
      ]
     },
     "execution_count": 27,
     "metadata": {},
     "output_type": "execute_result"
    }
   ],
   "source": [
    "Review_s_tag=driver.find_elements_by_xpath(\"//p[@class='_2-N8zT']\")\n",
    "Review_s_tag"
   ]
  },
  {
   "cell_type": "code",
   "execution_count": 28,
   "metadata": {},
   "outputs": [
    {
     "data": {
      "text/plain": [
       "['Worth every penny',\n",
       " 'Perfect product!',\n",
       " 'Worth every penny',\n",
       " 'Nice product',\n",
       " 'Simply awesome',\n",
       " 'Terrific',\n",
       " 'Highly recommended',\n",
       " 'Wonderful',\n",
       " 'Classy product',\n",
       " 'Brilliant']"
      ]
     },
     "execution_count": 28,
     "metadata": {},
     "output_type": "execute_result"
    }
   ],
   "source": [
    "Reviews_Summary_2=[]\n",
    "for i in Review_s_tag:\n",
    "    Reviews_Summary_2.append(i.text)\n",
    "Reviews_Summary_2"
   ]
  },
  {
   "cell_type": "code",
   "execution_count": 30,
   "metadata": {},
   "outputs": [
    {
     "data": {
      "text/plain": [
       "[<selenium.webdriver.remote.webelement.WebElement (session=\"4498dbab1d76d6c4a1c5d82c8c6bdb7d\", element=\"ace289a8-7acd-448e-9de6-1bf85cddde1a\")>,\n",
       " <selenium.webdriver.remote.webelement.WebElement (session=\"4498dbab1d76d6c4a1c5d82c8c6bdb7d\", element=\"bdf1b113-c676-4ece-932d-05968c0df42a\")>,\n",
       " <selenium.webdriver.remote.webelement.WebElement (session=\"4498dbab1d76d6c4a1c5d82c8c6bdb7d\", element=\"5d932a7d-cbf3-458d-856a-757f94277b5d\")>,\n",
       " <selenium.webdriver.remote.webelement.WebElement (session=\"4498dbab1d76d6c4a1c5d82c8c6bdb7d\", element=\"28664703-7f50-4cc2-8759-af424d6a9e68\")>,\n",
       " <selenium.webdriver.remote.webelement.WebElement (session=\"4498dbab1d76d6c4a1c5d82c8c6bdb7d\", element=\"250fc8d1-ed7e-4ef0-a693-cefd6e28d9ea\")>,\n",
       " <selenium.webdriver.remote.webelement.WebElement (session=\"4498dbab1d76d6c4a1c5d82c8c6bdb7d\", element=\"3a5d0582-dd43-4480-bc83-db24770703f0\")>,\n",
       " <selenium.webdriver.remote.webelement.WebElement (session=\"4498dbab1d76d6c4a1c5d82c8c6bdb7d\", element=\"3022338d-a551-4c61-9b83-c151a984e045\")>,\n",
       " <selenium.webdriver.remote.webelement.WebElement (session=\"4498dbab1d76d6c4a1c5d82c8c6bdb7d\", element=\"6cda5100-982e-4e1e-92c7-54d8424920a3\")>,\n",
       " <selenium.webdriver.remote.webelement.WebElement (session=\"4498dbab1d76d6c4a1c5d82c8c6bdb7d\", element=\"855f26e1-bd49-42ea-8e4d-fcb9dd978721\")>,\n",
       " <selenium.webdriver.remote.webelement.WebElement (session=\"4498dbab1d76d6c4a1c5d82c8c6bdb7d\", element=\"adb969fe-7bce-48be-98b5-e5b5ca485edf\")>]"
      ]
     },
     "execution_count": 30,
     "metadata": {},
     "output_type": "execute_result"
    }
   ],
   "source": [
    "Review_tag=driver.find_elements_by_xpath(\"//div[@class='t-ZTKy']\")\n",
    "Review_tag"
   ]
  },
  {
   "cell_type": "code",
   "execution_count": 34,
   "metadata": {},
   "outputs": [
    {
     "data": {
      "text/plain": [
       "['Best budget Iphone till date ❤️ go for it guys without second thought. Let me explain you guys about Camera, Display, battery, and performance.Camera: at this price range there is no comparison of camera, you’ll love the picture quality as well as video quality. I am a Vlogger I wanted an iPhone with 4k video by front camera and I got this phone and I am more than happy 😃Battery: I use this phone roughly as I am active social media person and I have a youtube channel. so the battery backup of this phone is far far better than Iphone x and I charge this phone once in a day despite of using this roughly.Display: don’t go on negative reviews about display. Earlier, I was using Iphone X since 1 n half years. I didn’t see any major difference in display. The display quality is superb as it’s Apple device. You can compare one plus amoled display with Iphone 11 display you’ll get to know that Iphone 11 display is much better.Performance: the performance of this phone as same as Iphone 11 pro, there is 3 difference between Iphone 11 pro and Iphone 11. First is display, second you’ll get ultra wide angle camera in iphone 11 pro, and third is display Resolution. Except these things there is no difference and performance remains the same.When you’ll hold this phone you’ll feel that you are holding a premium device ❤️Like if my review helps.',\n",
       " \"Iphone is just awesome.. battery backup is very very nice.. continuously for 10 hours we can use it.camera is just awesome.. display is just fab.i love it alot..i had to wait 15 days for it as i pre ordered it..overalll it's worth the price..these all images are clicked by my iPhone..and i love it.\",\n",
       " 'It’s been almost a month since I have been using this phone. I upgraded from an iPhone 8. The main issue with my 8 was battery and this phone is just awesome when it comes to battery. It lasts a day and a half for me with my regular use , internet connected always with 4gCan’t move forward without saying this. Battery of this phone is a life saver when I am traveling or at work when I don’t get the option to chargeCamera is superb. Front cam selfies and back cam photos are just awesome....READ MORE',\n",
       " 'Awesome Phone. Slightly high price but worth. Better than iPhone XR.Camera is superb and wide angle camera is very clear.12MP selfie camera is also very good.A13 Chip gives a very good and smooth performance.',\n",
       " 'Excellent camera, good performance, no lag. The lcd display is also good.. but difference come when we watch movie in prime and Netflix, the colours are not vibrant.. as we see in amoled display.. and the charger in box is of 5 watts.. takes more than 3 hours to charge from 0 to 100.. so guys be prepare to buy 18 watts charger . Finally I am an android user, it was my first Iapple phone, I promise u guys the iOS is so smooth.. overall the phone is damn good.... close eyes to buy it.. thanks t...READ MORE',\n",
       " 'Really worth of money. i just love it. It is the best phone ever.',\n",
       " \"It's my first time to use iOS phone and I am loving my upgradation 😍😍 I love the color, I love the assebility of the phone....I need to learn more about its functionality, but as far as I have seen, it's quite easy and it has a lot of functions to work on, specially if you are a content writer or a blogger you get a lot of content creation platforms and they are really amazing.This phone not only for good quality photography but a lot of other task too.😍💯\",\n",
       " 'This is my first ever I phone. Before this I was using my google nexus 5. But moving from android to iOS is a great experience. It’s worth at this price. I will highly recommend it if you want to move to iOS. The best part of this phone is it’s camera and it’s battery life. This two things have won my heart. I loved it. Happy to have it in my hand. Still exploring its features. And can’t forget to mention Flipkart service. Very prompt service and fast delivery.',\n",
       " 'Superb Product !!!A big and worthy upgrade from mi 3S to iphone 11 .Totally loved it !',\n",
       " 'I have migrated from OP 7pro... and trust me, iPhone 11 is totally worth it.. following are the reasons:-1)there is ABSOLUTELY NO ISSUE WITH THE DISPLAY... its crisp, sharp and I found it to be much much better than OP7 pro. Netflix, Prime video all run crisply... you won’t miss a thing. True Tone works flawlessly...the display brightness is perfect. OP have not calibrated their screens properly.2) iPhone 11 series have really good cameras... others have spoken in depth about them.3) bat...READ MORE']"
      ]
     },
     "execution_count": 34,
     "metadata": {},
     "output_type": "execute_result"
    }
   ],
   "source": [
    "Review_2=[]\n",
    "for i in Review_tag:\n",
    "    Review_2.append(i.text.replace('\\n',''))\n",
    "    \n",
    "Review_2\n",
    "    "
   ]
  },
  {
   "cell_type": "code",
   "execution_count": 33,
   "metadata": {},
   "outputs": [
    {
     "name": "stdout",
     "output_type": "stream",
     "text": [
      "10 10 10\n"
     ]
    }
   ],
   "source": [
    "print(len(Ratings_2),len(Reviews_Summary_2),len(Review_2))"
   ]
  },
  {
   "cell_type": "code",
   "execution_count": 37,
   "metadata": {},
   "outputs": [
    {
     "data": {
      "text/html": [
       "<div>\n",
       "<style scoped>\n",
       "    .dataframe tbody tr th:only-of-type {\n",
       "        vertical-align: middle;\n",
       "    }\n",
       "\n",
       "    .dataframe tbody tr th {\n",
       "        vertical-align: top;\n",
       "    }\n",
       "\n",
       "    .dataframe thead th {\n",
       "        text-align: right;\n",
       "    }\n",
       "</style>\n",
       "<table border=\"1\" class=\"dataframe\">\n",
       "  <thead>\n",
       "    <tr style=\"text-align: right;\">\n",
       "      <th></th>\n",
       "      <th>Ratings_2</th>\n",
       "      <th>Reviews_Summary_2</th>\n",
       "      <th>Review_2</th>\n",
       "    </tr>\n",
       "  </thead>\n",
       "  <tbody>\n",
       "    <tr>\n",
       "      <th>0</th>\n",
       "      <td>5</td>\n",
       "      <td>Worth every penny</td>\n",
       "      <td>Best budget Iphone till date ❤️ go for it guys...</td>\n",
       "    </tr>\n",
       "    <tr>\n",
       "      <th>1</th>\n",
       "      <td>5</td>\n",
       "      <td>Perfect product!</td>\n",
       "      <td>Iphone is just awesome.. battery backup is ver...</td>\n",
       "    </tr>\n",
       "    <tr>\n",
       "      <th>2</th>\n",
       "      <td>5</td>\n",
       "      <td>Worth every penny</td>\n",
       "      <td>It’s been almost a month since I have been usi...</td>\n",
       "    </tr>\n",
       "    <tr>\n",
       "      <th>3</th>\n",
       "      <td>4</td>\n",
       "      <td>Nice product</td>\n",
       "      <td>Awesome Phone. Slightly high price but worth. ...</td>\n",
       "    </tr>\n",
       "    <tr>\n",
       "      <th>4</th>\n",
       "      <td>5</td>\n",
       "      <td>Simply awesome</td>\n",
       "      <td>Excellent camera, good performance, no lag. Th...</td>\n",
       "    </tr>\n",
       "    <tr>\n",
       "      <th>5</th>\n",
       "      <td>5</td>\n",
       "      <td>Terrific</td>\n",
       "      <td>Really worth of money. i just love it. It is t...</td>\n",
       "    </tr>\n",
       "    <tr>\n",
       "      <th>6</th>\n",
       "      <td>5</td>\n",
       "      <td>Highly recommended</td>\n",
       "      <td>It's my first time to use iOS phone and I am l...</td>\n",
       "    </tr>\n",
       "    <tr>\n",
       "      <th>7</th>\n",
       "      <td>5</td>\n",
       "      <td>Wonderful</td>\n",
       "      <td>This is my first ever I phone. Before this I w...</td>\n",
       "    </tr>\n",
       "    <tr>\n",
       "      <th>8</th>\n",
       "      <td>5</td>\n",
       "      <td>Classy product</td>\n",
       "      <td>Superb Product !!!A big and worthy upgrade fro...</td>\n",
       "    </tr>\n",
       "    <tr>\n",
       "      <th>9</th>\n",
       "      <td>5</td>\n",
       "      <td>Brilliant</td>\n",
       "      <td>I have migrated from OP 7pro... and trust me, ...</td>\n",
       "    </tr>\n",
       "  </tbody>\n",
       "</table>\n",
       "</div>"
      ],
      "text/plain": [
       "  Ratings_2   Reviews_Summary_2  \\\n",
       "0         5   Worth every penny   \n",
       "1         5    Perfect product!   \n",
       "2         5   Worth every penny   \n",
       "3         4        Nice product   \n",
       "4         5      Simply awesome   \n",
       "5         5            Terrific   \n",
       "6         5  Highly recommended   \n",
       "7         5           Wonderful   \n",
       "8         5      Classy product   \n",
       "9         5           Brilliant   \n",
       "\n",
       "                                            Review_2  \n",
       "0  Best budget Iphone till date ❤️ go for it guys...  \n",
       "1  Iphone is just awesome.. battery backup is ver...  \n",
       "2  It’s been almost a month since I have been usi...  \n",
       "3  Awesome Phone. Slightly high price but worth. ...  \n",
       "4  Excellent camera, good performance, no lag. Th...  \n",
       "5  Really worth of money. i just love it. It is t...  \n",
       "6  It's my first time to use iOS phone and I am l...  \n",
       "7  This is my first ever I phone. Before this I w...  \n",
       "8  Superb Product !!!A big and worthy upgrade fro...  \n",
       "9  I have migrated from OP 7pro... and trust me, ...  "
      ]
     },
     "execution_count": 37,
     "metadata": {},
     "output_type": "execute_result"
    }
   ],
   "source": [
    "Page_2=pd.DataFrame({})\n",
    "Page_2['Ratings_2']=Ratings_2\n",
    "Page_2['Reviews_Summary_2']=Reviews_Summary_2\n",
    "Page_2['Review_2']=Review_2\n",
    "Page_2"
   ]
  },
  {
   "cell_type": "code",
   "execution_count": 46,
   "metadata": {},
   "outputs": [],
   "source": [
    "url='https://www.flipkart.com/apple-iphone-11-black-64-gb-includes-earpods-power-adapter/product-reviews/itm0f37c2240b217?pid=MOBFKCTSVZAXUHGR&lid=LSTMOBFKCTSVZAXUHGREPBFGI&marketplace=FLIPKART&page=3'"
   ]
  },
  {
   "cell_type": "code",
   "execution_count": 47,
   "metadata": {},
   "outputs": [],
   "source": [
    "driver.get(url)"
   ]
  },
  {
   "cell_type": "code",
   "execution_count": 48,
   "metadata": {},
   "outputs": [
    {
     "data": {
      "text/plain": [
       "[<selenium.webdriver.remote.webelement.WebElement (session=\"4498dbab1d76d6c4a1c5d82c8c6bdb7d\", element=\"f2e12443-88e3-4fcf-b7d2-be250871be50\")>,\n",
       " <selenium.webdriver.remote.webelement.WebElement (session=\"4498dbab1d76d6c4a1c5d82c8c6bdb7d\", element=\"ef169b64-9654-4df1-be09-72a638e02ced\")>,\n",
       " <selenium.webdriver.remote.webelement.WebElement (session=\"4498dbab1d76d6c4a1c5d82c8c6bdb7d\", element=\"6aa7703d-3fa0-4682-b802-4a2b50066345\")>,\n",
       " <selenium.webdriver.remote.webelement.WebElement (session=\"4498dbab1d76d6c4a1c5d82c8c6bdb7d\", element=\"4a80d6cf-a24c-49e7-9fae-eabcaf83d3ce\")>,\n",
       " <selenium.webdriver.remote.webelement.WebElement (session=\"4498dbab1d76d6c4a1c5d82c8c6bdb7d\", element=\"8d0e8a8a-828b-4e39-98d8-1acc46608874\")>,\n",
       " <selenium.webdriver.remote.webelement.WebElement (session=\"4498dbab1d76d6c4a1c5d82c8c6bdb7d\", element=\"787d3eab-4cb9-4c2c-8ae5-7663fae59adf\")>,\n",
       " <selenium.webdriver.remote.webelement.WebElement (session=\"4498dbab1d76d6c4a1c5d82c8c6bdb7d\", element=\"197d2386-4ff1-4787-b893-27ed113e51d7\")>,\n",
       " <selenium.webdriver.remote.webelement.WebElement (session=\"4498dbab1d76d6c4a1c5d82c8c6bdb7d\", element=\"944f77bd-fa8f-4dd9-8842-f6c8b036a9e8\")>,\n",
       " <selenium.webdriver.remote.webelement.WebElement (session=\"4498dbab1d76d6c4a1c5d82c8c6bdb7d\", element=\"47797b69-fe11-46b6-9f47-0bb3a2739c9d\")>]"
      ]
     },
     "execution_count": 48,
     "metadata": {},
     "output_type": "execute_result"
    }
   ],
   "source": [
    "Rating_tag=driver.find_elements_by_xpath(\"//div[@class='_3LWZlK _1BLPMq']\")\n",
    "Rating_tag"
   ]
  },
  {
   "cell_type": "code",
   "execution_count": 50,
   "metadata": {},
   "outputs": [
    {
     "data": {
      "text/plain": [
       "['5', '5', '5', '5', '5', '5', '4', '5', '5']"
      ]
     },
     "execution_count": 50,
     "metadata": {},
     "output_type": "execute_result"
    }
   ],
   "source": [
    "Ratings_3=[]\n",
    "for i in Rating_tag:\n",
    "    Ratings_3.append(i.text)\n",
    "    \n",
    "Ratings_3"
   ]
  },
  {
   "cell_type": "code",
   "execution_count": 52,
   "metadata": {},
   "outputs": [
    {
     "data": {
      "text/plain": [
       "[<selenium.webdriver.remote.webelement.WebElement (session=\"4498dbab1d76d6c4a1c5d82c8c6bdb7d\", element=\"413b36ac-3e01-48da-a651-e55b499b2037\")>,\n",
       " <selenium.webdriver.remote.webelement.WebElement (session=\"4498dbab1d76d6c4a1c5d82c8c6bdb7d\", element=\"1b796fb5-6501-433b-8a81-5d7063ccbb56\")>,\n",
       " <selenium.webdriver.remote.webelement.WebElement (session=\"4498dbab1d76d6c4a1c5d82c8c6bdb7d\", element=\"b30ed445-69b5-4d46-a9d9-0f7805d97f11\")>,\n",
       " <selenium.webdriver.remote.webelement.WebElement (session=\"4498dbab1d76d6c4a1c5d82c8c6bdb7d\", element=\"40a1bc16-3a88-4603-992c-ecaeab61f7b9\")>,\n",
       " <selenium.webdriver.remote.webelement.WebElement (session=\"4498dbab1d76d6c4a1c5d82c8c6bdb7d\", element=\"67c91ddc-3609-4031-a8a5-f93f84cc5f40\")>,\n",
       " <selenium.webdriver.remote.webelement.WebElement (session=\"4498dbab1d76d6c4a1c5d82c8c6bdb7d\", element=\"de666f37-801e-4cdf-8b93-8656f65f84cc\")>,\n",
       " <selenium.webdriver.remote.webelement.WebElement (session=\"4498dbab1d76d6c4a1c5d82c8c6bdb7d\", element=\"21972382-262b-4144-9591-22d679d7590a\")>,\n",
       " <selenium.webdriver.remote.webelement.WebElement (session=\"4498dbab1d76d6c4a1c5d82c8c6bdb7d\", element=\"73a57e29-8240-487e-b14e-72deccb39314\")>,\n",
       " <selenium.webdriver.remote.webelement.WebElement (session=\"4498dbab1d76d6c4a1c5d82c8c6bdb7d\", element=\"c322be19-fd31-4576-87d4-1038882c1025\")>,\n",
       " <selenium.webdriver.remote.webelement.WebElement (session=\"4498dbab1d76d6c4a1c5d82c8c6bdb7d\", element=\"e296c114-32e9-4ac8-8de0-435e30ab8dd3\")>]"
      ]
     },
     "execution_count": 52,
     "metadata": {},
     "output_type": "execute_result"
    }
   ],
   "source": [
    "Review_s_tag=driver.find_elements_by_xpath(\"//p[@class='_2-N8zT']\")\n",
    "Review_s_tag"
   ]
  },
  {
   "cell_type": "code",
   "execution_count": 53,
   "metadata": {},
   "outputs": [
    {
     "data": {
      "text/plain": [
       "['Must buy!',\n",
       " 'Terrific purchase',\n",
       " 'Mind-blowing purchase',\n",
       " 'Great product',\n",
       " 'Terrific purchase',\n",
       " 'Simply awesome',\n",
       " 'Good quality product',\n",
       " 'Very poor',\n",
       " 'Best in the market!',\n",
       " 'Must buy!']"
      ]
     },
     "execution_count": 53,
     "metadata": {},
     "output_type": "execute_result"
    }
   ],
   "source": [
    "Reviews_Summary_3=[]\n",
    "for i in Review_s_tag:\n",
    "    Reviews_Summary_3.append(i.text)\n",
    "    \n",
    "Reviews_Summary_3"
   ]
  },
  {
   "cell_type": "code",
   "execution_count": 54,
   "metadata": {},
   "outputs": [
    {
     "data": {
      "text/plain": [
       "[<selenium.webdriver.remote.webelement.WebElement (session=\"4498dbab1d76d6c4a1c5d82c8c6bdb7d\", element=\"e7a1eb7d-f631-4809-a8e9-b0799df7d3b9\")>,\n",
       " <selenium.webdriver.remote.webelement.WebElement (session=\"4498dbab1d76d6c4a1c5d82c8c6bdb7d\", element=\"4e5e2814-e083-4a03-b4a4-ea7bb3218bf8\")>,\n",
       " <selenium.webdriver.remote.webelement.WebElement (session=\"4498dbab1d76d6c4a1c5d82c8c6bdb7d\", element=\"e14c09ab-68e8-401f-ba4b-97bebfe10f58\")>,\n",
       " <selenium.webdriver.remote.webelement.WebElement (session=\"4498dbab1d76d6c4a1c5d82c8c6bdb7d\", element=\"0253b51b-1441-42c7-8c5f-8f6cca4c061f\")>,\n",
       " <selenium.webdriver.remote.webelement.WebElement (session=\"4498dbab1d76d6c4a1c5d82c8c6bdb7d\", element=\"7ce6d49a-d21a-43f7-b3d9-96baa291f5f1\")>,\n",
       " <selenium.webdriver.remote.webelement.WebElement (session=\"4498dbab1d76d6c4a1c5d82c8c6bdb7d\", element=\"17d4d3a2-bfeb-4674-b993-475c657451fe\")>,\n",
       " <selenium.webdriver.remote.webelement.WebElement (session=\"4498dbab1d76d6c4a1c5d82c8c6bdb7d\", element=\"6114a6dc-127e-47aa-9c5b-bdff7c354199\")>,\n",
       " <selenium.webdriver.remote.webelement.WebElement (session=\"4498dbab1d76d6c4a1c5d82c8c6bdb7d\", element=\"edbfaae0-24c2-4447-ac72-d0f72bb2823b\")>,\n",
       " <selenium.webdriver.remote.webelement.WebElement (session=\"4498dbab1d76d6c4a1c5d82c8c6bdb7d\", element=\"c2f34c00-2655-4e22-aa3b-1698b1e9ead4\")>,\n",
       " <selenium.webdriver.remote.webelement.WebElement (session=\"4498dbab1d76d6c4a1c5d82c8c6bdb7d\", element=\"c40df4be-4438-47dc-a6a3-45306704dc29\")>]"
      ]
     },
     "execution_count": 54,
     "metadata": {},
     "output_type": "execute_result"
    }
   ],
   "source": [
    "review_tag=driver.find_elements_by_xpath(\"//div[@class='t-ZTKy']\")\n",
    "review_tag"
   ]
  },
  {
   "cell_type": "code",
   "execution_count": 56,
   "metadata": {},
   "outputs": [
    {
     "data": {
      "text/plain": [
       "['It’s an amazing product from apple and the camera is simply superb. Phone is faster.Night shot is simply superb and detailing and colour differentiation from camera is an added advantageThis review I have written from iPhone 11 only and I am glad to say outside.Cons wise if we see HD+ display only, no battery percentage indicator as in older iPhone 8.No assistive touch control button in itNo oleophobic coating on back panel glass and finger prints are visible but since I bought mint green colour I felt lucky as it won’t be visible.',\n",
       " 'Upgraded from iphone 6 to 11 best phone for iphone users battery is much better than other iphones camera is awesome love to use it.camera is so clear in night.',\n",
       " 'This will help you more. See if you are planning to buy iPhone 11. I will say. Yes. But there are some plans I just want to disclose before you buy. 1) If you are an existing iPhone X/XS/XS Max/ XR user, better you guys do not think it to buy. You guys have more or less better gadget. 2) If you are an android user and planning to buy premium phone. I will suggest them to please buy iPhone instead of buying an Android. I bet you will never go back to android after using IOS. Now I want to shar...READ MORE',\n",
       " 'Well you all know the specifications . One of a kind. Best iPhone till date. Many enhancements to the camera app with many options. Love the glass body with matte finish in the lens area on the back. Lovely colours to choose from. Best battery in an iPhone till date, enough to last more than a day in normal usage. I tested my iPhone 11 battery and lasted for than 24 hours after full charge still with 30% battery charge left. Watched movies for some time. Normal usage on calls, browsing, musi...READ MORE',\n",
       " 'The built quality is not very premium.The battery back is great .The LCD panel is not so sharp but the brightness level is very High .Camera is super duper awesome.The red colour which people think is bright is actually very soothing and excellent colour to choose from .The A13 Bionic chip is really a flagship processor and can beat any phone which even has 12 gb ram .Camera module is very great and looks very stylish.',\n",
       " 'Really good actually this is my first apple product am using its really awesome performance wise excellent. Am really happy with this iphone11',\n",
       " 'it is very good at performance. Camera is best like before and very smooth response even in water. Don’t buy 12 mini buy iPhone 11 , it is far better than 12 mini believe me ! Have a nice day \\uf8ff ☺️',\n",
       " 'Reviewing again after 5 months. At the beginning the battery and performance was good but it degraded soon. Also I was facing heating issues. The mobile will heat up like a stove sometimes. You cannot even play Pubg even in low settings properly, performance is not a problem but heating is. Also if you play that game for 10 mins the brightness will be automatically down due to over heating even when the auto brightness is set to off. This will not be solved even if u manually increase the bri...READ MORE',\n",
       " 'Great iPhone very snappy experience as apple kind. Upgraded from iPhone 7.Pros-Camera top class- Battery top performed-Chipset no need to say as apple kind-Security as you expect from apple- Display super bright industry leading colouraccuracy and super responsive-Build quality as expect from apple sturdypremium durable beautiful stylish.-Os most stable os in smartphone industryCons-No 5G-Display is not based on OLED technology-Charger headphones and 1 apple stic...READ MORE',\n",
       " 'Best Apple iPhone that i have bought at a very reasonable price, camera quality is next level just awesome n of superior quality android phones not even close(RIP) to that and also battery is really good but packaging by Flipkart of iPhone was very poor of such a expensive product, firstly im bit worried about the quality of product if i purchased it through online how was the product but i think now this was mine best decision to bought it through Flipkart online because i got genuine Apple...READ MORE']"
      ]
     },
     "execution_count": 56,
     "metadata": {},
     "output_type": "execute_result"
    }
   ],
   "source": [
    "Review_3=[]\n",
    "for i in review_tag:\n",
    "    Review_3.append(i.text.replace('\\n',''))\n",
    "    \n",
    "Review_3"
   ]
  },
  {
   "cell_type": "code",
   "execution_count": 59,
   "metadata": {},
   "outputs": [],
   "source": [
    "url='https://www.flipkart.com/apple-iphone-11-black-64-gb-includes-earpods-power-adapter/product-reviews/itm0f37c2240b217?pid=MOBFKCTSVZAXUHGR&lid=LSTMOBFKCTSVZAXUHGREPBFGI&marketplace=FLIPKART&page=4'"
   ]
  },
  {
   "cell_type": "code",
   "execution_count": 60,
   "metadata": {},
   "outputs": [],
   "source": [
    "driver.get(url)"
   ]
  },
  {
   "cell_type": "code",
   "execution_count": 61,
   "metadata": {},
   "outputs": [
    {
     "data": {
      "text/plain": [
       "[<selenium.webdriver.remote.webelement.WebElement (session=\"4498dbab1d76d6c4a1c5d82c8c6bdb7d\", element=\"712fc4a2-8bbf-445a-beb0-5a3920e02579\")>,\n",
       " <selenium.webdriver.remote.webelement.WebElement (session=\"4498dbab1d76d6c4a1c5d82c8c6bdb7d\", element=\"20f83a14-4a07-4464-ad94-5bc5e71e15ee\")>,\n",
       " <selenium.webdriver.remote.webelement.WebElement (session=\"4498dbab1d76d6c4a1c5d82c8c6bdb7d\", element=\"64468ef9-9290-41b2-a555-ea5b1b6f11e1\")>,\n",
       " <selenium.webdriver.remote.webelement.WebElement (session=\"4498dbab1d76d6c4a1c5d82c8c6bdb7d\", element=\"dd0d791d-8c2a-42d1-94be-75a4bd23b00a\")>,\n",
       " <selenium.webdriver.remote.webelement.WebElement (session=\"4498dbab1d76d6c4a1c5d82c8c6bdb7d\", element=\"6752db1c-e8a5-4a57-ba86-ea0f9dc0b47a\")>,\n",
       " <selenium.webdriver.remote.webelement.WebElement (session=\"4498dbab1d76d6c4a1c5d82c8c6bdb7d\", element=\"0df09908-1e36-477a-9709-1b7376e09af8\")>,\n",
       " <selenium.webdriver.remote.webelement.WebElement (session=\"4498dbab1d76d6c4a1c5d82c8c6bdb7d\", element=\"be088e3f-9909-45cb-9777-5c2e6b98c313\")>,\n",
       " <selenium.webdriver.remote.webelement.WebElement (session=\"4498dbab1d76d6c4a1c5d82c8c6bdb7d\", element=\"ecf06b3e-77ff-4483-976e-557adc60818e\")>,\n",
       " <selenium.webdriver.remote.webelement.WebElement (session=\"4498dbab1d76d6c4a1c5d82c8c6bdb7d\", element=\"6348b44b-7fb9-4e23-a13a-5adc7c9e2c62\")>,\n",
       " <selenium.webdriver.remote.webelement.WebElement (session=\"4498dbab1d76d6c4a1c5d82c8c6bdb7d\", element=\"031e5982-1ede-4084-b12d-87be7987e452\")>]"
      ]
     },
     "execution_count": 61,
     "metadata": {},
     "output_type": "execute_result"
    }
   ],
   "source": [
    "rating_tag=driver.find_elements_by_xpath(\"//div[@class='_3LWZlK _1BLPMq']\")\n",
    "rating_tag"
   ]
  },
  {
   "cell_type": "code",
   "execution_count": 65,
   "metadata": {},
   "outputs": [
    {
     "data": {
      "text/plain": [
       "['5', '5', '5', '5', '5', '4', '4', '5', '5', '5']"
      ]
     },
     "execution_count": 65,
     "metadata": {},
     "output_type": "execute_result"
    }
   ],
   "source": [
    "Ratings_4=[]\n",
    "for i in rating_tag:\n",
    "    Ratings_4.append(i.text)\n",
    "    \n",
    "Ratings_4"
   ]
  },
  {
   "cell_type": "code",
   "execution_count": 66,
   "metadata": {},
   "outputs": [
    {
     "data": {
      "text/plain": [
       "[<selenium.webdriver.remote.webelement.WebElement (session=\"4498dbab1d76d6c4a1c5d82c8c6bdb7d\", element=\"2f3e323e-3e7b-43a8-bcb1-600c763266e6\")>,\n",
       " <selenium.webdriver.remote.webelement.WebElement (session=\"4498dbab1d76d6c4a1c5d82c8c6bdb7d\", element=\"ea6e892c-707c-49d0-b49f-7971c7044f25\")>,\n",
       " <selenium.webdriver.remote.webelement.WebElement (session=\"4498dbab1d76d6c4a1c5d82c8c6bdb7d\", element=\"1fc19b90-c937-4d0f-ad58-781fd2cf6eaf\")>,\n",
       " <selenium.webdriver.remote.webelement.WebElement (session=\"4498dbab1d76d6c4a1c5d82c8c6bdb7d\", element=\"faafc02f-1daa-474d-a41f-c39a3380f6e4\")>,\n",
       " <selenium.webdriver.remote.webelement.WebElement (session=\"4498dbab1d76d6c4a1c5d82c8c6bdb7d\", element=\"80f7baa0-967d-4a84-beaa-33587f972940\")>,\n",
       " <selenium.webdriver.remote.webelement.WebElement (session=\"4498dbab1d76d6c4a1c5d82c8c6bdb7d\", element=\"053ec031-da79-4808-87b2-f83e7f53bee6\")>,\n",
       " <selenium.webdriver.remote.webelement.WebElement (session=\"4498dbab1d76d6c4a1c5d82c8c6bdb7d\", element=\"5927d1e4-aa39-487c-a1b7-aa584d02bdbc\")>,\n",
       " <selenium.webdriver.remote.webelement.WebElement (session=\"4498dbab1d76d6c4a1c5d82c8c6bdb7d\", element=\"b4d3c13b-61b8-4f2a-9109-6a5b80b77bff\")>,\n",
       " <selenium.webdriver.remote.webelement.WebElement (session=\"4498dbab1d76d6c4a1c5d82c8c6bdb7d\", element=\"0ad946eb-d7d3-4aed-9ecf-a1f551051930\")>,\n",
       " <selenium.webdriver.remote.webelement.WebElement (session=\"4498dbab1d76d6c4a1c5d82c8c6bdb7d\", element=\"0b8cd015-9c47-465a-8fae-f7a729b153e3\")>]"
      ]
     },
     "execution_count": 66,
     "metadata": {},
     "output_type": "execute_result"
    }
   ],
   "source": [
    "Review_s_tag=driver.find_elements_by_xpath(\"//p[@class='_2-N8zT']\")\n",
    "Review_s_tag"
   ]
  },
  {
   "cell_type": "code",
   "execution_count": 67,
   "metadata": {},
   "outputs": [
    {
     "data": {
      "text/plain": [
       "['Fabulous!',\n",
       " 'Mind-blowing purchase',\n",
       " 'Mind-blowing purchase',\n",
       " 'Worth every penny',\n",
       " 'Wonderful',\n",
       " 'Good choice',\n",
       " 'Very Good',\n",
       " 'Perfect product!',\n",
       " 'Classy product',\n",
       " 'Perfect product!']"
      ]
     },
     "execution_count": 67,
     "metadata": {},
     "output_type": "execute_result"
    }
   ],
   "source": [
    "Reviews_Summary_4=[]\n",
    "for i in Review_s_tag:\n",
    "    Reviews_Summary_4.append(i.text)\n",
    "    \n",
    "Reviews_Summary_4"
   ]
  },
  {
   "cell_type": "code",
   "execution_count": 69,
   "metadata": {},
   "outputs": [],
   "source": [
    "Review_tag=driver.find_elements_by_xpath(\"//div[@class='t-ZTKy']\")"
   ]
  },
  {
   "cell_type": "code",
   "execution_count": 72,
   "metadata": {},
   "outputs": [
    {
     "data": {
      "text/plain": [
       "[\"I can say I'm damn impressed with iPhone 11. As they says iPhone 11 have the toughest glass ever in the smartphone which you'll find on the front and back and it's totally smooth. The fit and finish is full apple quality - there's no sense that any cheaping out has happened in the construction. Without saying it's camera features this review won't complete. The iPhone 11 has a dual camera system, consisting of a wide angle len's that's pretty much same as found on the iPhone XR last year, but...READ MORE\",\n",
       " 'Best Quality Product OF iPhone Series , Sound Quality & Camera quality is very awesome, Battery Life is very Sufficient for 24 hr Backup With Full Internet Access , I love this this Product too much , It is very fast & making me Very fast in all my daily RoutineHighlights;1.Camera: 5 STAR2.Video Recording: 5 star3.Night mODE sHOOTING & Camera:4 star4. Audio Quality: Awesome5. Battery : 5 Star6. Touch:5 Star7. Processor: Very FastThe M...READ MORE',\n",
       " 'First thanks to Flipkart for this amazing deal and phone is outstanding. I upgraded from iPhone 7 and this is like very big upgrade. But the packaging was very basic I expected a good packaging as they only wrapped one layer of bubble wrap which I don’t think is enough to protect this expensive phone. And I recommend this phone and seller as well.And I’m posting this review after using it for 4 days.',\n",
       " 'Smooth like butter, camera like fantabulous, sound is crystal clear & its red color is damn attractive, i am just loving it. Must buy if you love photography.Lucky to get it in sale, thank you Flipkart.',\n",
       " 'I just directly switch from iphone 6s to iphone 11 .The best premium smartphone I recommend to everyone. Excellent quality and colors the iphone have in 11 series.Camera quality is just awesome and the major feel when we hold in our hands. The sound quality and volume is also higher then the previous models.I will recommend to buy iphone 11 instead of pro models , there is nothing much difference as this model contains everything which fulfill our needs.Only one thing that I dislike abo...READ MORE',\n",
       " 'Looking so good 👍 😍 super 👌 stylish 😎 phoneClean box 📦 good 👍 delivery 👌 fast deliveryOriginal box Original iphone 📱 👌 😍😍😍',\n",
       " 'impressive super phone and best in class camera ,sound and face unlock is super fast just see and phone is unlock and fast in daily apps use',\n",
       " 'Battery backup is extraordinary, camera is decent & performance offered by A13 bionic is awsome. The display is good in practical usage like the visibility of display is very good in direct sun light compare to pro models. Iam extremely satisfied for the money I spent.',\n",
       " 'Well while switching from android to iOS the first thing you need to be careful about is that you will loose all your whatsapp chat backups as both are different operating systems. Camera clarity is awesome and though being an lcd screen clarity and resolution is good. Battery backup is also good unlike previous gen iPhone. So far the experience is good will Padre after a few months of usage.P.S the black is more of a dark grey shade and not jet black',\n",
       " 'In love with this iphone great performance,camera ,battery everything. Go for it have a uncompareble battery backup, no doubts in iPhone camera here You can see the picture which is shot on my iPhone In love with this iphone great performance,camera ,battery everything. Go for it have a uncompareble battery backup, no doubts in iPhone camera here You can see the picture which is shot on my iPhone In love with this iphone great performance,camera ,battery everything. Go for it have a uncompare...READ MORE']"
      ]
     },
     "execution_count": 72,
     "metadata": {},
     "output_type": "execute_result"
    }
   ],
   "source": [
    "Review_4=[]\n",
    "for i in Review_tag:\n",
    "    Review_4.append(i.text.replace('\\n',''))\n",
    "Review_4"
   ]
  },
  {
   "cell_type": "code",
   "execution_count": 73,
   "metadata": {},
   "outputs": [
    {
     "name": "stdout",
     "output_type": "stream",
     "text": [
      "10 10 10\n"
     ]
    }
   ],
   "source": [
    "print(len(Ratings_4),len(Reviews_Summary_4),len(Review_4))"
   ]
  },
  {
   "cell_type": "code",
   "execution_count": 74,
   "metadata": {},
   "outputs": [],
   "source": [
    "url='https://www.flipkart.com/apple-iphone-11-black-64-gb-includes-earpods-power-adapter/product-reviews/itm0f37c2240b217?pid=MOBFKCTSVZAXUHGR&lid=LSTMOBFKCTSVZAXUHGREPBFGI&marketplace=FLIPKART&page=5'"
   ]
  },
  {
   "cell_type": "code",
   "execution_count": 75,
   "metadata": {},
   "outputs": [],
   "source": [
    "driver.get(url)"
   ]
  },
  {
   "cell_type": "code",
   "execution_count": 76,
   "metadata": {},
   "outputs": [],
   "source": [
    "rating_tag=driver.find_elements_by_xpath(\"//div[@class='_3LWZlK _1BLPMq']\")\n"
   ]
  },
  {
   "cell_type": "code",
   "execution_count": 77,
   "metadata": {},
   "outputs": [
    {
     "data": {
      "text/plain": [
       "['5', '5', '5', '5', '5', '5', '5', '5', '5', '5']"
      ]
     },
     "execution_count": 77,
     "metadata": {},
     "output_type": "execute_result"
    }
   ],
   "source": [
    "Ratings_5=[]\n",
    "for i in rating_tag:\n",
    "    Ratings_5.append(i.text)\n",
    "    \n",
    "Ratings_5"
   ]
  },
  {
   "cell_type": "code",
   "execution_count": 78,
   "metadata": {},
   "outputs": [],
   "source": [
    "Review_s_tag=driver.find_elements_by_xpath(\"//p[@class='_2-N8zT']\")"
   ]
  },
  {
   "cell_type": "code",
   "execution_count": 79,
   "metadata": {},
   "outputs": [
    {
     "data": {
      "text/plain": [
       "['Just wow!',\n",
       " 'Awesome',\n",
       " 'Terrific purchase',\n",
       " 'Brilliant',\n",
       " 'Perfect product!',\n",
       " 'Highly recommended',\n",
       " 'Perfect product!',\n",
       " 'Excellent',\n",
       " 'Fabulous!',\n",
       " 'Excellent']"
      ]
     },
     "execution_count": 79,
     "metadata": {},
     "output_type": "execute_result"
    }
   ],
   "source": [
    "Reviews_Summary_5=[]\n",
    "for i in Review_s_tag:\n",
    "    Reviews_Summary_5.append(i.text)\n",
    "    \n",
    "Reviews_Summary_5"
   ]
  },
  {
   "cell_type": "code",
   "execution_count": 80,
   "metadata": {},
   "outputs": [],
   "source": [
    "Review_tag=driver.find_elements_by_xpath(\"//div[@class='t-ZTKy']\")"
   ]
  },
  {
   "cell_type": "code",
   "execution_count": 81,
   "metadata": {},
   "outputs": [
    {
     "data": {
      "text/plain": [
       "['Best in class. Battery backup is good especially when you play games like Pubg COD. But it is sort of heavy when you hold in hands. Portrait mode is best to click pictures. Stage light effect is awesome. Try to click photos outside in nature because photos inside home or room will not give you the quality in any phone even in DSLR.',\n",
       " 'Very excited to have this phone. This phone has the real power unlike the android phones having SD 855 . The battery life is very good and the camera quality is excellent as comapred to redmi and other phones except google pixel. I M enjoying every single bit of it. Would recommed only if you have the budget.',\n",
       " 'Its Very awesome product working and good camera quality and all about best product and also flipkart is very great deal and offer nice price',\n",
       " 'Excellent camera and display touching very nice and smooth very improvement against iPhone XR and new processor is very fast',\n",
       " 'After 1 month use I found camera quality best compared to my previous Samsung note 10+.Display not good as note 10 also charging too slow.Apple should add fast charger like 11 plus and pro.Best phone for daily use',\n",
       " 'What a camera .....just awesome ..you can feel this iPhone just awesome . Good for gaming also ...try pubg in hd it’s just wow',\n",
       " 'Awesome purchase. Amazing phone with good battery backup. It’s a top notch device. White colour looks amazing. Phone has a few extra feature than iPhone XR. Overall, this is value for money',\n",
       " 'Amazing camera and feel super machine I am not describe my feeling but this is amazing Phone I am so lucky I have this',\n",
       " 'awesome phone to have. it has got many smart features apart from mind blowing looks, camera, display, battery and sound. have fallen in love with this phone. must buy phone if you have got enough money. thanks to flipkart and apple of course..',\n",
       " 'Its a fabulous mobile look awesome performance unbeaten camera like dslr battery good i think this is a beast of mobile']"
      ]
     },
     "execution_count": 81,
     "metadata": {},
     "output_type": "execute_result"
    }
   ],
   "source": [
    "Review_5=[]\n",
    "for i in Review_tag:\n",
    "    Review_5.append(i.text.replace('\\n',''))\n",
    "Review_5"
   ]
  },
  {
   "cell_type": "code",
   "execution_count": 82,
   "metadata": {},
   "outputs": [
    {
     "name": "stdout",
     "output_type": "stream",
     "text": [
      "10 10 10\n"
     ]
    }
   ],
   "source": [
    "print(len(Ratings_5),len(Reviews_Summary_5),len(Review_5))"
   ]
  },
  {
   "cell_type": "code",
   "execution_count": 83,
   "metadata": {},
   "outputs": [],
   "source": [
    "url='https://www.flipkart.com/apple-iphone-11-black-64-gb-includes-earpods-power-adapter/product-reviews/itm0f37c2240b217?pid=MOBFKCTSVZAXUHGR&lid=LSTMOBFKCTSVZAXUHGREPBFGI&marketplace=FLIPKART&page=6'"
   ]
  },
  {
   "cell_type": "code",
   "execution_count": 84,
   "metadata": {},
   "outputs": [],
   "source": [
    "driver.get(url)"
   ]
  },
  {
   "cell_type": "code",
   "execution_count": 85,
   "metadata": {},
   "outputs": [],
   "source": [
    "rating_tag=driver.find_elements_by_xpath(\"//div[@class='_3LWZlK _1BLPMq']\")"
   ]
  },
  {
   "cell_type": "code",
   "execution_count": 86,
   "metadata": {},
   "outputs": [
    {
     "data": {
      "text/plain": [
       "['5', '5', '5', '5', '5', '5', '4', '5', '5', '5']"
      ]
     },
     "execution_count": 86,
     "metadata": {},
     "output_type": "execute_result"
    }
   ],
   "source": [
    "Ratings_6=[]\n",
    "for i in rating_tag:\n",
    "    Ratings_6.append(i.text)\n",
    "    \n",
    "Ratings_6"
   ]
  },
  {
   "cell_type": "code",
   "execution_count": 87,
   "metadata": {},
   "outputs": [],
   "source": [
    "Review_s_tag=driver.find_elements_by_xpath(\"//p[@class='_2-N8zT']\")"
   ]
  },
  {
   "cell_type": "code",
   "execution_count": 88,
   "metadata": {},
   "outputs": [
    {
     "data": {
      "text/plain": [
       "['Must buy!',\n",
       " 'Simply awesome',\n",
       " 'Brilliant',\n",
       " 'Terrific purchase',\n",
       " 'Simply awesome',\n",
       " 'Worth every penny',\n",
       " 'Value-for-money',\n",
       " 'Just wow!',\n",
       " 'Super!',\n",
       " 'Perfect product!']"
      ]
     },
     "execution_count": 88,
     "metadata": {},
     "output_type": "execute_result"
    }
   ],
   "source": [
    "Reviews_Summary_6=[]\n",
    "for i in Review_s_tag:\n",
    "    Reviews_Summary_6.append(i.text)\n",
    "    \n",
    "Reviews_Summary_6"
   ]
  },
  {
   "cell_type": "code",
   "execution_count": 89,
   "metadata": {},
   "outputs": [],
   "source": [
    "Review_tag=driver.find_elements_by_xpath(\"//div[@class='t-ZTKy']\")"
   ]
  },
  {
   "cell_type": "code",
   "execution_count": 90,
   "metadata": {},
   "outputs": [
    {
     "data": {
      "text/plain": [
       "['Dear friends... I want to share my experience with you about this amazing I phone 11....this is my first iPhone and special things about this mobile is it has great camera, battery backup and awesome display.... I mean everything is perfect.loved it 👍👍👍',\n",
       " \"It's very high performances devise i am like the service of flipkart delevary very fast and packing very nice perfect phone\",\n",
       " 'Amazing phone and on great deal I received with super fast delivery by Flipkart...',\n",
       " 'finally an iPhone with very nice battery backup. update from iPhone 7 and happy to have it. camera is not up to the mark in low light but overall a recommended phone if your budget allows 😀',\n",
       " 'Really satisfied with the Product I received... It’s totally genuine and the packaging was also really good so if ur planning to buy just go for it.',\n",
       " 'i11 is worthy to buy, too much happy with the product. Thank u flipkart I received the item on time..loved it..',\n",
       " \"I'm Really happy with the productDelivery was fast as well..it was a gift for my sister and she loved it so much.\",\n",
       " 'Great iphone.I am writing this review after 2 months of usage.Camera is excellent, especially the nightmodeDisplay perfectBattery backup awesomeSound quality very goodOverall Apple gives you a perfect iphone in this range.Really in love with iPhone 11',\n",
       " 'Did an upgrade from 6s plus to iphone 11.Ao far the experience is well and good. Felt smoother than 6s plus. The camera quality is superb. Battery backup is descent. Not a heavy user, and gets power more than a day. Go for it if you need an alrounder iphone in a competitve price.',\n",
       " 'Value for money5 star ratingExcellent cameraBattery backup full day in single charge.Tougher and water resistant design, glossy back.The screen has excellent brightness and contrast.Apple A13 Bionic is the fastest smartphone chip on the planet.Excellent battery life, fast charging support.Stereo speakers with great quality.']"
      ]
     },
     "execution_count": 90,
     "metadata": {},
     "output_type": "execute_result"
    }
   ],
   "source": [
    "Review_6=[]\n",
    "for i in Review_tag:\n",
    "    Review_6.append(i.text.replace('\\n',''))\n",
    "Review_6"
   ]
  },
  {
   "cell_type": "code",
   "execution_count": 91,
   "metadata": {},
   "outputs": [
    {
     "name": "stdout",
     "output_type": "stream",
     "text": [
      "10 10 10\n"
     ]
    }
   ],
   "source": [
    "print(len(Ratings_6),len(Reviews_Summary_6),len(Review_6))"
   ]
  },
  {
   "cell_type": "code",
   "execution_count": 92,
   "metadata": {},
   "outputs": [],
   "source": [
    "url='https://www.flipkart.com/apple-iphone-11-black-64-gb-includes-earpods-power-adapter/product-reviews/itm0f37c2240b217?pid=MOBFKCTSVZAXUHGR&lid=LSTMOBFKCTSVZAXUHGREPBFGI&marketplace=FLIPKART&page=7'"
   ]
  },
  {
   "cell_type": "code",
   "execution_count": 93,
   "metadata": {},
   "outputs": [],
   "source": [
    "driver.get(url)"
   ]
  },
  {
   "cell_type": "code",
   "execution_count": 94,
   "metadata": {},
   "outputs": [],
   "source": [
    "rating_tag=driver.find_elements_by_xpath(\"//div[@class='_3LWZlK _1BLPMq']\")\n"
   ]
  },
  {
   "cell_type": "code",
   "execution_count": 95,
   "metadata": {},
   "outputs": [
    {
     "data": {
      "text/plain": [
       "['5', '5', '5', '5', '5', '5', '5', '5', '5', '4']"
      ]
     },
     "execution_count": 95,
     "metadata": {},
     "output_type": "execute_result"
    }
   ],
   "source": [
    "Ratings_7=[]\n",
    "for i in rating_tag:\n",
    "    Ratings_7.append(i.text)\n",
    "    \n",
    "Ratings_7"
   ]
  },
  {
   "cell_type": "code",
   "execution_count": 96,
   "metadata": {},
   "outputs": [],
   "source": [
    "Review_s_tag=driver.find_elements_by_xpath(\"//p[@class='_2-N8zT']\")"
   ]
  },
  {
   "cell_type": "code",
   "execution_count": 97,
   "metadata": {},
   "outputs": [
    {
     "data": {
      "text/plain": [
       "['Great product',\n",
       " 'Awesome',\n",
       " 'Must buy!',\n",
       " 'Mind-blowing purchase',\n",
       " 'Must buy!',\n",
       " 'Perfect product!',\n",
       " 'Fabulous!',\n",
       " 'Excellent',\n",
       " 'Mind-blowing purchase',\n",
       " 'Good quality product']"
      ]
     },
     "execution_count": 97,
     "metadata": {},
     "output_type": "execute_result"
    }
   ],
   "source": [
    "Reviews_Summary_7=[]\n",
    "for i in Review_s_tag:\n",
    "    Reviews_Summary_7.append(i.text)\n",
    "    \n",
    "Reviews_Summary_7"
   ]
  },
  {
   "cell_type": "code",
   "execution_count": 98,
   "metadata": {},
   "outputs": [],
   "source": [
    "Review_tag=driver.find_elements_by_xpath(\"//div[@class='t-ZTKy']\")"
   ]
  },
  {
   "cell_type": "code",
   "execution_count": 101,
   "metadata": {},
   "outputs": [
    {
     "data": {
      "text/plain": [
       "[\"Again back to apple iphone after a gap of 2-3 years. It's pleasure to use iOS and the quality product by Apple. Iphone 11 still works like a beast in 2021 also. It really capable of doing day to day usage as well as hard core gaming. Battery is awesome. I'm really too much satisfied with it. Apart fto the very gorgious IPS LCD (AMOLED will be better) everything is mind boggling. Iphone💕.\",\n",
       " 'Always love the apple products, upgraded from old iPhone 6S plus to this after having my first baby. I just love to click baby’s photos with it. Overall I just love this phone. Battery back up is okay, sound quality is good. Haven’t tested yet waterproof yet. Only one thing I hate is apple could have given charger & headphones in box.',\n",
       " 'Damn this phone is a blast . Upgraded from android to ios and is a duperb experience. Battery backup is top notch and display also pretty good',\n",
       " 'awesome Phone Smooth Touch Too good Sexyy looks one word Awesome',\n",
       " 'I rate this product 5* as it has got amazing user experience with the best performing A13 bionic processor. The screen responds and graphics rendering is top notch. With casual gaming and internet browsing, the battery lasts for approx. 1 day. Camera is very good. You will fall in love with the portrait mode. You can call me a loyal Apple customer or whatever but I won’t stop praising the products and overall experience. That user experience matters and is worth every penny you pay.Below ar...READ MORE',\n",
       " 'Best and amazing product.....phone looks so premium.... battary is also good as expected .... Wide angle camera is so addictive ...if you are a IOS lover....then this phone will be the best choice for you all!!💯🔥',\n",
       " 'I purchased the iPhone 11 a month back. I must say Apple has impressed me yet again . I have been an Apple user for past 5 years . The phone is power packed with amazing features . What impressed me the most was the battery backup the phone offers . Battery can easily run upto 1.5 days in single charge with moderate toHeavy usage . If you’re looking for a value for money device , I don’t see any other phone in the price range which can match the iPhone 11 .One thing I didn’t like was that ...READ MORE',\n",
       " \"Just go for it.This phone is really amazing. I ordered it for my wife and we click photos on this thing which are better than dslr. I own OnePlus 6t but it's camera sucks. iPhone is really amazing when it comes to camera. It's worth spending 50k on this. Cons- only display is lcd. While using u don't feel it but if u compare with other phone then u can see difference quite easily.Changing from Android to iphone is bit difficult coz most of things u don't know but I liked it. Some of the a...READ MORE\",\n",
       " 'Absolutely powerful gadget. Loved it’s look! Soo glassy and classy. I would definitely recommend this model of Apple. Only disappointed with the 5W charger, one should purchase an 18W adapter for fast charging. Though battery backup is great. Bought it in September 2020, reviewing after so long so I’m gonna put the genuine review here.✅',\n",
       " 'I was torn between the oneplus 8 pro and the iphone 11. I had to shell out extra money for this, but I say if you can afford it, this truely is the best package.Mind blowing camera, battery and overall performance. Face Id works like magic even in complete darkness without firing up the screen brightness. The phones with in display fingerprint scanners do this at night time and it really burns your eyes.I wanted the oneplus for its display but tbh the OLEDs on oneplus is really bad. Flick...READ MORE']"
      ]
     },
     "execution_count": 101,
     "metadata": {},
     "output_type": "execute_result"
    }
   ],
   "source": [
    "Review_7=[]\n",
    "for i in Review_tag:\n",
    "    Review_7.append(i.text.replace('\\n',''))\n",
    "Review_7"
   ]
  },
  {
   "cell_type": "code",
   "execution_count": 102,
   "metadata": {},
   "outputs": [
    {
     "name": "stdout",
     "output_type": "stream",
     "text": [
      "10 10 10\n"
     ]
    }
   ],
   "source": [
    "print(len(Ratings_7),len(Reviews_Summary_7),len(Review_7))"
   ]
  },
  {
   "cell_type": "code",
   "execution_count": 104,
   "metadata": {},
   "outputs": [],
   "source": [
    "url='https://www.flipkart.com/apple-iphone-11-black-64-gb-includes-earpods-power-adapter/product-reviews/itm0f37c2240b217?pid=MOBFKCTSVZAXUHGR&lid=LSTMOBFKCTSVZAXUHGREPBFGI&marketplace=FLIPKART&page=8'"
   ]
  },
  {
   "cell_type": "code",
   "execution_count": 105,
   "metadata": {},
   "outputs": [],
   "source": [
    "driver.get(url)"
   ]
  },
  {
   "cell_type": "code",
   "execution_count": 106,
   "metadata": {},
   "outputs": [],
   "source": [
    "rating_tag=driver.find_elements_by_xpath(\"//div[@class='_3LWZlK _1BLPMq']\")\n"
   ]
  },
  {
   "cell_type": "code",
   "execution_count": 107,
   "metadata": {},
   "outputs": [
    {
     "data": {
      "text/plain": [
       "['5', '5', '3', '4', '5', '5', '5', '5', '5', '5']"
      ]
     },
     "execution_count": 107,
     "metadata": {},
     "output_type": "execute_result"
    }
   ],
   "source": [
    "Ratings_8=[]\n",
    "for i in rating_tag:\n",
    "    Ratings_8.append(i.text)\n",
    "    \n",
    "Ratings_8"
   ]
  },
  {
   "cell_type": "code",
   "execution_count": 108,
   "metadata": {},
   "outputs": [],
   "source": [
    "Review_s_tag=driver.find_elements_by_xpath(\"//p[@class='_2-N8zT']\")"
   ]
  },
  {
   "cell_type": "code",
   "execution_count": 110,
   "metadata": {},
   "outputs": [
    {
     "data": {
      "text/plain": [
       "['Terrific purchase',\n",
       " 'Awesome',\n",
       " 'Decent product',\n",
       " 'Good quality product',\n",
       " 'Just wow!',\n",
       " 'Excellent',\n",
       " 'Awesome',\n",
       " 'Super!',\n",
       " 'Excellent',\n",
       " 'Wonderful']"
      ]
     },
     "execution_count": 110,
     "metadata": {},
     "output_type": "execute_result"
    }
   ],
   "source": [
    "Reviews_Summary_8=[]\n",
    "for i in Review_s_tag:\n",
    "    Reviews_Summary_8.append(i.text)\n",
    "    \n",
    "Reviews_Summary_8"
   ]
  },
  {
   "cell_type": "code",
   "execution_count": 111,
   "metadata": {},
   "outputs": [],
   "source": [
    "Review_tag=driver.find_elements_by_xpath(\"//div[@class='t-ZTKy']\")"
   ]
  },
  {
   "cell_type": "code",
   "execution_count": 112,
   "metadata": {},
   "outputs": [
    {
     "data": {
      "text/plain": [
       "['I use a Note10+ and have been using both iOS and Android devices.Camera has really good features and portraits are super good, better than Samsung flagship. Overall camera setup can still be enhanced and hopeful for better upgrades on software in next releaseOperating system is quite a breeze and user experience of daily usage is very high as compared to Android. I moved to iOS very swiftly in 2 days for all my office work from Note10+Battery holds up quite well with 4 hrs of call and ...READ MORE',\n",
       " 'The phone is completely goodAs far as camera Apple is king of itAnd its a beast in performanceAnd the battery is pretty good too',\n",
       " 'Everything u ll like it when u use this iPhone. Simple changes only not many to lower models but it’s nice to use. Little heavy compared to previous models like 7,8',\n",
       " \"I'm switching this phone to oppo reno 10x zoomIt's really impressiveRarely I'm missing smooth display touch response like oppo reno butI really loved it.Camera really impressive\",\n",
       " 'The ultimate performanceCamera is superbThe battery backup also very good i never saw iphone gives this much of battery backupIf any one wana buy iphone 11 definitely i will recommend this mobileIt has the better battery and powerfull processer peak performance glorious camera and the display also 100% high quality lcd display if u had money for for 12 if u dont wana invest much money on that then go for iphone 11 it has maximum same specs only main difference between the 12 and 11 is...READ MORE',\n",
       " 'Seller - SuperComNet ( my trust in you has grown deeper. Thanks for the genuine product )The package came packed perfectly. The box was sealed which gave me a big relief.Apple needs no introduction since its the dominant market player. I just love the way how IPhone 11 stands out so boldly. The moment I took it out from the box, I could feel the premium intensity. The body is remarkable and crafted for giving you a elite vibe.Camera is to die for. There is no other phone that can beat...READ MORE',\n",
       " 'Can’t beat the software and hardware integration of apple.Performs like a beast. Great quality camera6-7 hours screen on time which is good. Nothing much to complaint about the screen. Good connectivity speeds.Great buy and Flipkart’s delivery top notch as usual',\n",
       " \"It's a great phone. From camera to display everything is best for the price.Best camera , best performance. I think everyone should buy it . This phone has best battery life so far in iphone series which I had used earlier. Happy to have it. Thanks Flipkart\",\n",
       " 'Value for money product. This iphone 11 is really amazing. Again nice release by apple. Great camera, battery backup is excellent. I just love this phone',\n",
       " 'Superfast delivery by Flipkart. Thanks.1. iPhone 11 is a pretty solid phone for the money you are paying.2. All the bad reviews about the display is confusing. It’s not that bad.3. I switched from a Oneplus 7t. I have no complaints about the display quality of iPhone. Yes, it’s not OLED, so, we are missing on the deep blacks. But that’s it. It is a very colour accurate display. Gets adequately bright and I could not find any pixelation.4. Performance is one of the best, if not best, in ...READ MORE']"
      ]
     },
     "execution_count": 112,
     "metadata": {},
     "output_type": "execute_result"
    }
   ],
   "source": [
    "Review_8=[]\n",
    "for i in Review_tag:\n",
    "    Review_8.append(i.text.replace('\\n',''))\n",
    "Review_8"
   ]
  },
  {
   "cell_type": "code",
   "execution_count": 113,
   "metadata": {},
   "outputs": [
    {
     "name": "stdout",
     "output_type": "stream",
     "text": [
      "10 10 10\n"
     ]
    }
   ],
   "source": [
    "print(len(Ratings_8),len(Reviews_Summary_8),len(Review_8))"
   ]
  },
  {
   "cell_type": "code",
   "execution_count": 114,
   "metadata": {},
   "outputs": [],
   "source": [
    "url='https://www.flipkart.com/apple-iphone-11-black-64-gb-includes-earpods-power-adapter/product-reviews/itm0f37c2240b217?pid=MOBFKCTSVZAXUHGR&lid=LSTMOBFKCTSVZAXUHGREPBFGI&marketplace=FLIPKART&page=9'"
   ]
  },
  {
   "cell_type": "code",
   "execution_count": 115,
   "metadata": {},
   "outputs": [],
   "source": [
    "driver.get(url)"
   ]
  },
  {
   "cell_type": "code",
   "execution_count": 116,
   "metadata": {},
   "outputs": [],
   "source": [
    "rating_tag=driver.find_elements_by_xpath(\"//div[@class='_3LWZlK _1BLPMq']\")\n"
   ]
  },
  {
   "cell_type": "code",
   "execution_count": 118,
   "metadata": {},
   "outputs": [
    {
     "data": {
      "text/plain": [
       "['5', '3', '4', '4', '5', '5', '5', '5', '5', '5']"
      ]
     },
     "execution_count": 118,
     "metadata": {},
     "output_type": "execute_result"
    }
   ],
   "source": [
    "Ratings_9=[]\n",
    "for i in rating_tag:\n",
    "    Ratings_9.append(i.text)\n",
    "    \n",
    "Ratings_9"
   ]
  },
  {
   "cell_type": "code",
   "execution_count": 119,
   "metadata": {},
   "outputs": [],
   "source": [
    "Review_s_tag=driver.find_elements_by_xpath(\"//p[@class='_2-N8zT']\")"
   ]
  },
  {
   "cell_type": "code",
   "execution_count": 120,
   "metadata": {},
   "outputs": [
    {
     "data": {
      "text/plain": [
       "['Terrific',\n",
       " 'Does the job',\n",
       " 'Wonderful',\n",
       " 'Good quality product',\n",
       " 'Perfect product!',\n",
       " 'Mind-blowing purchase',\n",
       " 'Super!',\n",
       " 'Brilliant',\n",
       " 'Most Price worthy Iphone',\n",
       " 'Best in the market!']"
      ]
     },
     "execution_count": 120,
     "metadata": {},
     "output_type": "execute_result"
    }
   ],
   "source": [
    "Reviews_Summary_9=[]\n",
    "for i in Review_s_tag:\n",
    "    Reviews_Summary_9.append(i.text)\n",
    "    \n",
    "Reviews_Summary_9"
   ]
  },
  {
   "cell_type": "code",
   "execution_count": 121,
   "metadata": {},
   "outputs": [],
   "source": [
    "Review_tag=driver.find_elements_by_xpath(\"//div[@class='t-ZTKy']\")"
   ]
  },
  {
   "cell_type": "code",
   "execution_count": 123,
   "metadata": {},
   "outputs": [
    {
     "data": {
      "text/plain": [
       "['Product is nice at the deviled time the delivery boy not open the box and this order is oBD but he is not open and not showing product he gives Product and gone time God product is super nice and good Tq Flipkart and seller love you Flipkart',\n",
       " \"phone is good but in display is 720p lcd in this price range we can get full hd OLED displays with higher refresh rate processor is very good camera is nice but looks kind of oldish in front of todays phone also there's no charging in box had to buy it seperately\",\n",
       " \"I genuinely liked it. One of the best mobile phones I have used. It's sho smooth and it's security is very astonishing. Plus it has a very good camera quality. so overall it's a win win.\",\n",
       " 'Awesome camera, smooth and fast UI, display is great (though not LED) but the black area at the top could have been reduced. Battery remains a day even if used heavily. Charger in the box is ok, but 12 or 18W could have been nothing like anything. Overall an excellent product and comfortable to use. I have got it almost a month back and so far so good.',\n",
       " 'Worth the money’ starting first from its performance it beats out all phones , second the smoothness of camera is awesome, contrast ratio is much than expected. Price will not matter if u r a quality person, if not other phones are available with better discount',\n",
       " \"i was confused between 11 and 11 pro. i was going towards 11 pro, but the screen size was not enough for me.And i saw 11 in the showroom. i didn't find much difference in screen quality.And cameras seems to be ok with me. And i saw offer's in flipkart and made the purchase.the device is fabulous. The hardware and software quality is excellent. The new iOS is something you need to experience yourself. The drawback i found was absence of fast charger, but the pricing can compensate that. Am...READ MORE\",\n",
       " 'This is my first ever iPhone.And I truly don’t regret switching to IOS from my Android.It is easily an alternative to a DSLR camera.If you’re obsessed with photos and videos, just don’t think twice or don’t compare to other androids(Samsung S10 lite or OnePlus 8/8T), as it’s far better from them in every field.Comparing will only make you confused.I am getting an average Screen on Time of around 10 hours with 30 percent left. I haven’t let my device discharged below 30 % as it aff...READ MORE',\n",
       " 'Wow wow and wow, in 48k you will not get anything better than this, processor is awsome, camera is a beast, display is superb, this is my first iphone, and I am already in love with these',\n",
       " 'Reviewing within 1st Month1st Month ReviewThis is my first Iphone. So been new to the Ios Environment i faced some basic issues. Whatever issues i am facing is because of change in environment.Video Output is amazing.Battery - Typical One Day Battery. 20 W fast charger is amazing which charges the iphone within 40-60 Mins ( purchased separately)Camera - Good and Natural Colours. ( I have Samsung S21+ and not at par with its camera) but the output is same all the time which is good....READ MORE',\n",
       " \"The best all rounder iphone. Flipkart is doing a great job. They're delivery services are blazing fast. I got delivery on the same day. Genuine Apple Product. Working great. Talking about review There's no need of review for iphones. They're simply the best.\"]"
      ]
     },
     "execution_count": 123,
     "metadata": {},
     "output_type": "execute_result"
    }
   ],
   "source": [
    "Review_9=[]\n",
    "for i in Review_tag:\n",
    "    Review_9.append(i.text.replace('\\n',''))\n",
    "Review_9"
   ]
  },
  {
   "cell_type": "code",
   "execution_count": 124,
   "metadata": {},
   "outputs": [],
   "source": [
    "url='https://www.flipkart.com/apple-iphone-11-black-64-gb-includes-earpods-power-adapter/product-reviews/itm0f37c2240b217?pid=MOBFKCTSVZAXUHGR&lid=LSTMOBFKCTSVZAXUHGREPBFGI&marketplace=FLIPKART&page=10'"
   ]
  },
  {
   "cell_type": "code",
   "execution_count": 125,
   "metadata": {},
   "outputs": [],
   "source": [
    "driver.get(url)"
   ]
  },
  {
   "cell_type": "code",
   "execution_count": 126,
   "metadata": {},
   "outputs": [],
   "source": [
    "rating_tag=driver.find_elements_by_xpath(\"//div[@class='_3LWZlK _1BLPMq']\")\n"
   ]
  },
  {
   "cell_type": "code",
   "execution_count": 128,
   "metadata": {},
   "outputs": [
    {
     "data": {
      "text/plain": [
       "['5', '5', '5', '5', '5', '5', '5', '5', '4', '5']"
      ]
     },
     "execution_count": 128,
     "metadata": {},
     "output_type": "execute_result"
    }
   ],
   "source": [
    "Ratings_10=[]\n",
    "for i in rating_tag:\n",
    "    Ratings_10.append(i.text)\n",
    "    \n",
    "Ratings_10"
   ]
  },
  {
   "cell_type": "code",
   "execution_count": 129,
   "metadata": {},
   "outputs": [],
   "source": [
    "Review_s_tag=driver.find_elements_by_xpath(\"//p[@class='_2-N8zT']\")"
   ]
  },
  {
   "cell_type": "code",
   "execution_count": 131,
   "metadata": {},
   "outputs": [
    {
     "data": {
      "text/plain": [
       "['Classy product',\n",
       " 'Terrific',\n",
       " 'Terrific purchase',\n",
       " 'Classy product',\n",
       " 'Excellent',\n",
       " 'Fabulous!',\n",
       " 'Wonderful',\n",
       " 'Fabulous!',\n",
       " 'Value-for-money',\n",
       " 'Terrific']"
      ]
     },
     "execution_count": 131,
     "metadata": {},
     "output_type": "execute_result"
    }
   ],
   "source": [
    "Reviews_Summary_10=[]\n",
    "for i in Review_s_tag:\n",
    "    Reviews_Summary_10.append(i.text)\n",
    "    \n",
    "Reviews_Summary_10"
   ]
  },
  {
   "cell_type": "code",
   "execution_count": 132,
   "metadata": {},
   "outputs": [],
   "source": [
    "Review_tag=driver.find_elements_by_xpath(\"//div[@class='t-ZTKy']\")"
   ]
  },
  {
   "cell_type": "code",
   "execution_count": 133,
   "metadata": {},
   "outputs": [
    {
     "data": {
      "text/plain": [
       "['We are on apple ecosystem for almost eight years now with couple of iPads and iPhones, including Xr.Bought iPhone 11 as a gift to my daughter who loves it. We chose for a purple coloured one. Believe me it is gorgeous and towards the lighter shade. Dazzling and brilliant!The phone is great and does excellent RAM management like any other Apple device.The screen, though a LCD and lesser ppi as compared to other flagship phones of competitor brands, is a delight to watch with perfect re...READ MORE',\n",
       " \"I upgraded (downgraded?) from my iPhone X since the phone fell down and I didn't want to repair the screen. The box that the phone came in was super slim and I was worried that there'd be no 5W charger with it and my fears were confirmed. However, thankfully I had the 18W USB-C PD charger from Apple which I bought for my iPhone X and it worked perfectly. The charging time is as lethargic as ever though and it takes about 1:30 mins or even 2 hours depending on charge remaining. I'll list some ...READ MORE\",\n",
       " 'Well , as we all know if its not an Iphone , its not an iphone . The iphones are always beast . The camera game has been level up . The A13 Bionic is just fabulous . The update this year are certainly the camera which is damn good with d addition of wide angle lens as well as ultra wide . If anyones purchasing an iphone for the first time , do opt for the black color . Its just feels more than premium . Battery life is damn good with lasting fully a day . Overall a nice package . Well managed...READ MORE',\n",
       " \"I write this review after using a week this iPhone 11.I'm 6 Years Old Android User and this is my first iPhone. Basically I searched for a phone with a Great Camera and Video Quality for Making YouTube Videos My Budget was around 40-50k then I search a lot on the Internet. Then I finally decide to buy this phone. I've been using this phone for about a week and I purchased this phone at 45K and I'm really happy with that. Its Software Integration with Processor is Just Awesome! This phone can...READ MORE\",\n",
       " 'A perfect phone and a good battery super camera and the sound is dynamic overall the phone is perfect for upgrading from lower iPhone model to iPhone 11',\n",
       " 'Everything is perfect pictures come out so clearly and at first I wasn’t sure when I got it then when I started to use it and get the hang of it it was amazing!! I can’t wait to see what the next future phones will be like. The screen display on this bad boy are unbelievable they are so clear and never fail me. The performance is super cool there is a lot of cool features as well I like this phone because I feel that it is easy to use and one of my favorite things about this phone is the Face...READ MORE',\n",
       " 'Nice value for money good and best price I phone mind blowing camera processor very fast other android mobile I am happy India top selling phone 2020',\n",
       " \"Just an awesome phone...upgraded from 6s to 11 and trust me guys it's super cool with amazing features..loved it ♥️ and a big thank you to Flipkart for delivering it in just 2 days ?\",\n",
       " 'As usual a great product from Apple. but the look wise there were some scope to make it more attractive. from the back it looks nice. picture quality is awesome . face id is blazing fast. The lightning fast bionic processor makes the phone butter smooth.Battery back up is unbeatable and best of the released iPhone.full display is still missing. however, a iPhone is a iPhone. The iPhone lovers know the value of an iPhone 🙂',\n",
       " 'Good buy.. working perfectly !That was upgrade from 6S to 11. I see no deference in both the phones except:1. Battery performance2. Camera quality3. Face detection unlockGo for it..!']"
      ]
     },
     "execution_count": 133,
     "metadata": {},
     "output_type": "execute_result"
    }
   ],
   "source": [
    "Review_10=[]\n",
    "for i in Review_tag:\n",
    "    Review_10.append(i.text.replace('\\n',''))\n",
    "Review_10"
   ]
  },
  {
   "cell_type": "code",
   "execution_count": 134,
   "metadata": {},
   "outputs": [
    {
     "name": "stdout",
     "output_type": "stream",
     "text": [
      "10 10 10\n"
     ]
    }
   ],
   "source": [
    "print(len(Ratings_10),len(Reviews_Summary_10),len(Review_10))"
   ]
  },
  {
   "cell_type": "markdown",
   "metadata": {},
   "source": [
    "Q8: Scrape data for first 100 sneakers you find when you visit flipkart.com and \n",
    "search for “sneakers” in the search field.\n",
    "\n",
    "You have to scrape 4 attributes of each sneaker :\n",
    "    \n",
    "1. Brand\n",
    "2. Product Description\n",
    "3. Price\n",
    "4. discount %"
   ]
  },
  {
   "cell_type": "code",
   "execution_count": 12,
   "metadata": {},
   "outputs": [
    {
     "data": {
      "text/plain": [
       "<selenium.webdriver.chrome.webdriver.WebDriver (session=\"1349da0eb02e8f68f26f4560864fc9ef\")>"
      ]
     },
     "execution_count": 12,
     "metadata": {},
     "output_type": "execute_result"
    }
   ],
   "source": [
    "Driver=webdriver.Chrome('chromedriver.exe')\n",
    "Driver"
   ]
  },
  {
   "cell_type": "code",
   "execution_count": 13,
   "metadata": {},
   "outputs": [],
   "source": [
    "url='https://www.flipkart.com/'"
   ]
  },
  {
   "cell_type": "code",
   "execution_count": 15,
   "metadata": {},
   "outputs": [],
   "source": [
    "Driver.get(url)"
   ]
  },
  {
   "cell_type": "code",
   "execution_count": 18,
   "metadata": {},
   "outputs": [],
   "source": [
    "url='https://www.flipkart.com/'"
   ]
  },
  {
   "cell_type": "raw",
   "metadata": {},
   "source": [
    "Driver.get(url"
   ]
  },
  {
   "cell_type": "code",
   "execution_count": 21,
   "metadata": {},
   "outputs": [
    {
     "data": {
      "text/plain": [
       "<selenium.webdriver.remote.webelement.WebElement (session=\"1349da0eb02e8f68f26f4560864fc9ef\", element=\"0b1af487-b6ed-446b-835d-f4bcac87e428\")>"
      ]
     },
     "execution_count": 21,
     "metadata": {},
     "output_type": "execute_result"
    }
   ],
   "source": [
    "#Extracting elements for search bar\n",
    "\n",
    "search=Driver.find_element_by_name('q')\n",
    "search"
   ]
  },
  {
   "cell_type": "code",
   "execution_count": 22,
   "metadata": {},
   "outputs": [],
   "source": [
    "search.send_keys('sneakers')"
   ]
  },
  {
   "cell_type": "code",
   "execution_count": 23,
   "metadata": {},
   "outputs": [],
   "source": [
    "#Extracting element for search button\n",
    "search_btn=Driver.find_element_by_xpath(\"//button[@class='L0Z3Pu']\")\n",
    "search_btn.click()"
   ]
  },
  {
   "cell_type": "code",
   "execution_count": 25,
   "metadata": {},
   "outputs": [],
   "source": [
    "brand_tag=Driver.find_elements_by_xpath(\"//div[@class='_2WkVRV']\")"
   ]
  },
  {
   "cell_type": "code",
   "execution_count": 26,
   "metadata": {},
   "outputs": [
    {
     "data": {
      "text/plain": [
       "['Jack Diamond',\n",
       " 'T-ROCK',\n",
       " 'SPARX',\n",
       " 'PUMA',\n",
       " 'Numenzo',\n",
       " 'Shoes Bank',\n",
       " 'SPARX',\n",
       " 'PUMA',\n",
       " 'bluemaker',\n",
       " 'Fzzirok',\n",
       " 'SPARX',\n",
       " 'PUMA',\n",
       " 'SPARX',\n",
       " 'aadi',\n",
       " 'PUMA',\n",
       " 'PUMA',\n",
       " 'ADIDAS',\n",
       " 'SPARX',\n",
       " 'PUMA',\n",
       " 'bluemaker',\n",
       " 'PUMA',\n",
       " 'SCATCHITE',\n",
       " 'Bond Street By Red Tape',\n",
       " 'bluemaker',\n",
       " 'SPARX',\n",
       " 'ADIDAS',\n",
       " 'PUMA',\n",
       " 'PUMA',\n",
       " 'PUMA',\n",
       " 'bluemaker',\n",
       " 'SPARX',\n",
       " 'PUMA',\n",
       " 'Magnolia',\n",
       " 'PUMA',\n",
       " 'PUMA',\n",
       " 'PUMA',\n",
       " 'PUMA',\n",
       " 'PUMA',\n",
       " 'BRUTON',\n",
       " 'PUMA']"
      ]
     },
     "execution_count": 26,
     "metadata": {},
     "output_type": "execute_result"
    }
   ],
   "source": [
    "Brands_1=[]\n",
    "for i in brand_tag:\n",
    "    Brands_1.append(i.text)\n",
    "    \n",
    "Brands_1"
   ]
  },
  {
   "cell_type": "code",
   "execution_count": 27,
   "metadata": {},
   "outputs": [],
   "source": [
    "price_tag=Driver.find_elements_by_xpath(\"//div[@class='_30jeq3']\")"
   ]
  },
  {
   "cell_type": "code",
   "execution_count": 28,
   "metadata": {},
   "outputs": [
    {
     "data": {
      "text/plain": [
       "['₹644',\n",
       " '₹398',\n",
       " '₹699',\n",
       " '₹1,847',\n",
       " '₹419',\n",
       " '₹349',\n",
       " '₹599',\n",
       " '₹1,536',\n",
       " '₹474',\n",
       " '₹449',\n",
       " '₹760',\n",
       " '₹1,616',\n",
       " '₹636',\n",
       " '₹399',\n",
       " '₹1,349',\n",
       " '₹2,010',\n",
       " '₹2,399',\n",
       " '₹629',\n",
       " '₹2,653',\n",
       " '₹474',\n",
       " '₹1,574',\n",
       " '₹398',\n",
       " '₹958',\n",
       " '₹474',\n",
       " '₹669',\n",
       " '₹1,839',\n",
       " '₹1,484',\n",
       " '₹1,708',\n",
       " '₹1,300',\n",
       " '₹474',\n",
       " '₹659',\n",
       " '₹1,609',\n",
       " '₹449',\n",
       " '₹4,532',\n",
       " '₹1,367',\n",
       " '₹1,035',\n",
       " '₹2,203',\n",
       " '₹3,919',\n",
       " '₹599',\n",
       " '₹1,896']"
      ]
     },
     "execution_count": 28,
     "metadata": {},
     "output_type": "execute_result"
    }
   ],
   "source": [
    "Price_1=[]\n",
    "for i in price_tag:\n",
    "    Price_1.append(i.text)\n",
    "    \n",
    "Price_1"
   ]
  },
  {
   "cell_type": "code",
   "execution_count": 29,
   "metadata": {},
   "outputs": [],
   "source": [
    "discount_tag=Driver.find_elements_by_xpath(\"//div[@class='_3Ay6Sb']\")"
   ]
  },
  {
   "cell_type": "code",
   "execution_count": 30,
   "metadata": {},
   "outputs": [
    {
     "data": {
      "text/plain": [
       "['35% off',\n",
       " '60% off',\n",
       " '44% off',\n",
       " '58% off',\n",
       " '65% off',\n",
       " '14% off',\n",
       " '48% off',\n",
       " '52% off',\n",
       " '55% off',\n",
       " '23% off',\n",
       " '51% off',\n",
       " '15% off',\n",
       " '60% off',\n",
       " '55% off',\n",
       " '42% off',\n",
       " '40% off',\n",
       " '16% off',\n",
       " '33% off',\n",
       " '52% off',\n",
       " '55% off',\n",
       " '60% off',\n",
       " '70% off',\n",
       " '52% off',\n",
       " '10% off',\n",
       " '54% off',\n",
       " '55% off',\n",
       " '51% off',\n",
       " '53% off',\n",
       " '52% off',\n",
       " '12% off',\n",
       " '54% off',\n",
       " '70% off',\n",
       " '49% off',\n",
       " '64% off',\n",
       " '63% off',\n",
       " '42% off',\n",
       " '44% off',\n",
       " '80% off',\n",
       " '52% off']"
      ]
     },
     "execution_count": 30,
     "metadata": {},
     "output_type": "execute_result"
    }
   ],
   "source": [
    "Discount_1=[]\n",
    "for i in discount_tag:\n",
    "    Discount_1.append(i.text)\n",
    "    \n",
    "Discount_1\n",
    "    "
   ]
  },
  {
   "cell_type": "code",
   "execution_count": 38,
   "metadata": {},
   "outputs": [],
   "source": [
    "description_tag=Driver.find_elements_by_xpath(\"//a[@class='IRpwTa']\")"
   ]
  },
  {
   "cell_type": "code",
   "execution_count": 39,
   "metadata": {},
   "outputs": [
    {
     "data": {
      "text/plain": [
       "['Synthetic Leather Casual Partywear Wedding Sneakers Sho...',\n",
       " 'Acrux IDP Sneakers For Men',\n",
       " 'Sneakers For Men',\n",
       " \"White Sneaker For Men's/Boy's Sneakers For Men\",\n",
       " 'Simha IDP Sneakers For Men',\n",
       " 'casual shoe for men Sneakers For Men',\n",
       " 'Men 192 Sneakers For Men',\n",
       " 'Icon IDP Sneakers For Men',\n",
       " 'sm323 Sneakers For Men',\n",
       " 'Sneakers For Men',\n",
       " 'Trenzo II IDP Sneakers For Men',\n",
       " 'Cape IDP Sneakers For Men',\n",
       " 'Vs Pace Sneakers For Men',\n",
       " 'Men White Sneakers Sneakers For Men',\n",
       " 'Puma Smash v2 Sneakers For Men',\n",
       " 'casual for men (blue 07) Sneakers For Men',\n",
       " 'Puma Wired Cage Sneakers For Men',\n",
       " 'Sneakers Sneakers For Men',\n",
       " 'Sneakers For Men',\n",
       " 'casual for men Sneakers For Men',\n",
       " 'SD-323 Sneakers For Men',\n",
       " 'Easy Vulc 2.0 Sneakers For Men',\n",
       " 'Acrux IDP Sneakers For Men',\n",
       " 'Jade X2 IDP Sneakers For Men',\n",
       " 'Fuser IDP Sneakers For Men',\n",
       " 'casual for men (black 08) Sneakers For Men',\n",
       " 'Men White Sneakers Sneakers For Men',\n",
       " 'Smash v2 L White- Black Sneakers For Men',\n",
       " 'Sneakers For Men',\n",
       " 'RS-X Hard Drive Sneakers For Men',\n",
       " 'Flex R Dual IDP Sneakers For Men',\n",
       " 'Sneakers For Men',\n",
       " 'Puma Smash Vulc Sneakers For Men',\n",
       " 'BMW MMS Future Kart Cat Sneakers For Men',\n",
       " 'Trendy Fashion Sports Combo Pack Of 3 Pairs Outdoor Run...',\n",
       " 'Puma Flex Renew Sneakers For Men']"
      ]
     },
     "execution_count": 39,
     "metadata": {},
     "output_type": "execute_result"
    }
   ],
   "source": [
    "Description=[]\n",
    "for i in description_tag:\n",
    "    Description.append(i.text)\n",
    "Description\n"
   ]
  },
  {
   "cell_type": "code",
   "execution_count": 40,
   "metadata": {},
   "outputs": [],
   "source": [
    "#For next page\n",
    "page_2=Driver.find_element_by_xpath(\"//a[@class='ge-49M']\")\n",
    "page_2.click()"
   ]
  },
  {
   "cell_type": "code",
   "execution_count": 41,
   "metadata": {},
   "outputs": [],
   "source": [
    "brand_tag=Driver.find_elements_by_xpath(\"//div[@class='_2WkVRV']\")"
   ]
  },
  {
   "cell_type": "code",
   "execution_count": 42,
   "metadata": {},
   "outputs": [
    {
     "data": {
      "text/plain": [
       "['Robbie jones',\n",
       " 'SPARX',\n",
       " \"LEVI'S\",\n",
       " 'Robbie jones',\n",
       " 'PUMA',\n",
       " 'PUMA',\n",
       " 'zovim',\n",
       " 'Converse',\n",
       " 'PUMA',\n",
       " 'Jack Diamond',\n",
       " 'PUMA',\n",
       " 'FASHINO',\n",
       " 'SPARX',\n",
       " 'T-ROCK',\n",
       " 'PUMA',\n",
       " 'Bond Street By Red Tape',\n",
       " 'ADIDAS',\n",
       " 'Stepfit',\n",
       " 'PUMA',\n",
       " 'aadi',\n",
       " 'RED TAPE',\n",
       " 'PUMA',\n",
       " 'PUMA',\n",
       " 'bluemaker',\n",
       " 'Magnolia',\n",
       " 'PUMA',\n",
       " 'SPARX',\n",
       " 'SPARX',\n",
       " 'pollachief',\n",
       " 'bluemaker',\n",
       " 'ADIDAS',\n",
       " 'SPARX',\n",
       " 'DUCATI',\n",
       " 'oxpeo',\n",
       " 'PUMA',\n",
       " 'Robbie jones',\n",
       " 'SPARX',\n",
       " 'PUMA',\n",
       " 'SPARX',\n",
       " 'FAUSTO']"
      ]
     },
     "execution_count": 42,
     "metadata": {},
     "output_type": "execute_result"
    }
   ],
   "source": [
    "Brands_2=[]\n",
    "for i in brand_tag:\n",
    "    Brands_2.append(i.text)\n",
    "    \n",
    "Brands_2"
   ]
  },
  {
   "cell_type": "code",
   "execution_count": 43,
   "metadata": {},
   "outputs": [],
   "source": [
    "price_tag=Driver.find_elements_by_xpath(\"//div[@class='_30jeq3']\")"
   ]
  },
  {
   "cell_type": "code",
   "execution_count": 44,
   "metadata": {},
   "outputs": [
    {
     "data": {
      "text/plain": [
       "['₹474',\n",
       " '₹649',\n",
       " '₹2,037',\n",
       " '₹399',\n",
       " '₹1,609',\n",
       " '₹1,775',\n",
       " '₹439',\n",
       " '₹1,190',\n",
       " '₹2,203',\n",
       " '₹644',\n",
       " '₹1,964',\n",
       " '₹499',\n",
       " '₹654',\n",
       " '₹398',\n",
       " '₹3,919',\n",
       " '₹1,999',\n",
       " '₹599',\n",
       " '₹1,259',\n",
       " '₹399',\n",
       " '₹1,678',\n",
       " '₹1,439',\n",
       " '₹5,526',\n",
       " '₹474',\n",
       " '₹499',\n",
       " '₹2,699',\n",
       " '₹669',\n",
       " '₹1,049',\n",
       " '₹382',\n",
       " '₹474',\n",
       " '₹2,974',\n",
       " '₹713',\n",
       " '₹1,799',\n",
       " '₹419',\n",
       " '₹399',\n",
       " '₹1,019',\n",
       " '₹1,599',\n",
       " '₹659',\n",
       " '₹999']"
      ]
     },
     "execution_count": 44,
     "metadata": {},
     "output_type": "execute_result"
    }
   ],
   "source": [
    "Price_2=[]\n",
    "for i in price_tag:\n",
    "    Price_2.append(i.text)\n",
    "    \n",
    "Price_2"
   ]
  },
  {
   "cell_type": "code",
   "execution_count": 45,
   "metadata": {},
   "outputs": [],
   "source": [
    "discount_tag=Driver.find_elements_by_xpath(\"//div[@class='_3Ay6Sb']\")"
   ]
  },
  {
   "cell_type": "code",
   "execution_count": 46,
   "metadata": {},
   "outputs": [
    {
     "data": {
      "text/plain": [
       "['52% off',\n",
       " '49% off',\n",
       " '60% off',\n",
       " '54% off',\n",
       " '53% off',\n",
       " '56% off',\n",
       " '55% off',\n",
       " '42% off',\n",
       " '35% off',\n",
       " '43% off',\n",
       " '58% off',\n",
       " '12% off',\n",
       " '60% off',\n",
       " '44% off',\n",
       " '50% off',\n",
       " '70% off',\n",
       " '64% off',\n",
       " '60% off',\n",
       " '70% off',\n",
       " '64% off',\n",
       " '44% off',\n",
       " '52% off',\n",
       " '66% off',\n",
       " '55% off',\n",
       " '10% off',\n",
       " '25% off',\n",
       " '61% off',\n",
       " '52% off',\n",
       " '40% off',\n",
       " '20% off',\n",
       " '53% off',\n",
       " '58% off',\n",
       " '60% off',\n",
       " '15% off',\n",
       " '60% off',\n",
       " '34% off']"
      ]
     },
     "execution_count": 46,
     "metadata": {},
     "output_type": "execute_result"
    }
   ],
   "source": [
    "Discount_2=[]\n",
    "for i in discount_tag:\n",
    "    Discount_2.append(i.text)\n",
    "    \n",
    "Discount_2\n",
    "    "
   ]
  },
  {
   "cell_type": "code",
   "execution_count": 47,
   "metadata": {},
   "outputs": [],
   "source": [
    "description_tag=Driver.find_elements_by_xpath(\"//a[@class='IRpwTa']\")"
   ]
  },
  {
   "cell_type": "code",
   "execution_count": 48,
   "metadata": {},
   "outputs": [
    {
     "data": {
      "text/plain": [
       "['Sneakers For Men',\n",
       " 'INDI WISH Sneaker For Men',\n",
       " 'Casual Sneakers Shoes For Men Sneakers For Men',\n",
       " 'Cape IDP Sneakers For Men',\n",
       " 'Urban SL Sneakers For Men',\n",
       " \"casual , Partywear Sneakers Shoes For Men's and Boys bl...\",\n",
       " 'Sneakers For Men',\n",
       " 'Puma Smash Vulc Sneakers For Men',\n",
       " 'Puma Wired Cage Sneakers For Men',\n",
       " 'SM323 Sneakers For Men',\n",
       " 'Synthetic Leather Casual Partywear Wedding Sneakers Sho...',\n",
       " 'BMW MMS Future Kart Cat Sneakers For Men',\n",
       " 'Vs Pace Sneakers For Men',\n",
       " 'Men Casual Sneakers Combo Pack of 2 Shoes II Men Shoe C...',\n",
       " 'Firm IDP Sneakers For Men',\n",
       " 'Sneakers For Men',\n",
       " 'Classic Sneakers For Men',\n",
       " 'Flex Generation V1 IDP Sneakers For Men',\n",
       " 'BMW MMS RS-Fast Sneakers For Men',\n",
       " 'casual for men (blue 07) Sneakers For Men',\n",
       " 'Sneakers For Men',\n",
       " 'Ascend Sneakers For Men',\n",
       " 'Canvas Casual Partywear Outdoor Sneakers Shoes For Mens...',\n",
       " 'Sneakers For Men',\n",
       " 'Multi color casual sports / sneaker Sneakers For Men',\n",
       " 'casual for men Sneakers For Men',\n",
       " 'Advantage Base Sneakers For Men',\n",
       " 'Men 175 Sneakers For Men',\n",
       " 'Sneakers For Men',\n",
       " 'Colourblocked Trending Multicolor Ultralight canvas Spo...',\n",
       " 'Casual Sneakers Shoes For Men Sneakers For Men',\n",
       " 'Sneakers For Men',\n",
       " 'TX-3 IDP Sneakers For Men',\n",
       " 'Men 192 Sneakers For Men',\n",
       " 'Lace Up Trendy Sneakers For Men']"
      ]
     },
     "execution_count": 48,
     "metadata": {},
     "output_type": "execute_result"
    }
   ],
   "source": [
    "Description_2=[]\n",
    "for i in description_tag:\n",
    "    Description_2.append(i.text)\n",
    "Description_2\n"
   ]
  },
  {
   "cell_type": "code",
   "execution_count": 49,
   "metadata": {},
   "outputs": [],
   "source": [
    "url='https://www.flipkart.com/search?q=sneakers&otracker=search&otracker1=search&marketplace=FLIPKART&as-show=on&as=off&page=3'"
   ]
  },
  {
   "cell_type": "code",
   "execution_count": 50,
   "metadata": {},
   "outputs": [],
   "source": [
    "Driver.get(url)"
   ]
  },
  {
   "cell_type": "code",
   "execution_count": 51,
   "metadata": {},
   "outputs": [],
   "source": [
    "brand_tag=Driver.find_elements_by_xpath(\"//div[@class='_2WkVRV']\")"
   ]
  },
  {
   "cell_type": "code",
   "execution_count": 52,
   "metadata": {},
   "outputs": [
    {
     "data": {
      "text/plain": [
       "['PUMA',\n",
       " 'Edoeviv',\n",
       " 'BRUTON',\n",
       " 'Jack Diamond',\n",
       " 'ESSENCE',\n",
       " 'SPARX',\n",
       " 'SPARX',\n",
       " 'GUSTO',\n",
       " 'Skechers',\n",
       " 'Robbie jones',\n",
       " 'Numenzo',\n",
       " 'City Soles',\n",
       " 'Robbie jones',\n",
       " 'aadi',\n",
       " 'Skymate',\n",
       " '3SIX5',\n",
       " 'M K FOOTWEAR',\n",
       " 'Zorth',\n",
       " '3SIX5',\n",
       " 'bluemaker',\n",
       " 'MACTREE',\n",
       " 'HOTSTYLE',\n",
       " 'JUBENTA',\n",
       " 'bluemaker',\n",
       " 'Birde',\n",
       " 'PUMA',\n",
       " 'FASHION CITY',\n",
       " 'Adies',\n",
       " 'BRUTON',\n",
       " 'oxpeo',\n",
       " 'Jokatoo',\n",
       " 'STRANGER BROTHERS',\n",
       " 'Arohi',\n",
       " 'jootiyapa',\n",
       " 'T-ROCK',\n",
       " 'PUMA',\n",
       " 'PUMA',\n",
       " 'ESSENCE',\n",
       " 'Axter',\n",
       " 'bluemaker']"
      ]
     },
     "execution_count": 52,
     "metadata": {},
     "output_type": "execute_result"
    }
   ],
   "source": [
    "Brands_3=[]\n",
    "for i in brand_tag:\n",
    "    Brands_3.append(i.text)\n",
    "    \n",
    "Brands_3"
   ]
  },
  {
   "cell_type": "code",
   "execution_count": 53,
   "metadata": {},
   "outputs": [],
   "source": [
    "price_tag=Driver.find_elements_by_xpath(\"//div[@class='_30jeq3']\")"
   ]
  },
  {
   "cell_type": "code",
   "execution_count": 55,
   "metadata": {},
   "outputs": [
    {
     "data": {
      "text/plain": [
       "['₹2,675',\n",
       " '₹440',\n",
       " '₹599',\n",
       " '₹644',\n",
       " '₹468',\n",
       " '₹699',\n",
       " '₹630',\n",
       " '₹699',\n",
       " '₹4,059',\n",
       " '₹399',\n",
       " '₹599',\n",
       " '₹630',\n",
       " '₹428',\n",
       " '₹399',\n",
       " '₹224',\n",
       " '₹299',\n",
       " '₹389',\n",
       " '₹649',\n",
       " '₹799',\n",
       " '₹474',\n",
       " '₹597',\n",
       " '₹299',\n",
       " '₹549',\n",
       " '₹474',\n",
       " '₹735',\n",
       " '₹1,349',\n",
       " '₹451',\n",
       " '₹375',\n",
       " '₹759',\n",
       " '₹419',\n",
       " '₹474',\n",
       " '₹499',\n",
       " '₹445',\n",
       " '₹295',\n",
       " '₹398',\n",
       " '₹1,047',\n",
       " '₹1,220',\n",
       " '₹449',\n",
       " '₹498',\n",
       " '₹474']"
      ]
     },
     "execution_count": 55,
     "metadata": {},
     "output_type": "execute_result"
    }
   ],
   "source": [
    "Price_3=[]\n",
    "for i in price_tag:\n",
    "    Price_3.append(i.text)\n",
    "    \n",
    "Price_3"
   ]
  },
  {
   "cell_type": "code",
   "execution_count": 56,
   "metadata": {},
   "outputs": [],
   "source": [
    "discount_tag=Driver.find_elements_by_xpath(\"//div[@class='_3Ay6Sb']\")"
   ]
  },
  {
   "cell_type": "code",
   "execution_count": 57,
   "metadata": {},
   "outputs": [
    {
     "data": {
      "text/plain": [
       "['46% off',\n",
       " '44% off',\n",
       " '76% off',\n",
       " '35% off',\n",
       " '53% off',\n",
       " '15% off',\n",
       " '46% off',\n",
       " '42% off',\n",
       " '60% off',\n",
       " '40% off',\n",
       " '36% off',\n",
       " '57% off',\n",
       " '60% off',\n",
       " '55% off',\n",
       " '40% off',\n",
       " '61% off',\n",
       " '35% off',\n",
       " '67% off',\n",
       " '52% off',\n",
       " '76% off',\n",
       " '40% off',\n",
       " '45% off',\n",
       " '52% off',\n",
       " '50% off',\n",
       " '55% off',\n",
       " '54% off',\n",
       " '62% off',\n",
       " '81% off',\n",
       " '58% off',\n",
       " '67% off',\n",
       " '50% off',\n",
       " '55% off',\n",
       " '40% off',\n",
       " '60% off',\n",
       " '68% off',\n",
       " '63% off',\n",
       " '55% off',\n",
       " '62% off',\n",
       " '52% off']"
      ]
     },
     "execution_count": 57,
     "metadata": {},
     "output_type": "execute_result"
    }
   ],
   "source": [
    "Discount_3=[]\n",
    "for i in discount_tag:\n",
    "    Discount_3.append(i.text)\n",
    "    \n",
    "Discount_3\n",
    "    "
   ]
  },
  {
   "cell_type": "code",
   "execution_count": 58,
   "metadata": {},
   "outputs": [],
   "source": [
    "description_tag=Driver.find_elements_by_xpath(\"//a[@class='IRpwTa']\")"
   ]
  },
  {
   "cell_type": "code",
   "execution_count": 59,
   "metadata": {},
   "outputs": [
    {
     "data": {
      "text/plain": [
       "['Electron Street Eng Mesh Sneakers For Men',\n",
       " 'Sneakers For Men (White 8) Sneakers For Men',\n",
       " 'Combo Pack of 2 Sports Running LightWeight Shoes Sneake...',\n",
       " 'Sneakers For Men',\n",
       " 'SD-323 Sneakers For Men',\n",
       " \"D'LITES 3-ZENWAY Sneakers For Men\",\n",
       " 'Casual Sneakers Shoes For Men Sneakers For Men',\n",
       " 'Casual Sneaker Sneakers For Men',\n",
       " 'Sneakers For Men',\n",
       " 'Sneakers For Men',\n",
       " 'ORIFWSH(A)-303 Sneakers For Men',\n",
       " 'Combo Pack of 5 Top Rated, Best Rates Training Shoes Sn...',\n",
       " 'casual for men (blue 07) Sneakers For Men',\n",
       " 'Sneakers For Men',\n",
       " 'Sneakers Sneakers For Men',\n",
       " 'casual for men Sneakers For Men',\n",
       " 'Sneakers For Men',\n",
       " 'Trenzo II IDP Sneakers For Men',\n",
       " 'Sneakers For Men',\n",
       " 'Combo Pack of 5 Casual Sneakers With Sneakers For Men',\n",
       " 'Colourblocked Trending Multicolor Ultralight canvas Spo...',\n",
       " 'casual sneaker shoes and partywear shoes Casuals For Me...',\n",
       " 'Sneakers For Men',\n",
       " 'Black Boxer Sneakers For Men',\n",
       " 'Synthetic Leather Casual Partywear Wedding Sneakers Sho...',\n",
       " 'Icon IDP Sneakers For Men',\n",
       " 'Icon IDP Sneakers For Men',\n",
       " 'Sneakers For Men',\n",
       " 'casual for men (black 08) Sneakers For Men']"
      ]
     },
     "execution_count": 59,
     "metadata": {},
     "output_type": "execute_result"
    }
   ],
   "source": [
    "Description_3=[]\n",
    "for i in description_tag:\n",
    "    Description_3.append(i.text)\n",
    "Description_3\n"
   ]
  },
  {
   "cell_type": "markdown",
   "metadata": {},
   "source": [
    "Q9: Go to the link - https://www.myntra.com/shoes\n",
    "        \n",
    "Set Price filter to “Rs. 6649 to Rs. 13099” , Color filter to “Black”, as shown in \n",
    "the below image\n",
    ".\n",
    "And then scrape First 100 shoes data you get. The data should include “Brand” of \n",
    "the shoes , Short Shoe description, price of the shoe as shown in the below image"
   ]
  },
  {
   "cell_type": "code",
   "execution_count": 63,
   "metadata": {},
   "outputs": [],
   "source": [
    "driver=webdriver.Chrome('chromedriver.exe')"
   ]
  },
  {
   "cell_type": "code",
   "execution_count": 65,
   "metadata": {},
   "outputs": [],
   "source": [
    "url='https://www.myntra.com/shoes'\n",
    "driver.get(url)"
   ]
  },
  {
   "cell_type": "code",
   "execution_count": 68,
   "metadata": {},
   "outputs": [],
   "source": [
    "url='https://www.myntra.com/shoes?f=Color%3ABlack_36454f&plaEnabled=false&rf=Price%3A6649.0_13099.0_6649.0%20TO%2013099.0'"
   ]
  },
  {
   "cell_type": "code",
   "execution_count": 69,
   "metadata": {},
   "outputs": [],
   "source": [
    "driver.get(url)"
   ]
  },
  {
   "cell_type": "code",
   "execution_count": 74,
   "metadata": {},
   "outputs": [],
   "source": [
    "brand_tag=driver.find_elements_by_xpath(\"//h3[@class='product-brand']\")"
   ]
  },
  {
   "cell_type": "code",
   "execution_count": 75,
   "metadata": {},
   "outputs": [
    {
     "data": {
      "text/plain": [
       "['Nike',\n",
       " 'Nike',\n",
       " 'Nike',\n",
       " 'Nike',\n",
       " 'Nike',\n",
       " 'PUMA Motorsport',\n",
       " 'Nike',\n",
       " 'Nike',\n",
       " 'Nike',\n",
       " 'UNDER ARMOUR',\n",
       " 'Nike',\n",
       " 'Nike',\n",
       " 'Nike',\n",
       " 'Puma',\n",
       " 'Nike',\n",
       " 'Reebok',\n",
       " 'UNDER ARMOUR',\n",
       " 'Nike',\n",
       " 'Puma',\n",
       " 'Nike',\n",
       " 'Puma',\n",
       " 'UNDER ARMOUR',\n",
       " 'Puma',\n",
       " 'UNDER ARMOUR',\n",
       " 'UNDER ARMOUR',\n",
       " 'Saint G',\n",
       " 'UNDER ARMOUR',\n",
       " 'UNDER ARMOUR',\n",
       " 'Hush Puppies',\n",
       " 'Puma',\n",
       " 'UNDER ARMOUR',\n",
       " 'Skechers',\n",
       " 'UNDER ARMOUR',\n",
       " 'Onitsuka Tiger',\n",
       " 'Cole Haan',\n",
       " 'Puma',\n",
       " 'Puma',\n",
       " 'Onitsuka Tiger',\n",
       " 'Clarks',\n",
       " 'Hush Puppies',\n",
       " 'Puma',\n",
       " 'Bugatti',\n",
       " 'ALDO',\n",
       " 'Bugatti',\n",
       " 'Puma',\n",
       " 'Saint G',\n",
       " 'UNDER ARMOUR',\n",
       " 'Ruosh',\n",
       " 'Puma',\n",
       " 'Reebok']"
      ]
     },
     "execution_count": 75,
     "metadata": {},
     "output_type": "execute_result"
    }
   ],
   "source": [
    "Brand_1=[]\n",
    "for i in brand_tag:\n",
    "    Brand_1.append(i.text)\n",
    "Brand_1"
   ]
  },
  {
   "cell_type": "code",
   "execution_count": 77,
   "metadata": {},
   "outputs": [],
   "source": [
    "desc_tag=driver.find_elements_by_xpath(\"//h4[@class='product-product']\")"
   ]
  },
  {
   "cell_type": "code",
   "execution_count": 78,
   "metadata": {},
   "outputs": [
    {
     "data": {
      "text/plain": [
       "['AIR ZOOM PEGASUS Running Shoes',\n",
       " 'Men AIR ZOOM Running Shoes',\n",
       " 'Men JORDAN DELTA Basketball',\n",
       " 'Men React Infinity Running',\n",
       " 'Women REACT Running Shoes',\n",
       " 'Unisex Mercedes Running Shoes',\n",
       " 'Men KD13 EP Basketball Shoes',\n",
       " 'Men JOYRIDE Running Shoes',\n",
       " 'Women AIR ZOOM Running',\n",
       " 'Charged Rogue 2 Wide 2E Shoes',\n",
       " 'LEBRON XVIII Basketball Shoes',\n",
       " 'Women PEGASUS 37 Running Shoes',\n",
       " 'Women AIR ZOOM Running Shoes',\n",
       " 'Men UltraRide Running Shoes',\n",
       " 'Women AIR ZOOM Running Shoes',\n",
       " 'Men Nano X1 Training Shoes',\n",
       " 'HOVR Sonic 3 Running Shoes',\n",
       " 'Men Solid SKYVE MAX Sneakers',\n",
       " 'Future Rider Twofold Sneakers',\n",
       " 'Men JORDAN DELTA Sneakers',\n",
       " 'Men Velocity Nitro Running',\n",
       " 'HOVR Sonic 3 Running Shoes',\n",
       " 'Unisex Futurverse Sneakers',\n",
       " 'Men Liquify Running Shoes',\n",
       " 'Women Charged Breathe TR 2',\n",
       " 'Men Leather Chelsea Boots',\n",
       " 'Women TriBase Reign 2 Training',\n",
       " 'Unisex SC 3ZER0 IV Basketball',\n",
       " 'Men Solid Leather Formal Slip-Ons',\n",
       " 'Men FUTURE Z 3.1Football Shoes',\n",
       " 'Women HOVR Rise 2 Training',\n",
       " 'Men VIPER COMPETITOR Training',\n",
       " 'Charged Impulse Running Shoes',\n",
       " 'Unisex Big Logo Trainer',\n",
       " 'Leather Sneakers',\n",
       " 'Unisex RS-X Pop Sneakers',\n",
       " 'Women Liberate Nitro Running',\n",
       " 'Unisex Mexico 66 Paraty Sneakers',\n",
       " 'Men Leather Derbys',\n",
       " 'Men Formal Derbys',\n",
       " 'Women Eternity Nitro Running',\n",
       " 'Men Perforated Mule Sneakers',\n",
       " 'Men Leather Pointed Toe Derby Formal Shoes',\n",
       " 'Men Solid Leather Formal Derbys',\n",
       " 'Men Liberate Nitro Running',\n",
       " 'Women Leather Heeled Boots',\n",
       " 'Women Liquify Rebel Running',\n",
       " 'Men Formal Leather Brogues',\n",
       " 'Men Running Shoes',\n",
       " 'Forever Floatride Energy 2']"
      ]
     },
     "execution_count": 78,
     "metadata": {},
     "output_type": "execute_result"
    }
   ],
   "source": [
    "Description_1=[]\n",
    "for i in desc_tag:\n",
    "    Description_1.append(i.text)\n",
    "    \n",
    "Description_1"
   ]
  },
  {
   "cell_type": "code",
   "execution_count": 82,
   "metadata": {},
   "outputs": [],
   "source": [
    "price_tag=driver.find_elements_by_xpath(\"//div[@class='product-price']\")"
   ]
  },
  {
   "cell_type": "code",
   "execution_count": 83,
   "metadata": {},
   "outputs": [
    {
     "data": {
      "text/plain": [
       "['Rs. 11495',\n",
       " 'Rs. 7206Rs. 10295(Rs. 3089 OFF)',\n",
       " 'Rs. 12495',\n",
       " 'Rs. 10846Rs. 15495(Rs. 4649 OFF)',\n",
       " 'Rs. 8396Rs. 11995(Rs. 3599 OFF)',\n",
       " 'Rs. 7999',\n",
       " 'Rs. 12995',\n",
       " 'Rs. 10496Rs. 14995(Rs. 4499 OFF)',\n",
       " 'Rs. 10121Rs. 13495(25% OFF)',\n",
       " 'Rs. 7999',\n",
       " 'Rs. 12320Rs. 14495(15% OFF)',\n",
       " 'Rs. 7496Rs. 9995(25% OFF)',\n",
       " 'Rs. 7721Rs. 10295(25% OFF)',\n",
       " 'Rs. 7199Rs. 8999(Rs. 1800 OFF)',\n",
       " 'Rs. 6996Rs. 9995( 30 % OFF)',\n",
       " 'Rs. 6999Rs. 9999(30% OFF)',\n",
       " 'Rs. 10999',\n",
       " 'Rs. 6971Rs. 9295(Rs. 2324 OFF)',\n",
       " 'Rs. 6999',\n",
       " 'Rs. 10995',\n",
       " 'Rs. 10999',\n",
       " 'Rs. 10999',\n",
       " 'Rs. 9999',\n",
       " 'Rs. 10999',\n",
       " 'Rs. 7999',\n",
       " 'Rs. 11305Rs. 11900(5% OFF)',\n",
       " 'Rs. 11999',\n",
       " 'Rs. 8999',\n",
       " 'Rs. 8999',\n",
       " 'Rs. 6799Rs. 7999(Rs. 1200 OFF)',\n",
       " 'Rs. 9999',\n",
       " 'Rs. 6999',\n",
       " 'Rs. 7999',\n",
       " 'Rs. 10999',\n",
       " 'Rs. 10999',\n",
       " 'Rs. 7999Rs. 9999(Rs. 2000 OFF)',\n",
       " 'Rs. 9999',\n",
       " 'Rs. 6999',\n",
       " 'Rs. 6749Rs. 8999(Rs. 2250 OFF)',\n",
       " 'Rs. 9999',\n",
       " 'Rs. 12999',\n",
       " 'Rs. 6999',\n",
       " 'Rs. 7799Rs. 12999(Rs. 5200 OFF)',\n",
       " 'Rs. 10499',\n",
       " 'Rs. 9999',\n",
       " 'Rs. 6675Rs. 8900(25% OFF)',\n",
       " 'Rs. 8999',\n",
       " 'Rs. 7490',\n",
       " 'Rs. 7499',\n",
       " 'Rs. 9999']"
      ]
     },
     "execution_count": 83,
     "metadata": {},
     "output_type": "execute_result"
    }
   ],
   "source": [
    "Price_1=[]\n",
    "for i in price_tag:\n",
    "    Price_1.append(i.text)\n",
    "    \n",
    "Price_1"
   ]
  },
  {
   "cell_type": "code",
   "execution_count": 84,
   "metadata": {},
   "outputs": [],
   "source": [
    "#for page_2\n",
    "page_2=driver.find_element_by_xpath(\"//li[@class='pagination-number']\")"
   ]
  },
  {
   "cell_type": "code",
   "execution_count": 85,
   "metadata": {},
   "outputs": [],
   "source": [
    "page_2.click()"
   ]
  },
  {
   "cell_type": "code",
   "execution_count": 86,
   "metadata": {},
   "outputs": [],
   "source": [
    "brand_tag=driver.find_elements_by_xpath(\"//h3[@class='product-brand']\")"
   ]
  },
  {
   "cell_type": "code",
   "execution_count": 87,
   "metadata": {},
   "outputs": [
    {
     "data": {
      "text/plain": [
       "['Reebok',\n",
       " 'San Frissco',\n",
       " 'Puma',\n",
       " 'Heel & Buckle London',\n",
       " 'Cole Haan',\n",
       " 'Cole Haan',\n",
       " 'Saint G',\n",
       " 'Ruosh',\n",
       " 'Bugatti',\n",
       " 'Bugatti',\n",
       " 'Cole Haan',\n",
       " 'FILA',\n",
       " 'Heel & Buckle London',\n",
       " 'Ruosh',\n",
       " 'Saint G',\n",
       " 'Heel & Buckle London',\n",
       " 'Heel & Buckle London',\n",
       " 'Saint G',\n",
       " 'Puma',\n",
       " 'Cole Haan',\n",
       " 'VIONIC',\n",
       " 'Nike',\n",
       " 'Heel & Buckle London',\n",
       " 'Cole Haan',\n",
       " 'UNDER ARMOUR',\n",
       " 'Nike',\n",
       " 'Heel & Buckle London',\n",
       " 'Cole Haan',\n",
       " 'ADIDAS Originals',\n",
       " 'Cole Haan',\n",
       " 'Nike',\n",
       " 'Nike',\n",
       " 'Nike',\n",
       " 'UNDER ARMOUR',\n",
       " 'UNDER ARMOUR',\n",
       " 'Ruosh',\n",
       " 'ADIDAS',\n",
       " 'UNDER ARMOUR',\n",
       " 'Skechers',\n",
       " 'UNDER ARMOUR',\n",
       " 'UNDER ARMOUR',\n",
       " 'Bugatti',\n",
       " 'Nike',\n",
       " 'Nike',\n",
       " 'ADIDAS',\n",
       " 'Kenneth Cole',\n",
       " 'UNDER ARMOUR',\n",
       " 'Saint G',\n",
       " 'Reebok']"
      ]
     },
     "execution_count": 87,
     "metadata": {},
     "output_type": "execute_result"
    }
   ],
   "source": [
    "Brand_2=[]\n",
    "for i in brand_tag:\n",
    "    Brand_2.append(i.text)\n",
    "Brand_2"
   ]
  },
  {
   "cell_type": "code",
   "execution_count": 88,
   "metadata": {},
   "outputs": [],
   "source": [
    "desc_tag=driver.find_elements_by_xpath(\"//h4[@class='product-product']\")"
   ]
  },
  {
   "cell_type": "code",
   "execution_count": 89,
   "metadata": {},
   "outputs": [
    {
     "data": {
      "text/plain": [
       "['Forever Floatride Energy 2',\n",
       " 'Men Leather Loafers',\n",
       " 'Future Rider Twofold Sneakers',\n",
       " 'Men Leather Sneakers',\n",
       " 'Men Wingtip Oxford Sneakers',\n",
       " 'Men GENERATION ZEROGRAND STITCHLITE',\n",
       " 'Men Leather Chelsea Boots',\n",
       " 'Men Solid Leather Formal Monks',\n",
       " 'Women Mules',\n",
       " 'Men Running Shoes',\n",
       " 'Men Traveller Leather Penny Loafers',\n",
       " 'Men Solid Sneakers',\n",
       " 'Women Solid Leather Gladiators',\n",
       " 'Men Textured Leather Monks',\n",
       " 'Women Heeled Boots',\n",
       " 'Women Solid Leather Heels',\n",
       " 'Women Peep Toe Heels',\n",
       " 'Women Leather Heeled Boots',\n",
       " 'Men IGNITE Dual Running Shoes',\n",
       " 'Women Open Toe Flats',\n",
       " 'Men Textured Sneakers',\n",
       " 'Men AIR ZOOM Running Shoes',\n",
       " 'Women Leather Pumps',\n",
       " 'Women Solid Leather Ballerinas',\n",
       " 'Men HOVR Rise 2 Training Shoes',\n",
       " 'Men AIR ZOOM PEGASUS 38 Run',\n",
       " 'Men Leather Formal Oxfords',\n",
       " 'Women Sandals',\n",
       " 'Men Nite Jogger Fluid Sneakers',\n",
       " 'Women Woven Design Sneakers',\n",
       " 'Men REACT INFINITY RUN Shoes',\n",
       " 'Men REACT MILER 2 Running',\n",
       " 'Women AIR MAX VIVA Sneakers',\n",
       " 'Charged RC Sportstyle Sneakers',\n",
       " 'Women Charged Breathe OIL SLK',\n",
       " 'Men Solid Leather Formal Slip-Ons',\n",
       " 'Men Supernova Running Shoes',\n",
       " 'Charged Pursuit 2 Running',\n",
       " \"Women D'LITES 3.0 Sneakers\",\n",
       " 'Men Charged Bandit 6 Running',\n",
       " 'Men Charged Impulse Running',\n",
       " 'Women Solid Block Heels',\n",
       " 'Men REACT MILER 2 Running',\n",
       " 'Men REACT PHANTOM FLYKNIT2 Run',\n",
       " 'Men Ultraboost DNA CC_1 Shoes',\n",
       " 'Women Solid Flat Boots',\n",
       " 'Charged Rogue 2 Running Shoes',\n",
       " 'Leather Heeled Boots',\n",
       " 'Unisex Zig Kinetica II Running']"
      ]
     },
     "execution_count": 89,
     "metadata": {},
     "output_type": "execute_result"
    }
   ],
   "source": [
    "Description_2=[]\n",
    "for i in desc_tag:\n",
    "    Description_2.append(i.text)\n",
    "    \n",
    "Description_2"
   ]
  },
  {
   "cell_type": "code",
   "execution_count": 90,
   "metadata": {},
   "outputs": [],
   "source": [
    "price_tag=driver.find_elements_by_xpath(\"//div[@class='product-price']\")"
   ]
  },
  {
   "cell_type": "code",
   "execution_count": 91,
   "metadata": {},
   "outputs": [
    {
     "data": {
      "text/plain": [
       "['Rs. 9999',\n",
       " 'Rs. 6747Rs. 14995(55% OFF)',\n",
       " 'Rs. 6999',\n",
       " 'Rs. 6993Rs. 9990(30% OFF)',\n",
       " 'Rs. 12999',\n",
       " 'Rs. 11999',\n",
       " 'Rs. 11305Rs. 11900(5% OFF)',\n",
       " 'Rs. 6990',\n",
       " 'Rs. 7499',\n",
       " 'Rs. 8499',\n",
       " 'Rs. 9999Rs. 19999(50% OFF)',\n",
       " 'Rs. 7499',\n",
       " 'Rs. 6993Rs. 9990(30% OFF)',\n",
       " 'Rs. 6990',\n",
       " 'Rs. 7440Rs. 8000(7% OFF)',\n",
       " 'Rs. 6993Rs. 9990(30% OFF)',\n",
       " 'Rs. 7192Rs. 8990(20% OFF)',\n",
       " 'Rs. 9900',\n",
       " 'Rs. 6999',\n",
       " 'Rs. 8999Rs. 11999(25% OFF)',\n",
       " 'Rs. 7039Rs. 10999(36% OFF)',\n",
       " 'Rs. 10796Rs. 13495(20% OFF)',\n",
       " 'Rs. 7192Rs. 8990(20% OFF)',\n",
       " 'Rs. 10499Rs. 13999(25% OFF)',\n",
       " 'Rs. 9999',\n",
       " 'Rs. 8495Rs. 9995(15% OFF)',\n",
       " 'Rs. 7693Rs. 10990(Rs. 3297 OFF)',\n",
       " 'Rs. 6749Rs. 14999(55% OFF)',\n",
       " 'Rs. 8449Rs. 12999(35% OFF)',\n",
       " 'Rs. 6749Rs. 14999(55% OFF)',\n",
       " 'Rs. 12320Rs. 14495(15% OFF)',\n",
       " 'Rs. 9196Rs. 11495(20% OFF)',\n",
       " 'Rs. 12495',\n",
       " 'Rs. 8999',\n",
       " 'Rs. 8999',\n",
       " 'Rs. 6990',\n",
       " 'Rs. 7999Rs. 9999(20% OFF)',\n",
       " 'Rs. 6999',\n",
       " 'Rs. 6999',\n",
       " 'Rs. 7199Rs. 8999(20% OFF)',\n",
       " 'Rs. 7999',\n",
       " 'Rs. 8499',\n",
       " 'Rs. 9770Rs. 11495(15% OFF)',\n",
       " 'Rs. 8396Rs. 11995(Rs. 3599 OFF)',\n",
       " 'Rs. 12749Rs. 16999(25% OFF)',\n",
       " 'Rs. 9513Rs. 13590(30% OFF)',\n",
       " 'Rs. 7999',\n",
       " 'Rs. 11800',\n",
       " 'Rs. 9999']"
      ]
     },
     "execution_count": 91,
     "metadata": {},
     "output_type": "execute_result"
    }
   ],
   "source": [
    "Price_2=[]\n",
    "for i in price_tag:\n",
    "    Price_2.append(i.text)\n",
    "    \n",
    "Price_2"
   ]
  },
  {
   "cell_type": "markdown",
   "metadata": {},
   "source": [
    "Q10: Go to webpage https://www.amazon.in/\n",
    " Enter “Laptop” in the search field and then click the search icon.\n",
    " Then set CPU Type filter to “Intel Core i7” and “Intel Core i9” as shown in the \n",
    "below image\n",
    ".\n",
    "After setting the filters scrape first 10 laptops data. You have to scrape 3 attributes \n",
    "for each laptop:\n",
    "1. title\n",
    "2. Ratings\n",
    "3. Price\n"
   ]
  },
  {
   "cell_type": "code",
   "execution_count": 135,
   "metadata": {},
   "outputs": [],
   "source": [
    "driver=webdriver.Chrome('chromedriver.exe')"
   ]
  },
  {
   "cell_type": "code",
   "execution_count": 136,
   "metadata": {},
   "outputs": [],
   "source": [
    "url='https://www.amazon.in/'"
   ]
  },
  {
   "cell_type": "code",
   "execution_count": 137,
   "metadata": {},
   "outputs": [],
   "source": [
    "driver.get(url)"
   ]
  },
  {
   "cell_type": "code",
   "execution_count": 138,
   "metadata": {},
   "outputs": [],
   "source": [
    "search=driver.find_element_by_id('twotabsearchtextbox')"
   ]
  },
  {
   "cell_type": "code",
   "execution_count": 139,
   "metadata": {},
   "outputs": [],
   "source": [
    "search.send_keys('laptop')"
   ]
  },
  {
   "cell_type": "code",
   "execution_count": 140,
   "metadata": {},
   "outputs": [],
   "source": [
    "search_btn=driver.find_element_by_id('nav-search-submit-button')"
   ]
  },
  {
   "cell_type": "code",
   "execution_count": 141,
   "metadata": {},
   "outputs": [],
   "source": [
    "search_btn.click()"
   ]
  },
  {
   "cell_type": "code",
   "execution_count": 144,
   "metadata": {},
   "outputs": [],
   "source": [
    "url='https://www.amazon.in/s?k=laptop&rh=n%3A1375424031%2Cp_n_feature_thirteen_browse-bin%3A12598163031&dc&qid=1620989847&rnid=12598141031&ref=sr_nr_p_n_feature_thirteen_browse-bin_8'"
   ]
  },
  {
   "cell_type": "code",
   "execution_count": 145,
   "metadata": {},
   "outputs": [],
   "source": [
    "driver.get(url)"
   ]
  },
  {
   "cell_type": "code",
   "execution_count": 147,
   "metadata": {},
   "outputs": [],
   "source": [
    "title_tag=driver.find_elements_by_xpath(\"//span[@class='a-size-medium a-color-base a-text-normal']\")"
   ]
  },
  {
   "cell_type": "code",
   "execution_count": 148,
   "metadata": {},
   "outputs": [
    {
     "data": {
      "text/plain": [
       "['Life Digital Laptop 15.6-inch (39.62 cms) (Intel Core i7, 8GB RAM, 512GB SSD, Windows 10), ZED AIR CX7',\n",
       " '(Renewed) Lenovo T430 14-inch Laptop (Core i7/ 16GB RAM /1TB HDD/Windows 10 Pro/MS Office 2019, Intel Integrated Graphics, PAN INDIA WARRANTY) Black',\n",
       " 'Mi Notebook Horizon Edition 14 Intel Core i7-10510U 10th Gen 14-inch (35.56 cms) Thin and Light Laptop(8GB/512GB SSD/Windows 10/Nvidia MX350 2GB Graphics/Grey/1.35Kg), XMA1904-AF+Webcam',\n",
       " 'Dell Inspiron 7306 i7 11th Gen, x360 13.3\" 4K UHD Touch Laptop, 16GB RAM, 512GB SSD + 32GB Optane, Windows 10 Home, Intel Iris XE Graphics, Dell Active Pen, Dell Waves MaxxAudio, Element Black Color',\n",
       " 'HP Pavilion Gaming 10th Gen Intel Core i7 Processor 15.6-inch FHD Gaming Laptop (16GB/512GB SSD + 32GB Intel Optane/Windows 10/NVIDIA 1650Ti 4GB/Shadow Black), 15-dk1509TX',\n",
       " 'Life Digital Laptop 15.6-inch (39.62 cms) (Intel Core i7, 4GB RAM, 256GB SSD, Windows 10), ZED AIR CX7',\n",
       " '(Renewed) Lenovo T430 14-inch Laptop (Core i7/ 4GB RAM (Upgradable to 16)/500GB HDD/Windows 10 Pro/MS Office 2019, Intel Integrated Graphics, PAN INDIA WARRANTY) Black',\n",
       " 'HP Pavilion Gaming 10th Gen Intel Core i7 Processor 15.6-inch FHD Gaming Laptop (16GB/512GB SSD + 32GB Intel Optane/Windows 10/NVIDIA 1650 4GB/Shadow Black), 15-dk1151TX',\n",
       " '(Renewed) Lenovo T430 14-inch Laptop (Core i7/ 4GB RAM (Upgradable to 16)/320GB HDD/Windows 10 Pro/MS Office 2019, Intel Integrated Graphics, PAN INDIA WARRANTY) Black',\n",
       " '(Renewed) Lenovo T430 14-inch Laptop (Core i7/ 16GB RAM/512GB SSD/Windows 10 Pro/MS Office 2019, Intel Integrated Graphics, PAN INDIA WARRANTY) Black',\n",
       " '(Renewed) Dell Latitude E6420 14 Inch Laptop (Core I7 2460M/4GB/320GB/Nvidia Dedicated Graphics/Windows Professional/MS Office), Dark Grey',\n",
       " '(Renewed) Lenovo T430 14-inch Laptop (Core i7/ 4GB RAM(Upgradable to 16)/128GB SSD/Windows 10 Pro/MS Office 2019, Intel Integrated Graphics, PAN INDIA WARRANTY) Black',\n",
       " 'Mi Notebook Horizon Edition 14 Intel Core i5-10210U 10th Gen 14-inch (35.56 cms) Thin and Light Laptop(8GB/512GB SSD/Windows 10/Nvidia MX350 2GB Graphics/Grey/1.35Kg), XMA1904-AR+Webcam',\n",
       " 'Acer Swift 5 14\" (35.56cms) Full HD IPS Display with Touchscreen Ultra Thin and Light Notebook (Intel i7 - 11th Gen/16GB RAM/1TB SSD/Win10/Intel Iris Xe Graphics/1.05 Kg/Mist Green), SF514-55TA',\n",
       " 'Lenovo Legion 5Pi 10th Gen Intel Core i7 15.6\" FHD Gaming Laptop (16GB/1TB SSD/Windows 10/MS Office 2019/144 Hz/NVIDIA RTX 2060 6GB GDDR6/with M300 RGB Gaming Mouse/Iron Grey/2.3Kg), 82AW005SIN',\n",
       " '(Renewed) Dell Latitude E6420 14 Inch Laptop (Core I7 2460M/8GB/1TB/Nvidia Dedicated Graphics/Windows Professional/MS Office), Dark Grey',\n",
       " 'OMEN by HP 15.6-inch 10th Gen Intel Core i7-10870H Processor FHD Gaming Laptop (16GB/512GB SSD + 32GB Intel Optane/144Hz Refresh Rate/Win 10/NVIDIA RTX 3060 6GB/Shadow Black), 15-ek1017TX',\n",
       " 'Acer Nitro 5 Intel Core i7-9th Gen 17.3-inch Display 1920 x 1080 Gaming Laptop (8GB Ram/1 TB HDD/256 GB SSD/Window 10 Home/4GB NVIDIA GeForce GTX 1650 Graphics/Black), AN517-51',\n",
       " 'Lenovo IdeaPad Gaming 3 10th Gen Intel Core i7 15.6-inch FHD IPS Gaming Laptop (8GB/1TB HDD + 256 GB SSD/Windows 10/NVIDIA GTX 1650 4GB GDDR6/with M100 RGB Gaming Mouse/Onyx Black/2.2Kg), 81Y400VAIN',\n",
       " '(Renewed) Lenovo Intel 4th Gen Core i7-4980HQ 12.5-Inch (31.75 cms) Touchscreen Full HD (1920 X 1080) Pixels Laptop (8 GB/500 GB/Windows 10 Pro/Black/3 Kg), LENOVO THINKPAD YOGA S1',\n",
       " 'HP 14 Thin & Light 14\" (35.56cms) FHD Laptop (11th Gen Intel i7-1165G7/8GB/512GB SSD/Windows 10/MS Office 2019/Alexa Built-in/Pale Gold/1.47 kg), 14s-dr2007TU',\n",
       " 'HP Pavilion x360 (2021) 14\" (35.56cms) FHD Touchscreen Laptop, 11th Gen Core i7, 8 GB RAM, 512GB SSD, 2-in-1 Convertible, Windows 10, MS Office, Finger Print Reader (14-dw1040TU)',\n",
       " 'MSI GE75 Raider 10SFS 17.3\" FHD Gaming Laptop - Core i7-10875H+HM470 I DDR IV 8GB*2 (3200MHz) I 512GB NVMe PCIe SSD +1TB (SATA) 7200rpm I NVIDIA RTX2070 Super, GDDR6 8GB I Windows 10 Home - Black',\n",
       " 'Asus ROG Zephyrus S Ultra Slim Gaming Laptop, 15.6\" 144Hz IPS Type FHD, GeForce RTX 2070, Intel Core i7-8750H, 16GB DDR4, 512GB PCIe NVMe SSD, Aura Sync RGB, Windows 10, GX531GW-AS76',\n",
       " 'Lenovo IdeaPad Flex 5 11th Gen Intel Core i7 14-inch FHD IPS 2-in-1 Touchscreen Laptop (16GB/512GB SSD/Win 10/Office 2019/Lenovo Digital Pen Stylus/Fingerprint Reader/Graphite Grey/1.5Kg), 82HS0092IN',\n",
       " 'Lenovo Yoga Slim 7 Carbon 11th Gen Intel Core i7 13.3\" QHD IPS Ultra-Light & Thin Laptop (16GB/1TB SSD/Win 10/Office/Intel Iris Xe GFX/HD IR Camera/Moon White/Carbon Fiber Material/0.96 Kg)82EV003WIN']"
      ]
     },
     "execution_count": 148,
     "metadata": {},
     "output_type": "execute_result"
    }
   ],
   "source": [
    "Title_i7=[]\n",
    "for i in title_tag:\n",
    "    Title_i7.append(i.text)\n",
    "Title_i7"
   ]
  },
  {
   "cell_type": "code",
   "execution_count": 149,
   "metadata": {},
   "outputs": [],
   "source": [
    "price_tag=driver.find_elements_by_xpath(\"//span[@class='a-price-whole']\")"
   ]
  },
  {
   "cell_type": "code",
   "execution_count": 150,
   "metadata": {},
   "outputs": [
    {
     "data": {
      "text/plain": [
       "['47,499',\n",
       " '43,499',\n",
       " '1,16,299',\n",
       " '91,999',\n",
       " '30,930',\n",
       " '38,499',\n",
       " '98,900',\n",
       " '37,999',\n",
       " '44,999',\n",
       " '34,000',\n",
       " '37,499',\n",
       " '53,999',\n",
       " '91,999',\n",
       " '1,35,490',\n",
       " '38,000',\n",
       " '1,34,999',\n",
       " '69,990',\n",
       " '83,990',\n",
       " '46,290',\n",
       " '76,990',\n",
       " '77,979',\n",
       " '1,84,990',\n",
       " '3,43,099',\n",
       " '93,500',\n",
       " '1,25,990']"
      ]
     },
     "execution_count": 150,
     "metadata": {},
     "output_type": "execute_result"
    }
   ],
   "source": [
    "Price_i7=[]\n",
    "for i in price_tag:\n",
    "    Price_i7.append(i.text)\n",
    "Price_i7"
   ]
  },
  {
   "cell_type": "code",
   "execution_count": null,
   "metadata": {},
   "outputs": [],
   "source": []
  },
  {
   "cell_type": "code",
   "execution_count": 169,
   "metadata": {},
   "outputs": [],
   "source": [
    "url='https://www.amazon.in/s?k=laptop&rh=n%3A1375424031%2Cp_n_feature_thirteen_browse-bin%3A16757432031&dc&qid=1620990978&rnid=12598141031&ref=sr_nr_p_n_feature_thirteen_browse-bin_9'"
   ]
  },
  {
   "cell_type": "code",
   "execution_count": 170,
   "metadata": {},
   "outputs": [],
   "source": [
    "driver.get(url)"
   ]
  },
  {
   "cell_type": "code",
   "execution_count": 174,
   "metadata": {},
   "outputs": [],
   "source": [
    "title_tag=driver.find_elements_by_xpath(\"//span[@class='a-size-medium a-color-base a-text-normal']\")"
   ]
  },
  {
   "cell_type": "code",
   "execution_count": 175,
   "metadata": {},
   "outputs": [
    {
     "data": {
      "text/plain": [
       "['ASUS ZenBook Pro Duo UX581 Intel Core i9 9th Gen 15.6\" 4K UHD OLED Touchscreen Laptop (32GB RAM/1TB NVMe SSD/Windows 10/6GB GDDR6 Graphics Card/ScreenPad Plus/Celestial Blue/2.50 Kg), UX581GV-H9201T',\n",
       " 'ASUS ROG G703GI-E5148T 17.3\" (43.94 cms) FHD 144Hz/3ms Gaming Laptop (8th Gen Intel Core i9-8950HK/64GB/2TB SSHD + 1.5TB NVMe SSD/Windows 10/GTX 1080 8GB Graphics/4.70 Kg), Aluminum',\n",
       " 'Lenovo Legion 7 10th Gen Intel Core i9 15.6 inch Full HD Gaming Laptop (16GB/1TB SSD/Windows 10/MS Office 2019/144 Hz/NVIDIA RTX 2080 8GB GDDR6 Graphics/Slate Grey/2.25Kg), 81YU006HIN',\n",
       " 'ASUS ZenBook Pro Duo Intel Core i9-10980HK 10th Gen 15.6\" 4K UHD OLED Touchscreen Laptop (32GB RAM/1TB NVMe SSD/Windows 10/6GB NVIDIA GeForce RTX 2060 Graphics/Celestial Blue/2.5 Kg), UX581LV-H2035T',\n",
       " 'Dell XPS 9570 15.6\" (39.62cms) UHD Laptop (8th Gen i9-8950HK/32GB/1TB SSD/Win 10 + MS Office/Integrated Graphics), Silver',\n",
       " 'Dell G7 7500 15.6inch FHD 300 Hz Display Gaming Laptop (10th Gen i9-10885H / 16 GB / 1TB SSD / NVIDIA RTX 2070 8GB Graphics / 1Yr Premium Warranty / Win 10 + MS Office H&S 2019) D560233WIN9B, Black',\n",
       " 'HP Omen X 2S Core i9 9th Gen 15.6-inch Dual Screen Gaming Laptop (16GB/2TB SSD/Windows 10/8GB NVIDIA RTX 2080 Graphics/Shadow Black), 15-dg0019TX',\n",
       " 'ASUS ZenBook Pro 15, Intel Core i9-8950HK 8th Gen, 15.6-Inch 4K UHD Thin and Light Touch Laptop (8GB RAM/1TB SSD/Windows 10/4GB GeForce GTX 1050 Ti Graphics/Deep Dive Blue/1.88 kg), UX580GE-E2032T',\n",
       " '(Renewed) ASUS UX581LV-H2035T ZenBook Pro Duo Intel Core i9-10980HK 10th Gen 15.6\" 4K UHD OLED Touchscreen Laptop with 32GB RAM/1TB NVMe SSD (Celestial Blue/2.5 Kg)',\n",
       " 'ASUS ROG Strix Scar 17 (2020), 17.3\" FHD 300Hz/3ms, Intel Core i9-10980HK 10th Gen, RTX 2080 Super GDDR6 8GB Graphics, Gaming Laptop (32GB/2TB RAID 0 SSD/Windows 10/Black/2.99 Kg), G732LXS-HG059T',\n",
       " '(Renewed) Dell XPS 9570 Laptop|i9-8950HK|32GB DDR4|1TB SSD|15.6\" 4K Touch|NVIDIA GTX 1050Ti 4GB|Win 10 HSL|Backlit',\n",
       " 'ASUS ROG Strix Scar 15 (2020), 15.6\" FHD 300Hz/3ms, Intel Core i9-10980HK 10th Gen, RTX 2070 Super GDDR6 8GB Graphics, Gaming Laptop (32GB/2TB RAID 0 SSD/Windows 10/Black/2.35 Kg), G532LWS-HF091T',\n",
       " 'Apple MacBook Pro (16-inch, 16GB RAM, 1TB Storage, 2.3GHz 9th Gen Intel Core i9) - Silver',\n",
       " 'HP Z4 Workstation, Intel Core i9-7900X, RAM 32GB (4x8GB), 2TB Hard Disk, GFX NVIDIA Quadro P2000 5GB (4) DP, Windows 10 Pro, DVDRW, 3 Yrs Onsite Warranty by HP']"
      ]
     },
     "execution_count": 175,
     "metadata": {},
     "output_type": "execute_result"
    }
   ],
   "source": [
    "Title_i9=[]\n",
    "for i in title_tag:\n",
    "    Title_i9.append(i.text)\n",
    "Title_i9"
   ]
  },
  {
   "cell_type": "code",
   "execution_count": 176,
   "metadata": {},
   "outputs": [],
   "source": [
    "price_tag=driver.find_elements_by_xpath(\"//span[@class='a-price-whole']\")"
   ]
  },
  {
   "cell_type": "code",
   "execution_count": 177,
   "metadata": {},
   "outputs": [
    {
     "data": {
      "text/plain": [
       "['2,79,990',\n",
       " '4,13,890',\n",
       " '2,62,990',\n",
       " '2,79,990',\n",
       " '2,49,990',\n",
       " '2,00,690',\n",
       " '3,45,900',\n",
       " '1,33,900',\n",
       " '2,07,992',\n",
       " '2,77,990',\n",
       " '2,14,990',\n",
       " '2,24,900',\n",
       " '2,69,900']"
      ]
     },
     "execution_count": 177,
     "metadata": {},
     "output_type": "execute_result"
    }
   ],
   "source": [
    "Price_i9=[]\n",
    "for i in price_tag:\n",
    "    Price_i9.append(i.text)\n",
    "Price_i9"
   ]
  },
  {
   "cell_type": "code",
   "execution_count": null,
   "metadata": {},
   "outputs": [],
   "source": []
  }
 ],
 "metadata": {
  "kernelspec": {
   "display_name": "Python 3",
   "language": "python",
   "name": "python3"
  },
  "language_info": {
   "codemirror_mode": {
    "name": "ipython",
    "version": 3
   },
   "file_extension": ".py",
   "mimetype": "text/x-python",
   "name": "python",
   "nbconvert_exporter": "python",
   "pygments_lexer": "ipython3",
   "version": "3.8.5"
  }
 },
 "nbformat": 4,
 "nbformat_minor": 4
}
